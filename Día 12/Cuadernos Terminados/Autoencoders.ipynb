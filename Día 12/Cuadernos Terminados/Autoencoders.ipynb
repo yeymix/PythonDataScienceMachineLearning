{
 "cells": [
  {
   "attachments": {},
   "cell_type": "markdown",
   "id": "7eb627e2",
   "metadata": {},
   "source": [
    "# Autoencoders\n",
    "\n",
    "Los **Autoencoders** son otro algoritmo de aprendizaje automático que corresponde a los modelos de **Aprendizaje No Supervisado**, y que vamos a aprender ya mismo.\n",
    "\n",
    "Los **Autoencoders** son una herramienta muy poderosa, diseñada para aprender representaciones eficientes de los datos. La máquina va a aprender a representar los datos de manera eficiente, y te aseguro que ya vas a ver a qué me refiero.\n",
    "\n",
    "Un Autoencoder básicamente lo que hace es intentar **aprender una función que comprime los datos que recibe**, reduciéndolos a una representación codificada de dimensión mucho menor, y **luego los reconstruye** de vuelta a su forma original o una aproximación cercana a ella.\n",
    "\n",
    "Para decirlo en palabras muy simples, imagina que tienes un dibujo gigante, pero quieres guardarlo en tu bolsillo. Un autoencoder mira tu dibujo, descubre los puntos más importantes, y luego hace una versión miniatura de él. Después, cuando quieras ver tu dibujo otra vez en tamaño normal, el autoencoder puede recrearlo casi perfecto en su tamaño original, a paetir de una fórmula que ha utilizado para comprimirlo y descomprimirlo.\n",
    "\n",
    "\n",
    "### ¿Para qué sirve un autoencoder?\n",
    "\n",
    "Básicamente, ayuda a guardar cosas grandes en espacios pequeñitos.\n",
    "\n",
    "\n",
    "### Aplicación práctica\n",
    "\n",
    "Antes de poner en práctica los **Autoencoders** vamos a necesitar trabajar con una librería de python llamada **tensorflow**, que a diferencia de todas las librerías con las que hemos estado trabajando hasta el momento, no ha sido instalada en tu ordenador cuando instalaste anaconda, por lo tanto no puedes importarla aún.\n",
    "\n",
    "Para eso, te comparto [este otro cuaderno](Instalar%20tensorflow.ipynb), que contiene el código para **instalar tensorflow** en tu ordenador. Antes de avanzar con este práctica, simplemente ábrelo y ejecuta su contenido. Solo tendrás que hacer esto una vez en tu computadora, y luego ya podrás importar **tensorflow** en cualquier cuaderno Jupyter en el que quieras utilizarlo.\n",
    "\n",
    "\n",
    "Ahora sí, comencemos **importando todas las librerías** que necesitaremos para este ejercicio, que son varias."
   ]
  },
  {
   "cell_type": "code",
   "execution_count": 1,
   "id": "8ad07cca",
   "metadata": {},
   "outputs": [],
   "source": [
    "import matplotlib.pyplot as plt\n",
    "from tensorflow.keras.layers import Input, Dense\n",
    "from tensorflow.keras.models import Model\n",
    "from sklearn.model_selection import train_test_split\n",
    "from sklearn.datasets import load_digits"
   ]
  },
  {
   "attachments": {},
   "cell_type": "markdown",
   "id": "97a20be5",
   "metadata": {},
   "source": [
    "Ahora vamos a llamar a un dataset muy interesante que se llama `digits`."
   ]
  },
  {
   "cell_type": "code",
   "execution_count": 2,
   "id": "0ed59ff6",
   "metadata": {},
   "outputs": [
    {
     "data": {
      "text/plain": [
       "{'data': array([[ 0.,  0.,  5., ...,  0.,  0.,  0.],\n",
       "        [ 0.,  0.,  0., ..., 10.,  0.,  0.],\n",
       "        [ 0.,  0.,  0., ..., 16.,  9.,  0.],\n",
       "        ...,\n",
       "        [ 0.,  0.,  1., ...,  6.,  0.,  0.],\n",
       "        [ 0.,  0.,  2., ..., 12.,  0.,  0.],\n",
       "        [ 0.,  0., 10., ..., 12.,  1.,  0.]]),\n",
       " 'target': array([0, 1, 2, ..., 8, 9, 8]),\n",
       " 'frame': None,\n",
       " 'feature_names': ['pixel_0_0',\n",
       "  'pixel_0_1',\n",
       "  'pixel_0_2',\n",
       "  'pixel_0_3',\n",
       "  'pixel_0_4',\n",
       "  'pixel_0_5',\n",
       "  'pixel_0_6',\n",
       "  'pixel_0_7',\n",
       "  'pixel_1_0',\n",
       "  'pixel_1_1',\n",
       "  'pixel_1_2',\n",
       "  'pixel_1_3',\n",
       "  'pixel_1_4',\n",
       "  'pixel_1_5',\n",
       "  'pixel_1_6',\n",
       "  'pixel_1_7',\n",
       "  'pixel_2_0',\n",
       "  'pixel_2_1',\n",
       "  'pixel_2_2',\n",
       "  'pixel_2_3',\n",
       "  'pixel_2_4',\n",
       "  'pixel_2_5',\n",
       "  'pixel_2_6',\n",
       "  'pixel_2_7',\n",
       "  'pixel_3_0',\n",
       "  'pixel_3_1',\n",
       "  'pixel_3_2',\n",
       "  'pixel_3_3',\n",
       "  'pixel_3_4',\n",
       "  'pixel_3_5',\n",
       "  'pixel_3_6',\n",
       "  'pixel_3_7',\n",
       "  'pixel_4_0',\n",
       "  'pixel_4_1',\n",
       "  'pixel_4_2',\n",
       "  'pixel_4_3',\n",
       "  'pixel_4_4',\n",
       "  'pixel_4_5',\n",
       "  'pixel_4_6',\n",
       "  'pixel_4_7',\n",
       "  'pixel_5_0',\n",
       "  'pixel_5_1',\n",
       "  'pixel_5_2',\n",
       "  'pixel_5_3',\n",
       "  'pixel_5_4',\n",
       "  'pixel_5_5',\n",
       "  'pixel_5_6',\n",
       "  'pixel_5_7',\n",
       "  'pixel_6_0',\n",
       "  'pixel_6_1',\n",
       "  'pixel_6_2',\n",
       "  'pixel_6_3',\n",
       "  'pixel_6_4',\n",
       "  'pixel_6_5',\n",
       "  'pixel_6_6',\n",
       "  'pixel_6_7',\n",
       "  'pixel_7_0',\n",
       "  'pixel_7_1',\n",
       "  'pixel_7_2',\n",
       "  'pixel_7_3',\n",
       "  'pixel_7_4',\n",
       "  'pixel_7_5',\n",
       "  'pixel_7_6',\n",
       "  'pixel_7_7'],\n",
       " 'target_names': array([0, 1, 2, 3, 4, 5, 6, 7, 8, 9]),\n",
       " 'images': array([[[ 0.,  0.,  5., ...,  1.,  0.,  0.],\n",
       "         [ 0.,  0., 13., ..., 15.,  5.,  0.],\n",
       "         [ 0.,  3., 15., ..., 11.,  8.,  0.],\n",
       "         ...,\n",
       "         [ 0.,  4., 11., ..., 12.,  7.,  0.],\n",
       "         [ 0.,  2., 14., ..., 12.,  0.,  0.],\n",
       "         [ 0.,  0.,  6., ...,  0.,  0.,  0.]],\n",
       " \n",
       "        [[ 0.,  0.,  0., ...,  5.,  0.,  0.],\n",
       "         [ 0.,  0.,  0., ...,  9.,  0.,  0.],\n",
       "         [ 0.,  0.,  3., ...,  6.,  0.,  0.],\n",
       "         ...,\n",
       "         [ 0.,  0.,  1., ...,  6.,  0.,  0.],\n",
       "         [ 0.,  0.,  1., ...,  6.,  0.,  0.],\n",
       "         [ 0.,  0.,  0., ..., 10.,  0.,  0.]],\n",
       " \n",
       "        [[ 0.,  0.,  0., ..., 12.,  0.,  0.],\n",
       "         [ 0.,  0.,  3., ..., 14.,  0.,  0.],\n",
       "         [ 0.,  0.,  8., ..., 16.,  0.,  0.],\n",
       "         ...,\n",
       "         [ 0.,  9., 16., ...,  0.,  0.,  0.],\n",
       "         [ 0.,  3., 13., ..., 11.,  5.,  0.],\n",
       "         [ 0.,  0.,  0., ..., 16.,  9.,  0.]],\n",
       " \n",
       "        ...,\n",
       " \n",
       "        [[ 0.,  0.,  1., ...,  1.,  0.,  0.],\n",
       "         [ 0.,  0., 13., ...,  2.,  1.,  0.],\n",
       "         [ 0.,  0., 16., ..., 16.,  5.,  0.],\n",
       "         ...,\n",
       "         [ 0.,  0., 16., ..., 15.,  0.,  0.],\n",
       "         [ 0.,  0., 15., ..., 16.,  0.,  0.],\n",
       "         [ 0.,  0.,  2., ...,  6.,  0.,  0.]],\n",
       " \n",
       "        [[ 0.,  0.,  2., ...,  0.,  0.,  0.],\n",
       "         [ 0.,  0., 14., ..., 15.,  1.,  0.],\n",
       "         [ 0.,  4., 16., ..., 16.,  7.,  0.],\n",
       "         ...,\n",
       "         [ 0.,  0.,  0., ..., 16.,  2.,  0.],\n",
       "         [ 0.,  0.,  4., ..., 16.,  2.,  0.],\n",
       "         [ 0.,  0.,  5., ..., 12.,  0.,  0.]],\n",
       " \n",
       "        [[ 0.,  0., 10., ...,  1.,  0.,  0.],\n",
       "         [ 0.,  2., 16., ...,  1.,  0.,  0.],\n",
       "         [ 0.,  0., 15., ..., 15.,  0.,  0.],\n",
       "         ...,\n",
       "         [ 0.,  4., 16., ..., 16.,  6.,  0.],\n",
       "         [ 0.,  8., 16., ..., 16.,  8.,  0.],\n",
       "         [ 0.,  1.,  8., ..., 12.,  1.,  0.]]]),\n",
       " 'DESCR': \".. _digits_dataset:\\n\\nOptical recognition of handwritten digits dataset\\n--------------------------------------------------\\n\\n**Data Set Characteristics:**\\n\\n    :Number of Instances: 1797\\n    :Number of Attributes: 64\\n    :Attribute Information: 8x8 image of integer pixels in the range 0..16.\\n    :Missing Attribute Values: None\\n    :Creator: E. Alpaydin (alpaydin '@' boun.edu.tr)\\n    :Date: July; 1998\\n\\nThis is a copy of the test set of the UCI ML hand-written digits datasets\\nhttps://archive.ics.uci.edu/ml/datasets/Optical+Recognition+of+Handwritten+Digits\\n\\nThe data set contains images of hand-written digits: 10 classes where\\neach class refers to a digit.\\n\\nPreprocessing programs made available by NIST were used to extract\\nnormalized bitmaps of handwritten digits from a preprinted form. From a\\ntotal of 43 people, 30 contributed to the training set and different 13\\nto the test set. 32x32 bitmaps are divided into nonoverlapping blocks of\\n4x4 and the number of on pixels are counted in each block. This generates\\nan input matrix of 8x8 where each element is an integer in the range\\n0..16. This reduces dimensionality and gives invariance to small\\ndistortions.\\n\\nFor info on NIST preprocessing routines, see M. D. Garris, J. L. Blue, G.\\nT. Candela, D. L. Dimmick, J. Geist, P. J. Grother, S. A. Janet, and C.\\nL. Wilson, NIST Form-Based Handprint Recognition System, NISTIR 5469,\\n1994.\\n\\n.. topic:: References\\n\\n  - C. Kaynak (1995) Methods of Combining Multiple Classifiers and Their\\n    Applications to Handwritten Digit Recognition, MSc Thesis, Institute of\\n    Graduate Studies in Science and Engineering, Bogazici University.\\n  - E. Alpaydin, C. Kaynak (1998) Cascading Classifiers, Kybernetika.\\n  - Ken Tang and Ponnuthurai N. Suganthan and Xi Yao and A. Kai Qin.\\n    Linear dimensionalityreduction using relevance weighted LDA. School of\\n    Electrical and Electronic Engineering Nanyang Technological University.\\n    2005.\\n  - Claudio Gentile. A New Approximate Maximal Margin Classification\\n    Algorithm. NIPS. 2000.\\n\"}"
      ]
     },
     "execution_count": 2,
     "metadata": {},
     "output_type": "execute_result"
    }
   ],
   "source": [
    "digitos = load_digits()\n",
    "digitos"
   ]
  },
  {
   "attachments": {},
   "cell_type": "markdown",
   "id": "2e89cdc2",
   "metadata": {},
   "source": [
    "Y digo que este dataset es interesante porque lo que contiene es información que sirve para construir imágenes.\n",
    "\n",
    "Iris es un diccionario que contiene, entre otras cosas, una clave `data`, cuyo valor es una colección de arrays, que contiene **1797 imágenes de 8 pixels de ancho por 8 pixels de alto**. En realidad lo que tiene son arrays de dos dimensiones cuyo contenido son números que representan el valor de gris de cada pixel, por lo que podemos usar esa información para crear **mapas de bits** que forman imágenes.\n",
    "\n",
    "Veamos un ejemplo, tomemos el índice `0` de esta base de datos."
   ]
  },
  {
   "cell_type": "code",
   "execution_count": 3,
   "id": "c8f6e8c5",
   "metadata": {},
   "outputs": [
    {
     "data": {
      "text/plain": [
       "array([ 0.,  0.,  5., 13.,  9.,  1.,  0.,  0.,  0.,  0., 13., 15., 10.,\n",
       "       15.,  5.,  0.,  0.,  3., 15.,  2.,  0., 11.,  8.,  0.,  0.,  4.,\n",
       "       12.,  0.,  0.,  8.,  8.,  0.,  0.,  5.,  8.,  0.,  0.,  9.,  8.,\n",
       "        0.,  0.,  4., 11.,  0.,  1., 12.,  7.,  0.,  0.,  2., 14.,  5.,\n",
       "       10., 12.,  0.,  0.,  0.,  0.,  6., 13., 10.,  0.,  0.,  0.])"
      ]
     },
     "execution_count": 3,
     "metadata": {},
     "output_type": "execute_result"
    }
   ],
   "source": [
    "digitos['data'][0]"
   ]
  },
  {
   "attachments": {},
   "cell_type": "markdown",
   "id": "6dff595d",
   "metadata": {},
   "source": [
    "Aquí vemos que cada índice de `digits['data']` contiene un **array de 64 elementos**. Ahora probemos visualizar estos números pero con el formato de **8 por 8**."
   ]
  },
  {
   "cell_type": "code",
   "execution_count": 4,
   "id": "3b363ad6",
   "metadata": {},
   "outputs": [
    {
     "data": {
      "text/plain": [
       "array([[ 0.,  0.,  5., 13.,  9.,  1.,  0.,  0.],\n",
       "       [ 0.,  0., 13., 15., 10., 15.,  5.,  0.],\n",
       "       [ 0.,  3., 15.,  2.,  0., 11.,  8.,  0.],\n",
       "       [ 0.,  4., 12.,  0.,  0.,  8.,  8.,  0.],\n",
       "       [ 0.,  5.,  8.,  0.,  0.,  9.,  8.,  0.],\n",
       "       [ 0.,  4., 11.,  0.,  1., 12.,  7.,  0.],\n",
       "       [ 0.,  2., 14.,  5., 10., 12.,  0.,  0.],\n",
       "       [ 0.,  0.,  6., 13., 10.,  0.,  0.,  0.]])"
      ]
     },
     "execution_count": 4,
     "metadata": {},
     "output_type": "execute_result"
    }
   ],
   "source": [
    "digitos['data'][0].reshape(8, 8)"
   ]
  },
  {
   "attachments": {},
   "cell_type": "markdown",
   "id": "c8046def",
   "metadata": {},
   "source": [
    "Aquí ya nos va comenzando a quedar un poco más claro a qué nos referimos con **mapa de bits**.\n",
    "\n",
    "Cada elemento del array representa un bit de una imagen, y su valor dice qué tan claro debe ser el bit que representa.\n",
    "\n",
    "Y ahora la magia: vamos a representar esto con matplotlib."
   ]
  },
  {
   "cell_type": "code",
   "execution_count": 5,
   "id": "78b9013c",
   "metadata": {},
   "outputs": [
    {
     "data": {
      "text/plain": [
       "<matplotlib.image.AxesImage at 0x2245be63490>"
      ]
     },
     "execution_count": 5,
     "metadata": {},
     "output_type": "execute_result"
    },
    {
     "data": {
      "image/png": "[encoded data removed]",
      "text/plain": [
       "<Figure size 640x480 with 1 Axes>"
      ]
     },
     "metadata": {},
     "output_type": "display_data"
    }
   ],
   "source": [
    "plt.imshow(digitos['data'][0].reshape(8, 8))"
   ]
  },
  {
   "attachments": {},
   "cell_type": "markdown",
   "id": "04fe6f6b",
   "metadata": {},
   "source": [
    "Y ahí lo tienes. Nuestra imagen es el dibujo a mano del número `0`.\n",
    "\n",
    "Eso es lo que contiene esta base de datos llamada `digits`: 1797 imágenes de 8 bits que representan dígitos escritos a mano.\n",
    "\n",
    "Haz tu miso el intento de cambiar el índice `[0]` por el número que quieras entre **0** y **1797** para ver los diferentes números.\n",
    "\n",
    "Incluso te voy a mostrar un truco que lo hace más simple. `digits` trae una función llamada `images()` que nos permite seleccionar a nuestros dígitos mucho más fácilmente, pero no te la enseñé al comienzo para que puedas entender mejor la lógica que subyace en la estructura de `digits`."
   ]
  },
  {
   "cell_type": "code",
   "execution_count": 6,
   "id": "effdbbdb",
   "metadata": {},
   "outputs": [
    {
     "data": {
      "image/png": "[encoded data removed]",
      "text/plain": [
       "<Figure size 640x480 with 1 Axes>"
      ]
     },
     "metadata": {},
     "output_type": "display_data"
    }
   ],
   "source": [
    "plt.imshow(digitos.images[4]);"
   ]
  },
  {
   "attachments": {},
   "cell_type": "markdown",
   "id": "2b47bf3e",
   "metadata": {},
   "source": [
    "Muy bien, ahora que conoces el dataset con el que estamos trabajando, veamos cómo aplicar los **Autoencoders** en este caso.\n",
    "\n",
    "Vamos a necesitar una variable `X` (mayúscula) que contenga todas las imágenes de dígitos que hay en el dataset. Para eso vamos a recurrir a la función `data` que nos brinda `digits`."
   ]
  },
  {
   "cell_type": "code",
   "execution_count": 7,
   "id": "2a25532d",
   "metadata": {},
   "outputs": [],
   "source": [
    "X = digitos.data"
   ]
  },
  {
   "attachments": {},
   "cell_type": "markdown",
   "id": "a06ade15",
   "metadata": {},
   "source": [
    "En este caso no vamos a necesitar una variable `y`, así que directamente no la creamos.\n",
    "\n",
    "El siguiente paso es **normalizar nuestros números**. Recuerda que normalizar valores significa asegurarnos que todos comienzan y terminan dentro del mismo rango numérico. En este caso podemos hacerlo así:"
   ]
  },
  {
   "cell_type": "code",
   "execution_count": 8,
   "id": "a529ac52",
   "metadata": {},
   "outputs": [],
   "source": [
    "X = X / 16.0"
   ]
  },
  {
   "attachments": {},
   "cell_type": "markdown",
   "id": "0a63c095",
   "metadata": {},
   "source": [
    "¿Por qué los normalizo de esta manera? Porque típicamente los números de `digits` tienen valores en el rango de **0** a **16** para cada píxel. Al dividir cada número por `0.16` me aseguro de que su valor termine estando entre **0** y **1**, sin afectar la precisión de las relaciones de valor que hay entre ellos. Básicamente es como reducir la escala de un mapa.\n",
    "\n",
    "La normalización es un paso esencial en este caso porque así facilitamos el proceso de entrenamiento de la red neuronal. Podríamos no hacerlo, pero normalizar los datos ayuda a prevenir problemas numéricos durante el entrenamiento, como el desbordamiento de números, y generalmente permite que el algoritmo converja más rápidamente hacia una solución.\n",
    "\n",
    "Con nuestros datos normalizados, vamos a dividirlos entre **entrenamiento** y **prueba**:"
   ]
  },
  {
   "cell_type": "code",
   "execution_count": 9,
   "id": "2d42a38e",
   "metadata": {},
   "outputs": [],
   "source": [
    "X_entrena, X_prueba = train_test_split(X, test_size=0.2, random_state=42)"
   ]
  },
  {
   "attachments": {},
   "cell_type": "markdown",
   "id": "a2355cc4",
   "metadata": {},
   "source": [
    "Ahora viene la parte desafiante, que es construir el **autoecoder** usando `keras`, que es el modelo que importamos al comienzo del cuaderno."
   ]
  },
  {
   "cell_type": "code",
   "execution_count": 10,
   "id": "6b012fc1",
   "metadata": {},
   "outputs": [],
   "source": [
    "imagen_entrada = Input(shape=(64, ))"
   ]
  },
  {
   "attachments": {},
   "cell_type": "markdown",
   "id": "0882523b",
   "metadata": {},
   "source": [
    "Aquí estoy creando una variable que contiene la función `Input` (con **I** mayúscula), que no es el `input` (con **i** minúscula) que hemos usado hasta ahora para pedirle al usuario que ingrese algo, sino la función `Input` de `keras.layers` que hemos importado al comienzo del cuaderno desde `tensorflow`.\n",
    "\n",
    "Este `Input` se utiliza para instanciar una nueva capa de entrada, que llamamos ***capa tensorial***. Básicamente es la forma específica que el modelo va a esperar que tengan nuestros datos. Y aquí le estamos diciendo, que nuestros arrays de 8 por 8 van a ser pasados de manera aplanada, en un array de una sola dimensión, que va a tener 64 elementos. Este es el punto de partida para construir un modelo de red neuronal.\n",
    "\n",
    "Ahora vamos a crear la variable `codificado`, que va a contener una red neuronal. Aquí las cosas pueden ponerse algo abstractas, así que las explicaré en detalle.\n",
    "\n",
    "Primero escribiré la línea:"
   ]
  },
  {
   "cell_type": "code",
   "execution_count": 11,
   "id": "7fac6a69",
   "metadata": {},
   "outputs": [],
   "source": [
    "codificado = Dense(32, activation='relu') (imagen_entrada)"
   ]
  },
  {
   "attachments": {},
   "cell_type": "markdown",
   "id": "2f4c34c8",
   "metadata": {},
   "source": [
    "Esta variable `codificado` va a contener una **capa densa**. ¿Qué significa esto? Significa que va a ser una capa que va a contener muchos puntos de información, y que todos esos puntos van a estar conectados entre sí, como una red de neuronas donde cada neurona tiene una conexión directa con cada una de las demás neuronas. Se llama **densa** porque al ser una red con tantas conexiones, va a ser una red con una gran densidad.\n",
    "\n",
    "Entonces para eso hemos usado `Dense` (que también es la función que importamos desde `keras` al comienzo del cuaderno), que es la función que se encarga de crear esa capa desde cero. El primer argumento que nos pide es el *número de nodos*, o de neuronas que va a tener nuestra red, y que se van a conectar todas entre sí. Yo he puesto `32`, como un punto de partida ilustrativo, pero no es un estándar fijo ni la única opción posible. Lo he elegido en este caso porque es la mitad de **64 pixels** por imagen.\n",
    "\n",
    "La elección del número de neuronas en una capa de una red neuronal depende de varios factores y objetivos específicos del modelo y del conjunto de datos con el que estás trabajando. La decisión sobre cuántas neuronas utilizar puede influir en la capacidad del modelo para aprender patrones complejos en los datos:\n",
    "+ Tener un número grande de neuronas puede aumentar la capacidad del modelo para aprender detalles finos de los datos de entrenamiento, lo que podría ser beneficioso si tu conjunto de datos es complejo y variado. Sin embargo, también aumenta el riesgo de que el modelo aprenda tanto, que aprende hasta el \"ruido\" en los datos de entrenamiento en lugar de las relaciones importantes generales, lo que puede perjudicar su rendimiento en datos nuevos.\n",
    "+ Y por otro lado, si eliges un número muy pequeño de neuronas, el modelo podría no tener suficiente capacidad para aprender adecuadamente los patrones en los datos, lo que crearía un modelo demasiado simple que es incapaz de capturar la estructura subyacente de los datos.\n",
    "\t\n",
    "En este caso la elección de `32` como el número de neuronas en el ejemplo es un balance entre estas consideraciones, proporcionando una cantidad moderada de capacidad de aprendizaje sin ser excesivamente compleja para un conjunto de datos relativamente simple como los dígitos manuscritos. Sin embargo, es completamente válido que experimentes con este número para encontrar el mejor rendimiento para tu tarea específica.\n",
    "\n",
    "Sigamos analizando la función `Dense`. El siguiente argumento es `activation`, al que he establecido como `'relu'`. Aquí estoy especificando cuál va a ser la función de activación que usaremos en esta capa. `relu` se refiere *'Rectified Linear Unit'*, que es una de las funciones de activación más comunes en las redes neuronales debido a su simplicidad y eficacia.\n",
    "\n",
    "Y finalmente `(imagen_entrada)` es la parte donde le indicamos a `Dense` que la capa densa que hemos definido, debe aplicarse a las entradas proporcionadas por `imagen_entrada`. \n",
    "\n",
    "Entonces ya tenemos nuestra capa `codificado`, que es una **capa densamente codificada**, ¿y qué objetivo va a cumplir esta capa? Bueno, imagina que tienes un grupo de amigos y les quieres pasar un mensaje a cada uno de ellos. En una capa densa, cada amigo representa una \"neurona\" o un punto donde puede ocurrir algo interesante con el mensaje. En este caso 32 amigos. Ahora, imagina que decides no solo pasar tu mensaje original a cada uno, sino que, basado en lo que sabes de cada amigo, modificas un poco el mensaje para cada uno. Quizás a algunos les añades un chiste porque sabes que les gusta reír, o a otros les haces el mensaje más corto porque prefieren las cosas directas.\n",
    "\n",
    "Una capa densa en una red neuronal hace algo similar con la información que recibe. Piénsala como una capa llena de amigos (neuronas) donde cada uno recibe el mensaje (datos de entrada), y cada uno lo modifica un poco basado en sus propias \"reglas\" antes de pasarlo. Debido a que en una capa densa, cada neurona está conectada a todas las entradas, cada conexión puede pensar en el mensaje de manera diferente, añadiendo su propio giro único basado en cómo se haya entrenado la red.\n",
    "\n",
    "Así que, en términos simples, una capa densa es **un grupo de neuronas trabajando juntas**, donde cada una contribuye un poco basada en su propio peso, para formar un nuevo mensaje (que es la salida de la capa) que combina todos sus puntos de vista.\n",
    "\n",
    "Avancemos. Ahora que hemos construido el **codificador**, vamos a construir el **decodificador**. Porque todo lo que ha sido codificado necesita poder decodificarse en algún momento."
   ]
  },
  {
   "cell_type": "code",
   "execution_count": 12,
   "id": "18fe3bfa",
   "metadata": {},
   "outputs": [],
   "source": [
    "decodificado = Dense(64, activation='sigmoid') (codificado)"
   ]
  },
  {
   "attachments": {},
   "cell_type": "markdown",
   "id": "3f65dba7",
   "metadata": {},
   "source": [
    "Entonces hemos usado la misma función `Dense`, pero esta vez le hemos dicho que queremos `64` nodos, que es un numero que generalmente va a ser igual a los puntos de entrada originales (que en nuestro caso eran **64 pixels**), y le he pedido que se use la función de activación `sigmoid` en esta capa, que es una función que convierte los valores de entrada a la capa en valores entre **0** y **1**, lo que es muy útil ya que los datos de entrada originalmente también estaban en este rango.\n",
    "\n",
    "Y finalmente le hemos pedido que la capa `Dense` se aplique a la salida de la capa que codificación que creamos recién y que se llama `codificado`.\n",
    "\n",
    "Pero aquí no termina todo. Esta ha sido la **preparación de los datos** y la **creación del codificador y del decodificador**. Ahora toca crear el **autoeconder** en sí mismo. Aquí es donde llamamos al algoritmo que queremos aplicar en esta lección:"
   ]
  },
  {
   "cell_type": "code",
   "execution_count": 13,
   "id": "11c8b6c8",
   "metadata": {},
   "outputs": [],
   "source": [
    "autoencoder = Model(imagen_entrada, decodificado)"
   ]
  },
  {
   "attachments": {},
   "cell_type": "markdown",
   "id": "c0b86d9d",
   "metadata": {},
   "source": [
    "Y vamos a preparar el modelo de `autoencoder` para el **entrenamiento**, especificando cómo se debería actualizar durante el aprendizaje y cómo se medirá su rendimiento.\n",
    "\n",
    "Vamos a usar la función `compile()` que es un método que prepara el modelo para el entrenamiento, dándole detalles cruciales sobre cómo debe aprender de los datos."
   ]
  },
  {
   "cell_type": "code",
   "execution_count": 14,
   "id": "7b943694",
   "metadata": {},
   "outputs": [],
   "source": [
    "autoencoder.compile(optimizer='adam',\n",
    "                   loss='binary_crossentropy')"
   ]
  },
  {
   "attachments": {},
   "cell_type": "markdown",
   "id": "6c873b3c",
   "metadata": {},
   "source": [
    "¿Qué son esos parámetros en la función `compile()`?\n",
    "+ `optimizer='adam'`: El optimizador es el algoritmo que ajusta los pesos del modelo. `'Adam'` es uno de los optimizadores más populares y efectivos porque ajusta la tasa de aprendizaje automáticamente y funciona bien en la mayoría de los casos sin mucha configuración.\n",
    "+ `loss='binary_crossentropy'`: La función de pérdida (`loss`) mide qué tan bien el modelo está haciendo su trabajo, en este caso, reconstruyendo la entrada original a partir de la versión comprimida. `'Binary_crossentropy'` es una elección común cuando los datos de entrada son valores binarios o en el rango de **0** a **1**, porque esta función de pérdida compara cada píxel de la imagen de entrada con el píxel correspondiente de la imagen reconstruida.\n",
    "\n",
    "En resumen, esta línea le dice al modelo que use el optimizador `adam` para ajustar sus pesos y minimizar la diferencia entre las entradas originales y las reconstruidas, medida por la función de pérdida de **entropía cruzada binaria**, durante el entrenamiento. \n",
    "\n",
    "Muy bien, con nuestro modelo de **autoencoder** configurado, ha llegado el momento de entrenarlo."
   ]
  },
  {
   "cell_type": "code",
   "execution_count": 15,
   "id": "df176485",
   "metadata": {},
   "outputs": [
    {
     "name": "stdout",
     "output_type": "stream",
     "text": [
      "Epoch 1/100\n",
      "\u001b[1m6/6\u001b[0m \u001b[32m━━━━━━━━━━━━━━━━━━━━\u001b[0m\u001b[37m\u001b[0m \u001b[1m1s\u001b[0m 31ms/step - loss: 0.6969 - val_loss: 0.6786\n",
      "Epoch 2/100\n",
      "\u001b[1m6/6\u001b[0m \u001b[32m━━━━━━━━━━━━━━━━━━━━\u001b[0m\u001b[37m\u001b[0m \u001b[1m0s\u001b[0m 8ms/step - loss: 0.6743 - val_loss: 0.6566\n",
      "Epoch 3/100\n",
      "\u001b[1m6/6\u001b[0m \u001b[32m━━━━━━━━━━━━━━━━━━━━\u001b[0m\u001b[37m\u001b[0m \u001b[1m0s\u001b[0m 11ms/step - loss: 0.6518 - val_loss: 0.6336\n",
      "Epoch 4/100\n",
      "\u001b[1m6/6\u001b[0m \u001b[32m━━━━━━━━━━━━━━━━━━━━\u001b[0m\u001b[37m\u001b[0m \u001b[1m0s\u001b[0m 9ms/step - loss: 0.6282 - val_loss: 0.6081\n",
      "Epoch 5/100\n",
      "\u001b[1m6/6\u001b[0m \u001b[32m━━━━━━━━━━━━━━━━━━━━\u001b[0m\u001b[37m\u001b[0m \u001b[1m0s\u001b[0m 8ms/step - loss: 0.6017 - val_loss: 0.5798\n",
      "Epoch 6/100\n",
      "\u001b[1m6/6\u001b[0m \u001b[32m━━━━━━━━━━━━━━━━━━━━\u001b[0m\u001b[37m\u001b[0m \u001b[1m0s\u001b[0m 8ms/step - loss: 0.5729 - val_loss: 0.5504\n",
      "Epoch 7/100\n",
      "\u001b[1m6/6\u001b[0m \u001b[32m━━━━━━━━━━━━━━━━━━━━\u001b[0m\u001b[37m\u001b[0m \u001b[1m0s\u001b[0m 10ms/step - loss: 0.5431 - val_loss: 0.5217\n",
      "Epoch 8/100\n",
      "\u001b[1m6/6\u001b[0m \u001b[32m━━━━━━━━━━━━━━━━━━━━\u001b[0m\u001b[37m\u001b[0m \u001b[1m0s\u001b[0m 8ms/step - loss: 0.5147 - val_loss: 0.4958\n",
      "Epoch 9/100\n",
      "\u001b[1m6/6\u001b[0m \u001b[32m━━━━━━━━━━━━━━━━━━━━\u001b[0m\u001b[37m\u001b[0m \u001b[1m0s\u001b[0m 10ms/step - loss: 0.4898 - val_loss: 0.4740\n",
      "Epoch 10/100\n",
      "\u001b[1m6/6\u001b[0m \u001b[32m━━━━━━━━━━━━━━━━━━━━\u001b[0m\u001b[37m\u001b[0m \u001b[1m0s\u001b[0m 8ms/step - loss: 0.4696 - val_loss: 0.4568\n",
      "Epoch 11/100\n",
      "\u001b[1m6/6\u001b[0m \u001b[32m━━━━━━━━━━━━━━━━━━━━\u001b[0m\u001b[37m\u001b[0m \u001b[1m0s\u001b[0m 9ms/step - loss: 0.4525 - val_loss: 0.4433\n",
      "Epoch 12/100\n",
      "\u001b[1m6/6\u001b[0m \u001b[32m━━━━━━━━━━━━━━━━━━━━\u001b[0m\u001b[37m\u001b[0m \u001b[1m0s\u001b[0m 8ms/step - loss: 0.4392 - val_loss: 0.4329\n",
      "Epoch 13/100\n",
      "\u001b[1m6/6\u001b[0m \u001b[32m━━━━━━━━━━━━━━━━━━━━\u001b[0m\u001b[37m\u001b[0m \u001b[1m0s\u001b[0m 8ms/step - loss: 0.4306 - val_loss: 0.4243\n",
      "Epoch 14/100\n",
      "\u001b[1m6/6\u001b[0m \u001b[32m━━━━━━━━━━━━━━━━━━━━\u001b[0m\u001b[37m\u001b[0m \u001b[1m0s\u001b[0m 7ms/step - loss: 0.4211 - val_loss: 0.4171\n",
      "Epoch 15/100\n",
      "\u001b[1m6/6\u001b[0m \u001b[32m━━━━━━━━━━━━━━━━━━━━\u001b[0m\u001b[37m\u001b[0m \u001b[1m0s\u001b[0m 9ms/step - loss: 0.4143 - val_loss: 0.4109\n",
      "Epoch 16/100\n",
      "\u001b[1m6/6\u001b[0m \u001b[32m━━━━━━━━━━━━━━━━━━━━\u001b[0m\u001b[37m\u001b[0m \u001b[1m0s\u001b[0m 7ms/step - loss: 0.4084 - val_loss: 0.4053\n",
      "Epoch 17/100\n",
      "\u001b[1m6/6\u001b[0m \u001b[32m━━━━━━━━━━━━━━━━━━━━\u001b[0m\u001b[37m\u001b[0m \u001b[1m0s\u001b[0m 9ms/step - loss: 0.4032 - val_loss: 0.4005\n",
      "Epoch 18/100\n",
      "\u001b[1m6/6\u001b[0m \u001b[32m━━━━━━━━━━━━━━━━━━━━\u001b[0m\u001b[37m\u001b[0m \u001b[1m0s\u001b[0m 8ms/step - loss: 0.3987 - val_loss: 0.3961\n",
      "Epoch 19/100\n",
      "\u001b[1m6/6\u001b[0m \u001b[32m━━━━━━━━━━━━━━━━━━━━\u001b[0m\u001b[37m\u001b[0m \u001b[1m0s\u001b[0m 8ms/step - loss: 0.3938 - val_loss: 0.3918\n",
      "Epoch 20/100\n",
      "\u001b[1m6/6\u001b[0m \u001b[32m━━━━━━━━━━━━━━━━━━━━\u001b[0m\u001b[37m\u001b[0m \u001b[1m0s\u001b[0m 12ms/step - loss: 0.3911 - val_loss: 0.3878\n",
      "Epoch 21/100\n",
      "\u001b[1m6/6\u001b[0m \u001b[32m━━━━━━━━━━━━━━━━━━━━\u001b[0m\u001b[37m\u001b[0m \u001b[1m0s\u001b[0m 9ms/step - loss: 0.3860 - val_loss: 0.3837\n",
      "Epoch 22/100\n",
      "\u001b[1m6/6\u001b[0m \u001b[32m━━━━━━━━━━━━━━━━━━━━\u001b[0m\u001b[37m\u001b[0m \u001b[1m0s\u001b[0m 8ms/step - loss: 0.3811 - val_loss: 0.3796\n",
      "Epoch 23/100\n",
      "\u001b[1m6/6\u001b[0m \u001b[32m━━━━━━━━━━━━━━━━━━━━\u001b[0m\u001b[37m\u001b[0m \u001b[1m0s\u001b[0m 10ms/step - loss: 0.3769 - val_loss: 0.3758\n",
      "Epoch 24/100\n",
      "\u001b[1m6/6\u001b[0m \u001b[32m━━━━━━━━━━━━━━━━━━━━\u001b[0m\u001b[37m\u001b[0m \u001b[1m0s\u001b[0m 7ms/step - loss: 0.3736 - val_loss: 0.3719\n",
      "Epoch 25/100\n",
      "\u001b[1m6/6\u001b[0m \u001b[32m━━━━━━━━━━━━━━━━━━━━\u001b[0m\u001b[37m\u001b[0m \u001b[1m0s\u001b[0m 9ms/step - loss: 0.3690 - val_loss: 0.3682\n",
      "Epoch 26/100\n",
      "\u001b[1m6/6\u001b[0m \u001b[32m━━━━━━━━━━━━━━━━━━━━\u001b[0m\u001b[37m\u001b[0m \u001b[1m0s\u001b[0m 9ms/step - loss: 0.3654 - val_loss: 0.3647\n",
      "Epoch 27/100\n",
      "\u001b[1m6/6\u001b[0m \u001b[32m━━━━━━━━━━━━━━━━━━━━\u001b[0m\u001b[37m\u001b[0m \u001b[1m0s\u001b[0m 9ms/step - loss: 0.3621 - val_loss: 0.3613\n",
      "Epoch 28/100\n",
      "\u001b[1m6/6\u001b[0m \u001b[32m━━━━━━━━━━━━━━━━━━━━\u001b[0m\u001b[37m\u001b[0m \u001b[1m0s\u001b[0m 9ms/step - loss: 0.3570 - val_loss: 0.3581\n",
      "Epoch 29/100\n",
      "\u001b[1m6/6\u001b[0m \u001b[32m━━━━━━━━━━━━━━━━━━━━\u001b[0m\u001b[37m\u001b[0m \u001b[1m0s\u001b[0m 10ms/step - loss: 0.3545 - val_loss: 0.3550\n",
      "Epoch 30/100\n",
      "\u001b[1m6/6\u001b[0m \u001b[32m━━━━━━━━━━━━━━━━━━━━\u001b[0m\u001b[37m\u001b[0m \u001b[1m0s\u001b[0m 8ms/step - loss: 0.3521 - val_loss: 0.3521\n",
      "Epoch 31/100\n",
      "\u001b[1m6/6\u001b[0m \u001b[32m━━━━━━━━━━━━━━━━━━━━\u001b[0m\u001b[37m\u001b[0m \u001b[1m0s\u001b[0m 7ms/step - loss: 0.3482 - val_loss: 0.3492\n",
      "Epoch 32/100\n",
      "\u001b[1m6/6\u001b[0m \u001b[32m━━━━━━━━━━━━━━━━━━━━\u001b[0m\u001b[37m\u001b[0m \u001b[1m0s\u001b[0m 8ms/step - loss: 0.3461 - val_loss: 0.3465\n",
      "Epoch 33/100\n",
      "\u001b[1m6/6\u001b[0m \u001b[32m━━━━━━━━━━━━━━━━━━━━\u001b[0m\u001b[37m\u001b[0m \u001b[1m0s\u001b[0m 7ms/step - loss: 0.3437 - val_loss: 0.3439\n",
      "Epoch 34/100\n",
      "\u001b[1m6/6\u001b[0m \u001b[32m━━━━━━━━━━━━━━━━━━━━\u001b[0m\u001b[37m\u001b[0m \u001b[1m0s\u001b[0m 9ms/step - loss: 0.3393 - val_loss: 0.3415\n",
      "Epoch 35/100\n",
      "\u001b[1m6/6\u001b[0m \u001b[32m━━━━━━━━━━━━━━━━━━━━\u001b[0m\u001b[37m\u001b[0m \u001b[1m0s\u001b[0m 10ms/step - loss: 0.3368 - val_loss: 0.3390\n",
      "Epoch 36/100\n",
      "\u001b[1m6/6\u001b[0m \u001b[32m━━━━━━━━━━━━━━━━━━━━\u001b[0m\u001b[37m\u001b[0m \u001b[1m0s\u001b[0m 11ms/step - loss: 0.3345 - val_loss: 0.3367\n",
      "Epoch 37/100\n",
      "\u001b[1m6/6\u001b[0m \u001b[32m━━━━━━━━━━━━━━━━━━━━\u001b[0m\u001b[37m\u001b[0m \u001b[1m0s\u001b[0m 9ms/step - loss: 0.3330 - val_loss: 0.3346\n",
      "Epoch 38/100\n",
      "\u001b[1m6/6\u001b[0m \u001b[32m━━━━━━━━━━━━━━━━━━━━\u001b[0m\u001b[37m\u001b[0m \u001b[1m0s\u001b[0m 8ms/step - loss: 0.3303 - val_loss: 0.3325\n",
      "Epoch 39/100\n",
      "\u001b[1m6/6\u001b[0m \u001b[32m━━━━━━━━━━━━━━━━━━━━\u001b[0m\u001b[37m\u001b[0m \u001b[1m0s\u001b[0m 8ms/step - loss: 0.3287 - val_loss: 0.3305\n",
      "Epoch 40/100\n",
      "\u001b[1m6/6\u001b[0m \u001b[32m━━━━━━━━━━━━━━━━━━━━\u001b[0m\u001b[37m\u001b[0m \u001b[1m0s\u001b[0m 10ms/step - loss: 0.3260 - val_loss: 0.3285\n",
      "Epoch 41/100\n",
      "\u001b[1m6/6\u001b[0m \u001b[32m━━━━━━━━━━━━━━━━━━━━\u001b[0m\u001b[37m\u001b[0m \u001b[1m0s\u001b[0m 9ms/step - loss: 0.3245 - val_loss: 0.3267\n",
      "Epoch 42/100\n",
      "\u001b[1m6/6\u001b[0m \u001b[32m━━━━━━━━━━━━━━━━━━━━\u001b[0m\u001b[37m\u001b[0m \u001b[1m0s\u001b[0m 7ms/step - loss: 0.3241 - val_loss: 0.3249\n",
      "Epoch 43/100\n",
      "\u001b[1m6/6\u001b[0m \u001b[32m━━━━━━━━━━━━━━━━━━━━\u001b[0m\u001b[37m\u001b[0m \u001b[1m0s\u001b[0m 8ms/step - loss: 0.3208 - val_loss: 0.3232\n",
      "Epoch 44/100\n",
      "\u001b[1m6/6\u001b[0m \u001b[32m━━━━━━━━━━━━━━━━━━━━\u001b[0m\u001b[37m\u001b[0m \u001b[1m0s\u001b[0m 12ms/step - loss: 0.3188 - val_loss: 0.3214\n",
      "Epoch 45/100\n",
      "\u001b[1m6/6\u001b[0m \u001b[32m━━━━━━━━━━━━━━━━━━━━\u001b[0m\u001b[37m\u001b[0m \u001b[1m0s\u001b[0m 7ms/step - loss: 0.3171 - val_loss: 0.3198\n",
      "Epoch 46/100\n",
      "\u001b[1m6/6\u001b[0m \u001b[32m━━━━━━━━━━━━━━━━━━━━\u001b[0m\u001b[37m\u001b[0m \u001b[1m0s\u001b[0m 14ms/step - loss: 0.3146 - val_loss: 0.3182\n",
      "Epoch 47/100\n",
      "\u001b[1m6/6\u001b[0m \u001b[32m━━━━━━━━━━━━━━━━━━━━\u001b[0m\u001b[37m\u001b[0m \u001b[1m0s\u001b[0m 12ms/step - loss: 0.3135 - val_loss: 0.3167\n",
      "Epoch 48/100\n",
      "\u001b[1m6/6\u001b[0m \u001b[32m━━━━━━━━━━━━━━━━━━━━\u001b[0m\u001b[37m\u001b[0m \u001b[1m0s\u001b[0m 9ms/step - loss: 0.3114 - val_loss: 0.3151\n",
      "Epoch 49/100\n",
      "\u001b[1m6/6\u001b[0m \u001b[32m━━━━━━━━━━━━━━━━━━━━\u001b[0m\u001b[37m\u001b[0m \u001b[1m0s\u001b[0m 8ms/step - loss: 0.3113 - val_loss: 0.3137\n",
      "Epoch 50/100\n",
      "\u001b[1m6/6\u001b[0m \u001b[32m━━━━━━━━━━━━━━━━━━━━\u001b[0m\u001b[37m\u001b[0m \u001b[1m0s\u001b[0m 11ms/step - loss: 0.3094 - val_loss: 0.3123\n",
      "Epoch 51/100\n",
      "\u001b[1m6/6\u001b[0m \u001b[32m━━━━━━━━━━━━━━━━━━━━\u001b[0m\u001b[37m\u001b[0m \u001b[1m0s\u001b[0m 10ms/step - loss: 0.3059 - val_loss: 0.3109\n",
      "Epoch 52/100\n",
      "\u001b[1m6/6\u001b[0m \u001b[32m━━━━━━━━━━━━━━━━━━━━\u001b[0m\u001b[37m\u001b[0m \u001b[1m0s\u001b[0m 9ms/step - loss: 0.3071 - val_loss: 0.3096\n",
      "Epoch 53/100\n",
      "\u001b[1m6/6\u001b[0m \u001b[32m━━━━━━━━━━━━━━━━━━━━\u001b[0m\u001b[37m\u001b[0m \u001b[1m0s\u001b[0m 12ms/step - loss: 0.3049 - val_loss: 0.3083\n",
      "Epoch 54/100\n",
      "\u001b[1m6/6\u001b[0m \u001b[32m━━━━━━━━━━━━━━━━━━━━\u001b[0m\u001b[37m\u001b[0m \u001b[1m0s\u001b[0m 7ms/step - loss: 0.3043 - val_loss: 0.3070\n",
      "Epoch 55/100\n",
      "\u001b[1m6/6\u001b[0m \u001b[32m━━━━━━━━━━━━━━━━━━━━\u001b[0m\u001b[37m\u001b[0m \u001b[1m0s\u001b[0m 9ms/step - loss: 0.3027 - val_loss: 0.3058\n",
      "Epoch 56/100\n",
      "\u001b[1m6/6\u001b[0m \u001b[32m━━━━━━━━━━━━━━━━━━━━\u001b[0m\u001b[37m\u001b[0m \u001b[1m0s\u001b[0m 10ms/step - loss: 0.3009 - val_loss: 0.3047\n",
      "Epoch 57/100\n",
      "\u001b[1m6/6\u001b[0m \u001b[32m━━━━━━━━━━━━━━━━━━━━\u001b[0m\u001b[37m\u001b[0m \u001b[1m0s\u001b[0m 11ms/step - loss: 0.3005 - val_loss: 0.3035\n",
      "Epoch 58/100\n",
      "\u001b[1m6/6\u001b[0m \u001b[32m━━━━━━━━━━━━━━━━━━━━\u001b[0m\u001b[37m\u001b[0m \u001b[1m0s\u001b[0m 8ms/step - loss: 0.2992 - val_loss: 0.3024\n",
      "Epoch 59/100\n",
      "\u001b[1m6/6\u001b[0m \u001b[32m━━━━━━━━━━━━━━━━━━━━\u001b[0m\u001b[37m\u001b[0m \u001b[1m0s\u001b[0m 7ms/step - loss: 0.2972 - val_loss: 0.3013\n",
      "Epoch 60/100\n",
      "\u001b[1m6/6\u001b[0m \u001b[32m━━━━━━━━━━━━━━━━━━━━\u001b[0m\u001b[37m\u001b[0m \u001b[1m0s\u001b[0m 8ms/step - loss: 0.2966 - val_loss: 0.3003\n",
      "Epoch 61/100\n",
      "\u001b[1m6/6\u001b[0m \u001b[32m━━━━━━━━━━━━━━━━━━━━\u001b[0m\u001b[37m\u001b[0m \u001b[1m0s\u001b[0m 9ms/step - loss: 0.2955 - val_loss: 0.2993\n",
      "Epoch 62/100\n",
      "\u001b[1m6/6\u001b[0m \u001b[32m━━━━━━━━━━━━━━━━━━━━\u001b[0m\u001b[37m\u001b[0m \u001b[1m0s\u001b[0m 9ms/step - loss: 0.2946 - val_loss: 0.2983\n",
      "Epoch 63/100\n",
      "\u001b[1m6/6\u001b[0m \u001b[32m━━━━━━━━━━━━━━━━━━━━\u001b[0m\u001b[37m\u001b[0m \u001b[1m0s\u001b[0m 9ms/step - loss: 0.2939 - val_loss: 0.2972\n",
      "Epoch 64/100\n",
      "\u001b[1m6/6\u001b[0m \u001b[32m━━━━━━━━━━━━━━━━━━━━\u001b[0m\u001b[37m\u001b[0m \u001b[1m0s\u001b[0m 7ms/step - loss: 0.2927 - val_loss: 0.2963\n",
      "Epoch 65/100\n",
      "\u001b[1m6/6\u001b[0m \u001b[32m━━━━━━━━━━━━━━━━━━━━\u001b[0m\u001b[37m\u001b[0m \u001b[1m0s\u001b[0m 9ms/step - loss: 0.2936 - val_loss: 0.2954\n",
      "Epoch 66/100\n",
      "\u001b[1m6/6\u001b[0m \u001b[32m━━━━━━━━━━━━━━━━━━━━\u001b[0m\u001b[37m\u001b[0m \u001b[1m0s\u001b[0m 11ms/step - loss: 0.2909 - val_loss: 0.2945\n",
      "Epoch 67/100\n",
      "\u001b[1m6/6\u001b[0m \u001b[32m━━━━━━━━━━━━━━━━━━━━\u001b[0m\u001b[37m\u001b[0m \u001b[1m0s\u001b[0m 8ms/step - loss: 0.2901 - val_loss: 0.2936\n",
      "Epoch 68/100\n",
      "\u001b[1m6/6\u001b[0m \u001b[32m━━━━━━━━━━━━━━━━━━━━\u001b[0m\u001b[37m\u001b[0m \u001b[1m0s\u001b[0m 7ms/step - loss: 0.2900 - val_loss: 0.2928\n",
      "Epoch 69/100\n",
      "\u001b[1m6/6\u001b[0m \u001b[32m━━━━━━━━━━━━━━━━━━━━\u001b[0m\u001b[37m\u001b[0m \u001b[1m0s\u001b[0m 8ms/step - loss: 0.2889 - val_loss: 0.2919\n",
      "Epoch 70/100\n"
     ]
    },
    {
     "name": "stdout",
     "output_type": "stream",
     "text": [
      "\u001b[1m6/6\u001b[0m \u001b[32m━━━━━━━━━━━━━━━━━━━━\u001b[0m\u001b[37m\u001b[0m \u001b[1m0s\u001b[0m 9ms/step - loss: 0.2877 - val_loss: 0.2911\n",
      "Epoch 71/100\n",
      "\u001b[1m6/6\u001b[0m \u001b[32m━━━━━━━━━━━━━━━━━━━━\u001b[0m\u001b[37m\u001b[0m \u001b[1m0s\u001b[0m 7ms/step - loss: 0.2873 - val_loss: 0.2903\n",
      "Epoch 72/100\n",
      "\u001b[1m6/6\u001b[0m \u001b[32m━━━━━━━━━━━━━━━━━━━━\u001b[0m\u001b[37m\u001b[0m \u001b[1m0s\u001b[0m 7ms/step - loss: 0.2868 - val_loss: 0.2895\n",
      "Epoch 73/100\n",
      "\u001b[1m6/6\u001b[0m \u001b[32m━━━━━━━━━━━━━━━━━━━━\u001b[0m\u001b[37m\u001b[0m \u001b[1m0s\u001b[0m 8ms/step - loss: 0.2854 - val_loss: 0.2887\n",
      "Epoch 74/100\n",
      "\u001b[1m6/6\u001b[0m \u001b[32m━━━━━━━━━━━━━━━━━━━━\u001b[0m\u001b[37m\u001b[0m \u001b[1m0s\u001b[0m 7ms/step - loss: 0.2840 - val_loss: 0.2880\n",
      "Epoch 75/100\n",
      "\u001b[1m6/6\u001b[0m \u001b[32m━━━━━━━━━━━━━━━━━━━━\u001b[0m\u001b[37m\u001b[0m \u001b[1m0s\u001b[0m 6ms/step - loss: 0.2850 - val_loss: 0.2872\n",
      "Epoch 76/100\n",
      "\u001b[1m6/6\u001b[0m \u001b[32m━━━━━━━━━━━━━━━━━━━━\u001b[0m\u001b[37m\u001b[0m \u001b[1m0s\u001b[0m 6ms/step - loss: 0.2831 - val_loss: 0.2865\n",
      "Epoch 77/100\n",
      "\u001b[1m6/6\u001b[0m \u001b[32m━━━━━━━━━━━━━━━━━━━━\u001b[0m\u001b[37m\u001b[0m \u001b[1m0s\u001b[0m 8ms/step - loss: 0.2829 - val_loss: 0.2858\n",
      "Epoch 78/100\n",
      "\u001b[1m6/6\u001b[0m \u001b[32m━━━━━━━━━━━━━━━━━━━━\u001b[0m\u001b[37m\u001b[0m \u001b[1m0s\u001b[0m 8ms/step - loss: 0.2822 - val_loss: 0.2851\n",
      "Epoch 79/100\n",
      "\u001b[1m6/6\u001b[0m \u001b[32m━━━━━━━━━━━━━━━━━━━━\u001b[0m\u001b[37m\u001b[0m \u001b[1m0s\u001b[0m 7ms/step - loss: 0.2811 - val_loss: 0.2844\n",
      "Epoch 80/100\n",
      "\u001b[1m6/6\u001b[0m \u001b[32m━━━━━━━━━━━━━━━━━━━━\u001b[0m\u001b[37m\u001b[0m \u001b[1m0s\u001b[0m 7ms/step - loss: 0.2803 - val_loss: 0.2837\n",
      "Epoch 81/100\n",
      "\u001b[1m6/6\u001b[0m \u001b[32m━━━━━━━━━━━━━━━━━━━━\u001b[0m\u001b[37m\u001b[0m \u001b[1m0s\u001b[0m 6ms/step - loss: 0.2797 - val_loss: 0.2830\n",
      "Epoch 82/100\n",
      "\u001b[1m6/6\u001b[0m \u001b[32m━━━━━━━━━━━━━━━━━━━━\u001b[0m\u001b[37m\u001b[0m \u001b[1m0s\u001b[0m 7ms/step - loss: 0.2795 - val_loss: 0.2824\n",
      "Epoch 83/100\n",
      "\u001b[1m6/6\u001b[0m \u001b[32m━━━━━━━━━━━━━━━━━━━━\u001b[0m\u001b[37m\u001b[0m \u001b[1m0s\u001b[0m 7ms/step - loss: 0.2790 - val_loss: 0.2818\n",
      "Epoch 84/100\n",
      "\u001b[1m6/6\u001b[0m \u001b[32m━━━━━━━━━━━━━━━━━━━━\u001b[0m\u001b[37m\u001b[0m \u001b[1m0s\u001b[0m 8ms/step - loss: 0.2782 - val_loss: 0.2812\n",
      "Epoch 85/100\n",
      "\u001b[1m6/6\u001b[0m \u001b[32m━━━━━━━━━━━━━━━━━━━━\u001b[0m\u001b[37m\u001b[0m \u001b[1m0s\u001b[0m 6ms/step - loss: 0.2771 - val_loss: 0.2805\n",
      "Epoch 86/100\n",
      "\u001b[1m6/6\u001b[0m \u001b[32m━━━━━━━━━━━━━━━━━━━━\u001b[0m\u001b[37m\u001b[0m \u001b[1m0s\u001b[0m 8ms/step - loss: 0.2766 - val_loss: 0.2800\n",
      "Epoch 87/100\n",
      "\u001b[1m6/6\u001b[0m \u001b[32m━━━━━━━━━━━━━━━━━━━━\u001b[0m\u001b[37m\u001b[0m \u001b[1m0s\u001b[0m 7ms/step - loss: 0.2768 - val_loss: 0.2794\n",
      "Epoch 88/100\n",
      "\u001b[1m6/6\u001b[0m \u001b[32m━━━━━━━━━━━━━━━━━━━━\u001b[0m\u001b[37m\u001b[0m \u001b[1m0s\u001b[0m 7ms/step - loss: 0.2769 - val_loss: 0.2788\n",
      "Epoch 89/100\n",
      "\u001b[1m6/6\u001b[0m \u001b[32m━━━━━━━━━━━━━━━━━━━━\u001b[0m\u001b[37m\u001b[0m \u001b[1m0s\u001b[0m 8ms/step - loss: 0.2752 - val_loss: 0.2782\n",
      "Epoch 90/100\n",
      "\u001b[1m6/6\u001b[0m \u001b[32m━━━━━━━━━━━━━━━━━━━━\u001b[0m\u001b[37m\u001b[0m \u001b[1m0s\u001b[0m 9ms/step - loss: 0.2746 - val_loss: 0.2777\n",
      "Epoch 91/100\n",
      "\u001b[1m6/6\u001b[0m \u001b[32m━━━━━━━━━━━━━━━━━━━━\u001b[0m\u001b[37m\u001b[0m \u001b[1m0s\u001b[0m 7ms/step - loss: 0.2746 - val_loss: 0.2772\n",
      "Epoch 92/100\n",
      "\u001b[1m6/6\u001b[0m \u001b[32m━━━━━━━━━━━━━━━━━━━━\u001b[0m\u001b[37m\u001b[0m \u001b[1m0s\u001b[0m 7ms/step - loss: 0.2739 - val_loss: 0.2767\n",
      "Epoch 93/100\n",
      "\u001b[1m6/6\u001b[0m \u001b[32m━━━━━━━━━━━━━━━━━━━━\u001b[0m\u001b[37m\u001b[0m \u001b[1m0s\u001b[0m 9ms/step - loss: 0.2722 - val_loss: 0.2762\n",
      "Epoch 94/100\n",
      "\u001b[1m6/6\u001b[0m \u001b[32m━━━━━━━━━━━━━━━━━━━━\u001b[0m\u001b[37m\u001b[0m \u001b[1m0s\u001b[0m 10ms/step - loss: 0.2728 - val_loss: 0.2757\n",
      "Epoch 95/100\n",
      "\u001b[1m6/6\u001b[0m \u001b[32m━━━━━━━━━━━━━━━━━━━━\u001b[0m\u001b[37m\u001b[0m \u001b[1m0s\u001b[0m 8ms/step - loss: 0.2729 - val_loss: 0.2752\n",
      "Epoch 96/100\n",
      "\u001b[1m6/6\u001b[0m \u001b[32m━━━━━━━━━━━━━━━━━━━━\u001b[0m\u001b[37m\u001b[0m \u001b[1m0s\u001b[0m 7ms/step - loss: 0.2714 - val_loss: 0.2747\n",
      "Epoch 97/100\n",
      "\u001b[1m6/6\u001b[0m \u001b[32m━━━━━━━━━━━━━━━━━━━━\u001b[0m\u001b[37m\u001b[0m \u001b[1m0s\u001b[0m 9ms/step - loss: 0.2708 - val_loss: 0.2743\n",
      "Epoch 98/100\n",
      "\u001b[1m6/6\u001b[0m \u001b[32m━━━━━━━━━━━━━━━━━━━━\u001b[0m\u001b[37m\u001b[0m \u001b[1m0s\u001b[0m 8ms/step - loss: 0.2703 - val_loss: 0.2738\n",
      "Epoch 99/100\n",
      "\u001b[1m6/6\u001b[0m \u001b[32m━━━━━━━━━━━━━━━━━━━━\u001b[0m\u001b[37m\u001b[0m \u001b[1m0s\u001b[0m 8ms/step - loss: 0.2705 - val_loss: 0.2734\n",
      "Epoch 100/100\n",
      "\u001b[1m6/6\u001b[0m \u001b[32m━━━━━━━━━━━━━━━━━━━━\u001b[0m\u001b[37m\u001b[0m \u001b[1m0s\u001b[0m 8ms/step - loss: 0.2693 - val_loss: 0.2729\n"
     ]
    },
    {
     "data": {
      "text/plain": [
       "<keras.src.callbacks.history.History at 0x2245c7e5590>"
      ]
     },
     "execution_count": 15,
     "metadata": {},
     "output_type": "execute_result"
    }
   ],
   "source": [
    "autoencoder.fit(X_entrena,\n",
    "               X_entrena,\n",
    "               epochs=100,\n",
    "               batch_size=256,\n",
    "               shuffle=True,\n",
    "               validation_data=(X_prueba, X_prueba))"
   ]
  },
  {
   "attachments": {},
   "cell_type": "markdown",
   "id": "aa2a7494",
   "metadata": {},
   "source": [
    "Permíteme explicarte los parámetros que he usado en la función anterior:\n",
    "+ `X_entrena`: Hemos usado el mismo conjunto de datos tanto para las **entradas** como para las **salidas esperadas** porque el objetivo es aprender a reconstruir las entradas originales a partir de las representaciones comprimidas.\n",
    "+ `epochs=100`: Es el número de veces que repasará todo el conjunto de datos de entrenamiento.\n",
    "+ `batch_size=256`: Durante el entrenamiento, los datos se dividen en pequeños paquetes o \"lotes\" que se procesan de forma independiente. `batch_size=256` indica que el modelo debería tomar **256** ejemplos de `X_entrena` a la vez, procesarlos, actualizar sus pesos y luego pasar al siguiente lote de 256 ejemplos. El uso de lotes ayuda a hacer el entrenamiento más eficiente. La elección de `256` como tamaño del lote es una decisión basada en la experiencia práctica, y funciona como un punto de partida razonable. Puedes modificarlo por supuesto.\n",
    "+ `shuffle=True`: Los datos se deben mezclar antes de cada `epoch`. Esto ayuda a prevenir que el modelo aprenda el orden de los datos en lugar de las características subyacentes, mejorando aún más la generalización.\n",
    "+ `validation_data`: Además de entrenar el modelo, también queremos monitorear su desempeño en un conjunto de datos que no ha visto durante el entrenamiento.\n",
    "\n",
    "Entonces este bloque de código inicia el proceso de **entrenamiento del autoencoder**, y lo alimenta con datos de entrenamiento, diciéndole cuántas veces repasar esos datos, cómo agruparlos y en qué orden, y cómo comprobar que está aprendiendo correctamente usando un conjunto de prueba.\n",
    "\n",
    "Al ejecutarlo podemos ver cómo va repitiendo el proceso en cada uno de los **100 epochs** que le hemos pedido que realice.\n",
    "\n",
    "Y ahora sí, tenemos un modelo que ha encontrado la forma de codificar nuestras imágenes para que nos entren en el bolsillo, y también es capaz de decodificarlas para volver a representarlas.\n",
    "\n",
    "Entonces vamos con el último paso, que es **visualizar nuestros resultados**.\n",
    "\n",
    "Vamos a crear un bloque de código que tome **10 imágenes** del dataset, que las muestre cómo son inicialmente, y que las vuelva a representar luego de codificarlas y decodificarlas."
   ]
  },
  {
   "cell_type": "code",
   "execution_count": 16,
   "id": "d989e5e5",
   "metadata": {},
   "outputs": [
    {
     "name": "stdout",
     "output_type": "stream",
     "text": [
      "\u001b[1m12/12\u001b[0m \u001b[32m━━━━━━━━━━━━━━━━━━━━\u001b[0m\u001b[37m\u001b[0m \u001b[1m0s\u001b[0m 4ms/step \n",
      "\u001b[1m12/12\u001b[0m \u001b[32m━━━━━━━━━━━━━━━━━━━━\u001b[0m\u001b[37m\u001b[0m \u001b[1m0s\u001b[0m 818us/step\n",
      "\u001b[1m12/12\u001b[0m \u001b[32m━━━━━━━━━━━━━━━━━━━━\u001b[0m\u001b[37m\u001b[0m \u001b[1m0s\u001b[0m 859us/step\n",
      "\u001b[1m12/12\u001b[0m \u001b[32m━━━━━━━━━━━━━━━━━━━━\u001b[0m\u001b[37m\u001b[0m \u001b[1m0s\u001b[0m 909us/step\n",
      "\u001b[1m12/12\u001b[0m \u001b[32m━━━━━━━━━━━━━━━━━━━━\u001b[0m\u001b[37m\u001b[0m \u001b[1m0s\u001b[0m 1ms/step \n",
      "\u001b[1m12/12\u001b[0m \u001b[32m━━━━━━━━━━━━━━━━━━━━\u001b[0m\u001b[37m\u001b[0m \u001b[1m0s\u001b[0m 820us/step\n",
      "\u001b[1m12/12\u001b[0m \u001b[32m━━━━━━━━━━━━━━━━━━━━\u001b[0m\u001b[37m\u001b[0m \u001b[1m0s\u001b[0m 1ms/step \n",
      "\u001b[1m12/12\u001b[0m \u001b[32m━━━━━━━━━━━━━━━━━━━━\u001b[0m\u001b[37m\u001b[0m \u001b[1m0s\u001b[0m 1ms/step \n",
      "\u001b[1m12/12\u001b[0m \u001b[32m━━━━━━━━━━━━━━━━━━━━\u001b[0m\u001b[37m\u001b[0m \u001b[1m0s\u001b[0m 1ms/step \n",
      "\u001b[1m12/12\u001b[0m \u001b[32m━━━━━━━━━━━━━━━━━━━━\u001b[0m\u001b[37m\u001b[0m \u001b[1m0s\u001b[0m 1ms/step \n"
     ]
    },
    {
     "data": {
      "image/png": "[encoded data removed]",
      "text/plain": [
       "<Figure size 640x480 with 20 Axes>"
      ]
     },
     "metadata": {},
     "output_type": "display_data"
    }
   ],
   "source": [
    "for i in range(10):\n",
    "    plt.subplot(2,\n",
    "               10,\n",
    "               i + 1)\n",
    "    plt.imshow(X_prueba[i].reshape(8, 8))\n",
    "    \n",
    "    plt.subplot(2,\n",
    "               10,\n",
    "               i + 1 + 10)\n",
    "    plt.imshow(autoencoder.predict(X_prueba)[i].reshape(8, 8));"
   ]
  },
  {
   "attachments": {},
   "cell_type": "markdown",
   "id": "40b6df12",
   "metadata": {},
   "source": [
    "Con esto podemos ver la comparación de las imágenes antes y después de ser decodificadas, donde vemos que el resultado es prácticamente igual, con algunas pequeñas diferencias producto de todo el proceso, pero que aún así nos devuelve una imagen bastante fiel.\n",
    "\n",
    "Esta ha sido una lección extensa, pero que creo que ha valido mucho la pena, así como la lección que sigue, que espero que no te la pierdas."
   ]
  },
  {
   "cell_type": "code",
   "execution_count": null,
   "id": "3fca220b",
   "metadata": {},
   "outputs": [],
   "source": []
  }
 ],
 "metadata": {
  "kernelspec": {
   "display_name": "Python 3 (ipykernel)",
   "language": "python",
   "name": "python3"
  },
  "language_info": {
   "codemirror_mode": {
    "name": "ipython",
    "version": 3
   },
   "file_extension": ".py",
   "mimetype": "text/x-python",
   "name": "python",
   "nbconvert_exporter": "python",
   "pygments_lexer": "ipython3",
   "version": "3.11.5"
  }
 },
 "nbformat": 4,
 "nbformat_minor": 5
}
