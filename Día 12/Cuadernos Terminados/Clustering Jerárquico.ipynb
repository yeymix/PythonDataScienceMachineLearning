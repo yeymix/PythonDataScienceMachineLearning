{
 "cells": [
  {
   "attachments": {},
   "cell_type": "markdown",
   "id": "45262c0d",
   "metadata": {},
   "source": [
    "# Clustering Jerárquico\n",
    "\n",
    "Seguimos avanzando con los algoritmos de **Aprendizaje No Supervisado**, y el último que veremos se llama **Clustering Jerárquico**, y es un método de análisis de clusters (o agrupamientos) que busca construir una jerarquía entre esos clusters.\n",
    "\n",
    "A diferencia de otros métodos de clustering como **k-means**, en el que hacíamos agrupamientos con los *centroides*, pero donde debíamos especificar el número de clusters de antemano, el **clustering jerárquico** no requiere que hagamos esa especificación, y proporciona una herramienta visual llamada **dendrograma** para ayudar a determinar el número óptimo de clusters en nuestros datos.\n",
    "\n",
    "Hay **dos enfoques** principales en el clustering jerárquico:\n",
    "+ **Aglomerativo (Bottom-up)**: Comienza tratando cada punto de datos como un cluster individual y luego va iterando entre los clusters y fusionando los más cercanos, hasta que todos los puntos se han fusionado en un único cluster que contiene todos los datos.\n",
    "+ **Divisivo (Top-down)**: Comienza con un único cluster que contiene todos los puntos de datos y luego recorre el cluster de manera iterativa, dividiéndolo en clusters más pequeños, hasta que cada punto se encuentra en su propio cluster.\n",
    "\t\n",
    "La elección entre estos enfoques depende de los datos específicos y de las preferencias del usuario.\n",
    "\n",
    "Ahora mismo vamos a poner en práctica la implementación de Clustering Jerárquico en Python usando el primero de esos modos que es el **aglomerativo**. Creo que lo que más te va a gustar de este algoritmo es la facilidad con que lo vamos a implementar.\n",
    "\n",
    "Vamos a importar nuestras bibliotecas, incluido el dataset de `iris` para poder usarlo como ejemplo."
   ]
  },
  {
   "cell_type": "code",
   "execution_count": 1,
   "id": "b94a78e0",
   "metadata": {},
   "outputs": [],
   "source": [
    "from sklearn.datasets import load_iris\n",
    "import matplotlib.pyplot as plt\n",
    "from scipy.cluster.hierarchy import dendrogram, linkage"
   ]
  },
  {
   "cell_type": "code",
   "execution_count": 2,
   "id": "d6795e2f",
   "metadata": {},
   "outputs": [],
   "source": [
    "iris = load_iris()"
   ]
  },
  {
   "attachments": {},
   "cell_type": "markdown",
   "id": "d72fd31c",
   "metadata": {},
   "source": [
    "Y generamos la variable `X`."
   ]
  },
  {
   "cell_type": "code",
   "execution_count": 3,
   "id": "844fa895",
   "metadata": {},
   "outputs": [],
   "source": [
    "X = iris.data"
   ]
  },
  {
   "attachments": {},
   "cell_type": "markdown",
   "id": "261833e7",
   "metadata": {},
   "source": [
    "Vamos a guardar el **clustering** en una variable:"
   ]
  },
  {
   "cell_type": "code",
   "execution_count": 4,
   "id": "58ed6a1e",
   "metadata": {},
   "outputs": [],
   "source": [
    "linked = linkage(X, 'ward')"
   ]
  },
  {
   "attachments": {},
   "cell_type": "markdown",
   "id": "cc5846a8",
   "metadata": {},
   "source": [
    "El método de `ward` es una opción muy popular para el clustering jerárquico aglomerativo, porque se enfoca en minimizar la varianza dentro de cada cluster en cada paso de la fusión. De esta manera, se intenta asegurar de que los clusters sean lo más compactos y homogéneos posible. \n",
    "\n",
    "Además del método de `ward`, hay otras opciones disponibles para este parámetro en la función `linkage()`, que se pueden utilizar dependiendo de las características de tus datos y de lo que estés tratando de lograr con tu análisis de clustering.\n",
    "\n",
    "A continuación te comparto una lista con las otras opciones por si quieres conocerlas y probarlas por tu cuenta:\n",
    "+ `'single'`: También conocido como el método del vecino más cercano. Este enfoque fusiona los dos clusters que tienen la distancia mínima más pequeña entre sus puntos más cercanos. Es sensible a los valores atípicos y puede producir clusters \"largos y finos\".\n",
    "+ `'complete'`: También conocido como el método del vecino más lejano. Fusiona los clusters con la menor distancia máxima entre sus puntos. Tiende a producir clusters más compactos que el método `'single'`, pero aún puede ser sensible a los valores atípicos.\n",
    "+ `'average'`: Este método fusiona los clusters basándose en la distancia media entre todos los pares de puntos en los dos clusters. Ofrece un equilibrio entre los métodos `'single'` y `'complete'`, y a menudo produce resultados razonables sin ser demasiado sensible a los valores atípicos.\n",
    "+ `'centroid'`: Fusiona los dos clusters que tienen la menor distancia entre sus centroides. Esto puede ser menos sensible a los valores atípicos que `'single'` o `'complete'`, pero puede sufrir del problema de inversión, donde los clusters más pequeños pueden fusionarse más tarde en el proceso de lo que uno esperaría.\n",
    "\n",
    "Y ahora sí, aunque no lo creas y así de fácil, ya estamos en condiciones de mostrar lo que ha hecho nuestro modelo."
   ]
  },
  {
   "cell_type": "code",
   "execution_count": 5,
   "id": "07b84c13",
   "metadata": {},
   "outputs": [
    {
     "data": {
      "image/png": "[encoded data removed]",
      "text/plain": [
       "<Figure size 1000x700 with 1 Axes>"
      ]
     },
     "metadata": {},
     "output_type": "display_data"
    }
   ],
   "source": [
    "plt.figure(figsize=(10, 7))\n",
    "dendrogram(linked,\n",
    "         orientation='top',\n",
    "         labels=iris.target,\n",
    "         distance_sort='descending',\n",
    "         show_leaf_counts=True)\n",
    "plt.title(\"Dendograma de Clustering Jerárquico\");"
   ]
  },
  {
   "attachments": {},
   "cell_type": "markdown",
   "id": "ea0612b1",
   "metadata": {},
   "source": [
    "Ahora que estás viendo el gráfico, te voy a explicar específicamente qué hace cada parámetro:\n",
    "+ `linked`: Este es el primer y principal argumento, que le proporciona los datos de enlace generados por la función `linkage()`. Es el que contiene información sobre las distancias (o las similitudes) que hay entre los clusters en cada etapa del proceso de clustering jerárquico y cómo los clusters se combinan en cada paso.\n",
    "+ `orientation='top'`: Este parámetro especifica la orientación del dendrograma. De esta manera se dibuja con las raíces en la parte superior y las hojas se extienden hacia abajo. Esto significa que el árbol crece hacia abajo desde la parte superior de la figura.\n",
    "+ `labels=iris.target`: Aquí, `labels` asigna etiquetas a las hojas del dendrograma. \n",
    "+ `distance_sort='descending'`: Este parámetro controla cómo se ordenan las ramas en el dendrograma. Con `'descending'`, las ramas que se fusionaron más tarde, se colocan más cerca de la parte superior del dendrograma. Esto puede ayudar a identificar los principales grupos o divisiones dentro de los datos.\n",
    "+ `show_leaf_counts=True`: Cuando se establece en `True`, este parámetro añade números entre paréntesis al final de las etiquetas de las hojas para indicar el número de puntos de datos originales contenidos en ese cluster. Esto es particularmente útil para entender el tamaño de los clusters sin necesidad de contar manualmente las hojas del dendrograma.\n",
    "\n",
    "En definitiva, con este bloque de este código, `linkage()` ha realizado el **clustering jerárquico aglomerativo** en los datos de `X`, usando el método `ward`, que minimiza la varianza de los clusters que se van fusionando. Luego, con `dendrogram` hemos creado un dendrograma que nos ha proporcionado una representación visual de cómo se combinan los clusters a diferentes niveles de similitud.\n",
    "\n",
    "Este dendrograma nos ayuda a visualizar las decisiones tomadas por el algoritmo en cada paso del proceso de fusión y puede usarse para determinar un número adecuado de clusters cortando el dendrograma en una altura específica.\n",
    "\n",
    "Entonces el **clustering jerárquico** es una técnica poderosa y muy versátil para el análisis de clusters que no solo agrupa los datos sino que también proporciona información sobre su estructura jerárquica. Es especialmente útil cuando la relación entre los puntos de datos es importante o cuando se desea explorar diferentes niveles de granularidad en el agrupamiento de los datos. \n",
    "\n",
    "Y a lo largo del día de hoy has conocido los **5 algoritmos** de **Aprendizaje No Supervisado** más importantes, por lo que creo que ha llegado el momento de poner todo esto en acción a través de un interesante proyecto que no te querrás perder, y que comienza en la próxima lección."
   ]
  },
  {
   "cell_type": "code",
   "execution_count": null,
   "id": "8bbf562d",
   "metadata": {},
   "outputs": [],
   "source": []
  }
 ],
 "metadata": {
  "kernelspec": {
   "display_name": "Python 3 (ipykernel)",
   "language": "python",
   "name": "python3"
  },
  "language_info": {
   "codemirror_mode": {
    "name": "ipython",
    "version": 3
   },
   "file_extension": ".py",
   "mimetype": "text/x-python",
   "name": "python",
   "nbconvert_exporter": "python",
   "pygments_lexer": "ipython3",
   "version": "3.11.5"
  }
 },
 "nbformat": 4,
 "nbformat_minor": 5
}
