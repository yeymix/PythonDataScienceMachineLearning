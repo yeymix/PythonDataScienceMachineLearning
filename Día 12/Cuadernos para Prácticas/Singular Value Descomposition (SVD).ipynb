{
 "cells": [
  {
   "cell_type": "markdown",
   "id": "9b1442f9",
   "metadata": {},
   "source": [
    "# Singular Value Descomposition (SVD)\n",
    "\n",
    "### Fórmula base\n",
    "![](FormulaSVD.png)\n",
    "\n",
    "\n",
    "### Ejemplo\n",
    "![](a.png)![](u.png)![](sigma.png)![](vt.png)"
   ]
  },
  {
   "cell_type": "code",
   "execution_count": null,
   "id": "913b468b",
   "metadata": {},
   "outputs": [],
   "source": []
  }
 ],
 "metadata": {
  "kernelspec": {
   "display_name": "Python 3 (ipykernel)",
   "language": "python",
   "name": "python3"
  },
  "language_info": {
   "codemirror_mode": {
    "name": "ipython",
    "version": 3
   },
   "file_extension": ".py",
   "mimetype": "text/x-python",
   "name": "python",
   "nbconvert_exporter": "python",
   "pygments_lexer": "ipython3",
   "version": "3.11.5"
  }
 },
 "nbformat": 4,
 "nbformat_minor": 5
}
