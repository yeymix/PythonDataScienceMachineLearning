{
 "cells": [
  {
   "cell_type": "markdown",
   "metadata": {},
   "source": [
    "Listas\n",
    "\n",
    "Colección de objetos.\n",
    "Evitar usar listas mixtas\n",
    "Listas =  mutables\n",
    "Strings = inmutables\n"
   ]
  },
  {
   "cell_type": "code",
   "execution_count": 5,
   "metadata": {},
   "outputs": [
    {
     "data": {
      "text/plain": [
       "list"
      ]
     },
     "execution_count": 5,
     "metadata": {},
     "output_type": "execute_result"
    }
   ],
   "source": [
    "frutas=[]\n",
    "type(frutas)\n",
    "frutas=[\"naranja\",\"limon\",\"banano\"]\n",
    "misListas=[[1,2,3],[\"a\",\"b\",\"c\"],[\"amarillo\",\"azul\",\"rojo\"]]\n",
    "type(misListas)\n"
   ]
  },
  {
   "cell_type": "code",
   "execution_count": 7,
   "metadata": {},
   "outputs": [
    {
     "name": "stdout",
     "output_type": "stream",
     "text": [
      "['naranja', 'mango', 'mango', 'limon', 'banano']\n"
     ]
    },
    {
     "data": {
      "text/plain": [
       "['naranja', 'mango', 'mango', 'banano']"
      ]
     },
     "execution_count": 7,
     "metadata": {},
     "output_type": "execute_result"
    }
   ],
   "source": [
    "# Adicionar nuevo elemento:\n",
    "frutas.append(\"mango\")\n",
    "\n",
    "#Ordenarlos\n",
    "frutas.sort(reverse=True)\n",
    "print(frutas)\n",
    "\n",
    "#Los metodos modifican los objetos de lista\n",
    "\n",
    "# Eliminar objeto\n",
    "frutas.remove(\"limon\")\n",
    "frutas\n"
   ]
  },
  {
   "cell_type": "code",
   "execution_count": 9,
   "metadata": {},
   "outputs": [
    {
     "data": {
      "text/plain": [
       "['mango', 'mango', 'banano']"
      ]
     },
     "execution_count": 9,
     "metadata": {},
     "output_type": "execute_result"
    }
   ],
   "source": [
    "frutas.remove(frutas[0])\n",
    "frutas"
   ]
  },
  {
   "cell_type": "code",
   "execution_count": 11,
   "metadata": {},
   "outputs": [
    {
     "data": {
      "text/plain": [
       "['mango', 'mango', 'banano']"
      ]
     },
     "execution_count": 11,
     "metadata": {},
     "output_type": "execute_result"
    }
   ],
   "source": [
    "frutas.reverse()\n",
    "frutas"
   ]
  },
  {
   "cell_type": "code",
   "execution_count": 14,
   "metadata": {},
   "outputs": [
    {
     "data": {
      "text/plain": [
       "['a', 'b', 'c', 'd', 'e', 'f']"
      ]
     },
     "execution_count": 14,
     "metadata": {},
     "output_type": "execute_result"
    }
   ],
   "source": [
    "lista1=[\"a\",\"b\",\"c\"]\n",
    "lista2=[\"d\",\"e\",\"f\"]\n",
    "concatenada=lista1+lista2\n",
    "concatenada"
   ]
  },
  {
   "cell_type": "code",
   "execution_count": 16,
   "metadata": {},
   "outputs": [
    {
     "data": {
      "text/plain": [
       "[1, 2, 3, 4, 5, 1, 2, 3, 4, 5]"
      ]
     },
     "execution_count": 16,
     "metadata": {},
     "output_type": "execute_result"
    }
   ],
   "source": [
    "listaa=[1,2,3,4,5]\n",
    "listab=[6,7,8,9,10]\n",
    "#Multiplicar listas hace que se repitan\n",
    "repetida=listaa*2\n",
    "repetida"
   ]
  },
  {
   "cell_type": "markdown",
   "metadata": {},
   "source": [
    "Ejercicio Listas en Python 1\n",
    "\n",
    "Crea una lista que contenga al menos cinco nombres de ciudades. Luego, escribe un programa que imprima (por separado) el nombre de la primera y la última ciudad almacenadas en tu lista.\n",
    "\n",
    "Puedes usar esta lista como ejemplo, y agregar o quitar ciudades para ir probando con listas de diferentes longitudes:\n",
    "\n",
    "ciudades = [\"New York\", \"Paris\", \"Tokyo\", \"London\", \"Sydney\"]"
   ]
  },
  {
   "cell_type": "code",
   "execution_count": 28,
   "metadata": {},
   "outputs": [
    {
     "name": "stdout",
     "output_type": "stream",
     "text": [
      "Primera ciudad: New York - Última ciudad: Sydney\n"
     ]
    }
   ],
   "source": [
    "ciudades = [\"New York\", \"Paris\", \"Tokyo\", \"London\", \"Sydney\"]\n",
    "# conocer longitud de una lista \n",
    "# imprimir último elemento almacenado en la lista\n",
    "\n",
    "\n",
    "\n",
    "print(\"Primera ciudad:\",ciudades[0],\"- Última ciudad:\",ciudades[-1])"
   ]
  },
  {
   "cell_type": "markdown",
   "metadata": {},
   "source": [
    "Ejercicio listas en Python 2\n",
    "\n",
    "Escribe un programa que inicie con la siguiente  lista de números:\n",
    "\n",
    "numeros = [1, 2, 3, 4, 5]\n",
    "\n",
    "y realice las siguientes operaciones (algunas de ellas pueden requerir que investigues métodos de listas que no hemos explicado en la lección):"
   ]
  },
  {
   "cell_type": "markdown",
   "metadata": {},
   "source": [
    "    Inicialización de la lista: Se crea una lista llamada numeros con cinco elementos: 1, 2, 3, 4, y 5. Luego, esta lista se imprime en la consola, mostrando su estado inicial."
   ]
  },
  {
   "cell_type": "code",
   "execution_count": 36,
   "metadata": {},
   "outputs": [
    {
     "data": {
      "text/plain": [
       "[1, 2, 3, 4, 5]"
      ]
     },
     "execution_count": 36,
     "metadata": {},
     "output_type": "execute_result"
    }
   ],
   "source": [
    "numeros = [1, 2, 3, 4, 5]\n",
    "numeros"
   ]
  },
  {
   "cell_type": "markdown",
   "metadata": {},
   "source": [
    "    Añadir un elemento al final: Se utiliza el método adecuado para añadir el número 6 al final de la lista numeros. La lista modificada se imprime, reflejando la adición del nuevo elemento."
   ]
  },
  {
   "cell_type": "code",
   "execution_count": 37,
   "metadata": {},
   "outputs": [
    {
     "data": {
      "text/plain": [
       "[1, 2, 3, 4, 5, 6]"
      ]
     },
     "execution_count": 37,
     "metadata": {},
     "output_type": "execute_result"
    }
   ],
   "source": [
    "numeros.append(6)\n",
    "numeros"
   ]
  },
  {
   "cell_type": "markdown",
   "metadata": {},
   "source": [
    "    Eliminar el primer elemento: Se aplica el método adecuado para eliminar el primer elemento de la lista. Después de esta operación, la lista se imprime de nuevo, mostrando su estado con el primer elemento eliminado."
   ]
  },
  {
   "cell_type": "code",
   "execution_count": 38,
   "metadata": {},
   "outputs": [
    {
     "data": {
      "text/plain": [
       "[2, 3, 4, 5, 6]"
      ]
     },
     "execution_count": 38,
     "metadata": {},
     "output_type": "execute_result"
    }
   ],
   "source": [
    "numeros.remove(numeros[0])\n",
    "numeros"
   ]
  },
  {
   "cell_type": "code",
   "execution_count": 34,
   "metadata": {},
   "outputs": [
    {
     "data": {
      "text/plain": [
       "[2, 3, 4, 5, 6]"
      ]
     },
     "execution_count": 34,
     "metadata": {},
     "output_type": "execute_result"
    }
   ],
   "source": [
    "numeros"
   ]
  },
  {
   "cell_type": "markdown",
   "metadata": {},
   "source": [
    "    Insertar un elemento en una posición específica: Se usa el método adecuado para insertar el número 7 en la posición con índice 1 de la lista. A continuación, se imprime la lista, lo cual permite visualizar el cambio producido por la inserción."
   ]
  },
  {
   "cell_type": "code",
   "execution_count": 39,
   "metadata": {},
   "outputs": [
    {
     "data": {
      "text/plain": [
       "[7, 2, 3, 4, 5, 6]"
      ]
     },
     "execution_count": 39,
     "metadata": {},
     "output_type": "execute_result"
    }
   ],
   "source": [
    "# Inssertar numero 1 en la posición 0 de la lista numeros\n",
    "numeros.insert(0, 7)\n",
    "numeros"
   ]
  },
  {
   "cell_type": "markdown",
   "metadata": {},
   "source": [
    "    Ordenar la lista: Finalmente, se llama al método adecuado para ordenar los elementos de la lista en orden ascendente. La lista ordenada se imprime, mostrando el resultado final de todas las operaciones realizadas."
   ]
  },
  {
   "cell_type": "code",
   "execution_count": 41,
   "metadata": {},
   "outputs": [
    {
     "data": {
      "text/plain": [
       "[2, 3, 4, 5, 6, 7]"
      ]
     },
     "execution_count": 41,
     "metadata": {},
     "output_type": "execute_result"
    }
   ],
   "source": [
    "# Ordenar lista con método en orden ascedente\n",
    "\n",
    "\n",
    "numeros.sort()\n",
    "numeros"
   ]
  },
  {
   "cell_type": "markdown",
   "metadata": {},
   "source": [
    "Cada paso demuestra cómo manipular y modificar una lista en Python, incluyendo la adición y eliminación de elementos, así como el ordenamiento de sus contenidos. Este ejercicio es útil para entender cómo funcionan las listas en Python y cómo se pueden utilizar para almacenar y manipular colecciones de datos."
   ]
  }
 ],
 "metadata": {
  "kernelspec": {
   "display_name": "Python_DS_ML",
   "language": "python",
   "name": "python3"
  },
  "language_info": {
   "codemirror_mode": {
    "name": "ipython",
    "version": 3
   },
   "file_extension": ".py",
   "mimetype": "text/x-python",
   "name": "python",
   "nbconvert_exporter": "python",
   "pygments_lexer": "ipython3",
   "version": "3.12.4"
  }
 },
 "nbformat": 4,
 "nbformat_minor": 2
}
