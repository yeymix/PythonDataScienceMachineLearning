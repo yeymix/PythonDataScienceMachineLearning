{
 "cells": [
  {
   "cell_type": "markdown",
   "metadata": {},
   "source": [
    "## Tuplas\n",
    "\n",
    "* Son inmutables, No se pueden modificar - No soportan la reasignación de ítems\n",
    "* Se puede acceder a ellas como las listas\n",
    "* Podemos indexarlas y segmentarlas\n",
    "* Desenpaquetamiento: se puede almacenar cada elemento en una variable\n",
    "* Son muy útiles cuando se desea almacenar información de forma segura que no queremos modificar\n",
    "* Una tupla puede almacenar tuplas\n",
    "\n"
   ]
  },
  {
   "cell_type": "code",
   "execution_count": 11,
   "metadata": {},
   "outputs": [
    {
     "name": "stdout",
     "output_type": "stream",
     "text": [
      "(('Yeymi', 'Maritza'), (1980, 12, 31))\n",
      "('Ford', 'fiesta', 'rojo', 2021, 5, 1.6)\n"
     ]
    }
   ],
   "source": [
    "tupla = (1,2,3)\n",
    "nombre = (\"Yeymi\",\"Maritza\")\n",
    "nacimiento= (1980,12,31)\n",
    "cliente=(nombre,nacimiento)\n",
    "auto=(\"Ford\",\"fiesta\",\"rojo\",2021,5,1.6)\n",
    "# Otra forma de desempaquetar, se debe tener la misma cantidad de variables que elementos en la tupla\n",
    "Marca, Tipo, Color, Modelo, Puertas, Motor=auto\n",
    "elementos=(Marca,Tipo,Color,Modelo,Puertas,Motor)\n",
    "print(cliente)\n",
    "print(elementos)"
   ]
  },
  {
   "cell_type": "markdown",
   "metadata": {},
   "source": [
    "* Ejercicio tuplas en Python 1\n",
    "\n",
    "Crea una tupla llamada mi_primera_tupla que contenga 3 o más elementos de tu preferencia. Luego, imprime el segundo elemento de esta tupla."
   ]
  },
  {
   "cell_type": "code",
   "execution_count": 4,
   "metadata": {},
   "outputs": [
    {
     "name": "stdout",
     "output_type": "stream",
     "text": [
      "azul\n"
     ]
    }
   ],
   "source": [
    "mi_primera_tupla=(\"amarillo\",\"azul\",\"rojo\")\n",
    "print(mi_primera_tupla[1])"
   ]
  },
  {
   "cell_type": "markdown",
   "metadata": {},
   "source": [
    "* Ejercicio tuplas en Python 2\n",
    "\n",
    "Dada la tupla datos_personales que contiene los siguientes elementos: (\"Maria\", \"Perez\", 35, \"Ingeniera\"), utiliza la segmentación de tuplas para imprimir únicamente el nombre y la profesión de María en un mensaje que diga: \"Maria es Ingeniera\".\n",
    "\n",
    "Para esto puedes crear variables que contengan el nombre y la profesion de Maria según el indice en el que se encuentra en la variable datos_personales   Recuerda emplear cadenas lietarles para imprimir el mensaje esperado: \"Maria es Ingeniera\""
   ]
  },
  {
   "cell_type": "code",
   "execution_count": 13,
   "metadata": {},
   "outputs": [
    {
     "name": "stdout",
     "output_type": "stream",
     "text": [
      "Maria tiene 35 años\n"
     ]
    }
   ],
   "source": [
    "datos_personales=(\"Maria\", \"Perez\", 35, \"Ingeniera\")\n",
    "nombre, apellido, edad, profesion=datos_personales\n",
    "var_datos_personales=(nombre, apellido, edad, profesion)\n",
    "print(nombre, \"tiene\", edad, \"años\")"
   ]
  },
  {
   "cell_type": "markdown",
   "metadata": {},
   "source": [
    "* Ejercicio tuplas en Python 3\n",
    "\n",
    "Dada una tupla llamada info_ciudades que contiene tres tuplas dentro. Cada tupla interna representa una ciudad y contiene el nombre de la ciudad, la población y el país.\n",
    "\n",
    "(\"Buenos Aires\", 3000000, \"Argentina\"), (\"Madrid\", 3200000, \"España\"), (\"Tokio\", 13929286, \"Japón\").\n",
    "\n",
    "Imprime un mensaje para cada ciudad siguiendo el formato siguiente:\n",
    "\n",
    "\"La ciudad de [nombre de la ciudad] en [país] tiene una población de [población] habitantes\"\n",
    "\n",
    "\n",
    "Utiliza los indices requeridos para acceder a los datos especificos de cada pais, crea las variables que consideres necesarias y con el empleo de cadenas literales imprime tres mensajes en el orden siguiente:\n",
    "\n",
    "\n",
    "\"La ciudad de Buenos Aires en Argentina tiene una población de 3000000 habitantes\"\n",
    "\n",
    "\"La ciudad de Madrid en España tiene una población de 3200000 habitantes\"\n",
    "\n",
    "\"La ciudad de Tokio en Japón tiene una población de 13929286 habitantes\""
   ]
  },
  {
   "cell_type": "code",
   "execution_count": 14,
   "metadata": {},
   "outputs": [],
   "source": [
    "info_ciudades=((\"Buenos Aires\", 3000000, \"Argentina\"), (\"Madrid\", 3200000, \"España\"), (\"Tokio\", 13929286, \"Japón\"))"
   ]
  },
  {
   "cell_type": "code",
   "execution_count": 24,
   "metadata": {},
   "outputs": [
    {
     "name": "stdout",
     "output_type": "stream",
     "text": [
      "Ciudad: Buenos Aires, Población: 3000000, País: Argentina\n",
      "Ciudad: Madrid, Población: 3200000, País: España\n",
      "Ciudad: Tokio, Población: 13929286, País: Japón\n"
     ]
    }
   ],
   "source": [
    "for ciudad, poblacion, pais in info_ciudades:\n",
    "    print(f\"Ciudad: {ciudad}, Población: {poblacion}, País: {pais}\")"
   ]
  },
  {
   "cell_type": "markdown",
   "metadata": {},
   "source": []
  }
 ],
 "metadata": {
  "kernelspec": {
   "display_name": "Python_DS_ML",
   "language": "python",
   "name": "python3"
  },
  "language_info": {
   "codemirror_mode": {
    "name": "ipython",
    "version": 3
   },
   "file_extension": ".py",
   "mimetype": "text/x-python",
   "name": "python",
   "nbconvert_exporter": "python",
   "pygments_lexer": "ipython3",
   "version": "3.12.4"
  }
 },
 "nbformat": 4,
 "nbformat_minor": 2
}
