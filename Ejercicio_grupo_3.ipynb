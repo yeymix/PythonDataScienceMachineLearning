{
 "cells": [
  {
   "cell_type": "markdown",
   "metadata": {},
   "source": [
    "## Ejercicio día 5 y 6"
   ]
  },
  {
   "cell_type": "code",
   "execution_count": 26,
   "metadata": {},
   "outputs": [
    {
     "name": "stdout",
     "output_type": "stream",
     "text": [
      "==================================\n",
      "Valores nulos por columna:\n",
      "Oro       28\n",
      "Plata     24\n",
      "Bronce    17\n",
      "Total      0\n",
      "Pais       0\n",
      "dtype: int64\n",
      "==================================\n",
      "Reemplazo de valores Nulos en las columnas de Medallas\n",
      "     Oro Plata Bronce  Total          Pais\n",
      "0      0   1.0    2.0      3     Argentina\n",
      "1      0   2.0    2.0      4       Armenia\n",
      "2   17.0   7.0   22.0     46     Australia\n",
      "3    1.0   1.0    5.0      7       Austria\n",
      "4      0   3.0    4.0      7    Azerbaijan\n",
      "..   ...   ...    ...    ...           ...\n",
      "88     0   1.0      0      1  Turkmenistan\n",
      "89   2.0   1.0    1.0      4        Uganda\n",
      "90   1.0   6.0   12.0     19       Ukraine\n",
      "91   3.0     0    2.0      5    Uzbekistan\n",
      "92   1.0   3.0      0      4     Venezuela\n",
      "\n",
      "[93 rows x 5 columns]\n",
      "==================================\n"
     ]
    }
   ],
   "source": [
    "import pandas as pd\n",
    "import numpy as np\n",
    "df = pd.read_csv(\"C:\\\\AmaruAyelen\\\\proyectos\\\\PythonDataScienceMachineLearning\\\\PythonDataScienceMachineLearning\\\\Files\\\\medallas.csv\")\n",
    "print(\"==================================\")\n",
    "# Cuántos valores nulos y en qué columnas están\n",
    "print(\"Valores nulos por columna:\")\n",
    "print(df.isnull().sum())\n",
    "print(\"==================================\")\n",
    "# Indica cantidad de null\n",
    "# Cambiar valores por cero excepto en campo Total\n",
    "valores_medallas = {\"Oro\":\"0\",\"Plata\":\"0\",\"Bronce\":\"0\"}\n",
    "df_sin_nulos = df.fillna(valores_medallas)\n",
    "print(\"Reemplazo de valores Nulos en las columnas de Medallas\")\n",
    "print(df_sin_nulos)\n",
    "print(\"==================================\")"
   ]
  },
  {
   "cell_type": "code",
   "execution_count": 21,
   "metadata": {},
   "outputs": [
    {
     "name": "stdout",
     "output_type": "stream",
     "text": [
      "Oro       0\n",
      "Plata     0\n",
      "Bronce    0\n",
      "Total     0\n",
      "Pais      0\n",
      "dtype: int64\n"
     ]
    }
   ],
   "source": [
    "print(df_sin_nulos.isnull().sum())"
   ]
  },
  {
   "cell_type": "code",
   "execution_count": 30,
   "metadata": {},
   "outputs": [
    {
     "name": "stdout",
     "output_type": "stream",
     "text": [
      "Si existe... reemplazo de valores en cero del campo Total\n",
      "     Oro Plata Bronce Total          Pais\n",
      "0      0   1.0    2.0     3     Argentina\n",
      "1      0   2.0    2.0     4       Armenia\n",
      "2   17.0   7.0   22.0    46     Australia\n",
      "3    1.0   1.0    5.0     7       Austria\n",
      "4      0   3.0    4.0     7    Azerbaijan\n",
      "..   ...   ...    ...   ...           ...\n",
      "88     0   1.0      0     1  Turkmenistan\n",
      "89   2.0   1.0    1.0     4        Uganda\n",
      "90   1.0   6.0   12.0    19       Ukraine\n",
      "91   3.0     0    2.0     5    Uzbekistan\n",
      "92   1.0   3.0      0     4     Venezuela\n",
      "\n",
      "[93 rows x 5 columns]\n"
     ]
    }
   ],
   "source": [
    "# Filtrar registros donde el campo Total es nulo\n",
    "df_limpia_ceros_total = df_sin_nulos.loc[df_sin_nulos['Total'] == 0, 'Total'] = df_sin_nulos[['Oro', 'Plata', 'Bronce']].sum\n",
    "print(\"Si existe... reemplazo de valores en cero del campo Total\")\n",
    "print(df_sin_nulos)"
   ]
  },
  {
   "cell_type": "code",
   "execution_count": 35,
   "metadata": {},
   "outputs": [
    {
     "name": "stdout",
     "output_type": "stream",
     "text": [
      "==================================\n",
      "País con más medallas de oro\n",
      "País con más medallas de cada tipo\n",
      "Oro                            39.0\n",
      "Plata                          41.0\n",
      "Bronce                         33.0\n",
      "Total                           113\n",
      "Pais      Estados Unidos de America\n",
      "Name: 25, dtype: object\n",
      "==================================\n",
      "País con más medallas de plata\n",
      "Oro                            39.0\n",
      "Plata                          41.0\n",
      "Bronce                         33.0\n",
      "Total                           113\n",
      "Pais      Estados Unidos de America\n",
      "Name: 25, dtype: object\n",
      "==================================\n",
      "País con más medallas de bronce\n",
      "Oro                            39.0\n",
      "Plata                          41.0\n",
      "Bronce                         33.0\n",
      "Total                           113\n",
      "Pais      Estados Unidos de America\n",
      "Name: 25, dtype: object\n",
      "==================================\n"
     ]
    }
   ],
   "source": [
    "print(\"==================================\")\n",
    "print(\"País con más medallas de oro\")\n",
    "# País con más medallas de oro\n",
    "print(\"País con más medallas de cada tipo\")\n",
    "df_pais_max_oro = df.loc[df['Oro'].idxmax()]\n",
    "print(df_pais_max_oro)\n",
    "print(\"==================================\")\n",
    "print(\"País con más medallas de plata\")\n",
    "df_pais_max_plata = df.loc[df['Plata'].idxmax()]\n",
    "print(df_pais_max_plata)\n",
    "print(\"==================================\")\n",
    "print(\"País con más medallas de bronce\")\n",
    "df_pais_max_bronce = df.loc[df['Bronce'].idxmax()]\n",
    "print(df_pais_max_bronce)\n",
    "print(\"==================================\")\n"
   ]
  },
  {
   "cell_type": "code",
   "execution_count": 37,
   "metadata": {},
   "outputs": [
    {
     "name": "stdout",
     "output_type": "stream",
     "text": [
      "==================================\n",
      "País con más medallas Totales\n",
      "Oro                            39.0\n",
      "Plata                          41.0\n",
      "Bronce                         33.0\n",
      "Total                           113\n",
      "Pais      Estados Unidos de America\n",
      "Name: 25, dtype: object\n"
     ]
    }
   ],
   "source": [
    "print(\"==================================\")\n",
    "print(\"País con más medallas Totales\")\n",
    "df_pais_max_bronce = df.loc[df['Total'].idxmax()]\n",
    "print(df_pais_max_bronce)"
   ]
  },
  {
   "cell_type": "markdown",
   "metadata": {},
   "source": [
    "## Punto 1 "
   ]
  },
  {
   "cell_type": "markdown",
   "metadata": {},
   "source": [
    "<!-- ## Punto 1 -->"
   ]
  },
  {
   "cell_type": "code",
   "execution_count": 24,
   "metadata": {},
   "outputs": [
    {
     "name": "stdout",
     "output_type": "stream",
     "text": [
      "Cadena Inicial:  *&**&**&**&*albein*&*al*&*laer*&*se*&*olóS*&*ednoD*&*ellac*&*atse*&*ne*&*rasaP*&*sosap*&*sim*&*ogiO*&*ednoD*&*ellac*&*arto*&*nE*&*naneuseR*&*ellac*&*atse*&*ne*&*sosap*&*siM*&**&**&*\n",
      "Reversar cadena *&**&**&*Mis*&*pasos*&*en*&*esta*&*calle*&*Resuenan*&*En*&*otra*&*calle*&*Donde*&*Oigo*&*mis*&*pasos*&*Pasar*&*en*&*esta*&*calle*&*Donde*&*Sólo*&*es*&*real*&*la*&*niebla*&**&**&**&*\n",
      "Reemplazo de caracteres:           Mis   pasos   en   esta   calle   Resuenan   En   otra   calle   Donde   Oigo   mis   pasos   Pasar   en   esta   calle   Donde   Sólo   es   real   la   niebla            \n",
      "Cadena sin espacios:   Mis pasos en esta calle Resuenan En otra calle Donde Oigo mis pasos Pasar en esta calle Donde Sólo es real la niebla \n",
      "Cadena sin espacios al inicio Mis pasos en esta calle Resuenan En otra calle Donde Oigo mis pasos Pasar en esta calle Donde Sólo es real la niebla \n",
      "Cadena sin espacios al final:  Mis pasos en esta calle Resuenan En otra calle Donde Oigo mis pasos Pasar en esta calle Donde Sólo es real la niebla\n",
      "Cantidad de 'a': 14\n",
      "Subcadena dentro de la cadena:  escesan\n"
     ]
    }
   ],
   "source": [
    "cadena = '*&**&**&**&*albein*&*al*&*laer*&*se*&*olóS*&*ednoD*&*ellac*&*atse*&*ne*&*rasaP*&*sosap*&*sim*&*ogiO*&*ednoD*&*ellac*&*arto*&*nE*&*naneuseR*&*ellac*&*atse*&*ne*&*sosap*&*siM*&**&**&*'\n",
    "print(\"Cadena Inicial: \", cadena)\n",
    "# Reversar cadena sin usar métodos\n",
    "cadena_reversa = ''\n",
    "for i in range(len(cadena)-1, -1, -1):\n",
    "    cadena_reversa += cadena[i]\n",
    "print(\"Reversar cadena\", cadena_reversa)\n",
    "\n",
    "# Reemplazar caracteres sin usar métodos\n",
    "cadena_reemplazada = ''\n",
    "for caracter in cadena_reversa:\n",
    "    if caracter == '*':\n",
    "        cadena_reemplazada += ' '\n",
    "    elif caracter == '&':\n",
    "        cadena_reemplazada += ' '\n",
    "    else:\n",
    "        cadena_reemplazada += caracter\n",
    "print(\"Reemplazo de caracteres: \", cadena_reemplazada)\n",
    "\n",
    "#Quitar más de dos espacios seguidos\n",
    "cadena_sin_espacios = ''\n",
    "caracter_anterior = ''\n",
    "for caracter in cadena_reemplazada:\n",
    "    if caracter == ' ' and caracter_anterior == ' ':\n",
    "       pass # \n",
    "    else:\n",
    "        cadena_sin_espacios += caracter\n",
    "    caracter_anterior = caracter\n",
    "print(\"Cadena sin espacios: \", cadena_sin_espacios)\n",
    "\n",
    "# Quitar los espacios del inicio\n",
    "start = 0\n",
    "while start < len(cadena_sin_espacios) and cadena_sin_espacios[start] == ' ':\n",
    "    start += 1\n",
    "cadena_espacio_inicial = cadena_sin_espacios[start:]\n",
    "print(\"Cadena sin espacios al inicio\", cadena_espacio_inicial)\n",
    "\n",
    "# Quitar los espacios del final\n",
    "end = len(cadena_espacio_inicial)\n",
    "while end > 0 and cadena_espacio_inicial[end - 1] == ' ':\n",
    "    end -= 1\n",
    "cadena_final = cadena_espacio_inicial[:end]\n",
    "print(\"Cadena sin espacios al final: \", cadena_final)\n",
    "\n",
    "# Contar cantidad de 'a'\n",
    "contador_a = 0\n",
    "for caracter in cadena_final:\n",
    "    if caracter == 'a':\n",
    "        contador_a += 1\n",
    "print(\"Cantidad de 'a':\", contador_a)\n",
    "\n",
    "# Encontrar substring en la cadena cadena_espacio_inicial buscando caracter por caracter\n",
    "substring = 'escesan'\n",
    "resultado = ''\n",
    "for sub in substring:\n",
    "    for i in range(len(cadena_final)):\n",
    "        if cadena_final[i] == sub:\n",
    "            resultado += sub\n",
    "            break\n",
    "print(\"Subcadena dentro de la cadena: \", resultado)\n",
    "\n",
    "\n"
   ]
  }
 ],
 "metadata": {
  "kernelspec": {
   "display_name": "Python_DS_ML",
   "language": "python",
   "name": "python3"
  },
  "language_info": {
   "codemirror_mode": {
    "name": "ipython",
    "version": 3
   },
   "file_extension": ".py",
   "mimetype": "text/x-python",
   "name": "python",
   "nbconvert_exporter": "python",
   "pygments_lexer": "ipython3",
   "version": "3.12.4"
  }
 },
 "nbformat": 4,
 "nbformat_minor": 2
}
