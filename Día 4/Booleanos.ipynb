{
 "cells": [
  {
   "cell_type": "markdown",
   "metadata": {},
   "source": [
    "## Booleanos\n",
    "and Y\n",
    "or O\n",
    "not NO"
   ]
  },
  {
   "cell_type": "markdown",
   "metadata": {},
   "source": [
    "* Ejercicio Booleanos en Python 1\n",
    "\n",
    "Crea dos variables llamadas   num1   y num2.  Asignale los números de tu elección. Asegurate que el primero sea mayor que el segundo.\n",
    "\n",
    "Compara   num1y  num2Luego, imprime el valor de la comparación. Asegurate que el resultado sea True. "
   ]
  },
  {
   "cell_type": "code",
   "execution_count": 7,
   "metadata": {},
   "outputs": [
    {
     "name": "stdout",
     "output_type": "stream",
     "text": [
      "True\n",
      "True\n"
     ]
    }
   ],
   "source": [
    "num1=50\n",
    "num2=13\n",
    "print(num1 > num2)\n",
    "print(num1 == num2+37)\n"
   ]
  },
  {
   "cell_type": "markdown",
   "metadata": {},
   "source": [
    "* Ejercicio Booleanos en Python 2\n",
    "\n",
    "Crea tres variables booleanas: condicion1 con valor True, condicion2 con valor False, y condicion3 con valor True.\n",
    "\n",
    "Escribe un programa que evalúe la siguiente expresión lógica e imprima el resultado.\n",
    "\n",
    "(condicion1 and condicion3) or condicion2"
   ]
  },
  {
   "cell_type": "code",
   "execution_count": 11,
   "metadata": {},
   "outputs": [
    {
     "data": {
      "text/plain": [
       "True"
      ]
     },
     "execution_count": 11,
     "metadata": {},
     "output_type": "execute_result"
    }
   ],
   "source": [
    "condicion1 = True\n",
    "condicion2 = False\n",
    "condicion3 = True\n",
    "\n",
    "validacion = (condicion1 and condicion2) or condicion3\n",
    "validacion"
   ]
  },
  {
   "cell_type": "markdown",
   "metadata": {},
   "source": [
    "* Ejercicio Booleanos en Python 3\n",
    "\n",
    "Define tres variables a b y c con valores numéricos de tu elección. Escribe un programa que verifique si a es mayor que b y si b es menor que c, imprimiendo True si ambas comparaciones son correctas, o False en caso contrario. Utiliza operadores de comparación y lógicos en tu respuesta."
   ]
  },
  {
   "cell_type": "code",
   "execution_count": 17,
   "metadata": {},
   "outputs": [
    {
     "name": "stdout",
     "output_type": "stream",
     "text": [
      "True\n"
     ]
    }
   ],
   "source": [
    "a, b, c = 4, 2, 3\n",
    "if a > b and b < c:\n",
    "    print(\"True\")\n",
    "else:\n",
    "    print(\"False\")"
   ]
  },
  {
   "cell_type": "code",
   "execution_count": 16,
   "metadata": {},
   "outputs": [
    {
     "name": "stdout",
     "output_type": "stream",
     "text": [
      "True\n"
     ]
    }
   ],
   "source": [
    "a, b, c = 4, 2, 3\n",
    "print((a>b) and (c>b))"
   ]
  }
 ],
 "metadata": {
  "kernelspec": {
   "display_name": "Python_DS_ML",
   "language": "python",
   "name": "python3"
  },
  "language_info": {
   "codemirror_mode": {
    "name": "ipython",
    "version": 3
   },
   "file_extension": ".py",
   "mimetype": "text/x-python",
   "name": "python",
   "nbconvert_exporter": "python",
   "pygments_lexer": "ipython3",
   "version": "3.12.4"
  }
 },
 "nbformat": 4,
 "nbformat_minor": 2
}
