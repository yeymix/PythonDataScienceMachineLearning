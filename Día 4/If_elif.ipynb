{
 "cells": [
  {
   "cell_type": "markdown",
   "metadata": {},
   "source": [
    "## IF\n"
   ]
  },
  {
   "cell_type": "code",
   "execution_count": 3,
   "metadata": {},
   "outputs": [
    {
     "name": "stdout",
     "output_type": "stream",
     "text": [
      "Encontrado\n"
     ]
    }
   ],
   "source": [
    "amigos = [\"Ana\", \"Cesar\", \"Gerald\"]\n",
    "nombre=input()\n",
    "if nombre in amigos:\n",
    "    print(\"Encontrado\")"
   ]
  },
  {
   "cell_type": "code",
   "execution_count": 4,
   "metadata": {},
   "outputs": [
    {
     "name": "stdout",
     "output_type": "stream",
     "text": [
      "Temperatura alta\n"
     ]
    }
   ],
   "source": [
    "temperatura=True\n",
    "if temperatura:\n",
    "    print(\"Temperatura alta\")"
   ]
  },
  {
   "cell_type": "markdown",
   "metadata": {},
   "source": [
    "* Ejercicio de Control en Python - IF 1\n",
    "\n",
    "Escribe un programa que defina una variable edad con un valor entero de tu preferencia. Utiliza una estructura de control if para imprimir la siguiente cadena literal:\n",
    "\n",
    "Tienes {edad} años. Eres mayor de edad\n",
    "\n",
    "Si edad es mayor  a 18."
   ]
  },
  {
   "cell_type": "code",
   "execution_count": 7,
   "metadata": {},
   "outputs": [
    {
     "name": "stdout",
     "output_type": "stream",
     "text": [
      "Eres menor de edad\n"
     ]
    }
   ],
   "source": [
    "edad=10\n",
    "if edad>=18:\n",
    "    print(\"Eres mayor de edad\")\n",
    "else:\n",
    "    print(\"Eres menor de edad\")"
   ]
  },
  {
   "cell_type": "markdown",
   "metadata": {},
   "source": [
    "* Ejercicio de Control en Python - IF 2\n",
    "\n",
    "Desarrolla un programa que defina dos variables, usuario  y  contraseña. Luego, escribe una estructura de control que verifique si \n",
    "el usuario es igual a \"admin\" y si la contraseña es igual a \"abc123\". Si ambas condiciones se cumplen, imprime \"Acceso concedido\"\n",
    "\n",
    "Utiliza el operador matemático de doble igualdad (==) para preguntar con un IF si se cumple determinada condición. Por ejempo: if usuario == \"admin\""
   ]
  },
  {
   "cell_type": "code",
   "execution_count": 13,
   "metadata": {},
   "outputs": [
    {
     "name": "stdout",
     "output_type": "stream",
     "text": [
      "Acceso concedido\n"
     ]
    }
   ],
   "source": [
    "usuario=\"admin\"\n",
    "contraseña=\"abc123\"\n",
    "\n",
    "if usuario==\"admin\" and contraseña==\"abc123\":\n",
    "    print(\"Acceso concedido\")"
   ]
  },
  {
   "cell_type": "markdown",
   "metadata": {},
   "source": [
    "* Ejercicio de Control en Python - IF 3\n",
    "\n",
    "Dada una lista de amigos amigos = [\"Juan\", \"Ana\", \"Laura\"], escribe un programa donde definas una variable llamada nombre y coloques un nombre de tu elección. Si el nombre está en la lista amigos, el programa debe imprimir \"{nombre} está en mi grupo de amigos\", reemplazando  con el nombre ingresado por el usuario. Si el nombre no está en la lista, el programa no debe imprimir nada."
   ]
  },
  {
   "cell_type": "code",
   "execution_count": 16,
   "metadata": {},
   "outputs": [],
   "source": [
    "amigos = [\"Juan\", \"Ana\", \"Laura\"]\n",
    "nombre = \"Alberto\"\n",
    "if nombre in amigos:\n",
    "    print(f\"{nombre} está en la lista de amigos\")"
   ]
  },
  {
   "cell_type": "code",
   "execution_count": 20,
   "metadata": {},
   "outputs": [
    {
     "name": "stdout",
     "output_type": "stream",
     "text": [
      "b es mayor\n",
      "b es mayor\n"
     ]
    }
   ],
   "source": [
    "a, b, c = int(input(\"ingresa a: \")),int(input(\"ingresa b: \")), int(input(\"ingresa c: \"))\n",
    "if a > b and a > c:\n",
    "    print(\"a es mayor\")\n",
    "elif b > a and b > c:\n",
    "    print(\"b es mayor\")\n",
    "else:\n",
    "    print(\"c es mayor\")\n",
    "\n",
    "##------------------------\n",
    "\n",
    "if a > b:\n",
    "    if a > c:\n",
    "        print(\"a es mayor\")\n",
    "    else:\n",
    "        print(\"c es mayor\")\n",
    "elif b > c:\n",
    "    print(\"b es mayor\")\n",
    "else:\n",
    "    print(\"c es mayor\")\n"
   ]
  },
  {
   "cell_type": "markdown",
   "metadata": {},
   "source": [
    "Ejercicio de Control en Python - IF - ELIF - ELSE 3\n",
    "\n",
    "Declara tres variables x1, x2, x3, que contengan tres números enteros distintos. El programa debe imprimir los números en orden ascendente.\n",
    "\n",
    "\n",
    "El propósito de este ejercicio es fortalecer tu comprensión y habilidad para aplicar estructuras condicionales en Python, diseñando una solución que te permita practicar cómo controlar el flujo de un programa basado en condiciones específicas.\n",
    "\n",
    "Es importante mencionar que, aunque existen métodos más eficientes y directos para ordenar números en Python —tales como las funciones sorted() o el uso de listas—, el enfoque de este ejercicio es que desarrolles y apliques la lógica detrás de las estructuras condicionales. Este enfoque te ayudará a mejorar tu pensamiento lógico y tu capacidad para resolver problemas de programación de una manera más fundamental."
   ]
  },
  {
   "cell_type": "code",
   "execution_count": 39,
   "metadata": {},
   "outputs": [
    {
     "name": "stdout",
     "output_type": "stream",
     "text": [
      "1 2 3\n"
     ]
    }
   ],
   "source": [
    "# x1, x2, x3 = 1,2,3\n",
    "# x1, x2, x3 = 1,3,2\n",
    "# x1, x2, x3 = 2,1,3\n",
    "# x1, x2, x3 = 2,3,1\n",
    "# x1, x2, x3 = 3,2,1\n",
    "x1, x2, x3 = 3,1,2\n",
    "\n",
    "if x1 < x2 and x2 < x3:\n",
    "    print(x1, x2, x3)\n",
    "elif x1 > x2 and x2 > x3:\n",
    "    print(x3, x2, x1)\n",
    "elif x2 < x1 < x3:\n",
    "    print(x2, x1, x3)\n",
    "elif x2 > x1 > x3:\n",
    "    print(x3, x1, x2)\n",
    "elif x3 < x1 < x2:\n",
    "    print(x3, x1, x2)\n",
    "elif x3 > x1 > x2:\n",
    "    print(x2, x1, x3)\n",
    "elif x1 < x3 < x2:\n",
    "    print(x1, x3, x2)\n",
    "elif x1 > x3 > x2:\n",
    "    print(x2, x3, x1)\n"
   ]
  }
 ],
 "metadata": {
  "kernelspec": {
   "display_name": "Python_DS_ML",
   "language": "python",
   "name": "python3"
  },
  "language_info": {
   "codemirror_mode": {
    "name": "ipython",
    "version": 3
   },
   "file_extension": ".py",
   "mimetype": "text/x-python",
   "name": "python",
   "nbconvert_exporter": "python",
   "pygments_lexer": "ipython3",
   "version": "3.12.4"
  }
 },
 "nbformat": 4,
 "nbformat_minor": 2
}
