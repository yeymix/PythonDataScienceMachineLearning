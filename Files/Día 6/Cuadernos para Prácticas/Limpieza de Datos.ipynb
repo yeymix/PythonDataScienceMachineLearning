{
 "cells": [
  {
   "cell_type": "code",
   "execution_count": null,
   "id": "cbe6e53a",
   "metadata": {
    "scrolled": true
   },
   "outputs": [],
   "source": [
    "import pandas as pd\n",
    "\n",
    "data = {\"Id_producto\": [1001, 1002, 1003, 1003],\n",
    "        \"Cantidad_vendida\": [30, None, 25, 25],\n",
    "        \"Precio\": [20.5, 15.0, None, 22.5]}\n",
    "\n",
    "df = pd.DataFrame(data)\n",
    "df"
   ]
  }
 ],
 "metadata": {
  "kernelspec": {
   "display_name": "Python 3 (ipykernel)",
   "language": "python",
   "name": "python3"
  },
  "language_info": {
   "codemirror_mode": {
    "name": "ipython",
    "version": 3
   },
   "file_extension": ".py",
   "mimetype": "text/x-python",
   "name": "python",
   "nbconvert_exporter": "python",
   "pygments_lexer": "ipython3",
   "version": "3.11.5"
  }
 },
 "nbformat": 4,
 "nbformat_minor": 5
}
