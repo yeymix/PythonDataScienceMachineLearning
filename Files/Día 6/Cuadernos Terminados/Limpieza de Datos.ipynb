{
 "cells": [
  {
   "attachments": {},
   "cell_type": "markdown",
   "id": "81fa0acb",
   "metadata": {},
   "source": [
    "# Limpieza de Datos\n",
    "\n",
    "Durante la preparación de nuestros datos (antes de poder usarlos para hacer análisis y ciencia de datos) hay un proceso fundamental que se llama **limpieza de datos**. Si no limpiamos adecuadamente nuestros datos, corremos el riesgo de que luego contaminen el resultado de nuestros análisis.\n",
    "\n",
    "La limpieza de datos es un proceso que no puedes obviar, porque la mayoría de las veces, los datos provienen de fuentes externas, y nada te garantiza que los creadores de esos registros hayan seguido protocolos estrictos al generar esa información.\n",
    "\n",
    "La limpieza de datos implica hacer procedimientos como:\n",
    "* identificación de valores faltantes o nulos\n",
    "* manejo de esos valores\n",
    "* manejo de tipos de datos inapropiados\n",
    "* eliminación de duplicados\n",
    "\n",
    "En esta lección vamos a aprender a realizar algunas tareas básicas de limpieza de datos utilizando Pandas en Python. \n",
    "\n",
    "Vamos a usar un conjunto de datos muy sencillo, pero apropiado como ejemplo, y que representa una pequeña tabla de ventas. "
   ]
  },
  {
   "cell_type": "code",
   "execution_count": 1,
   "id": "cbe6e53a",
   "metadata": {
    "scrolled": true
   },
   "outputs": [
    {
     "data": {
      "text/html": [
       "<div>\n",
       "<style scoped>\n",
       "    .dataframe tbody tr th:only-of-type {\n",
       "        vertical-align: middle;\n",
       "    }\n",
       "\n",
       "    .dataframe tbody tr th {\n",
       "        vertical-align: top;\n",
       "    }\n",
       "\n",
       "    .dataframe thead th {\n",
       "        text-align: right;\n",
       "    }\n",
       "</style>\n",
       "<table border=\"1\" class=\"dataframe\">\n",
       "  <thead>\n",
       "    <tr style=\"text-align: right;\">\n",
       "      <th></th>\n",
       "      <th>Id_producto</th>\n",
       "      <th>Cantidad_vendida</th>\n",
       "      <th>Precio</th>\n",
       "    </tr>\n",
       "  </thead>\n",
       "  <tbody>\n",
       "    <tr>\n",
       "      <th>0</th>\n",
       "      <td>1001</td>\n",
       "      <td>30.0</td>\n",
       "      <td>20.5</td>\n",
       "    </tr>\n",
       "    <tr>\n",
       "      <th>1</th>\n",
       "      <td>1002</td>\n",
       "      <td>NaN</td>\n",
       "      <td>15.0</td>\n",
       "    </tr>\n",
       "    <tr>\n",
       "      <th>2</th>\n",
       "      <td>1003</td>\n",
       "      <td>25.0</td>\n",
       "      <td>NaN</td>\n",
       "    </tr>\n",
       "    <tr>\n",
       "      <th>3</th>\n",
       "      <td>1003</td>\n",
       "      <td>25.0</td>\n",
       "      <td>22.5</td>\n",
       "    </tr>\n",
       "  </tbody>\n",
       "</table>\n",
       "</div>"
      ],
      "text/plain": [
       "   Id_producto  Cantidad_vendida  Precio\n",
       "0         1001              30.0    20.5\n",
       "1         1002               NaN    15.0\n",
       "2         1003              25.0     NaN\n",
       "3         1003              25.0    22.5"
      ]
     },
     "execution_count": 1,
     "metadata": {},
     "output_type": "execute_result"
    }
   ],
   "source": [
    "import pandas as pd\n",
    "\n",
    "data = {\"Id_producto\": [1001, 1002, 1003, 1003],\n",
    "        \"Cantidad_vendida\": [30, None, 25, 25],\n",
    "        \"Precio\": [20.5, 15.0, None, 22.5]}\n",
    "\n",
    "df = pd.DataFrame(data)\n",
    "df"
   ]
  },
  {
   "cell_type": "markdown",
   "id": "e94cf59a",
   "metadata": {},
   "source": [
    "### Paso 1: Exploración\n",
    "\n",
    "Usaremos los métodos de dataframes que ya hemos aprendido, para identificar la estructura y calidad de nuestros datos de origen:"
   ]
  },
  {
   "cell_type": "code",
   "execution_count": null,
   "id": "9e10c1b3",
   "metadata": {},
   "outputs": [],
   "source": [
    "df.head()"
   ]
  },
  {
   "cell_type": "code",
   "execution_count": null,
   "id": "733a086b",
   "metadata": {},
   "outputs": [],
   "source": [
    "df.info()"
   ]
  },
  {
   "cell_type": "markdown",
   "id": "0e497936",
   "metadata": {},
   "source": [
    "### Paso 2: Identificar Valores Faltantes (nulos)"
   ]
  },
  {
   "cell_type": "code",
   "execution_count": null,
   "id": "0d1a6305",
   "metadata": {},
   "outputs": [],
   "source": [
    "df.isnull()"
   ]
  },
  {
   "cell_type": "code",
   "execution_count": null,
   "id": "6f0fffd9",
   "metadata": {},
   "outputs": [],
   "source": [
    "df.isnull().sum()"
   ]
  },
  {
   "attachments": {},
   "cell_type": "markdown",
   "id": "69e980fd",
   "metadata": {},
   "source": [
    "### Paso 2: Manejo de Valores Faltantes\n",
    "\n",
    "Aquí llega el momento de tomar decisiones. No hay soluciones únicas, sino que siempre va a depender del caso. En ocasiones querrás eliminar las filas con datos inválidos. En ocasiones querrás reemplazarlos por otros valores.\n",
    "\n",
    "##### Opción 1 - Eliminar registros que contienen valores nulos"
   ]
  },
  {
   "cell_type": "code",
   "execution_count": null,
   "id": "3140e8b6",
   "metadata": {},
   "outputs": [],
   "source": [
    "df_eliminados = df.dropna()\n",
    "df_eliminados"
   ]
  },
  {
   "cell_type": "markdown",
   "id": "314bed21",
   "metadata": {},
   "source": [
    "##### Opción 2: Reemplazar los Valores Nulos con Otros Valores"
   ]
  },
  {
   "cell_type": "code",
   "execution_count": null,
   "id": "acbff97f",
   "metadata": {},
   "outputs": [],
   "source": [
    "valores_nuevos = {\"Cantidad_vendida\": 0, \"Precio\":df[\"Precio\"].mean()}\n",
    "df_rellenados = df.fillna(valores_nuevos)\n",
    "df_rellenados"
   ]
  },
  {
   "cell_type": "markdown",
   "id": "be901033",
   "metadata": {},
   "source": [
    "### Paso 3: Corrección de Tipos de Datos"
   ]
  },
  {
   "cell_type": "code",
   "execution_count": null,
   "id": "6c986712",
   "metadata": {},
   "outputs": [],
   "source": [
    "df_rellenados[\"Cantidad_vendida\"] = df_rellenados[\"Cantidad_vendida\"].astype(int)\n",
    "df_rellenados"
   ]
  },
  {
   "cell_type": "markdown",
   "id": "e7187f6b",
   "metadata": {},
   "source": [
    "### Paso 4: Eliminación de Duplicados"
   ]
  },
  {
   "cell_type": "code",
   "execution_count": null,
   "id": "aec70035",
   "metadata": {},
   "outputs": [],
   "source": [
    "df_unicos = df_rellenados.drop_duplicates()\n",
    "df_unicos"
   ]
  },
  {
   "attachments": {},
   "cell_type": "markdown",
   "id": "b08838b2",
   "metadata": {},
   "source": [
    "En este caso no funcionó, porque buscó registros completos que estén duplicados. Si queremos eliminar los duplicados que se repitan sólo en uno de los campos, usamos el parámetro `subset`."
   ]
  },
  {
   "cell_type": "code",
   "execution_count": null,
   "id": "b3d6204f",
   "metadata": {},
   "outputs": [],
   "source": [
    "df_unicos = df_rellenados.drop_duplicates(subset=\"Id_producto\")\n",
    "df_unicos"
   ]
  }
 ],
 "metadata": {
  "kernelspec": {
   "display_name": "Python 3 (ipykernel)",
   "language": "python",
   "name": "python3"
  },
  "language_info": {
   "codemirror_mode": {
    "name": "ipython",
    "version": 3
   },
   "file_extension": ".py",
   "mimetype": "text/x-python",
   "name": "python",
   "nbconvert_exporter": "python",
   "pygments_lexer": "ipython3",
   "version": "3.11.5"
  }
 },
 "nbformat": 4,
 "nbformat_minor": 5
}
