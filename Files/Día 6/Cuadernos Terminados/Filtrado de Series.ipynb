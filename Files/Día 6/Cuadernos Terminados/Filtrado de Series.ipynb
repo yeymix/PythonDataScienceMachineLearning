{
 "cells": [
  {
   "attachments": {},
   "cell_type": "markdown",
   "id": "2c4bcce2",
   "metadata": {},
   "source": [
    "# Filtrado de Series\n",
    "\n",
    "Veamos qué es y para qué sirve el filtrado de series. Para eso voy a crear una nueva serie en la que luego aplicaremos el filtrado."
   ]
  },
  {
   "cell_type": "code",
   "execution_count": 1,
   "id": "f48fac4f",
   "metadata": {},
   "outputs": [
    {
     "data": {
      "text/plain": [
       "0     5\n",
       "1    10\n",
       "2    15\n",
       "3    20\n",
       "4    25\n",
       "dtype: int64"
      ]
     },
     "execution_count": 1,
     "metadata": {},
     "output_type": "execute_result"
    }
   ],
   "source": [
    "import pandas as pd\n",
    "\n",
    "serie = pd.Series([5, 10, 15, 20, 25])\n",
    "serie"
   ]
  },
  {
   "cell_type": "markdown",
   "id": "8b1de260",
   "metadata": {},
   "source": [
    "El **filtrado** es como realizar *preguntas específicas* a nuestros datos. Por ejemplo, podríamos querer saber qué elementos son mayores que un número específico.\n",
    "\n",
    "Supongamos que en la serie anterior queremos saber **qué números son mayores que 15**.\n",
    "\n",
    "Para hacer esto, vamos a construir una **condición** y aplicarla a nuestra *serie*."
   ]
  },
  {
   "cell_type": "code",
   "execution_count": null,
   "id": "5180d237",
   "metadata": {},
   "outputs": [],
   "source": [
    "filtro = serie > 15\n",
    "serie_filtrada = serie[filtro]\n",
    "serie_filtrada"
   ]
  },
  {
   "attachments": {},
   "cell_type": "markdown",
   "id": "7480a3fa",
   "metadata": {},
   "source": [
    "Si te preguntas por qué esto ha funcionado, permíteme que te muestre cómo se ve la variable **filtro** que hemos creado en el medio del proceso."
   ]
  },
  {
   "cell_type": "code",
   "execution_count": null,
   "id": "668006c2",
   "metadata": {},
   "outputs": [],
   "source": [
    "filtro"
   ]
  },
  {
   "attachments": {},
   "cell_type": "markdown",
   "id": "069632f7",
   "metadata": {},
   "source": [
    "Como puedes ver, lo que hicimos fue crear una nueva **Serie** que contiene **valores booleanos** (*True* para elementos que cumplen la condición, y *False* para los que no).\n",
    "\n",
    "Luego, usamos la serie **filtro** para \"indexar\" solo los elementos de **serie** que son *True*, y que por lo tanto son mayores que 15. De alguna manera este es el mismo proceso de indexación que aplicábamos antes, porque lo que pones en las llaves cuadradas es el valor que quieres obtener, solo que al hacerlo de esta manera **obtenemos más de un valor que cumple con el criterio de indexación**, y a ese proceso le llamamos **filtrado**.\n",
    "\n",
    "Por si te preguntas si es posible filtrar series compuestas por valores de **texto**, la respuesta es sí."
   ]
  },
  {
   "cell_type": "code",
   "execution_count": null,
   "id": "6bb93a42",
   "metadata": {},
   "outputs": [],
   "source": [
    "serie2 = pd.Series([\"banana\", \"pera\", \"melon\", \"manzana\"])\n",
    "serie2"
   ]
  },
  {
   "cell_type": "markdown",
   "id": "fedad6e5",
   "metadata": {},
   "source": [
    "Mi objetivo es filtrar la **serie2**, para obtener solamente los items que contienen la letra \"m\" en su nombre. Para lograrlo quisiera aplicar un método de los strings que se llama **contains()** que permite verificar si un determinado string contiene un determinado substring.\n",
    "\n",
    "Por lo tanto, debería comenzar por ver qué tipos de datos estoy manipulando, para identificar si puedo utilizar **contains()** en este caso."
   ]
  },
  {
   "cell_type": "code",
   "execution_count": null,
   "id": "57965208",
   "metadata": {},
   "outputs": [],
   "source": [
    "type(serie2)"
   ]
  },
  {
   "cell_type": "code",
   "execution_count": null,
   "id": "5aa9df3e",
   "metadata": {},
   "outputs": [],
   "source": [
    "type(serie2[0])"
   ]
  },
  {
   "attachments": {},
   "cell_type": "markdown",
   "id": "180779dd",
   "metadata": {},
   "source": [
    "Interesante. Si bien mi serie2 **contiene strings**, mi serie2 **no es un string**.\n",
    "\n",
    "Mi serie2 **es una Serie**.\n",
    "\n",
    "Por lo tanto, en serie2 solo puedo usar métodos propios de los objetos serie, y no puedo usar métodos de string (como *contains*).\n",
    "\n",
    "Voy a **imprimir los métodos de los objetos serie** para ver si dispongo de alguna alternativa."
   ]
  },
  {
   "cell_type": "code",
   "execution_count": null,
   "id": "39e10fde",
   "metadata": {},
   "outputs": [],
   "source": [
    "print(dir(serie2))"
   ]
  },
  {
   "attachments": {},
   "cell_type": "markdown",
   "id": "c9e5b850",
   "metadata": {},
   "source": [
    "La mala noticia es que los objetos serie no tienen ningún método **contains()**.\n",
    "\n",
    "Pero observa que lo que **sí tenemos** es un **método str**.\n",
    "\n",
    "**¿Cómo hacemos para ver qué hace str?**"
   ]
  },
  {
   "cell_type": "code",
   "execution_count": null,
   "id": "d936a160",
   "metadata": {},
   "outputs": [],
   "source": [
    "help(serie2.str)"
   ]
  },
  {
   "attachments": {},
   "cell_type": "markdown",
   "id": "822e230d",
   "metadata": {},
   "source": [
    "Según la ayuda, el **método str** sirve para asignar *\"funciones vectorizadas de strings\"* a la series y a sus índices.\n",
    "\n",
    "Este método entonces nos va a permitir que podamos **usar métodos de strings que han sido adaptados para que funcionen con las series**. ¿No es genial?"
   ]
  },
  {
   "cell_type": "code",
   "execution_count": null,
   "id": "4af86c5e",
   "metadata": {},
   "outputs": [],
   "source": [
    "filtro2 = serie2.str.contains(\"m\")\n",
    "filtro2"
   ]
  },
  {
   "cell_type": "code",
   "execution_count": null,
   "id": "855b3100",
   "metadata": {},
   "outputs": [],
   "source": [
    "serie2[filtro2]"
   ]
  },
  {
   "attachments": {},
   "cell_type": "markdown",
   "id": "412550e6",
   "metadata": {},
   "source": [
    "Como has visto, podríamos resumir que **filtrar datos** implica seleccionar elementos que cumplan con ciertos criterios.\n",
    "\n",
    "Es como cuando usamos un colador en la cocina: solo queremos quedarnos con lo que es útil para nosotros."
   ]
  }
 ],
 "metadata": {
  "kernelspec": {
   "display_name": "Python 3 (ipykernel)",
   "language": "python",
   "name": "python3"
  },
  "language_info": {
   "codemirror_mode": {
    "name": "ipython",
    "version": 3
   },
   "file_extension": ".py",
   "mimetype": "text/x-python",
   "name": "python",
   "nbconvert_exporter": "python",
   "pygments_lexer": "ipython3",
   "version": "3.11.5"
  }
 },
 "nbformat": 4,
 "nbformat_minor": 5
}
