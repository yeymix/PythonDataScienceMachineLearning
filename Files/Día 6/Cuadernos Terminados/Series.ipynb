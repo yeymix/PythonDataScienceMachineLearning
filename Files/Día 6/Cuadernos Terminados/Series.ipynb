{
 "cells": [
  {
   "cell_type": "markdown",
   "id": "cd66c46a",
   "metadata": {},
   "source": [
    "# Series\n",
    "\n",
    "Refresquemos: Pandas trabaja con dos tipos de datos, que son los **dataframes** y las **series**. En esta lección vamos a conocer mejor a las series.\n",
    "\n",
    "Vamos a trabajar con el mismo dataset que hemos usado antes."
   ]
  },
  {
   "cell_type": "code",
   "execution_count": 1,
   "id": "cfa0531f",
   "metadata": {},
   "outputs": [],
   "source": [
    "import pandas as pd"
   ]
  },
  {
   "cell_type": "code",
   "execution_count": 2,
   "id": "d7b64e61",
   "metadata": {},
   "outputs": [
    {
     "data": {
      "text/html": [
       "<div>\n",
       "<style scoped>\n",
       "    .dataframe tbody tr th:only-of-type {\n",
       "        vertical-align: middle;\n",
       "    }\n",
       "\n",
       "    .dataframe tbody tr th {\n",
       "        vertical-align: top;\n",
       "    }\n",
       "\n",
       "    .dataframe thead th {\n",
       "        text-align: right;\n",
       "    }\n",
       "</style>\n",
       "<table border=\"1\" class=\"dataframe\">\n",
       "  <thead>\n",
       "    <tr style=\"text-align: right;\">\n",
       "      <th></th>\n",
       "      <th>region</th>\n",
       "      <th>enero</th>\n",
       "      <th>febrero</th>\n",
       "      <th>marzo</th>\n",
       "      <th>abril</th>\n",
       "      <th>mayo</th>\n",
       "      <th>junio</th>\n",
       "      <th>julio</th>\n",
       "      <th>agosto</th>\n",
       "      <th>septiembre</th>\n",
       "      <th>octubre</th>\n",
       "      <th>noviembre</th>\n",
       "      <th>diciembre</th>\n",
       "      <th>anual</th>\n",
       "    </tr>\n",
       "  </thead>\n",
       "  <tbody>\n",
       "    <tr>\n",
       "      <th>0</th>\n",
       "      <td>A CORUNA</td>\n",
       "      <td>240.5</td>\n",
       "      <td>293.4</td>\n",
       "      <td>31.0</td>\n",
       "      <td>80.6</td>\n",
       "      <td>149.5</td>\n",
       "      <td>108.9</td>\n",
       "      <td>44.6</td>\n",
       "      <td>21.8</td>\n",
       "      <td>96.5</td>\n",
       "      <td>154.5</td>\n",
       "      <td>100.8</td>\n",
       "      <td>214.8</td>\n",
       "      <td>1536.9</td>\n",
       "    </tr>\n",
       "    <tr>\n",
       "      <th>1</th>\n",
       "      <td>ALBACETE</td>\n",
       "      <td>68.1</td>\n",
       "      <td>28.0</td>\n",
       "      <td>26.2</td>\n",
       "      <td>65.3</td>\n",
       "      <td>25.4</td>\n",
       "      <td>50.0</td>\n",
       "      <td>2.0</td>\n",
       "      <td>34.5</td>\n",
       "      <td>48.0</td>\n",
       "      <td>44.8</td>\n",
       "      <td>33.1</td>\n",
       "      <td>14.1</td>\n",
       "      <td>439.5</td>\n",
       "    </tr>\n",
       "    <tr>\n",
       "      <th>2</th>\n",
       "      <td>ALICANTE</td>\n",
       "      <td>49.2</td>\n",
       "      <td>3.7</td>\n",
       "      <td>63.2</td>\n",
       "      <td>85.8</td>\n",
       "      <td>57.2</td>\n",
       "      <td>20.0</td>\n",
       "      <td>9.2</td>\n",
       "      <td>5.0</td>\n",
       "      <td>44.0</td>\n",
       "      <td>41.1</td>\n",
       "      <td>47.4</td>\n",
       "      <td>1.8</td>\n",
       "      <td>427.6</td>\n",
       "    </tr>\n",
       "    <tr>\n",
       "      <th>3</th>\n",
       "      <td>ALMERIA</td>\n",
       "      <td>56.3</td>\n",
       "      <td>5.2</td>\n",
       "      <td>35.8</td>\n",
       "      <td>43.1</td>\n",
       "      <td>38.8</td>\n",
       "      <td>16.9</td>\n",
       "      <td>10.2</td>\n",
       "      <td>1.9</td>\n",
       "      <td>17.4</td>\n",
       "      <td>27.3</td>\n",
       "      <td>32.6</td>\n",
       "      <td>3.2</td>\n",
       "      <td>288.7</td>\n",
       "    </tr>\n",
       "    <tr>\n",
       "      <th>4</th>\n",
       "      <td>ARABA</td>\n",
       "      <td>96.8</td>\n",
       "      <td>79.9</td>\n",
       "      <td>38.0</td>\n",
       "      <td>52.0</td>\n",
       "      <td>37.7</td>\n",
       "      <td>107.8</td>\n",
       "      <td>8.5</td>\n",
       "      <td>17.7</td>\n",
       "      <td>63.3</td>\n",
       "      <td>38.5</td>\n",
       "      <td>212.2</td>\n",
       "      <td>197.3</td>\n",
       "      <td>949.7</td>\n",
       "    </tr>\n",
       "  </tbody>\n",
       "</table>\n",
       "</div>"
      ],
      "text/plain": [
       "     region  enero  febrero  marzo  abril   mayo  junio  julio  agosto  \\\n",
       "0  A CORUNA  240.5    293.4   31.0   80.6  149.5  108.9   44.6    21.8   \n",
       "1  ALBACETE   68.1     28.0   26.2   65.3   25.4   50.0    2.0    34.5   \n",
       "2  ALICANTE   49.2      3.7   63.2   85.8   57.2   20.0    9.2     5.0   \n",
       "3   ALMERIA   56.3      5.2   35.8   43.1   38.8   16.9   10.2     1.9   \n",
       "4     ARABA   96.8     79.9   38.0   52.0   37.7  107.8    8.5    17.7   \n",
       "\n",
       "   septiembre  octubre  noviembre  diciembre   anual  \n",
       "0        96.5    154.5      100.8      214.8  1536.9  \n",
       "1        48.0     44.8       33.1       14.1   439.5  \n",
       "2        44.0     41.1       47.4        1.8   427.6  \n",
       "3        17.4     27.3       32.6        3.2   288.7  \n",
       "4        63.3     38.5      212.2      197.3   949.7  "
      ]
     },
     "execution_count": 2,
     "metadata": {},
     "output_type": "execute_result"
    }
   ],
   "source": [
    "df = pd.read_csv(\"C:/Users/Win10/Downloads/00 - FEDE/Udemy/Python para Data Science/Día 6/4 - DataFrames/Precipitaciones.csv\")\n",
    "df.head()"
   ]
  },
  {
   "cell_type": "markdown",
   "id": "b1b35c6e",
   "metadata": {},
   "source": [
    "Ahora vamos a seleccionar la serie *\"Región\"* para trabajar en esta lección."
   ]
  },
  {
   "cell_type": "code",
   "execution_count": null,
   "id": "83e898c5",
   "metadata": {},
   "outputs": [],
   "source": [
    "serie = df[\"region\"]\n",
    "serie.head()"
   ]
  },
  {
   "cell_type": "markdown",
   "id": "17dbcef2",
   "metadata": {},
   "source": [
    "Conceptualmente una Serie en Pandas es un **arreglo unidimensional** (es decir, de una sola dimensión), que es capaz de almacenar cualquier tipo de datos.\n",
    "\n",
    "Como hemos visto, las series tienen un **índice** asociado a cada **registro**. Esto significa que aunque parece que tuviera dos columnas (la del **índice** y la de los **datos**), solo se trata de una, ya que **el índice no es información**, sino una etiqueta pegada a la información propiamente dicha.\n",
    "\n",
    "Si bien podemos crear una serie a partir de un dataframe (como acabo de hacer), también puedes **crear series a partir de objetos de python** como listas, usando el método **Series()** de Pandas."
   ]
  },
  {
   "cell_type": "code",
   "execution_count": null,
   "id": "863de929",
   "metadata": {},
   "outputs": [],
   "source": [
    "datos = [10, 20, 30, 40, 50]\n",
    "serie2 = pd.Series(datos)\n",
    "serie2"
   ]
  },
  {
   "cell_type": "markdown",
   "id": "cc94263d",
   "metadata": {},
   "source": [
    "Puedes ver que cada elemento de la lista se ha transformado en un item de mi Serie, y que a cada elemento **se le ha asignado un índice numérico comenzando desde cero**, porque eso es lo que hacen las series.\n",
    "\n",
    "Pero un tip interesante, es que si quieres puedes **asignar índices personalizados** a tus series, a través del parámetro *\"index\"* de las Series."
   ]
  },
  {
   "cell_type": "code",
   "execution_count": null,
   "id": "3a4a4646",
   "metadata": {},
   "outputs": [],
   "source": [
    "indices = [\"a\", \"b\", \"c\", \"d\", \"e\"]\n",
    "serie2 = pd.Series(datos,indices)\n",
    "serie2"
   ]
  },
  {
   "cell_type": "markdown",
   "id": "3b703c7e",
   "metadata": {},
   "source": [
    "A partir de ahora, puedo tomar elementos de esta serie aplicando mi índice personalizado."
   ]
  },
  {
   "cell_type": "code",
   "execution_count": null,
   "id": "1c6b4a6a",
   "metadata": {},
   "outputs": [],
   "source": [
    "serie2[\"b\"]"
   ]
  },
  {
   "cell_type": "markdown",
   "id": "f31654a3",
   "metadata": {},
   "source": [
    "Y sólo para sacarnos la duda, comprobemos los **tipos de datos** que estamos manejando aquí"
   ]
  },
  {
   "cell_type": "code",
   "execution_count": null,
   "id": "bb226ae0",
   "metadata": {},
   "outputs": [],
   "source": [
    "type(serie2)"
   ]
  },
  {
   "cell_type": "code",
   "execution_count": null,
   "id": "5283131a",
   "metadata": {},
   "outputs": [],
   "source": [
    "type(serie2[\"b\"])"
   ]
  },
  {
   "cell_type": "markdown",
   "id": "dca6ae07",
   "metadata": {},
   "source": [
    "Una curiosidad extra, es lo que sucede cuando creamos series a partir de **diccionarios**:"
   ]
  },
  {
   "cell_type": "code",
   "execution_count": null,
   "id": "ad94eec7",
   "metadata": {},
   "outputs": [],
   "source": [
    "capitales = {\"España\": \"Madrid\", \"Perú\": \"Lima\", \"Argentina\": \"Buenos Aires\"}\n",
    "serie3 = pd.Series(capitales)\n",
    "serie3"
   ]
  },
  {
   "cell_type": "markdown",
   "id": "4d2b25f1",
   "metadata": {},
   "source": [
    "Como puedes ver, en estos casos las **claves** se transforman automáticamente en **índices alfabéticos**.\n",
    "\n",
    "También puedo indexarlos usando esos índices."
   ]
  },
  {
   "cell_type": "code",
   "execution_count": null,
   "id": "9789f5a8",
   "metadata": {},
   "outputs": [],
   "source": [
    "serie3[\"Perú\"]"
   ]
  }
 ],
 "metadata": {
  "kernelspec": {
   "display_name": "Python 3 (ipykernel)",
   "language": "python",
   "name": "python3"
  },
  "language_info": {
   "codemirror_mode": {
    "name": "ipython",
    "version": 3
   },
   "file_extension": ".py",
   "mimetype": "text/x-python",
   "name": "python",
   "nbconvert_exporter": "python",
   "pygments_lexer": "ipython3",
   "version": "3.11.5"
  }
 },
 "nbformat": 4,
 "nbformat_minor": 5
}
