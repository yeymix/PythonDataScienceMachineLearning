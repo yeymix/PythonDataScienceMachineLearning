{
 "cells": [
  {
   "cell_type": "markdown",
   "id": "9572445f",
   "metadata": {},
   "source": [
    "# Proyecto del Día 3: Analizador de Texto\n",
    "\n",
    "Este proyecto tiene como objetivo aplicar los conceptos aprendidos sobre strings, input, indexación y formateo de strings en Python. El programa permitirá al usuario ingresar un texto y luego elegir realizar diversas operaciones de análisis sobre ese texto.\n",
    "\n",
    "## Consigna\n",
    "Vas a crear un programa que le pida al usuario que ingrese un texto de al menos 10 palabras. Tu programa va a procesar ese texto, lo va a procesar, y le va a devolver un análisis detallado, que incluya:\n",
    "1. Contar el número total de caracteres en el texto\n",
    "2. Contar el número de caracteres sin incluir los espacios\n",
    "3. Contar la cantidad de vocales que hay en el texto\n",
    "4. Contar el número total de palabras en el texto ingresado\n",
    "\n",
    "**nota**: para resolver los siguientes items, deberás investigar otros métodos de strings que no hemos visto. Recuerda valerte de *type*, *dir* y *help*\n",
    "\n",
    "5. Eliminar la primera palabra\n",
    "6. Reemplazar todos los espacios por guiones medios (-)\n",
    "8. Cambia las mayúsculas a minúsculas y las minúsculas a mayúsculas \n",
    "\n",
    "Al finalizar el procesamiento, se imprimirán 8 cadenas literales mostrando los resultados del análisis (una cadena por cada resultado).\n",
    "<br>\n",
    "<br>\n",
    "<br>"
   ]
  },
  {
   "cell_type": "markdown",
   "id": "e5cd9e4d",
   "metadata": {},
   "source": [
    "### Resolución\n",
    "\n",
    "Ingreso del usuario:"
   ]
  },
  {
   "cell_type": "code",
   "execution_count": 30,
   "id": "fa27da8c",
   "metadata": {},
   "outputs": [],
   "source": [
    "frase=input(\"Hola señor usuario, ingrese una frase o párrafo por favor, desahóguese: \")\n",
    "#frase=\"Hola señor usuario, ingrese una frase o párrafo por favor, desahóguese\"\n"
   ]
  },
  {
   "cell_type": "markdown",
   "id": "41214377",
   "metadata": {},
   "source": [
    "1. Contar el número total de caracteres en el texto"
   ]
  },
  {
   "cell_type": "code",
   "execution_count": 31,
   "id": "40448873",
   "metadata": {},
   "outputs": [
    {
     "name": "stdout",
     "output_type": "stream",
     "text": [
      "El número de caracteres es:  39\n"
     ]
    }
   ],
   "source": [
    "print(\"El número de caracteres es: \",len(frase))"
   ]
  },
  {
   "cell_type": "markdown",
   "id": "3d6378dc",
   "metadata": {},
   "source": [
    "2. Contar el número de caracteres sin incluir los espacios"
   ]
  },
  {
   "cell_type": "code",
   "execution_count": 32,
   "id": "991b29c7",
   "metadata": {},
   "outputs": [
    {
     "name": "stdout",
     "output_type": "stream",
     "text": [
      "El número de caracteres es:  33\n"
     ]
    }
   ],
   "source": [
    "frase_sin_espacios = frase.replace(\" \", \"\")\n",
    "print(\"El número de caracteres es: \",len(frase_sin_espacios))"
   ]
  },
  {
   "cell_type": "markdown",
   "id": "c6e62385",
   "metadata": {},
   "source": [
    "3. Contar la cantidad de vocales que hay en el texto"
   ]
  },
  {
   "cell_type": "code",
   "execution_count": 33,
   "id": "65b19bc7",
   "metadata": {},
   "outputs": [
    {
     "name": "stdout",
     "output_type": "stream",
     "text": [
      "cantidad de vocales:\n",
      " a-->2\n",
      " e-->4\n",
      " i-->3\n",
      " o-->3\n",
      " u-->2\n"
     ]
    }
   ],
   "source": [
    "#contar cantidad de vocales\n",
    "print(f\"cantidad de vocales:\\n a-->{frase.count(\"a\")}\\n e-->{frase.count(\"e\")}\\n i-->{frase.count(\"i\")}\\n o-->{frase.count(\"o\")}\\n u-->{frase.count(\"u\")}\")"
   ]
  },
  {
   "cell_type": "markdown",
   "id": "4b6211c5",
   "metadata": {},
   "source": [
    "4. Contar el número total de palabras en el texto ingresado"
   ]
  },
  {
   "cell_type": "code",
   "execution_count": 51,
   "id": "5b6eb1b1",
   "metadata": {},
   "outputs": [
    {
     "name": "stdout",
     "output_type": "stream",
     "text": [
      "Puede explicar los cambios de un commit\n",
      "número total de palabras 7\n"
     ]
    }
   ],
   "source": [
    "print(frase)\n",
    "print(f\"número total de palabras {frase.count(\" \")+1}\")"
   ]
  },
  {
   "cell_type": "markdown",
   "id": "bee5597e",
   "metadata": {},
   "source": [
    "5. Eliminar la primera palabra"
   ]
  },
  {
   "cell_type": "code",
   "execution_count": 60,
   "id": "8bcbfe9d",
   "metadata": {},
   "outputs": [
    {
     "name": "stdout",
     "output_type": "stream",
     "text": [
      "explicar los cambios de un commit\n"
     ]
    }
   ],
   "source": [
    "#Buscar el primer espacio en blanco\n",
    "ind=frase.find(\" \")\n",
    "type(ind)\n",
    "frase_sin_palabra=frase.removeprefix(frase[0:ind])\n",
    "print(frase_sin_palabra.strip())"
   ]
  },
  {
   "cell_type": "markdown",
   "id": "d5b05440",
   "metadata": {},
   "source": [
    "6. Reemplazar todos los espacios por guiones medios (-)"
   ]
  },
  {
   "cell_type": "code",
   "execution_count": 62,
   "id": "90a21e61",
   "metadata": {},
   "outputs": [
    {
     "name": "stdout",
     "output_type": "stream",
     "text": [
      "Puede-explicar-los-cambios-de-un-commit\n"
     ]
    }
   ],
   "source": [
    "frase_con_guiones = frase.replace(\" \",\"-\")\n",
    "print(frase_con_guiones)"
   ]
  },
  {
   "cell_type": "markdown",
   "id": "8a61c508",
   "metadata": {},
   "source": [
    "7. Cambia las mayúsculas a minúsculas y las minúsculas a mayúsculas"
   ]
  },
  {
   "cell_type": "code",
   "execution_count": 69,
   "id": "8cb35aaf",
   "metadata": {},
   "outputs": [
    {
     "name": "stdout",
     "output_type": "stream",
     "text": [
      "Help on built-in function swapcase:\n",
      "\n",
      "swapcase() method of builtins.str instance\n",
      "    Convert uppercase characters to lowercase and lowercase characters to uppercase.\n",
      "\n",
      "mI mUNDO ES hERMOSO!!\n"
     ]
    }
   ],
   "source": [
    "#Cambiar mayúsculas a minúsculas y minúsculas a mayúsculas\n",
    "#Ejemplo 1\n",
    "cadena = \"Mi Mundo es Hermoso!!\"\n",
    "help(cadena.swapcase)\n",
    "cadena1=cadena.swapcase() #  Convert uppercase characters to lowercase and lowercase characters to uppercase.\n",
    "print(cadena1)\n"
   ]
  },
  {
   "cell_type": "markdown",
   "id": "66b8d816",
   "metadata": {},
   "source": [
    "Muéstrale al usuario los resultados del análisis de su texto."
   ]
  },
  {
   "cell_type": "code",
   "execution_count": 71,
   "id": "eb0d449a",
   "metadata": {},
   "outputs": [
    {
     "name": "stdout",
     "output_type": "stream",
     "text": [
      "Número total de caracteres ingresado:  39\n",
      "Número total de caracteres sin espacios:  33\n",
      "Cantidad de vocales:\n",
      " a-->2\n",
      " e-->4\n",
      " i-->3\n",
      " o-->3\n",
      " u-->2\n",
      "Número total de palabras 7\n"
     ]
    }
   ],
   "source": [
    "print(\"Número total de caracteres ingresado: \",len(frase))\n",
    "print(\"Número total de caracteres sin espacios: \",len(frase_sin_espacios))\n",
    "print(f\"Cantidad de vocales:\\n a-->{frase.count(\"a\")}\\n e-->{frase.count(\"e\")}\\n i-->{frase.count(\"i\")}\\n o-->{frase.count(\"o\")}\\n u-->{frase.count(\"u\")}\")\n",
    "print(f\"Número total de palabras {frase.count(\" \")+1}\")"
   ]
  }
 ],
 "metadata": {
  "kernelspec": {
   "display_name": "Python 3 (ipykernel)",
   "language": "python",
   "name": "python3"
  },
  "language_info": {
   "codemirror_mode": {
    "name": "ipython",
    "version": 3
   },
   "file_extension": ".py",
   "mimetype": "text/x-python",
   "name": "python",
   "nbconvert_exporter": "python",
   "pygments_lexer": "ipython3",
   "version": "3.12.4"
  }
 },
 "nbformat": 4,
 "nbformat_minor": 5
}
