{
 "cells": [
  {
   "cell_type": "markdown",
   "id": "e89c5079",
   "metadata": {},
   "source": [
    "# Proyecto de Día 11 - Análisis Predictivo para una Tienda Minorista\n",
    "\n",
    "### Objetivo\n",
    "Tu tarea consiste en desarrollar un **modelo predictivo** para una **tienda minorista** que desea pronosticar las ventas basándose en diversas características. La tienda ha estado recopilando datos sobre las ventas diarias y quiere utilizar esta información para tomar decisiones informadas sobre la *gestión de inventario*, *promociones* y *programación de personal*.\n",
    "\n",
    "Tu objetivo es construir un modelo que pueda **predecir el total de ventas para el próximo mes**, utilizando datos de los meses anteriores.\n",
    "\n",
    "### Tarea\n",
    "**1. Preparación de Datos**\n",
    "- Carga el conjunto de datos y realiza cualquier preprocesamiento necesario, como manejar **valores faltantes**, selección de **variables dependientes e independientes**, y dividir los datos en **conjuntos de entrenamiento** y **prueba**.\n",
    "\n",
    "\n",
    "**2. Análisis Exploratorio de Datos (EDA)**\n",
    "- Realiza un EDA para entender la distribución de las ventas y la relación entre las ventas y otras características. Esto podría incluir trazar las ventas a lo largo del tiempo, analizar las ventas en *festivos* vs. *no festivos* y el impacto de las promociones.\n",
    "\n",
    "**3. Selección de Modelo**\n",
    "- Utiliza el conocimiento que has adquirido sobre diferentes algoritmos para elegir el modelo más adecuado para esta tarea. Considera la **Regresión Lineal**, los **Árboles de Decisión**, y los **Bosques Aleatorios**.\n",
    "\n",
    "**4. Entrenamiento y Evaluación del Modelo**\n",
    "- Entrena tu modelo seleccionado en el conjunto de entrenamiento y evalúa su rendimiento utilizando el conjunto de prueba. Utiliza gráficos para visualizar las *ventas reales* vs. *las predichas*.\n",
    "\n",
    "**5. Conclusión**\n",
    "\n",
    "- Basado en los resultados iniciales, resume tus hallazgos y realiza recomendaciones para la tienda minorista sobre cómo utilizar el análisis predictivo para una mejor toma de decisiones.\n",
    "\n",
    "\n",
    "### Nota\n",
    "* Enfócate en la claridad y simplicidad de tu código.\n",
    "\n",
    "¡Mucha Suerte!"
   ]
  },
  {
   "cell_type": "code",
   "execution_count": null,
   "id": "a0abf9ea",
   "metadata": {},
   "outputs": [],
   "source": []
  }
 ],
 "metadata": {
  "kernelspec": {
   "display_name": "Python 3 (ipykernel)",
   "language": "python",
   "name": "python3"
  },
  "language_info": {
   "codemirror_mode": {
    "name": "ipython",
    "version": 3
   },
   "file_extension": ".py",
   "mimetype": "text/x-python",
   "name": "python",
   "nbconvert_exporter": "python",
   "pygments_lexer": "ipython3",
   "version": "3.11.5"
  }
 },
 "nbformat": 4,
 "nbformat_minor": 5
}
