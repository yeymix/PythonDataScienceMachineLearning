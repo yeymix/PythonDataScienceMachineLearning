{
 "cells": [
  {
   "cell_type": "code",
   "execution_count": null,
   "id": "33517a31",
   "metadata": {},
   "outputs": [],
   "source": [
    "import pandas as pd\n",
    "from sklearn.model_selection import train_test_split\n",
    "from sklearn.preprocessing import MinMaxScaler\n",
    "\n",
    "# algoritmos\n",
    "from sklearn.linear_model import LogisticRegression\n",
    "from sklearn.tree import DecisionTreeClassifier\n",
    "from sklearn.ensemble import RandomForestClassifier"
   ]
  },
  {
   "cell_type": "code",
   "execution_count": null,
   "id": "12373421",
   "metadata": {},
   "outputs": [],
   "source": [
    "ruta = # Coloca aquí tu ruta\n",
    "\n",
    "df = pd.read_csv(ruta)\n",
    "df.head()"
   ]
  },
  {
   "cell_type": "code",
   "execution_count": null,
   "id": "cf1d5acf",
   "metadata": {},
   "outputs": [],
   "source": [
    "escala = MinMaxScaler(feature_range=(0, 1))\n",
    "normado = escala.fit_transform(df)\n",
    "df_normado = pd.DataFrame(data=normado, columns=df.columns)\n",
    "df_normado.head()"
   ]
  },
  {
   "cell_type": "code",
   "execution_count": null,
   "id": "1ed11e25",
   "metadata": {},
   "outputs": [],
   "source": [
    "X = df_normado.drop(\"Clase\", axis=1)"
   ]
  },
  {
   "cell_type": "code",
   "execution_count": null,
   "id": "c8df6cb9",
   "metadata": {},
   "outputs": [],
   "source": [
    "y = df_normado[\"Clase\"]"
   ]
  },
  {
   "cell_type": "code",
   "execution_count": null,
   "id": "44c04f81",
   "metadata": {},
   "outputs": [],
   "source": [
    "X_entrena, X_prueba, y_entrena, y_prueba = train_test_split(X, y, train_size=0.7, random_state=42)"
   ]
  },
  {
   "cell_type": "code",
   "execution_count": null,
   "id": "32712187",
   "metadata": {},
   "outputs": [],
   "source": []
  }
 ],
 "metadata": {
  "kernelspec": {
   "display_name": "Python 3 (ipykernel)",
   "language": "python",
   "name": "python3"
  },
  "language_info": {
   "codemirror_mode": {
    "name": "ipython",
    "version": 3
   },
   "file_extension": ".py",
   "mimetype": "text/x-python",
   "name": "python",
   "nbconvert_exporter": "python",
   "pygments_lexer": "ipython3",
   "version": "3.11.5"
  }
 },
 "nbformat": 4,
 "nbformat_minor": 5
}
