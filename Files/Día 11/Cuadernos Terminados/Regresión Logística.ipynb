{
 "cells": [
  {
   "attachments": {},
   "cell_type": "markdown",
   "id": "04a88a83",
   "metadata": {},
   "source": [
    "# Regresión Logpistica\n",
    "\n",
    "Refresquemos antes de seguir. El **Machine Learning** se aplica de *tres maneras* diferentes:\n",
    "- El Aprendizaje Supervisado\n",
    "- El Aprendizaje no Supervisado\n",
    "- El Aprendizaje por Reforzamiento\n",
    "\n",
    "El **Aprendizaje Supervisado** (que es un modelo que puede hacer predicciones sobre nuevos datos en base a lo aprendido en el entrenamiento con datos etiquetados), se puede aplicar usando *4 algoritmos* distintos:\n",
    "* Regresión Lineal\n",
    "* Regresión Logística\n",
    "* Árboles de Decisión\n",
    "* Bosques Aleatorios\n",
    "\n",
    "En la lección anterior hemos aprendido a hacer **Regresión Lineal**, por lo que en esta lección nos toca ver el segundo algoritmo: la **Regresión Logística**.\n",
    "\n",
    "La **Regresión Logística** es una herramienta que, basándose en información que le damos, aprende a **distinguir entre dos opciones posibles**, como un *sí* o un *no*. La **Regresión Logística** no se usa para predecir *valores* o *categorías*, sino solamente para predecir qué tan probable que algo sea un sí o un no.\n",
    "\n",
    "Para verlo en la práctica vamos a imaginar un ejemplo. Tenemos una base de datos de clientes que han comprado (o no) un seguro en nuestra compañía, por lo que queremos aprender a predecir, en base a esos datos, si un nuevo cliente va a comprar (o no) nuestro seguro.\n",
    "\n",
    "Nuestro algoritmo va a revisar las características de esos clientes para predecir, según las características de los nuevos clientes, si es probable que compren (o no).\n",
    "\n",
    "Comencemos importando las librerías que vamos a necesitar."
   ]
  },
  {
   "cell_type": "code",
   "execution_count": 1,
   "id": "942aa653",
   "metadata": {},
   "outputs": [],
   "source": [
    "import pandas as pd\n",
    "import matplotlib.pyplot as plt\n",
    "from sklearn.linear_model import LogisticRegression\n",
    "from sklearn.model_selection import train_test_split"
   ]
  },
  {
   "attachments": {},
   "cell_type": "markdown",
   "id": "e4a19479",
   "metadata": {},
   "source": [
    "Ahora vamos a importar un **archivo csv** con la información de nuestros clientes. Lo vas a encontrar en la **carpeta de descargas**:"
   ]
  },
  {
   "cell_type": "code",
   "execution_count": 2,
   "id": "8e7cdf70",
   "metadata": {},
   "outputs": [
    {
     "data": {
      "text/html": [
       "<div>\n",
       "<style scoped>\n",
       "    .dataframe tbody tr th:only-of-type {\n",
       "        vertical-align: middle;\n",
       "    }\n",
       "\n",
       "    .dataframe tbody tr th {\n",
       "        vertical-align: top;\n",
       "    }\n",
       "\n",
       "    .dataframe thead th {\n",
       "        text-align: right;\n",
       "    }\n",
       "</style>\n",
       "<table border=\"1\" class=\"dataframe\">\n",
       "  <thead>\n",
       "    <tr style=\"text-align: right;\">\n",
       "      <th></th>\n",
       "      <th>edad</th>\n",
       "      <th>compra</th>\n",
       "    </tr>\n",
       "  </thead>\n",
       "  <tbody>\n",
       "    <tr>\n",
       "      <th>0</th>\n",
       "      <td>22</td>\n",
       "      <td>0</td>\n",
       "    </tr>\n",
       "    <tr>\n",
       "      <th>1</th>\n",
       "      <td>25</td>\n",
       "      <td>0</td>\n",
       "    </tr>\n",
       "    <tr>\n",
       "      <th>2</th>\n",
       "      <td>47</td>\n",
       "      <td>1</td>\n",
       "    </tr>\n",
       "    <tr>\n",
       "      <th>3</th>\n",
       "      <td>52</td>\n",
       "      <td>0</td>\n",
       "    </tr>\n",
       "    <tr>\n",
       "      <th>4</th>\n",
       "      <td>46</td>\n",
       "      <td>1</td>\n",
       "    </tr>\n",
       "  </tbody>\n",
       "</table>\n",
       "</div>"
      ],
      "text/plain": [
       "   edad  compra\n",
       "0    22       0\n",
       "1    25       0\n",
       "2    47       1\n",
       "3    52       0\n",
       "4    46       1"
      ]
     },
     "execution_count": 2,
     "metadata": {},
     "output_type": "execute_result"
    }
   ],
   "source": [
    "ruta = \"C:/Users/Federico/Downloads/Python para Data Science/Día 11/5 - Regresión Logística/datos_seguro.csv\"\n",
    "\n",
    "df = pd.read_csv(ruta)\n",
    "df.head()"
   ]
  },
  {
   "attachments": {},
   "cell_type": "markdown",
   "id": "b7149282",
   "metadata": {},
   "source": [
    "Y ahora pongamos esta información en **matplotlib** para verlo gráficamente."
   ]
  },
  {
   "cell_type": "code",
   "execution_count": 3,
   "id": "2484f997",
   "metadata": {},
   "outputs": [
    {
     "data": {
      "image/png": "[encoded data removed]",
      "text/plain": [
       "<Figure size 640x480 with 1 Axes>"
      ]
     },
     "metadata": {},
     "output_type": "display_data"
    }
   ],
   "source": [
    "plt.scatter(df.edad,\n",
    "           df.compra);"
   ]
  },
  {
   "attachments": {},
   "cell_type": "markdown",
   "id": "f75e8797",
   "metadata": {},
   "source": [
    "Por lo que podemos observar, las personas menores de 40 años, raramente han comprado seguros, por lo tanto parece ser que la edad es un factor importante a la hora de predecir el comportamiento de compra de nuestros clientes. Esto es fácil de ver porque nuestra base de datos es extremadamente simple, pero vamos a poner esto en un modelo de regresión logística para poder medir esto con mucha mayor precisión.\n",
    "\n",
    "El primer paso va a ser separar la información en conjuntos de datos para **entrenamiento**, y conjunto de datos para **prueba**. Para eso voy a crear cuatro variables:\n",
    "\n",
    "\t• X_entrena\n",
    "\t• X_prueba\n",
    "\t• y_entrena\n",
    "\t• y_prueba\n",
    "\n",
    "Necesito poner en cada una de esas variables algunos de los registros de mi dataset, pero necesito asegurarme de que cada registro aparezca en una de esas variables (la de entrenamiento o la de prueba) sin repetirse, y sin dejar ningún registro afuera.\n",
    "\n",
    "¿Cómo hago eso de un modo sencillo? Con la función `train_test_split()` de `sklearn.model_selection` que para eso la hemos importado al comienzo de este cuaderno."
   ]
  },
  {
   "cell_type": "code",
   "execution_count": 4,
   "id": "b3c0073d",
   "metadata": {},
   "outputs": [],
   "source": [
    "X_entrena, X_prueba, y_entrena, y_prueba = train_test_split(df[[\"edad\"]], df[\"compra\"], train_size=0.9)"
   ]
  },
  {
   "attachments": {},
   "cell_type": "markdown",
   "id": "c7d919dd",
   "metadata": {},
   "source": [
    "Esta celda no nos devuelve nada, pero ya ha hecho su trabajo que es distribuir todos nuestros datos entre estas 4 variables.\n",
    "\n",
    "Y para que veas que lo ha hecho muy bien, veamos qué es lo que tiene `X_entrena` y `X_prueba`:"
   ]
  },
  {
   "cell_type": "code",
   "execution_count": 5,
   "id": "871ae3a7",
   "metadata": {},
   "outputs": [
    {
     "data": {
      "text/html": [
       "<div>\n",
       "<style scoped>\n",
       "    .dataframe tbody tr th:only-of-type {\n",
       "        vertical-align: middle;\n",
       "    }\n",
       "\n",
       "    .dataframe tbody tr th {\n",
       "        vertical-align: top;\n",
       "    }\n",
       "\n",
       "    .dataframe thead th {\n",
       "        text-align: right;\n",
       "    }\n",
       "</style>\n",
       "<table border=\"1\" class=\"dataframe\">\n",
       "  <thead>\n",
       "    <tr style=\"text-align: right;\">\n",
       "      <th></th>\n",
       "      <th>edad</th>\n",
       "    </tr>\n",
       "  </thead>\n",
       "  <tbody>\n",
       "    <tr>\n",
       "      <th>0</th>\n",
       "      <td>22</td>\n",
       "    </tr>\n",
       "    <tr>\n",
       "      <th>22</th>\n",
       "      <td>40</td>\n",
       "    </tr>\n",
       "    <tr>\n",
       "      <th>16</th>\n",
       "      <td>25</td>\n",
       "    </tr>\n",
       "    <tr>\n",
       "      <th>18</th>\n",
       "      <td>19</td>\n",
       "    </tr>\n",
       "    <tr>\n",
       "      <th>14</th>\n",
       "      <td>49</td>\n",
       "    </tr>\n",
       "    <tr>\n",
       "      <th>23</th>\n",
       "      <td>45</td>\n",
       "    </tr>\n",
       "    <tr>\n",
       "      <th>26</th>\n",
       "      <td>23</td>\n",
       "    </tr>\n",
       "    <tr>\n",
       "      <th>10</th>\n",
       "      <td>18</td>\n",
       "    </tr>\n",
       "    <tr>\n",
       "      <th>2</th>\n",
       "      <td>47</td>\n",
       "    </tr>\n",
       "    <tr>\n",
       "      <th>20</th>\n",
       "      <td>21</td>\n",
       "    </tr>\n",
       "    <tr>\n",
       "      <th>12</th>\n",
       "      <td>27</td>\n",
       "    </tr>\n",
       "    <tr>\n",
       "      <th>6</th>\n",
       "      <td>55</td>\n",
       "    </tr>\n",
       "    <tr>\n",
       "      <th>19</th>\n",
       "      <td>18</td>\n",
       "    </tr>\n",
       "    <tr>\n",
       "      <th>17</th>\n",
       "      <td>58</td>\n",
       "    </tr>\n",
       "    <tr>\n",
       "      <th>5</th>\n",
       "      <td>56</td>\n",
       "    </tr>\n",
       "    <tr>\n",
       "      <th>25</th>\n",
       "      <td>54</td>\n",
       "    </tr>\n",
       "    <tr>\n",
       "      <th>1</th>\n",
       "      <td>25</td>\n",
       "    </tr>\n",
       "    <tr>\n",
       "      <th>21</th>\n",
       "      <td>26</td>\n",
       "    </tr>\n",
       "    <tr>\n",
       "      <th>9</th>\n",
       "      <td>61</td>\n",
       "    </tr>\n",
       "    <tr>\n",
       "      <th>8</th>\n",
       "      <td>62</td>\n",
       "    </tr>\n",
       "    <tr>\n",
       "      <th>4</th>\n",
       "      <td>46</td>\n",
       "    </tr>\n",
       "    <tr>\n",
       "      <th>13</th>\n",
       "      <td>29</td>\n",
       "    </tr>\n",
       "    <tr>\n",
       "      <th>7</th>\n",
       "      <td>60</td>\n",
       "    </tr>\n",
       "    <tr>\n",
       "      <th>3</th>\n",
       "      <td>52</td>\n",
       "    </tr>\n",
       "  </tbody>\n",
       "</table>\n",
       "</div>"
      ],
      "text/plain": [
       "    edad\n",
       "0     22\n",
       "22    40\n",
       "16    25\n",
       "18    19\n",
       "14    49\n",
       "23    45\n",
       "26    23\n",
       "10    18\n",
       "2     47\n",
       "20    21\n",
       "12    27\n",
       "6     55\n",
       "19    18\n",
       "17    58\n",
       "5     56\n",
       "25    54\n",
       "1     25\n",
       "21    26\n",
       "9     61\n",
       "8     62\n",
       "4     46\n",
       "13    29\n",
       "7     60\n",
       "3     52"
      ]
     },
     "execution_count": 5,
     "metadata": {},
     "output_type": "execute_result"
    }
   ],
   "source": [
    "X_entrena"
   ]
  },
  {
   "cell_type": "code",
   "execution_count": 6,
   "id": "eba54653",
   "metadata": {},
   "outputs": [
    {
     "data": {
      "text/html": [
       "<div>\n",
       "<style scoped>\n",
       "    .dataframe tbody tr th:only-of-type {\n",
       "        vertical-align: middle;\n",
       "    }\n",
       "\n",
       "    .dataframe tbody tr th {\n",
       "        vertical-align: top;\n",
       "    }\n",
       "\n",
       "    .dataframe thead th {\n",
       "        text-align: right;\n",
       "    }\n",
       "</style>\n",
       "<table border=\"1\" class=\"dataframe\">\n",
       "  <thead>\n",
       "    <tr style=\"text-align: right;\">\n",
       "      <th></th>\n",
       "      <th>edad</th>\n",
       "    </tr>\n",
       "  </thead>\n",
       "  <tbody>\n",
       "    <tr>\n",
       "      <th>24</th>\n",
       "      <td>50</td>\n",
       "    </tr>\n",
       "    <tr>\n",
       "      <th>11</th>\n",
       "      <td>28</td>\n",
       "    </tr>\n",
       "    <tr>\n",
       "      <th>15</th>\n",
       "      <td>55</td>\n",
       "    </tr>\n",
       "  </tbody>\n",
       "</table>\n",
       "</div>"
      ],
      "text/plain": [
       "    edad\n",
       "24    50\n",
       "11    28\n",
       "15    55"
      ]
     },
     "execution_count": 6,
     "metadata": {},
     "output_type": "execute_result"
    }
   ],
   "source": [
    "X_prueba"
   ]
  },
  {
   "attachments": {},
   "cell_type": "markdown",
   "id": "91f6f154",
   "metadata": {},
   "source": [
    "Como puedes ver, la función `train_test_split()` ha mezclado los registros y los ha dividido en dos grupos, y la razón por la que ha puesto tantos en el grupo de entrenamiento, y tan poco en el grupo de prueba, es porque yo lo he especificado así en el parámetro `train_size`, donde le he pedido que incluya el **90%** de los datos (*0.9*) en el **grupo de entrenamiento**, y por eso solo ha quedado el **10%** para el **grupo de prueba**. Si no colocamos nada en este parámetro, la función `train_test_split()` por defecto va a usar el 80% para entrenamiento y el 20% para prueba.\n",
    "\n",
    "Recuerda que los grupos de entrenamiento y de prueba son mutuamente **excluyentes** (por lo que no se repiten los registros entre sí) y además son **exhaustivos** (porque entre ambos incluyen al 100% de los datos originales).\n",
    "\n",
    "Si te estás preguntando para qué hacemos esto, es porque de esta manera podemos comprobar el funcionamiento de nuestro modelo en base a los datos que tenemos. Vamos a entrenar al modelo con una gran parte de nuestros datos, y luego lo vamos a poner a prueba sus predicciones con la otra parte más pequeña, y de esa manera podremos medir la cantidad de aciertos o errores que ha conseguido, y así estimar qué tan bien se va a desempeñar nuestro modelo cuando ingrese información nueva.\n",
    "\n",
    "Muy bien, vayamos al siguiente paso, que es crear el objeto que contenga al modelo de regresión logística que hemos importado:"
   ]
  },
  {
   "cell_type": "code",
   "execution_count": 7,
   "id": "779a0157",
   "metadata": {},
   "outputs": [],
   "source": [
    "modelo = LogisticRegression()"
   ]
  },
  {
   "attachments": {},
   "cell_type": "markdown",
   "id": "237033d4",
   "metadata": {},
   "source": [
    "Y ahora lo vamos a entrenar con las variables de entrenamiento que hemos creado antes:"
   ]
  },
  {
   "cell_type": "code",
   "execution_count": 8,
   "id": "36dd38e1",
   "metadata": {},
   "outputs": [
    {
     "data": {
      "text/html": [
       "<style>#sk-container-id-1 {color: black;}#sk-container-id-1 pre{padding: 0;}#sk-container-id-1 div.sk-toggleable {background-color: white;}#sk-container-id-1 label.sk-toggleable__label {cursor: pointer;display: block;width: 100%;margin-bottom: 0;padding: 0.3em;box-sizing: border-box;text-align: center;}#sk-container-id-1 label.sk-toggleable__label-arrow:before {content: \"▸\";float: left;margin-right: 0.25em;color: #696969;}#sk-container-id-1 label.sk-toggleable__label-arrow:hover:before {color: black;}#sk-container-id-1 div.sk-estimator:hover label.sk-toggleable__label-arrow:before {color: black;}#sk-container-id-1 div.sk-toggleable__content {max-height: 0;max-width: 0;overflow: hidden;text-align: left;background-color: #f0f8ff;}#sk-container-id-1 div.sk-toggleable__content pre {margin: 0.2em;color: black;border-radius: 0.25em;background-color: #f0f8ff;}#sk-container-id-1 input.sk-toggleable__control:checked~div.sk-toggleable__content {max-height: 200px;max-width: 100%;overflow: auto;}#sk-container-id-1 input.sk-toggleable__control:checked~label.sk-toggleable__label-arrow:before {content: \"▾\";}#sk-container-id-1 div.sk-estimator input.sk-toggleable__control:checked~label.sk-toggleable__label {background-color: #d4ebff;}#sk-container-id-1 div.sk-label input.sk-toggleable__control:checked~label.sk-toggleable__label {background-color: #d4ebff;}#sk-container-id-1 input.sk-hidden--visually {border: 0;clip: rect(1px 1px 1px 1px);clip: rect(1px, 1px, 1px, 1px);height: 1px;margin: -1px;overflow: hidden;padding: 0;position: absolute;width: 1px;}#sk-container-id-1 div.sk-estimator {font-family: monospace;background-color: #f0f8ff;border: 1px dotted black;border-radius: 0.25em;box-sizing: border-box;margin-bottom: 0.5em;}#sk-container-id-1 div.sk-estimator:hover {background-color: #d4ebff;}#sk-container-id-1 div.sk-parallel-item::after {content: \"\";width: 100%;border-bottom: 1px solid gray;flex-grow: 1;}#sk-container-id-1 div.sk-label:hover label.sk-toggleable__label {background-color: #d4ebff;}#sk-container-id-1 div.sk-serial::before {content: \"\";position: absolute;border-left: 1px solid gray;box-sizing: border-box;top: 0;bottom: 0;left: 50%;z-index: 0;}#sk-container-id-1 div.sk-serial {display: flex;flex-direction: column;align-items: center;background-color: white;padding-right: 0.2em;padding-left: 0.2em;position: relative;}#sk-container-id-1 div.sk-item {position: relative;z-index: 1;}#sk-container-id-1 div.sk-parallel {display: flex;align-items: stretch;justify-content: center;background-color: white;position: relative;}#sk-container-id-1 div.sk-item::before, #sk-container-id-1 div.sk-parallel-item::before {content: \"\";position: absolute;border-left: 1px solid gray;box-sizing: border-box;top: 0;bottom: 0;left: 50%;z-index: -1;}#sk-container-id-1 div.sk-parallel-item {display: flex;flex-direction: column;z-index: 1;position: relative;background-color: white;}#sk-container-id-1 div.sk-parallel-item:first-child::after {align-self: flex-end;width: 50%;}#sk-container-id-1 div.sk-parallel-item:last-child::after {align-self: flex-start;width: 50%;}#sk-container-id-1 div.sk-parallel-item:only-child::after {width: 0;}#sk-container-id-1 div.sk-dashed-wrapped {border: 1px dashed gray;margin: 0 0.4em 0.5em 0.4em;box-sizing: border-box;padding-bottom: 0.4em;background-color: white;}#sk-container-id-1 div.sk-label label {font-family: monospace;font-weight: bold;display: inline-block;line-height: 1.2em;}#sk-container-id-1 div.sk-label-container {text-align: center;}#sk-container-id-1 div.sk-container {/* jupyter's `normalize.less` sets `[hidden] { display: none; }` but bootstrap.min.css set `[hidden] { display: none !important; }` so we also need the `!important` here to be able to override the default hidden behavior on the sphinx rendered scikit-learn.org. See: https://github.com/scikit-learn/scikit-learn/issues/21755 */display: inline-block !important;position: relative;}#sk-container-id-1 div.sk-text-repr-fallback {display: none;}</style><div id=\"sk-container-id-1\" class=\"sk-top-container\"><div class=\"sk-text-repr-fallback\"><pre>LogisticRegression()</pre><b>In a Jupyter environment, please rerun this cell to show the HTML representation or trust the notebook. <br />On GitHub, the HTML representation is unable to render, please try loading this page with nbviewer.org.</b></div><div class=\"sk-container\" hidden><div class=\"sk-item\"><div class=\"sk-estimator sk-toggleable\"><input class=\"sk-toggleable__control sk-hidden--visually\" id=\"sk-estimator-id-1\" type=\"checkbox\" checked><label for=\"sk-estimator-id-1\" class=\"sk-toggleable__label sk-toggleable__label-arrow\">LogisticRegression</label><div class=\"sk-toggleable__content\"><pre>LogisticRegression()</pre></div></div></div></div></div>"
      ],
      "text/plain": [
       "LogisticRegression()"
      ]
     },
     "execution_count": 8,
     "metadata": {},
     "output_type": "execute_result"
    }
   ],
   "source": [
    "modelo.fit(X_entrena, y_entrena)"
   ]
  },
  {
   "attachments": {},
   "cell_type": "markdown",
   "id": "b5cd8e34",
   "metadata": {},
   "source": [
    "Nuestro modelo ya está entrenado (ojalá yo pudiera entrenar así de rápido), y ahora vamos a usar un mpetodo llamado `score`, que se usa para evaluar el desempeño de los modelos de Machine Learning. "
   ]
  },
  {
   "cell_type": "code",
   "execution_count": 9,
   "id": "80f50fa0",
   "metadata": {},
   "outputs": [
    {
     "data": {
      "text/plain": [
       "0.875"
      ]
     },
     "execution_count": 9,
     "metadata": {},
     "output_type": "execute_result"
    }
   ],
   "source": [
    "modelo.score(X_entrena, y_entrena)"
   ]
  },
  {
   "attachments": {},
   "cell_type": "markdown",
   "id": "bbe78b9e",
   "metadata": {},
   "source": [
    "Bueno, hemos obtenido un puntaje de 87.5%.\n",
    "\n",
    "En general, el objetivo de entrenar un modelo de aprendizaje automático es obtener el mejor rendimiento posible en datos nuevos y en datos no vistos.\n",
    "\n",
    "El método de puntuación proporcionado por **scikit-learn** es una forma de medir el rendimiento del modelo entrenado en un conjunto de prueba.\n",
    "\n",
    "Para definir si un puntaje es bueno o malo, va a depender del algoritmo específico y del problema que se esté resolviendo, pero típicamente, un puntaje más alto es mejor que uno más bajo. Normalmente un puntaje de *0.8* podría considerarse bueno en la mayoría de los casos, pero según el caso podría considerarse un puntaje pobre.\n",
    "\n",
    "La cuestión es que mi modelo es confiable, y me puedo apoyar en el para estimar cómo se comportarán los nuevos clientes.\n",
    "\n",
    "Entonces lo pongamos en práctica, trayendo nuevos datos, y haciendo predicciones sobre las probabilidades de que me compren o no un seguro."
   ]
  },
  {
   "cell_type": "code",
   "execution_count": 10,
   "id": "1f653cbf",
   "metadata": {},
   "outputs": [
    {
     "data": {
      "text/html": [
       "<div>\n",
       "<style scoped>\n",
       "    .dataframe tbody tr th:only-of-type {\n",
       "        vertical-align: middle;\n",
       "    }\n",
       "\n",
       "    .dataframe tbody tr th {\n",
       "        vertical-align: top;\n",
       "    }\n",
       "\n",
       "    .dataframe thead th {\n",
       "        text-align: right;\n",
       "    }\n",
       "</style>\n",
       "<table border=\"1\" class=\"dataframe\">\n",
       "  <thead>\n",
       "    <tr style=\"text-align: right;\">\n",
       "      <th></th>\n",
       "      <th>edad</th>\n",
       "    </tr>\n",
       "  </thead>\n",
       "  <tbody>\n",
       "    <tr>\n",
       "      <th>0</th>\n",
       "      <td>25</td>\n",
       "    </tr>\n",
       "    <tr>\n",
       "      <th>1</th>\n",
       "      <td>35</td>\n",
       "    </tr>\n",
       "    <tr>\n",
       "      <th>2</th>\n",
       "      <td>45</td>\n",
       "    </tr>\n",
       "    <tr>\n",
       "      <th>3</th>\n",
       "      <td>55</td>\n",
       "    </tr>\n",
       "  </tbody>\n",
       "</table>\n",
       "</div>"
      ],
      "text/plain": [
       "   edad\n",
       "0    25\n",
       "1    35\n",
       "2    45\n",
       "3    55"
      ]
     },
     "execution_count": 10,
     "metadata": {},
     "output_type": "execute_result"
    }
   ],
   "source": [
    "datos_nuevos = pd.DataFrame({\"edad\":[25, 35, 45, 55]})\n",
    "datos_nuevos"
   ]
  },
  {
   "attachments": {},
   "cell_type": "markdown",
   "id": "f5e8ce44",
   "metadata": {},
   "source": [
    "Sobre estos datos voy a aplicar mi `modelo` usando la función `predict_proba()`."
   ]
  },
  {
   "cell_type": "code",
   "execution_count": 11,
   "id": "4e59994c",
   "metadata": {},
   "outputs": [
    {
     "data": {
      "text/plain": [
       "array([[0.85218951, 0.14781049],\n",
       "       [0.62443224, 0.37556776],\n",
       "       [0.32408311, 0.67591689],\n",
       "       [0.12147411, 0.87852589]])"
      ]
     },
     "execution_count": 11,
     "metadata": {},
     "output_type": "execute_result"
    }
   ],
   "source": [
    "probabilidades = modelo.predict_proba(datos_nuevos)\n",
    "probabilidades"
   ]
  },
  {
   "attachments": {},
   "cell_type": "markdown",
   "id": "36d37d72",
   "metadata": {},
   "source": [
    "Como puedes ver, `predict_proba()` nos devuelve **4 tuplas** (una para cada registro) con las probabilidades de que no compre y las probabilidades de que sí compre. Nos vamos a centrar en el segundo número de cada tupla (las probabilidades de compra)."
   ]
  },
  {
   "cell_type": "code",
   "execution_count": 12,
   "id": "5ef19952",
   "metadata": {},
   "outputs": [
    {
     "data": {
      "text/plain": [
       "array([0.14781049, 0.37556776, 0.67591689, 0.87852589])"
      ]
     },
     "execution_count": 12,
     "metadata": {},
     "output_type": "execute_result"
    }
   ],
   "source": [
    "prob_compra = probabilidades[:, 1]\n",
    "prob_compra"
   ]
  },
  {
   "attachments": {},
   "cell_type": "markdown",
   "id": "1bc020d5",
   "metadata": {},
   "source": [
    "Y ahora procuremos graficar esta nueva información junto al **scatter** que hicimos al comienzo de esta lección:"
   ]
  },
  {
   "cell_type": "code",
   "execution_count": 13,
   "id": "e87abd73",
   "metadata": {},
   "outputs": [
    {
     "data": {
      "image/png": "[encoded data removed]",
      "text/plain": [
       "<Figure size 640x480 with 1 Axes>"
      ]
     },
     "metadata": {},
     "output_type": "display_data"
    }
   ],
   "source": [
    "plt.scatter(df.edad,\n",
    "           df.compra)\n",
    "plt.scatter(datos_nuevos[\"edad\"],\n",
    "           prob_compra,\n",
    "           color=\"red\");"
   ]
  },
  {
   "attachments": {},
   "cell_type": "markdown",
   "id": "1e673745",
   "metadata": {},
   "source": [
    "Esto ha sido **Regresión Logística**, y es turno de pasar al tercer algoritmo de aprendizaje supervisado en Machine Learning, que son los **Árboles de Decisión**."
   ]
  },
  {
   "cell_type": "code",
   "execution_count": null,
   "id": "a3e37eda",
   "metadata": {},
   "outputs": [],
   "source": []
  }
 ],
 "metadata": {
  "kernelspec": {
   "display_name": "Python 3 (ipykernel)",
   "language": "python",
   "name": "python3"
  },
  "language_info": {
   "codemirror_mode": {
    "name": "ipython",
    "version": 3
   },
   "file_extension": ".py",
   "mimetype": "text/x-python",
   "name": "python",
   "nbconvert_exporter": "python",
   "pygments_lexer": "ipython3",
   "version": "3.11.5"
  }
 },
 "nbformat": 4,
 "nbformat_minor": 5
}
