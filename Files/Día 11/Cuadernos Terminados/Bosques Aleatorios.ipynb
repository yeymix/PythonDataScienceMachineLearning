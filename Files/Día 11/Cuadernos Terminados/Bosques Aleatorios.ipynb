{
 "cells": [
  {
   "cell_type": "markdown",
   "id": "1d31c3c4",
   "metadata": {},
   "source": [
    "# Bosques Aleatorios\n",
    "\n",
    "Hasta el momento, hemos visto que el **Machine Learning** se aplica de *tres maneras* diferentes:\n",
    "\n",
    "- El Aprendizaje Supervisado\n",
    "- El Aprendizaje no Supervisado\n",
    "- El Aprendizaje por Reforzamiento\n",
    "\n",
    "El **Aprendizaje Supervisado** (que es un modelo que puede hacer predicciones sobre nuevos datos en base a lo aprendido en el entrenamiento con datos etiquetados), se puede aplicar usando *4 algoritmos* distintos:\n",
    "\n",
    "* Regresión Lineal\n",
    "* Regresión Logística\n",
    "* Árboles de Decisión\n",
    "* Bosques Aleatorios\n",
    "\n",
    "En las lecciones anteriores hemos aprendido a hacer **Regresión Lineal**, **Regresión Logística**, y **Árboles de Decisión**, por lo que nos falta ver el último algoritmo propuesto, que es el **Bosque Aleatorio**.\n",
    "\n",
    "Al igual que el *Árbol de Decisión*, el **Bosque aleatorio** puede usarse tanto para *regresión* como para *clasificación*. Es un método que básicamente lo que hace es **construir múltiples árboles de decisión** y combina sus salidas para hacer una predicción final.\n",
    "\n",
    "Los bosques aleatorios tienen **varias ventajas** sobre los árboles de decisión individuales. Primero, que son menos propensos a sobreajustarse, y segundo que pueden manejar un mayor número de características de entrada. Pero creo que la mayor ventaja es que son capaces de capturar relaciones no lineales complejas entre las variables de entrada y la salida.\n",
    "\n",
    "Vamos a probar este modelo con un conjunto de datos bien complejo.\n",
    "\n",
    "Primero vamos a importar a las librerías que ya conocemos, y a otras que vamos a conocer en esta lección."
   ]
  },
  {
   "cell_type": "code",
   "execution_count": 1,
   "id": "2e7dcf55",
   "metadata": {},
   "outputs": [],
   "source": [
    "# Librerías conocidas\n",
    "import pandas as pd\n",
    "import numpy as np\n",
    "from sklearn.model_selection import train_test_split\n",
    "\n",
    "# Librerías nuevas\n",
    "from sklearn.preprocessing import MinMaxScaler\n",
    "from sklearn.ensemble import RandomForestClassifier"
   ]
  },
  {
   "cell_type": "markdown",
   "id": "f9350e2e",
   "metadata": {},
   "source": [
    "En segundo lugar vamos a cargar nuestros datos en un `df`. Recuerda descargar este archivo **csv** desde los recursos de esta lección."
   ]
  },
  {
   "cell_type": "code",
   "execution_count": 2,
   "id": "7dc75f04",
   "metadata": {},
   "outputs": [
    {
     "data": {
      "text/html": [
       "<div>\n",
       "<style scoped>\n",
       "    .dataframe tbody tr th:only-of-type {\n",
       "        vertical-align: middle;\n",
       "    }\n",
       "\n",
       "    .dataframe tbody tr th {\n",
       "        vertical-align: top;\n",
       "    }\n",
       "\n",
       "    .dataframe thead th {\n",
       "        text-align: right;\n",
       "    }\n",
       "</style>\n",
       "<table border=\"1\" class=\"dataframe\">\n",
       "  <thead>\n",
       "    <tr style=\"text-align: right;\">\n",
       "      <th></th>\n",
       "      <th>Duracion</th>\n",
       "      <th>V1</th>\n",
       "      <th>V2</th>\n",
       "      <th>V3</th>\n",
       "      <th>V4</th>\n",
       "      <th>V5</th>\n",
       "      <th>V6</th>\n",
       "      <th>V7</th>\n",
       "      <th>V8</th>\n",
       "      <th>V9</th>\n",
       "      <th>...</th>\n",
       "      <th>V21</th>\n",
       "      <th>V22</th>\n",
       "      <th>V23</th>\n",
       "      <th>V24</th>\n",
       "      <th>V25</th>\n",
       "      <th>V26</th>\n",
       "      <th>V27</th>\n",
       "      <th>V28</th>\n",
       "      <th>Monto</th>\n",
       "      <th>Clase</th>\n",
       "    </tr>\n",
       "  </thead>\n",
       "  <tbody>\n",
       "    <tr>\n",
       "      <th>0</th>\n",
       "      <td>0.0</td>\n",
       "      <td>-1.359807</td>\n",
       "      <td>-0.072781</td>\n",
       "      <td>2.536347</td>\n",
       "      <td>1.378155</td>\n",
       "      <td>-0.338321</td>\n",
       "      <td>0.462388</td>\n",
       "      <td>0.239599</td>\n",
       "      <td>0.098698</td>\n",
       "      <td>0.363787</td>\n",
       "      <td>...</td>\n",
       "      <td>-0.018307</td>\n",
       "      <td>0.277838</td>\n",
       "      <td>-0.110474</td>\n",
       "      <td>0.066928</td>\n",
       "      <td>0.128539</td>\n",
       "      <td>-0.189115</td>\n",
       "      <td>0.133558</td>\n",
       "      <td>-0.021053</td>\n",
       "      <td>149.62</td>\n",
       "      <td>0</td>\n",
       "    </tr>\n",
       "    <tr>\n",
       "      <th>1</th>\n",
       "      <td>0.0</td>\n",
       "      <td>1.191857</td>\n",
       "      <td>0.266151</td>\n",
       "      <td>0.166480</td>\n",
       "      <td>0.448154</td>\n",
       "      <td>0.060018</td>\n",
       "      <td>-0.082361</td>\n",
       "      <td>-0.078803</td>\n",
       "      <td>0.085102</td>\n",
       "      <td>-0.255425</td>\n",
       "      <td>...</td>\n",
       "      <td>-0.225775</td>\n",
       "      <td>-0.638672</td>\n",
       "      <td>0.101288</td>\n",
       "      <td>-0.339846</td>\n",
       "      <td>0.167170</td>\n",
       "      <td>0.125895</td>\n",
       "      <td>-0.008983</td>\n",
       "      <td>0.014724</td>\n",
       "      <td>2.69</td>\n",
       "      <td>0</td>\n",
       "    </tr>\n",
       "    <tr>\n",
       "      <th>2</th>\n",
       "      <td>1.0</td>\n",
       "      <td>-1.358354</td>\n",
       "      <td>-1.340163</td>\n",
       "      <td>1.773209</td>\n",
       "      <td>0.379780</td>\n",
       "      <td>-0.503198</td>\n",
       "      <td>1.800499</td>\n",
       "      <td>0.791461</td>\n",
       "      <td>0.247676</td>\n",
       "      <td>-1.514654</td>\n",
       "      <td>...</td>\n",
       "      <td>0.247998</td>\n",
       "      <td>0.771679</td>\n",
       "      <td>0.909412</td>\n",
       "      <td>-0.689281</td>\n",
       "      <td>-0.327642</td>\n",
       "      <td>-0.139097</td>\n",
       "      <td>-0.055353</td>\n",
       "      <td>-0.059752</td>\n",
       "      <td>378.66</td>\n",
       "      <td>0</td>\n",
       "    </tr>\n",
       "    <tr>\n",
       "      <th>3</th>\n",
       "      <td>1.0</td>\n",
       "      <td>-0.966272</td>\n",
       "      <td>-0.185226</td>\n",
       "      <td>1.792993</td>\n",
       "      <td>-0.863291</td>\n",
       "      <td>-0.010309</td>\n",
       "      <td>1.247203</td>\n",
       "      <td>0.237609</td>\n",
       "      <td>0.377436</td>\n",
       "      <td>-1.387024</td>\n",
       "      <td>...</td>\n",
       "      <td>-0.108300</td>\n",
       "      <td>0.005274</td>\n",
       "      <td>-0.190321</td>\n",
       "      <td>-1.175575</td>\n",
       "      <td>0.647376</td>\n",
       "      <td>-0.221929</td>\n",
       "      <td>0.062723</td>\n",
       "      <td>0.061458</td>\n",
       "      <td>123.50</td>\n",
       "      <td>0</td>\n",
       "    </tr>\n",
       "    <tr>\n",
       "      <th>4</th>\n",
       "      <td>2.0</td>\n",
       "      <td>-1.158233</td>\n",
       "      <td>0.877737</td>\n",
       "      <td>1.548718</td>\n",
       "      <td>0.403034</td>\n",
       "      <td>-0.407193</td>\n",
       "      <td>0.095921</td>\n",
       "      <td>0.592941</td>\n",
       "      <td>-0.270533</td>\n",
       "      <td>0.817739</td>\n",
       "      <td>...</td>\n",
       "      <td>-0.009431</td>\n",
       "      <td>0.798278</td>\n",
       "      <td>-0.137458</td>\n",
       "      <td>0.141267</td>\n",
       "      <td>-0.206010</td>\n",
       "      <td>0.502292</td>\n",
       "      <td>0.219422</td>\n",
       "      <td>0.215153</td>\n",
       "      <td>69.99</td>\n",
       "      <td>0</td>\n",
       "    </tr>\n",
       "  </tbody>\n",
       "</table>\n",
       "<p>5 rows × 31 columns</p>\n",
       "</div>"
      ],
      "text/plain": [
       "   Duracion        V1        V2        V3        V4        V5        V6  \\\n",
       "0       0.0 -1.359807 -0.072781  2.536347  1.378155 -0.338321  0.462388   \n",
       "1       0.0  1.191857  0.266151  0.166480  0.448154  0.060018 -0.082361   \n",
       "2       1.0 -1.358354 -1.340163  1.773209  0.379780 -0.503198  1.800499   \n",
       "3       1.0 -0.966272 -0.185226  1.792993 -0.863291 -0.010309  1.247203   \n",
       "4       2.0 -1.158233  0.877737  1.548718  0.403034 -0.407193  0.095921   \n",
       "\n",
       "         V7        V8        V9  ...       V21       V22       V23       V24  \\\n",
       "0  0.239599  0.098698  0.363787  ... -0.018307  0.277838 -0.110474  0.066928   \n",
       "1 -0.078803  0.085102 -0.255425  ... -0.225775 -0.638672  0.101288 -0.339846   \n",
       "2  0.791461  0.247676 -1.514654  ...  0.247998  0.771679  0.909412 -0.689281   \n",
       "3  0.237609  0.377436 -1.387024  ... -0.108300  0.005274 -0.190321 -1.175575   \n",
       "4  0.592941 -0.270533  0.817739  ... -0.009431  0.798278 -0.137458  0.141267   \n",
       "\n",
       "        V25       V26       V27       V28   Monto  Clase  \n",
       "0  0.128539 -0.189115  0.133558 -0.021053  149.62      0  \n",
       "1  0.167170  0.125895 -0.008983  0.014724    2.69      0  \n",
       "2 -0.327642 -0.139097 -0.055353 -0.059752  378.66      0  \n",
       "3  0.647376 -0.221929  0.062723  0.061458  123.50      0  \n",
       "4 -0.206010  0.502292  0.219422  0.215153   69.99      0  \n",
       "\n",
       "[5 rows x 31 columns]"
      ]
     },
     "execution_count": 2,
     "metadata": {},
     "output_type": "execute_result"
    }
   ],
   "source": [
    "ruta = \"C:/Users/Federico/Downloads/Python para Data Science/Día 11/7 - Bosque Aleatorio/tarjetas_credito.csv\"\n",
    "\n",
    "df = pd.read_csv(ruta)\n",
    "df.head()"
   ]
  },
  {
   "cell_type": "markdown",
   "id": "172c9c98",
   "metadata": {},
   "source": [
    "Esta es una base de datos que contiene casi *285 mil registros* de transacciones hechas con **tarjetas de crédito**. Sí que es un gran dataset. \n",
    "\n",
    "Observa que los nombres de las columnas son bastante crípticos, porque no nos permiten saber de qué se trata, pero esto es porque cuando se trabaja con información sensible o privada, normalmente su contenido pasa por algún proceso de anonimización, para poder manipular esos datos sin tener acceso a información restringida. Por eso los nombres de la mayoría de las columnas son `Valor1`, `Valor2`, etc. Es muy posible que cada columna represente datos como *ubicación*, *hora y fecha*, *tipo de comercio*, *historial de fraudes*, etc. Pero con todos sus valores codificados en números para respetar la integridad de la información.\n",
    "\n",
    "Las columnas que sí tenemos explicadas son `Duración`, `Monto` y `Clase`.\n",
    "\n",
    "La columna `Clase` es la más importante, porque es la que dice si la transacción fue legítima (con el valor **0**) o fraudulenta (con el valor **1**). Entonces el objetivo de nuestro trabajo va a ser usar un algoritmo de **bosque aleatorio** para identificar si hay alguna relación fuerte entre todas las columnas del registro y la columna `Clase`, de modo que luego podamos usar este modelo para identificar si una nueva transacción tiene riesgo de ser fraudulenta o no.\n",
    "\n",
    "El primer paso, en este caso va a ser **normalizar los datos**. ¿Qué es eso? Cuando tenemos toda esta cantidad de números tan diversos, ya que cada columna representa diferentes cosas, y sus datos pueden tener valores mínimos y máximos muy dispersos, va a ser muy difícil para nuestro modelo encontrar relaciones entre todos ellos. Entonces vamos a tener que normalizar a estos datos.\n",
    "\n",
    "Normalizar los datos es hacer que todos estos números de todas estas columnas sean **transformados dentro de una nueva escala**, para que en cada columna el *valor mínimo* sea **0** y el *valor máximo* sea **1**. Esto va a ayudar al algoritmo a entender las relaciones que pueden llegar a haber entre ellos.\n",
    "\n",
    "Aquí es donde entra en acción la primera librería nueva que vamos a conocer en esta lección:"
   ]
  },
  {
   "cell_type": "code",
   "execution_count": 3,
   "id": "73b9a6bd",
   "metadata": {},
   "outputs": [
    {
     "data": {
      "text/html": [
       "<div>\n",
       "<style scoped>\n",
       "    .dataframe tbody tr th:only-of-type {\n",
       "        vertical-align: middle;\n",
       "    }\n",
       "\n",
       "    .dataframe tbody tr th {\n",
       "        vertical-align: top;\n",
       "    }\n",
       "\n",
       "    .dataframe thead th {\n",
       "        text-align: right;\n",
       "    }\n",
       "</style>\n",
       "<table border=\"1\" class=\"dataframe\">\n",
       "  <thead>\n",
       "    <tr style=\"text-align: right;\">\n",
       "      <th></th>\n",
       "      <th>Duracion</th>\n",
       "      <th>V1</th>\n",
       "      <th>V2</th>\n",
       "      <th>V3</th>\n",
       "      <th>V4</th>\n",
       "      <th>V5</th>\n",
       "      <th>V6</th>\n",
       "      <th>V7</th>\n",
       "      <th>V8</th>\n",
       "      <th>V9</th>\n",
       "      <th>...</th>\n",
       "      <th>V21</th>\n",
       "      <th>V22</th>\n",
       "      <th>V23</th>\n",
       "      <th>V24</th>\n",
       "      <th>V25</th>\n",
       "      <th>V26</th>\n",
       "      <th>V27</th>\n",
       "      <th>V28</th>\n",
       "      <th>Monto</th>\n",
       "      <th>Clase</th>\n",
       "    </tr>\n",
       "  </thead>\n",
       "  <tbody>\n",
       "    <tr>\n",
       "      <th>0</th>\n",
       "      <td>0.000000</td>\n",
       "      <td>0.935192</td>\n",
       "      <td>0.766490</td>\n",
       "      <td>0.881365</td>\n",
       "      <td>0.313023</td>\n",
       "      <td>0.763439</td>\n",
       "      <td>0.267669</td>\n",
       "      <td>0.266815</td>\n",
       "      <td>0.786444</td>\n",
       "      <td>0.475312</td>\n",
       "      <td>...</td>\n",
       "      <td>0.561184</td>\n",
       "      <td>0.522992</td>\n",
       "      <td>0.663793</td>\n",
       "      <td>0.391253</td>\n",
       "      <td>0.585122</td>\n",
       "      <td>0.394557</td>\n",
       "      <td>0.418976</td>\n",
       "      <td>0.312697</td>\n",
       "      <td>0.005824</td>\n",
       "      <td>0.0</td>\n",
       "    </tr>\n",
       "    <tr>\n",
       "      <th>1</th>\n",
       "      <td>0.000000</td>\n",
       "      <td>0.978542</td>\n",
       "      <td>0.770067</td>\n",
       "      <td>0.840298</td>\n",
       "      <td>0.271796</td>\n",
       "      <td>0.766120</td>\n",
       "      <td>0.262192</td>\n",
       "      <td>0.264875</td>\n",
       "      <td>0.786298</td>\n",
       "      <td>0.453981</td>\n",
       "      <td>...</td>\n",
       "      <td>0.557840</td>\n",
       "      <td>0.480237</td>\n",
       "      <td>0.666938</td>\n",
       "      <td>0.336440</td>\n",
       "      <td>0.587290</td>\n",
       "      <td>0.446013</td>\n",
       "      <td>0.416345</td>\n",
       "      <td>0.313423</td>\n",
       "      <td>0.000105</td>\n",
       "      <td>0.0</td>\n",
       "    </tr>\n",
       "    <tr>\n",
       "      <th>2</th>\n",
       "      <td>0.000006</td>\n",
       "      <td>0.935217</td>\n",
       "      <td>0.753118</td>\n",
       "      <td>0.868141</td>\n",
       "      <td>0.268766</td>\n",
       "      <td>0.762329</td>\n",
       "      <td>0.281122</td>\n",
       "      <td>0.270177</td>\n",
       "      <td>0.788042</td>\n",
       "      <td>0.410603</td>\n",
       "      <td>...</td>\n",
       "      <td>0.565477</td>\n",
       "      <td>0.546030</td>\n",
       "      <td>0.678939</td>\n",
       "      <td>0.289354</td>\n",
       "      <td>0.559515</td>\n",
       "      <td>0.402727</td>\n",
       "      <td>0.415489</td>\n",
       "      <td>0.311911</td>\n",
       "      <td>0.014739</td>\n",
       "      <td>0.0</td>\n",
       "    </tr>\n",
       "    <tr>\n",
       "      <th>3</th>\n",
       "      <td>0.000006</td>\n",
       "      <td>0.941878</td>\n",
       "      <td>0.765304</td>\n",
       "      <td>0.868484</td>\n",
       "      <td>0.213661</td>\n",
       "      <td>0.765647</td>\n",
       "      <td>0.275559</td>\n",
       "      <td>0.266803</td>\n",
       "      <td>0.789434</td>\n",
       "      <td>0.414999</td>\n",
       "      <td>...</td>\n",
       "      <td>0.559734</td>\n",
       "      <td>0.510277</td>\n",
       "      <td>0.662607</td>\n",
       "      <td>0.223826</td>\n",
       "      <td>0.614245</td>\n",
       "      <td>0.389197</td>\n",
       "      <td>0.417669</td>\n",
       "      <td>0.314371</td>\n",
       "      <td>0.004807</td>\n",
       "      <td>0.0</td>\n",
       "    </tr>\n",
       "    <tr>\n",
       "      <th>4</th>\n",
       "      <td>0.000012</td>\n",
       "      <td>0.938617</td>\n",
       "      <td>0.776520</td>\n",
       "      <td>0.864251</td>\n",
       "      <td>0.269796</td>\n",
       "      <td>0.762975</td>\n",
       "      <td>0.263984</td>\n",
       "      <td>0.268968</td>\n",
       "      <td>0.782484</td>\n",
       "      <td>0.490950</td>\n",
       "      <td>...</td>\n",
       "      <td>0.561327</td>\n",
       "      <td>0.547271</td>\n",
       "      <td>0.663392</td>\n",
       "      <td>0.401270</td>\n",
       "      <td>0.566343</td>\n",
       "      <td>0.507497</td>\n",
       "      <td>0.420561</td>\n",
       "      <td>0.317490</td>\n",
       "      <td>0.002724</td>\n",
       "      <td>0.0</td>\n",
       "    </tr>\n",
       "  </tbody>\n",
       "</table>\n",
       "<p>5 rows × 31 columns</p>\n",
       "</div>"
      ],
      "text/plain": [
       "   Duracion        V1        V2        V3        V4        V5        V6  \\\n",
       "0  0.000000  0.935192  0.766490  0.881365  0.313023  0.763439  0.267669   \n",
       "1  0.000000  0.978542  0.770067  0.840298  0.271796  0.766120  0.262192   \n",
       "2  0.000006  0.935217  0.753118  0.868141  0.268766  0.762329  0.281122   \n",
       "3  0.000006  0.941878  0.765304  0.868484  0.213661  0.765647  0.275559   \n",
       "4  0.000012  0.938617  0.776520  0.864251  0.269796  0.762975  0.263984   \n",
       "\n",
       "         V7        V8        V9  ...       V21       V22       V23       V24  \\\n",
       "0  0.266815  0.786444  0.475312  ...  0.561184  0.522992  0.663793  0.391253   \n",
       "1  0.264875  0.786298  0.453981  ...  0.557840  0.480237  0.666938  0.336440   \n",
       "2  0.270177  0.788042  0.410603  ...  0.565477  0.546030  0.678939  0.289354   \n",
       "3  0.266803  0.789434  0.414999  ...  0.559734  0.510277  0.662607  0.223826   \n",
       "4  0.268968  0.782484  0.490950  ...  0.561327  0.547271  0.663392  0.401270   \n",
       "\n",
       "        V25       V26       V27       V28     Monto  Clase  \n",
       "0  0.585122  0.394557  0.418976  0.312697  0.005824    0.0  \n",
       "1  0.587290  0.446013  0.416345  0.313423  0.000105    0.0  \n",
       "2  0.559515  0.402727  0.415489  0.311911  0.014739    0.0  \n",
       "3  0.614245  0.389197  0.417669  0.314371  0.004807    0.0  \n",
       "4  0.566343  0.507497  0.420561  0.317490  0.002724    0.0  \n",
       "\n",
       "[5 rows x 31 columns]"
      ]
     },
     "execution_count": 3,
     "metadata": {},
     "output_type": "execute_result"
    }
   ],
   "source": [
    "escala = MinMaxScaler(feature_range=(0, 1))\n",
    "normado = escala.fit_transform(df)\n",
    "df_normado = pd.DataFrame(data=normado, columns=df.columns)\n",
    "df_normado.head()"
   ]
  },
  {
   "cell_type": "markdown",
   "id": "f3c4d54e",
   "metadata": {},
   "source": [
    "Ahora tenemos un **nuevo DataFrame** cuya única diferencia con el original es que ahora todos sus datos se encuentran dentro del rango que va de **0** a **1**, pero manteniendo entre ellos, por supuesto, la misma estructura y la misma distancia.\n",
    "\n",
    "Ahora sí, comencemos a definir nuestras variables. La **variable independiente** va a ser un DataFrame que contenga a **todas las columnas menos `Clase`**, que es la que queremos averiguar."
   ]
  },
  {
   "cell_type": "code",
   "execution_count": 5,
   "id": "f73e4859",
   "metadata": {},
   "outputs": [],
   "source": [
    "X = df_normado.drop(\"Clase\", axis=1)"
   ]
  },
  {
   "cell_type": "markdown",
   "id": "35790583",
   "metadata": {},
   "source": [
    "Y la **variable dependiente**, que es la que queremos descubrir, va a ser justamente la columna `Clase`:"
   ]
  },
  {
   "cell_type": "code",
   "execution_count": 6,
   "id": "85e65384",
   "metadata": {},
   "outputs": [],
   "source": [
    "y = df_normado[\"Clase\"]"
   ]
  },
  {
   "cell_type": "markdown",
   "id": "2c708951",
   "metadata": {},
   "source": [
    "Ahora creamos nuestros grupos de **entrenamiento** y **prueba** como lo hemos hecho hasta ahora:"
   ]
  },
  {
   "cell_type": "code",
   "execution_count": 8,
   "id": "c5613a12",
   "metadata": {},
   "outputs": [],
   "source": [
    "X_entrena, X_prueba, y_entrena, y_prueba = train_test_split(X, y, train_size=0.7, random_state=42)"
   ]
  },
  {
   "cell_type": "markdown",
   "id": "5cb9472f",
   "metadata": {},
   "source": [
    "Y llamamos al **algoritmo** de **bosque aleatorio** (que ya hemos importado y que se llama `RandomForestClassifier()`) para poder entrenarlo.\n",
    "\n",
    "Esto va a tomar **bastante tiempo**, porque es un algoritmo complejo y porque es un dataset enorme, por lo que no te preocupes si ves que te toma muchos minutos."
   ]
  },
  {
   "cell_type": "code",
   "execution_count": 9,
   "id": "e4b36d22",
   "metadata": {},
   "outputs": [
    {
     "data": {
      "text/html": [
       "<style>#sk-container-id-1 {color: black;}#sk-container-id-1 pre{padding: 0;}#sk-container-id-1 div.sk-toggleable {background-color: white;}#sk-container-id-1 label.sk-toggleable__label {cursor: pointer;display: block;width: 100%;margin-bottom: 0;padding: 0.3em;box-sizing: border-box;text-align: center;}#sk-container-id-1 label.sk-toggleable__label-arrow:before {content: \"▸\";float: left;margin-right: 0.25em;color: #696969;}#sk-container-id-1 label.sk-toggleable__label-arrow:hover:before {color: black;}#sk-container-id-1 div.sk-estimator:hover label.sk-toggleable__label-arrow:before {color: black;}#sk-container-id-1 div.sk-toggleable__content {max-height: 0;max-width: 0;overflow: hidden;text-align: left;background-color: #f0f8ff;}#sk-container-id-1 div.sk-toggleable__content pre {margin: 0.2em;color: black;border-radius: 0.25em;background-color: #f0f8ff;}#sk-container-id-1 input.sk-toggleable__control:checked~div.sk-toggleable__content {max-height: 200px;max-width: 100%;overflow: auto;}#sk-container-id-1 input.sk-toggleable__control:checked~label.sk-toggleable__label-arrow:before {content: \"▾\";}#sk-container-id-1 div.sk-estimator input.sk-toggleable__control:checked~label.sk-toggleable__label {background-color: #d4ebff;}#sk-container-id-1 div.sk-label input.sk-toggleable__control:checked~label.sk-toggleable__label {background-color: #d4ebff;}#sk-container-id-1 input.sk-hidden--visually {border: 0;clip: rect(1px 1px 1px 1px);clip: rect(1px, 1px, 1px, 1px);height: 1px;margin: -1px;overflow: hidden;padding: 0;position: absolute;width: 1px;}#sk-container-id-1 div.sk-estimator {font-family: monospace;background-color: #f0f8ff;border: 1px dotted black;border-radius: 0.25em;box-sizing: border-box;margin-bottom: 0.5em;}#sk-container-id-1 div.sk-estimator:hover {background-color: #d4ebff;}#sk-container-id-1 div.sk-parallel-item::after {content: \"\";width: 100%;border-bottom: 1px solid gray;flex-grow: 1;}#sk-container-id-1 div.sk-label:hover label.sk-toggleable__label {background-color: #d4ebff;}#sk-container-id-1 div.sk-serial::before {content: \"\";position: absolute;border-left: 1px solid gray;box-sizing: border-box;top: 0;bottom: 0;left: 50%;z-index: 0;}#sk-container-id-1 div.sk-serial {display: flex;flex-direction: column;align-items: center;background-color: white;padding-right: 0.2em;padding-left: 0.2em;position: relative;}#sk-container-id-1 div.sk-item {position: relative;z-index: 1;}#sk-container-id-1 div.sk-parallel {display: flex;align-items: stretch;justify-content: center;background-color: white;position: relative;}#sk-container-id-1 div.sk-item::before, #sk-container-id-1 div.sk-parallel-item::before {content: \"\";position: absolute;border-left: 1px solid gray;box-sizing: border-box;top: 0;bottom: 0;left: 50%;z-index: -1;}#sk-container-id-1 div.sk-parallel-item {display: flex;flex-direction: column;z-index: 1;position: relative;background-color: white;}#sk-container-id-1 div.sk-parallel-item:first-child::after {align-self: flex-end;width: 50%;}#sk-container-id-1 div.sk-parallel-item:last-child::after {align-self: flex-start;width: 50%;}#sk-container-id-1 div.sk-parallel-item:only-child::after {width: 0;}#sk-container-id-1 div.sk-dashed-wrapped {border: 1px dashed gray;margin: 0 0.4em 0.5em 0.4em;box-sizing: border-box;padding-bottom: 0.4em;background-color: white;}#sk-container-id-1 div.sk-label label {font-family: monospace;font-weight: bold;display: inline-block;line-height: 1.2em;}#sk-container-id-1 div.sk-label-container {text-align: center;}#sk-container-id-1 div.sk-container {/* jupyter's `normalize.less` sets `[hidden] { display: none; }` but bootstrap.min.css set `[hidden] { display: none !important; }` so we also need the `!important` here to be able to override the default hidden behavior on the sphinx rendered scikit-learn.org. See: https://github.com/scikit-learn/scikit-learn/issues/21755 */display: inline-block !important;position: relative;}#sk-container-id-1 div.sk-text-repr-fallback {display: none;}</style><div id=\"sk-container-id-1\" class=\"sk-top-container\"><div class=\"sk-text-repr-fallback\"><pre>RandomForestClassifier()</pre><b>In a Jupyter environment, please rerun this cell to show the HTML representation or trust the notebook. <br />On GitHub, the HTML representation is unable to render, please try loading this page with nbviewer.org.</b></div><div class=\"sk-container\" hidden><div class=\"sk-item\"><div class=\"sk-estimator sk-toggleable\"><input class=\"sk-toggleable__control sk-hidden--visually\" id=\"sk-estimator-id-1\" type=\"checkbox\" checked><label for=\"sk-estimator-id-1\" class=\"sk-toggleable__label sk-toggleable__label-arrow\">RandomForestClassifier</label><div class=\"sk-toggleable__content\"><pre>RandomForestClassifier()</pre></div></div></div></div></div>"
      ],
      "text/plain": [
       "RandomForestClassifier()"
      ]
     },
     "execution_count": 9,
     "metadata": {},
     "output_type": "execute_result"
    }
   ],
   "source": [
    "forest = RandomForestClassifier()\n",
    "forest.fit(X_entrena, y_entrena)"
   ]
  },
  {
   "cell_type": "markdown",
   "id": "10433810",
   "metadata": {},
   "source": [
    "Ahora que el modelo está entrenado, voy a aplicar el método score para ver qué tan confiable es mi modelo para establecer **predicciones** en base a los datos de este dataset."
   ]
  },
  {
   "cell_type": "code",
   "execution_count": 10,
   "id": "b17ee776",
   "metadata": {},
   "outputs": [
    {
     "data": {
      "text/plain": [
       "0.9996254813150287"
      ]
     },
     "execution_count": 10,
     "metadata": {},
     "output_type": "execute_result"
    }
   ],
   "source": [
    "forest.score(X_prueba, y_prueba)"
   ]
  },
  {
   "cell_type": "markdown",
   "id": "2d3b0d9b",
   "metadata": {},
   "source": [
    "Como puedes ver el puntaje es bastante alto, y esto quiere decir que este es un modelo muy **apropiado para identificar si una futura transacción puede ser fraudulenta o no**, ya que ha encontrado **relaciones muy fuertes** entre todas las variables independientes y la salida de la columna `Clase`.\n",
    "\n",
    "Ahora simulemos una situación en la que recibimos una **nueva transacción**, de la cual queremos saber qué tan probable es que sea fraudulenta, y para eso vamos a aplicar este modelo que parece ser tan confiable.\n",
    "\n",
    "Voy a crear un nuevo registro con este código:"
   ]
  },
  {
   "cell_type": "code",
   "execution_count": 11,
   "id": "a503c473",
   "metadata": {},
   "outputs": [],
   "source": [
    "nuevo_registro = pd.DataFrame({\n",
    "    'Duracion': [0.000006], 'V1': [0.452345], 'V2': [0.564789], 'V3': [0.123456], 'V4': [0.654321],\n",
    "    'V5': [0.987654], 'V6': [0.345678], 'V7': [0.234567], 'V8': [0.876543], 'V9': [0.456789],\n",
    "    'V10': [0.567890], 'V11': [0.678901], 'V12': [0.789012], 'V13': [0.890123], 'V14': [0.901234],\n",
    "    'V15': [0.012345], 'V16': [0.543210], 'V17': [0.432109], 'V18': [0.321098], 'V19': [0.210987],\n",
    "    'V20': [0.109876], 'V21': [0.098765], 'V22': [0.887654], 'V23': [0.776543], 'V24': [0.665432],\n",
    "    'V25': [0.554321],     'V26': [0.443210], 'V27': [0.332109], 'V28': [0.221098], 'Monto': [0.110987]\n",
    "}, index=[0])"
   ]
  },
  {
   "cell_type": "markdown",
   "id": "b9fc61f5",
   "metadata": {},
   "source": [
    "Ahora voy a usar el método `predict()` de `RandomForestClasifier()` para hacer rápidamente mi predicción de si va a ser clase **0** o **1**."
   ]
  },
  {
   "cell_type": "code",
   "execution_count": 12,
   "id": "4a7aada1",
   "metadata": {},
   "outputs": [
    {
     "data": {
      "text/plain": [
       "array([0.])"
      ]
     },
     "execution_count": 12,
     "metadata": {},
     "output_type": "execute_result"
    }
   ],
   "source": [
    "clase_predicha = forest.predict(nuevo_registro)\n",
    "clase_predicha"
   ]
  },
  {
   "cell_type": "markdown",
   "id": "f47bdb48",
   "metadata": {},
   "source": [
    "Esas son buenas noticias, parece que esta nueva operación **es legítima**.\n",
    "\n",
    "Ahora usemos `predict_proba()` para ver qué tan probable es que sea legítima."
   ]
  },
  {
   "cell_type": "code",
   "execution_count": 13,
   "id": "e13e3e12",
   "metadata": {},
   "outputs": [
    {
     "data": {
      "text/plain": [
       "array([[0.62, 0.38]])"
      ]
     },
     "execution_count": 13,
     "metadata": {},
     "output_type": "execute_result"
    }
   ],
   "source": [
    "probabilidades = forest.predict_proba(nuevo_registro)\n",
    "probabilidades"
   ]
  },
  {
   "cell_type": "markdown",
   "id": "22233c1a",
   "metadata": {},
   "source": [
    "Bueno, parece que hay algunos indicadores de duda, ya que hay solo un **62% de posibilidades de que sea legítima**, pero el resultado sigue siendo positivo. Pasó la prueba.\n",
    "\n",
    "Y ahora hagamos un pequeño bloque de código para mostrar esta información de un modo más amigable."
   ]
  },
  {
   "cell_type": "code",
   "execution_count": 15,
   "id": "7cee88ea",
   "metadata": {},
   "outputs": [
    {
     "name": "stdout",
     "output_type": "stream",
     "text": [
      "Clase predicha:  0.0\n",
      "Probabilidades de Legitimidad:  0.62\n",
      "Probabilidades de Fraude:  0.38\n"
     ]
    }
   ],
   "source": [
    "print(\"Clase predicha: \", clase_predicha[0])\n",
    "print(\"Probabilidades de Legitimidad: \", probabilidades[0][0])\n",
    "print(\"Probabilidades de Fraude: \", probabilidades[0][1])"
   ]
  },
  {
   "cell_type": "markdown",
   "id": "8f81aebd",
   "metadata": {},
   "source": [
    "Este ha sido el algoritmo de **bosque aleatorio** que hemos usado para que la máquina haga **aprendizaje supervisado**."
   ]
  },
  {
   "cell_type": "code",
   "execution_count": null,
   "id": "f847dc4b",
   "metadata": {},
   "outputs": [],
   "source": []
  }
 ],
 "metadata": {
  "kernelspec": {
   "display_name": "Python 3 (ipykernel)",
   "language": "python",
   "name": "python3"
  },
  "language_info": {
   "codemirror_mode": {
    "name": "ipython",
    "version": 3
   },
   "file_extension": ".py",
   "mimetype": "text/x-python",
   "name": "python",
   "nbconvert_exporter": "python",
   "pygments_lexer": "ipython3",
   "version": "3.11.5"
  }
 },
 "nbformat": 4,
 "nbformat_minor": 5
}
