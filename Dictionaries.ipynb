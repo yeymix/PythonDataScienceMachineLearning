{
 "cells": [
  {
   "cell_type": "markdown",
   "metadata": {},
   "source": [
    "## dictionaries\n",
    "\n",
    "Sintaxis:\n",
    "dic={}\n",
    "\n",
    "* Se componen de una clave y un valor\n",
    "* Conexiones de elementos. Todos tienen que tener valores y claves\n",
    "* Las claves deben ser únicas\n",
    "* Los valores si pueden repetirse\n",
    "* Los índices no se pueden indexar, no tienen un orden específico.\n",
    "* La búsqueda de los elementos, debe ser por la clave\n",
    "* Se puede cambiar los valores a las claves\n",
    "* Se puede agregar elementos"
   ]
  },
  {
   "cell_type": "code",
   "execution_count": 4,
   "metadata": {},
   "outputs": [
    {
     "data": {
      "text/plain": [
       "dict"
      ]
     },
     "execution_count": 4,
     "metadata": {},
     "output_type": "execute_result"
    }
   ],
   "source": [
    "dic={}\n",
    "type(dic)"
   ]
  },
  {
   "cell_type": "code",
   "execution_count": 5,
   "metadata": {},
   "outputs": [
    {
     "data": {
      "text/plain": [
       "{'juanito': 12, 'pepito': 14, 'juanita': 16}"
      ]
     },
     "execution_count": 5,
     "metadata": {},
     "output_type": "execute_result"
    }
   ],
   "source": [
    "edades={\"juanito\":12,\"pepito\":14,\"juanita\":16}\n",
    "edades"
   ]
  },
  {
   "cell_type": "markdown",
   "metadata": {},
   "source": [
    "* Ejercicio Diccionarios en Python 1\n",
    "\n",
    "Crea un diccionario llamado mi_diccionario que contenga los siguientes tres pares de clave-valor, donde las claves sean los nombres de tres  frutas, y los valores sean su color principal.\n",
    "\n",
    "Los pares clave-valor que guardarás en tu diccionario son los siguientes:\n",
    "\n",
    "\"manzana\" - \"roja\",\n",
    "\n",
    "\"banana\" - \"amarilla\",\n",
    "\n",
    "\"naranja\" - \"naranja\""
   ]
  },
  {
   "cell_type": "code",
   "execution_count": 6,
   "metadata": {},
   "outputs": [
    {
     "data": {
      "text/plain": [
       "{'manzana': 'roja', 'banana': 'amarilla', 'naranja': 'naranja'}"
      ]
     },
     "execution_count": 6,
     "metadata": {},
     "output_type": "execute_result"
    }
   ],
   "source": [
    "dic_frutas={\"manzana\":\"roja\",\"banana\":\"amarilla\",\"naranja\":\"naranja\"}\n",
    "dic_frutas"
   ]
  },
  {
   "cell_type": "markdown",
   "metadata": {},
   "source": [
    "* Ejercicio Diccionarios en Python 2\n",
    "\n",
    "Dado el siguiente diccionario edades, que asocia nombres de personas con su edad: edades = {\"Juan\": 28, \"Elena\": 32, \"Marcos\": 17}\n",
    "\n",
    "Realiza las siguientes tareas: \n",
    "\n",
    "    Accede a la edad de Elena e imprímela.\n",
    "\n",
    "    Modifica la edad de Juan a 29 años e imprime el resultado.\n",
    "\n",
    "    Añade un nuevo par clave-valor, asociando a \"Luisa\" con 25 años e imprime el diccionario completo actualizado."
   ]
  },
  {
   "cell_type": "code",
   "execution_count": 14,
   "metadata": {},
   "outputs": [
    {
     "name": "stdout",
     "output_type": "stream",
     "text": [
      "32\n",
      "32\n",
      "{'Juan': 29, 'Elena': 32, 'Marcos': 17}\n",
      "{'Juan': 29, 'Elena': 32, 'Marcos': 17, 'Luisa': 25, 'Pepido': 30}\n"
     ]
    }
   ],
   "source": [
    "edades = {\"Juan\": 28, \"Elena\": 32, \"Marcos\": 17}\n",
    "print(edades[\"Elena\"])\n",
    "print(edades.get(\"Elena\"))\n",
    "edades.update({\"Juan\": 29})\n",
    "print(edades)\n",
    "edades.update({\"Luisa\": 25})\n",
    "edades.setdefault(\"Pepido\",30)\n",
    "print(edades)\n",
    "\n"
   ]
  },
  {
   "cell_type": "markdown",
   "metadata": {},
   "source": [
    "* Ejercicio Diccionarios en Python 3\n",
    "\n",
    "Con el siguiente diccionario productos que contiene productos como claves y sus precios como valores: \n",
    "\n",
    "productos = {\"manzana\": 0.40, \"banana\": 0.50, \"cereza\": 0.80}\n",
    "\n",
    "Realiza las siguientes operaciones usando métodos apropiados de diccionarios: \n",
    "\n",
    "    Guarda todas las claves del diccionario en una variable, e imprímela.\n",
    "\n",
    "    Guarda todos los valores del diccionario en una variable, e imprímela.\n",
    "\n",
    "    Añade un nuevo producto llamado \"naranja\" con un precio de 0.60. Imprime el resultado\n",
    "\n",
    "    Actualiza el precio de la \"banana\" a 0.75.\n",
    "\n",
    "    Imprime todos los pares clave-valor del diccionario actualizado."
   ]
  },
  {
   "cell_type": "code",
   "execution_count": 22,
   "metadata": {},
   "outputs": [
    {
     "name": "stdout",
     "output_type": "stream",
     "text": [
      "dict_keys(['manzana', 'banana', 'cereza'])\n",
      "['manzana', 'banana', 'cereza']\n"
     ]
    }
   ],
   "source": [
    "productos = {\"manzana\": 0.40, \"banana\": 0.50, \"cereza\": 0.80}\n",
    "# Guarda todas las claves del diccionario en una variable, e imprímela.\n",
    "claves = productos.keys()\n",
    "print(claves)\n",
    "# The line `claves_lista=list(claves)` is converting the keys of the dictionary `productos` \n",
    "# into a list and storing it in the variable `claves_lista`. This allows you to work with the keys as a list, \n",
    "# which can be useful for various operations such as iterating over the keys or accessing specific keys by index.\n",
    "claves_lista=list(claves) \n",
    "print(claves_lista)\n",
    "\n"
   ]
  }
 ],
 "metadata": {
  "kernelspec": {
   "display_name": "Python_DS_ML",
   "language": "python",
   "name": "python3"
  },
  "language_info": {
   "codemirror_mode": {
    "name": "ipython",
    "version": 3
   },
   "file_extension": ".py",
   "mimetype": "text/x-python",
   "name": "python",
   "nbconvert_exporter": "python",
   "pygments_lexer": "ipython3",
   "version": "3.12.4"
  }
 },
 "nbformat": 4,
 "nbformat_minor": 2
}
