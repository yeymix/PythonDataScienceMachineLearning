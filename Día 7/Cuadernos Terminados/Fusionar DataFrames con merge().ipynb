{
 "cells": [
  {
   "attachments": {},
   "cell_type": "markdown",
   "id": "ba4de767",
   "metadata": {},
   "source": [
    "# Fusionar DataFrames con merge()\n",
    "\n",
    "En esta lección nos enfocaremos en cómo combinar diferentes DataFrames usando Pandas. Para eso vamos a aprender a utilizar funciones esenciales como **merge()**, **join()**, y **concatenate()**, cada una útil para distintos escenarios de combinación de datos.\n",
    "\n",
    "En esta lección aprenderemos todo sobre `merge()`, y en las proximas avanzaremos con el resto.\n",
    "\n",
    "Para poner a `merge()` en práctica, vamos a trabajar con estos datos iniciales, donde tenemos dos dataframes muy simples, pero que comparten cierta información."
   ]
  },
  {
   "cell_type": "code",
   "execution_count": 1,
   "id": "5dddc754",
   "metadata": {},
   "outputs": [],
   "source": [
    "import pandas as pd"
   ]
  },
  {
   "cell_type": "code",
   "execution_count": 2,
   "id": "c85e54f6",
   "metadata": {},
   "outputs": [],
   "source": [
    "df1 = pd.DataFrame({'ID': [1, 2, 3],\n",
    "                    'Nombre': ['Ana', 'Luis', 'Carlos']})\n",
    "df2 = pd.DataFrame({'ID': [1, 2, 4],\n",
    "                    'Edad': [25, 30, 22]})"
   ]
  },
  {
   "cell_type": "code",
   "execution_count": 3,
   "id": "b3fd487e",
   "metadata": {},
   "outputs": [
    {
     "data": {
      "text/html": [
       "<div>\n",
       "<style scoped>\n",
       "    .dataframe tbody tr th:only-of-type {\n",
       "        vertical-align: middle;\n",
       "    }\n",
       "\n",
       "    .dataframe tbody tr th {\n",
       "        vertical-align: top;\n",
       "    }\n",
       "\n",
       "    .dataframe thead th {\n",
       "        text-align: right;\n",
       "    }\n",
       "</style>\n",
       "<table border=\"1\" class=\"dataframe\">\n",
       "  <thead>\n",
       "    <tr style=\"text-align: right;\">\n",
       "      <th></th>\n",
       "      <th>ID</th>\n",
       "      <th>Nombre</th>\n",
       "    </tr>\n",
       "  </thead>\n",
       "  <tbody>\n",
       "    <tr>\n",
       "      <th>0</th>\n",
       "      <td>1</td>\n",
       "      <td>Ana</td>\n",
       "    </tr>\n",
       "    <tr>\n",
       "      <th>1</th>\n",
       "      <td>2</td>\n",
       "      <td>Luis</td>\n",
       "    </tr>\n",
       "    <tr>\n",
       "      <th>2</th>\n",
       "      <td>3</td>\n",
       "      <td>Carlos</td>\n",
       "    </tr>\n",
       "  </tbody>\n",
       "</table>\n",
       "</div>"
      ],
      "text/plain": [
       "   ID  Nombre\n",
       "0   1     Ana\n",
       "1   2    Luis\n",
       "2   3  Carlos"
      ]
     },
     "execution_count": 3,
     "metadata": {},
     "output_type": "execute_result"
    }
   ],
   "source": [
    "df1"
   ]
  },
  {
   "cell_type": "code",
   "execution_count": 4,
   "id": "b7f4c7ed",
   "metadata": {},
   "outputs": [
    {
     "data": {
      "text/html": [
       "<div>\n",
       "<style scoped>\n",
       "    .dataframe tbody tr th:only-of-type {\n",
       "        vertical-align: middle;\n",
       "    }\n",
       "\n",
       "    .dataframe tbody tr th {\n",
       "        vertical-align: top;\n",
       "    }\n",
       "\n",
       "    .dataframe thead th {\n",
       "        text-align: right;\n",
       "    }\n",
       "</style>\n",
       "<table border=\"1\" class=\"dataframe\">\n",
       "  <thead>\n",
       "    <tr style=\"text-align: right;\">\n",
       "      <th></th>\n",
       "      <th>ID</th>\n",
       "      <th>Edad</th>\n",
       "    </tr>\n",
       "  </thead>\n",
       "  <tbody>\n",
       "    <tr>\n",
       "      <th>0</th>\n",
       "      <td>1</td>\n",
       "      <td>25</td>\n",
       "    </tr>\n",
       "    <tr>\n",
       "      <th>1</th>\n",
       "      <td>2</td>\n",
       "      <td>30</td>\n",
       "    </tr>\n",
       "    <tr>\n",
       "      <th>2</th>\n",
       "      <td>4</td>\n",
       "      <td>22</td>\n",
       "    </tr>\n",
       "  </tbody>\n",
       "</table>\n",
       "</div>"
      ],
      "text/plain": [
       "   ID  Edad\n",
       "0   1    25\n",
       "1   2    30\n",
       "2   4    22"
      ]
     },
     "execution_count": 4,
     "metadata": {},
     "output_type": "execute_result"
    }
   ],
   "source": [
    "df2"
   ]
  },
  {
   "attachments": {},
   "cell_type": "markdown",
   "id": "bb76e3bb",
   "metadata": {},
   "source": [
    "La función `merge()` permite combinar DataFrames **basándose en valores comunes** de una o más columnas.\n",
    "\n",
    "Muchas veces va a suceder que tus datos van a provenir de diferentes tablas, y que esas tablas proporcionan diferentes datos sobre los mismos elementos. Puedes tener una tabla con los nombres y la información personal de tus clientes y otra tabla separada con los pedidos que esos clientes han realizado.\n",
    "\n",
    "Imagina que quieres relacionar ambas tablas para luego poder hacer análisis más complejos. Bueno, ahí es donde entra `merge()`, que básicamente va a tomar ambos dataframes, y tu le vas a decir cuál es la **columna en común** que tienen ambos dataframes, para que haga la combinación basándose en esa coincidencia."
   ]
  },
  {
   "cell_type": "code",
   "execution_count": 5,
   "id": "cca1ffa8",
   "metadata": {},
   "outputs": [
    {
     "data": {
      "text/html": [
       "<div>\n",
       "<style scoped>\n",
       "    .dataframe tbody tr th:only-of-type {\n",
       "        vertical-align: middle;\n",
       "    }\n",
       "\n",
       "    .dataframe tbody tr th {\n",
       "        vertical-align: top;\n",
       "    }\n",
       "\n",
       "    .dataframe thead th {\n",
       "        text-align: right;\n",
       "    }\n",
       "</style>\n",
       "<table border=\"1\" class=\"dataframe\">\n",
       "  <thead>\n",
       "    <tr style=\"text-align: right;\">\n",
       "      <th></th>\n",
       "      <th>ID</th>\n",
       "      <th>Nombre</th>\n",
       "      <th>Edad</th>\n",
       "    </tr>\n",
       "  </thead>\n",
       "  <tbody>\n",
       "    <tr>\n",
       "      <th>0</th>\n",
       "      <td>1</td>\n",
       "      <td>Ana</td>\n",
       "      <td>25</td>\n",
       "    </tr>\n",
       "    <tr>\n",
       "      <th>1</th>\n",
       "      <td>2</td>\n",
       "      <td>Luis</td>\n",
       "      <td>30</td>\n",
       "    </tr>\n",
       "  </tbody>\n",
       "</table>\n",
       "</div>"
      ],
      "text/plain": [
       "   ID Nombre  Edad\n",
       "0   1    Ana    25\n",
       "1   2   Luis    30"
      ]
     },
     "execution_count": 5,
     "metadata": {},
     "output_type": "execute_result"
    }
   ],
   "source": [
    "df_combinado = pd.merge(df1, df2, on='ID')\n",
    "df_combinado"
   ]
  },
  {
   "attachments": {},
   "cell_type": "markdown",
   "id": "0ecdc77c",
   "metadata": {},
   "source": [
    "Observa que el dataframe resultante solamente va a incluir las filas en las que encontró coincidencias en los dos dataframes resultantes. Eso es porque `merge()` tiene un parámetro llamado `how`, que por defecto viene cargado con el argumento `inner`, que significa **interno**, y que hace justamente eso, mezclar solamente los registros donde hay datos."
   ]
  },
  {
   "cell_type": "code",
   "execution_count": 6,
   "id": "a9a7e9f5",
   "metadata": {},
   "outputs": [
    {
     "data": {
      "text/html": [
       "<div>\n",
       "<style scoped>\n",
       "    .dataframe tbody tr th:only-of-type {\n",
       "        vertical-align: middle;\n",
       "    }\n",
       "\n",
       "    .dataframe tbody tr th {\n",
       "        vertical-align: top;\n",
       "    }\n",
       "\n",
       "    .dataframe thead th {\n",
       "        text-align: right;\n",
       "    }\n",
       "</style>\n",
       "<table border=\"1\" class=\"dataframe\">\n",
       "  <thead>\n",
       "    <tr style=\"text-align: right;\">\n",
       "      <th></th>\n",
       "      <th>ID</th>\n",
       "      <th>Nombre</th>\n",
       "      <th>Edad</th>\n",
       "    </tr>\n",
       "  </thead>\n",
       "  <tbody>\n",
       "    <tr>\n",
       "      <th>0</th>\n",
       "      <td>1</td>\n",
       "      <td>Ana</td>\n",
       "      <td>25</td>\n",
       "    </tr>\n",
       "    <tr>\n",
       "      <th>1</th>\n",
       "      <td>2</td>\n",
       "      <td>Luis</td>\n",
       "      <td>30</td>\n",
       "    </tr>\n",
       "  </tbody>\n",
       "</table>\n",
       "</div>"
      ],
      "text/plain": [
       "   ID Nombre  Edad\n",
       "0   1    Ana    25\n",
       "1   2   Luis    30"
      ]
     },
     "execution_count": 6,
     "metadata": {},
     "output_type": "execute_result"
    }
   ],
   "source": [
    "df_combinado = pd.merge(df1, df2, on='ID', how='inner')\n",
    "df_combinado"
   ]
  },
  {
   "attachments": {},
   "cell_type": "markdown",
   "id": "df61805f",
   "metadata": {},
   "source": [
    "Pero a veces puede que necesites incluir registros aunque no estén completos, y en ese caso puedes modificar el parámetro `how` de tres maneras distintas según el caso (`outer`, `left` ó `right`), y eso es lo que vamos a ver ahora.\n",
    "\n",
    "`outer` significa **externo**, y con esté modo el DataFrame resultante vas a tener todos los registros de ambos DataFrames originales, pero Pandas va a rellenar los datos faltantes con la sigla **NaN** que significa *número no válido*."
   ]
  },
  {
   "cell_type": "code",
   "execution_count": 7,
   "id": "fa2133d5",
   "metadata": {},
   "outputs": [
    {
     "data": {
      "text/html": [
       "<div>\n",
       "<style scoped>\n",
       "    .dataframe tbody tr th:only-of-type {\n",
       "        vertical-align: middle;\n",
       "    }\n",
       "\n",
       "    .dataframe tbody tr th {\n",
       "        vertical-align: top;\n",
       "    }\n",
       "\n",
       "    .dataframe thead th {\n",
       "        text-align: right;\n",
       "    }\n",
       "</style>\n",
       "<table border=\"1\" class=\"dataframe\">\n",
       "  <thead>\n",
       "    <tr style=\"text-align: right;\">\n",
       "      <th></th>\n",
       "      <th>ID</th>\n",
       "      <th>Nombre</th>\n",
       "      <th>Edad</th>\n",
       "    </tr>\n",
       "  </thead>\n",
       "  <tbody>\n",
       "    <tr>\n",
       "      <th>0</th>\n",
       "      <td>1</td>\n",
       "      <td>Ana</td>\n",
       "      <td>25.0</td>\n",
       "    </tr>\n",
       "    <tr>\n",
       "      <th>1</th>\n",
       "      <td>2</td>\n",
       "      <td>Luis</td>\n",
       "      <td>30.0</td>\n",
       "    </tr>\n",
       "    <tr>\n",
       "      <th>2</th>\n",
       "      <td>3</td>\n",
       "      <td>Carlos</td>\n",
       "      <td>NaN</td>\n",
       "    </tr>\n",
       "    <tr>\n",
       "      <th>3</th>\n",
       "      <td>4</td>\n",
       "      <td>NaN</td>\n",
       "      <td>22.0</td>\n",
       "    </tr>\n",
       "  </tbody>\n",
       "</table>\n",
       "</div>"
      ],
      "text/plain": [
       "   ID  Nombre  Edad\n",
       "0   1     Ana  25.0\n",
       "1   2    Luis  30.0\n",
       "2   3  Carlos   NaN\n",
       "3   4     NaN  22.0"
      ]
     },
     "execution_count": 7,
     "metadata": {},
     "output_type": "execute_result"
    }
   ],
   "source": [
    "df_combinado = pd.merge(df1, df2, on='ID', how='outer')\n",
    "df_combinado"
   ]
  },
  {
   "attachments": {},
   "cell_type": "markdown",
   "id": "28175164",
   "metadata": {},
   "source": [
    "`left` significa **izquierda**, y de este modo Pandas va a incluir todos los registros que vienen con el DataFrame de la izquierda (es decir, el primero que ingresaste en `merge()`) y lo va a rellenar con los datos con los que tenga coincidencia en el DataFrame de la derecha. Si no encuentra información, la rellena con **NaN**."
   ]
  },
  {
   "cell_type": "code",
   "execution_count": 8,
   "id": "8dbdc082",
   "metadata": {},
   "outputs": [
    {
     "data": {
      "text/html": [
       "<div>\n",
       "<style scoped>\n",
       "    .dataframe tbody tr th:only-of-type {\n",
       "        vertical-align: middle;\n",
       "    }\n",
       "\n",
       "    .dataframe tbody tr th {\n",
       "        vertical-align: top;\n",
       "    }\n",
       "\n",
       "    .dataframe thead th {\n",
       "        text-align: right;\n",
       "    }\n",
       "</style>\n",
       "<table border=\"1\" class=\"dataframe\">\n",
       "  <thead>\n",
       "    <tr style=\"text-align: right;\">\n",
       "      <th></th>\n",
       "      <th>ID</th>\n",
       "      <th>Nombre</th>\n",
       "      <th>Edad</th>\n",
       "    </tr>\n",
       "  </thead>\n",
       "  <tbody>\n",
       "    <tr>\n",
       "      <th>0</th>\n",
       "      <td>1</td>\n",
       "      <td>Ana</td>\n",
       "      <td>25.0</td>\n",
       "    </tr>\n",
       "    <tr>\n",
       "      <th>1</th>\n",
       "      <td>2</td>\n",
       "      <td>Luis</td>\n",
       "      <td>30.0</td>\n",
       "    </tr>\n",
       "    <tr>\n",
       "      <th>2</th>\n",
       "      <td>3</td>\n",
       "      <td>Carlos</td>\n",
       "      <td>NaN</td>\n",
       "    </tr>\n",
       "  </tbody>\n",
       "</table>\n",
       "</div>"
      ],
      "text/plain": [
       "   ID  Nombre  Edad\n",
       "0   1     Ana  25.0\n",
       "1   2    Luis  30.0\n",
       "2   3  Carlos   NaN"
      ]
     },
     "execution_count": 8,
     "metadata": {},
     "output_type": "execute_result"
    }
   ],
   "source": [
    "df_combinado = pd.merge(df1, df2, on='ID', how='left')\n",
    "df_combinado"
   ]
  },
  {
   "attachments": {},
   "cell_type": "markdown",
   "id": "069c6a3e",
   "metadata": {},
   "source": [
    "`right` significa **derecha**, y hace lo contrario de `left`. Garantiza la presencia de todos los registros del segundo DataFrame, los completa con los datos del primero, y si no los encuentra, los rellena con **NaN**."
   ]
  },
  {
   "cell_type": "code",
   "execution_count": 9,
   "id": "80b80878",
   "metadata": {},
   "outputs": [
    {
     "data": {
      "text/html": [
       "<div>\n",
       "<style scoped>\n",
       "    .dataframe tbody tr th:only-of-type {\n",
       "        vertical-align: middle;\n",
       "    }\n",
       "\n",
       "    .dataframe tbody tr th {\n",
       "        vertical-align: top;\n",
       "    }\n",
       "\n",
       "    .dataframe thead th {\n",
       "        text-align: right;\n",
       "    }\n",
       "</style>\n",
       "<table border=\"1\" class=\"dataframe\">\n",
       "  <thead>\n",
       "    <tr style=\"text-align: right;\">\n",
       "      <th></th>\n",
       "      <th>ID</th>\n",
       "      <th>Nombre</th>\n",
       "      <th>Edad</th>\n",
       "    </tr>\n",
       "  </thead>\n",
       "  <tbody>\n",
       "    <tr>\n",
       "      <th>0</th>\n",
       "      <td>1</td>\n",
       "      <td>Ana</td>\n",
       "      <td>25</td>\n",
       "    </tr>\n",
       "    <tr>\n",
       "      <th>1</th>\n",
       "      <td>2</td>\n",
       "      <td>Luis</td>\n",
       "      <td>30</td>\n",
       "    </tr>\n",
       "    <tr>\n",
       "      <th>2</th>\n",
       "      <td>4</td>\n",
       "      <td>NaN</td>\n",
       "      <td>22</td>\n",
       "    </tr>\n",
       "  </tbody>\n",
       "</table>\n",
       "</div>"
      ],
      "text/plain": [
       "   ID Nombre  Edad\n",
       "0   1    Ana    25\n",
       "1   2   Luis    30\n",
       "2   4    NaN    22"
      ]
     },
     "execution_count": 9,
     "metadata": {},
     "output_type": "execute_result"
    }
   ],
   "source": [
    "df_combinado = pd.merge(df1, df2, on='ID', how='right')\n",
    "df_combinado"
   ]
  },
  {
   "attachments": {},
   "cell_type": "markdown",
   "id": "77605ddb",
   "metadata": {},
   "source": [
    "Otra posibilidad muy curiosa, es la que nos permite **unir todos los datos** sin dejar nada afuera, pero **manteniendo los índices originales**. Para eso contamos con los parámetros `left_index` y `right_index`:"
   ]
  },
  {
   "cell_type": "code",
   "execution_count": 10,
   "id": "538a2dd5",
   "metadata": {},
   "outputs": [
    {
     "data": {
      "text/html": [
       "<div>\n",
       "<style scoped>\n",
       "    .dataframe tbody tr th:only-of-type {\n",
       "        vertical-align: middle;\n",
       "    }\n",
       "\n",
       "    .dataframe tbody tr th {\n",
       "        vertical-align: top;\n",
       "    }\n",
       "\n",
       "    .dataframe thead th {\n",
       "        text-align: right;\n",
       "    }\n",
       "</style>\n",
       "<table border=\"1\" class=\"dataframe\">\n",
       "  <thead>\n",
       "    <tr style=\"text-align: right;\">\n",
       "      <th></th>\n",
       "      <th>ID_x</th>\n",
       "      <th>Nombre</th>\n",
       "      <th>ID_y</th>\n",
       "      <th>Edad</th>\n",
       "    </tr>\n",
       "  </thead>\n",
       "  <tbody>\n",
       "    <tr>\n",
       "      <th>0</th>\n",
       "      <td>1</td>\n",
       "      <td>Ana</td>\n",
       "      <td>1</td>\n",
       "      <td>25</td>\n",
       "    </tr>\n",
       "    <tr>\n",
       "      <th>1</th>\n",
       "      <td>2</td>\n",
       "      <td>Luis</td>\n",
       "      <td>2</td>\n",
       "      <td>30</td>\n",
       "    </tr>\n",
       "    <tr>\n",
       "      <th>2</th>\n",
       "      <td>3</td>\n",
       "      <td>Carlos</td>\n",
       "      <td>4</td>\n",
       "      <td>22</td>\n",
       "    </tr>\n",
       "  </tbody>\n",
       "</table>\n",
       "</div>"
      ],
      "text/plain": [
       "   ID_x  Nombre  ID_y  Edad\n",
       "0     1     Ana     1    25\n",
       "1     2    Luis     2    30\n",
       "2     3  Carlos     4    22"
      ]
     },
     "execution_count": 10,
     "metadata": {},
     "output_type": "execute_result"
    }
   ],
   "source": [
    "df_indexado = pd.merge(df1, df2, left_index=True, right_index=True)\n",
    "df_indexado"
   ]
  },
  {
   "attachments": {},
   "cell_type": "markdown",
   "id": "9793abd4",
   "metadata": {},
   "source": [
    "En este caso simplemente tenemos los DataFrames puestos uno al lado del otro, y cada uno con sus respectivos índices para que se pueda comprender de dónde viene cada dato.\n",
    "\n",
    "Este ha sido el método `merge()` para fusionar DataFrames, y hemos visto sus parámetros más importantes. Por supuesto puedes usar la ayuda para conocer el resto de sus parámetros."
   ]
  }
 ],
 "metadata": {
  "kernelspec": {
   "display_name": "Python 3 (ipykernel)",
   "language": "python",
   "name": "python3"
  },
  "language_info": {
   "codemirror_mode": {
    "name": "ipython",
    "version": 3
   },
   "file_extension": ".py",
   "mimetype": "text/x-python",
   "name": "python",
   "nbconvert_exporter": "python",
   "pygments_lexer": "ipython3",
   "version": "3.11.5"
  }
 },
 "nbformat": 4,
 "nbformat_minor": 5
}
