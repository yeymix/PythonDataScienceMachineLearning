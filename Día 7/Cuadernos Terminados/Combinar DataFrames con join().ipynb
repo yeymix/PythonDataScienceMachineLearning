{
 "cells": [
  {
   "attachments": {},
   "cell_type": "markdown",
   "id": "973693a5",
   "metadata": {},
   "source": [
    "# Combinar DataFrames con join()\n",
    "\n",
    "Presta atención a este concepto porque puede parecer un poco confuso, ya que **combinar DataFrames** suena muy parecido a **fusionar DataFrames**, que es lo que hicimos en la lección anterior.\n",
    "\n",
    "Lo que hicimos antes fue **fusionar**, y lo hicimos con el método `merge()`, y se trata de identificar una columna similar entre dos DataFrames y unirlos a partir de esa columna coincidente.\n",
    "\n",
    "En esta lección no vamos a fusionar sino a **combinar**, para lo cual usaremos el método `join()`. Combinar consiste en unir dos dataframes pero **a partir de su índice, o de una columna clave**, y no de columnas compartidas.\n",
    "\n",
    "Para hacer esto vamos a crear dos DataFrames de ejemplo, que a pesar de no tener columnas similares, pertenecen al mismo conjunto de registros."
   ]
  },
  {
   "cell_type": "code",
   "execution_count": 1,
   "id": "0f2f40ff",
   "metadata": {},
   "outputs": [],
   "source": [
    "import pandas as pd\n",
    "\n",
    "df1 = pd.DataFrame({'Salario': [30000, 45000, 38000],\n",
    "                    'Antigüedad': [9, 13, 12]},\n",
    "                   index=[1, 2, 3])\n",
    "df2 = pd.DataFrame({'Ciudad': ['Madrid', 'Barcelona', 'Valencia'],\n",
    "                    'Jerarquía': ['Baja', 'Alta', 'Media']},\n",
    "                   index=[1, 2, 4])"
   ]
  },
  {
   "cell_type": "code",
   "execution_count": 2,
   "id": "2a66e403",
   "metadata": {},
   "outputs": [
    {
     "data": {
      "text/html": [
       "<div>\n",
       "<style scoped>\n",
       "    .dataframe tbody tr th:only-of-type {\n",
       "        vertical-align: middle;\n",
       "    }\n",
       "\n",
       "    .dataframe tbody tr th {\n",
       "        vertical-align: top;\n",
       "    }\n",
       "\n",
       "    .dataframe thead th {\n",
       "        text-align: right;\n",
       "    }\n",
       "</style>\n",
       "<table border=\"1\" class=\"dataframe\">\n",
       "  <thead>\n",
       "    <tr style=\"text-align: right;\">\n",
       "      <th></th>\n",
       "      <th>Salario</th>\n",
       "      <th>Antigüedad</th>\n",
       "    </tr>\n",
       "  </thead>\n",
       "  <tbody>\n",
       "    <tr>\n",
       "      <th>1</th>\n",
       "      <td>30000</td>\n",
       "      <td>9</td>\n",
       "    </tr>\n",
       "    <tr>\n",
       "      <th>2</th>\n",
       "      <td>45000</td>\n",
       "      <td>13</td>\n",
       "    </tr>\n",
       "    <tr>\n",
       "      <th>3</th>\n",
       "      <td>38000</td>\n",
       "      <td>12</td>\n",
       "    </tr>\n",
       "  </tbody>\n",
       "</table>\n",
       "</div>"
      ],
      "text/plain": [
       "   Salario  Antigüedad\n",
       "1    30000           9\n",
       "2    45000          13\n",
       "3    38000          12"
      ]
     },
     "execution_count": 2,
     "metadata": {},
     "output_type": "execute_result"
    }
   ],
   "source": [
    "df1"
   ]
  },
  {
   "cell_type": "code",
   "execution_count": 3,
   "id": "1b72650b",
   "metadata": {},
   "outputs": [
    {
     "data": {
      "text/html": [
       "<div>\n",
       "<style scoped>\n",
       "    .dataframe tbody tr th:only-of-type {\n",
       "        vertical-align: middle;\n",
       "    }\n",
       "\n",
       "    .dataframe tbody tr th {\n",
       "        vertical-align: top;\n",
       "    }\n",
       "\n",
       "    .dataframe thead th {\n",
       "        text-align: right;\n",
       "    }\n",
       "</style>\n",
       "<table border=\"1\" class=\"dataframe\">\n",
       "  <thead>\n",
       "    <tr style=\"text-align: right;\">\n",
       "      <th></th>\n",
       "      <th>Ciudad</th>\n",
       "      <th>Jerarquía</th>\n",
       "    </tr>\n",
       "  </thead>\n",
       "  <tbody>\n",
       "    <tr>\n",
       "      <th>1</th>\n",
       "      <td>Madrid</td>\n",
       "      <td>Baja</td>\n",
       "    </tr>\n",
       "    <tr>\n",
       "      <th>2</th>\n",
       "      <td>Barcelona</td>\n",
       "      <td>Alta</td>\n",
       "    </tr>\n",
       "    <tr>\n",
       "      <th>4</th>\n",
       "      <td>Valencia</td>\n",
       "      <td>Media</td>\n",
       "    </tr>\n",
       "  </tbody>\n",
       "</table>\n",
       "</div>"
      ],
      "text/plain": [
       "      Ciudad Jerarquía\n",
       "1     Madrid      Baja\n",
       "2  Barcelona      Alta\n",
       "4   Valencia     Media"
      ]
     },
     "execution_count": 3,
     "metadata": {},
     "output_type": "execute_result"
    }
   ],
   "source": [
    "df2"
   ]
  },
  {
   "cell_type": "markdown",
   "id": "f46ba4e0",
   "metadata": {},
   "source": [
    "Entonces por más que nuestros dataframes no tengan columnas similares, vamos a unirlas confiando en que su número de índice implica que los registros se corresponden entre sí, o que una columna del DataFrame original puede relacionarse con los datos del DataFrame combinado."
   ]
  },
  {
   "cell_type": "code",
   "execution_count": 4,
   "id": "442f9f0b",
   "metadata": {},
   "outputs": [
    {
     "data": {
      "text/html": [
       "<div>\n",
       "<style scoped>\n",
       "    .dataframe tbody tr th:only-of-type {\n",
       "        vertical-align: middle;\n",
       "    }\n",
       "\n",
       "    .dataframe tbody tr th {\n",
       "        vertical-align: top;\n",
       "    }\n",
       "\n",
       "    .dataframe thead th {\n",
       "        text-align: right;\n",
       "    }\n",
       "</style>\n",
       "<table border=\"1\" class=\"dataframe\">\n",
       "  <thead>\n",
       "    <tr style=\"text-align: right;\">\n",
       "      <th></th>\n",
       "      <th>Salario</th>\n",
       "      <th>Antigüedad</th>\n",
       "      <th>Ciudad</th>\n",
       "      <th>Jerarquía</th>\n",
       "    </tr>\n",
       "  </thead>\n",
       "  <tbody>\n",
       "    <tr>\n",
       "      <th>1</th>\n",
       "      <td>30000</td>\n",
       "      <td>9</td>\n",
       "      <td>Madrid</td>\n",
       "      <td>Baja</td>\n",
       "    </tr>\n",
       "    <tr>\n",
       "      <th>2</th>\n",
       "      <td>45000</td>\n",
       "      <td>13</td>\n",
       "      <td>Barcelona</td>\n",
       "      <td>Alta</td>\n",
       "    </tr>\n",
       "    <tr>\n",
       "      <th>3</th>\n",
       "      <td>38000</td>\n",
       "      <td>12</td>\n",
       "      <td>NaN</td>\n",
       "      <td>NaN</td>\n",
       "    </tr>\n",
       "  </tbody>\n",
       "</table>\n",
       "</div>"
      ],
      "text/plain": [
       "   Salario  Antigüedad     Ciudad Jerarquía\n",
       "1    30000           9     Madrid      Baja\n",
       "2    45000          13  Barcelona      Alta\n",
       "3    38000          12        NaN       NaN"
      ]
     },
     "execution_count": 4,
     "metadata": {},
     "output_type": "execute_result"
    }
   ],
   "source": [
    "df_unido = df1.join(df2)\n",
    "df_unido"
   ]
  },
  {
   "attachments": {},
   "cell_type": "markdown",
   "id": "a483c8c0",
   "metadata": {},
   "source": [
    "El caso de `join()` también es distinto a `merge()`, en cuanto a que `join()` viene por defecto con el parámetro `how=left`. Por esa razón puedes ver que en el ejemplo anterior, se ha preservado al DataFrame original (`df1`), y solo ha agregado los valores de `df2` que coinciden con los del primero.\n",
    "\n",
    "Por supuesto que podemos cambiar el parámetro `how` según nuestras necesidades."
   ]
  },
  {
   "cell_type": "code",
   "execution_count": 5,
   "id": "c9422ba6",
   "metadata": {
    "scrolled": true
   },
   "outputs": [
    {
     "data": {
      "text/html": [
       "<div>\n",
       "<style scoped>\n",
       "    .dataframe tbody tr th:only-of-type {\n",
       "        vertical-align: middle;\n",
       "    }\n",
       "\n",
       "    .dataframe tbody tr th {\n",
       "        vertical-align: top;\n",
       "    }\n",
       "\n",
       "    .dataframe thead th {\n",
       "        text-align: right;\n",
       "    }\n",
       "</style>\n",
       "<table border=\"1\" class=\"dataframe\">\n",
       "  <thead>\n",
       "    <tr style=\"text-align: right;\">\n",
       "      <th></th>\n",
       "      <th>Salario</th>\n",
       "      <th>Antigüedad</th>\n",
       "      <th>Ciudad</th>\n",
       "      <th>Jerarquía</th>\n",
       "    </tr>\n",
       "  </thead>\n",
       "  <tbody>\n",
       "    <tr>\n",
       "      <th>1</th>\n",
       "      <td>30000</td>\n",
       "      <td>9</td>\n",
       "      <td>Madrid</td>\n",
       "      <td>Baja</td>\n",
       "    </tr>\n",
       "    <tr>\n",
       "      <th>2</th>\n",
       "      <td>45000</td>\n",
       "      <td>13</td>\n",
       "      <td>Barcelona</td>\n",
       "      <td>Alta</td>\n",
       "    </tr>\n",
       "  </tbody>\n",
       "</table>\n",
       "</div>"
      ],
      "text/plain": [
       "   Salario  Antigüedad     Ciudad Jerarquía\n",
       "1    30000           9     Madrid      Baja\n",
       "2    45000          13  Barcelona      Alta"
      ]
     },
     "execution_count": 5,
     "metadata": {},
     "output_type": "execute_result"
    }
   ],
   "source": [
    "df_unido = df1.join(df2, how='inner')\n",
    "df_unido"
   ]
  },
  {
   "attachments": {},
   "cell_type": "markdown",
   "id": "c1746855",
   "metadata": {},
   "source": [
    "Prueba los distintos argumentos de `how` por ti mismo, y con esto, hemos visto cómo combinar dataframes con `join()`."
   ]
  },
  {
   "cell_type": "code",
   "execution_count": null,
   "id": "d6d1258d",
   "metadata": {},
   "outputs": [],
   "source": []
  }
 ],
 "metadata": {
  "kernelspec": {
   "display_name": "Python 3 (ipykernel)",
   "language": "python",
   "name": "python3"
  },
  "language_info": {
   "codemirror_mode": {
    "name": "ipython",
    "version": 3
   },
   "file_extension": ".py",
   "mimetype": "text/x-python",
   "name": "python",
   "nbconvert_exporter": "python",
   "pygments_lexer": "ipython3",
   "version": "3.11.5"
  }
 },
 "nbformat": 4,
 "nbformat_minor": 5
}
