{
 "cells": [
  {
   "attachments": {},
   "cell_type": "markdown",
   "id": "c5f725db",
   "metadata": {},
   "source": [
    "# Abrir y Escribir Archivos Externos desde Pandas\n",
    "\n",
    "Hasta el momento hemos creado nuestros dataframes de dos formas posibles:\n",
    "* creando nuestros propios DataFrames de manera manual\n",
    "* leyendo archivos CSV\n",
    "\n",
    "En esta lección te quiero mostrar que también podemos leer archivos de múltiples orígenes.\n",
    "\n",
    "Si escribes `pd.read` y presionas **TAB**, vas a ver una serie de métodos que sirven para *leer* (read) diferentes fuentes de datos.\n",
    "\n",
    "Vamos a practicar esto, abriendo archivos **Excel** y **csv**. Para ello te pide que primero descargues los archivos que vienen junto a esta lección, y que crees dos variables que contengan las rutas de estos archivos."
   ]
  },
  {
   "cell_type": "code",
   "execution_count": 1,
   "id": "dd9f5ae5",
   "metadata": {},
   "outputs": [],
   "source": [
    "import pandas as pd"
   ]
  },
  {
   "cell_type": "code",
   "execution_count": 2,
   "id": "e94749d8",
   "metadata": {},
   "outputs": [],
   "source": [
    "ruta_excel = 'C:/Users/Win10/Downloads/00 - FEDE/Udemy/Python para Data Science/Día 7/8 - Abrir y Escribir Archivos Externos desde Pandas/Compras_desde_ads.xlsx'\n",
    "ruta_xml = 'C:/Users/Win10/Downloads/00 - FEDE/Udemy/Python para Data Science/Día 7/8 - Abrir y Escribir Archivos Externos desde Pandas/Valores de acciones.xml'"
   ]
  },
  {
   "cell_type": "markdown",
   "id": "7b406997",
   "metadata": {},
   "source": [
    "Ahora sí, vamos a usar el método `read_excel()` para leer el primero de ellos..."
   ]
  },
  {
   "cell_type": "code",
   "execution_count": 3,
   "id": "136d223f",
   "metadata": {},
   "outputs": [
    {
     "data": {
      "text/html": [
       "<div>\n",
       "<style scoped>\n",
       "    .dataframe tbody tr th:only-of-type {\n",
       "        vertical-align: middle;\n",
       "    }\n",
       "\n",
       "    .dataframe tbody tr th {\n",
       "        vertical-align: top;\n",
       "    }\n",
       "\n",
       "    .dataframe thead th {\n",
       "        text-align: right;\n",
       "    }\n",
       "</style>\n",
       "<table border=\"1\" class=\"dataframe\">\n",
       "  <thead>\n",
       "    <tr style=\"text-align: right;\">\n",
       "      <th></th>\n",
       "      <th>Id_usuario</th>\n",
       "      <th>Genero</th>\n",
       "      <th>Edad</th>\n",
       "      <th>Salario_estimado</th>\n",
       "      <th>Comprado</th>\n",
       "    </tr>\n",
       "  </thead>\n",
       "  <tbody>\n",
       "    <tr>\n",
       "      <th>0</th>\n",
       "      <td>15624510</td>\n",
       "      <td>Masculino</td>\n",
       "      <td>19</td>\n",
       "      <td>19000</td>\n",
       "      <td>0</td>\n",
       "    </tr>\n",
       "    <tr>\n",
       "      <th>1</th>\n",
       "      <td>15810944</td>\n",
       "      <td>Masculino</td>\n",
       "      <td>35</td>\n",
       "      <td>20000</td>\n",
       "      <td>0</td>\n",
       "    </tr>\n",
       "    <tr>\n",
       "      <th>2</th>\n",
       "      <td>15668575</td>\n",
       "      <td>Femenino</td>\n",
       "      <td>26</td>\n",
       "      <td>43000</td>\n",
       "      <td>0</td>\n",
       "    </tr>\n",
       "    <tr>\n",
       "      <th>3</th>\n",
       "      <td>15603246</td>\n",
       "      <td>Femenino</td>\n",
       "      <td>27</td>\n",
       "      <td>57000</td>\n",
       "      <td>0</td>\n",
       "    </tr>\n",
       "    <tr>\n",
       "      <th>4</th>\n",
       "      <td>15804002</td>\n",
       "      <td>Masculino</td>\n",
       "      <td>19</td>\n",
       "      <td>76000</td>\n",
       "      <td>0</td>\n",
       "    </tr>\n",
       "  </tbody>\n",
       "</table>\n",
       "</div>"
      ],
      "text/plain": [
       "   Id_usuario     Genero  Edad  Salario_estimado  Comprado\n",
       "0    15624510  Masculino    19             19000         0\n",
       "1    15810944  Masculino    35             20000         0\n",
       "2    15668575   Femenino    26             43000         0\n",
       "3    15603246   Femenino    27             57000         0\n",
       "4    15804002  Masculino    19             76000         0"
      ]
     },
     "execution_count": 3,
     "metadata": {},
     "output_type": "execute_result"
    }
   ],
   "source": [
    "df1 = pd.read_excel(ruta_excel)\n",
    "df1.head()"
   ]
  },
  {
   "cell_type": "markdown",
   "id": "0401c5d7",
   "metadata": {},
   "source": [
    "... y el método `read_xml()` para leer el segundo."
   ]
  },
  {
   "cell_type": "code",
   "execution_count": 4,
   "id": "8db7b5d9",
   "metadata": {},
   "outputs": [
    {
     "data": {
      "text/html": [
       "<div>\n",
       "<style scoped>\n",
       "    .dataframe tbody tr th:only-of-type {\n",
       "        vertical-align: middle;\n",
       "    }\n",
       "\n",
       "    .dataframe tbody tr th {\n",
       "        vertical-align: top;\n",
       "    }\n",
       "\n",
       "    .dataframe thead th {\n",
       "        text-align: right;\n",
       "    }\n",
       "</style>\n",
       "<table border=\"1\" class=\"dataframe\">\n",
       "  <thead>\n",
       "    <tr style=\"text-align: right;\">\n",
       "      <th></th>\n",
       "      <th>date</th>\n",
       "      <th>closingValue</th>\n",
       "    </tr>\n",
       "  </thead>\n",
       "  <tbody>\n",
       "    <tr>\n",
       "      <th>0</th>\n",
       "      <td>01-05-2023</td>\n",
       "      <td>25,05</td>\n",
       "    </tr>\n",
       "    <tr>\n",
       "      <th>1</th>\n",
       "      <td>02-05-2023</td>\n",
       "      <td>24,45</td>\n",
       "    </tr>\n",
       "    <tr>\n",
       "      <th>2</th>\n",
       "      <td>03-05-2023</td>\n",
       "      <td>24,45</td>\n",
       "    </tr>\n",
       "    <tr>\n",
       "      <th>3</th>\n",
       "      <td>04-05-2023</td>\n",
       "      <td>23,98</td>\n",
       "    </tr>\n",
       "    <tr>\n",
       "      <th>4</th>\n",
       "      <td>05-05-2023</td>\n",
       "      <td>24,56</td>\n",
       "    </tr>\n",
       "  </tbody>\n",
       "</table>\n",
       "</div>"
      ],
      "text/plain": [
       "         date closingValue\n",
       "0  01-05-2023        25,05\n",
       "1  02-05-2023        24,45\n",
       "2  03-05-2023        24,45\n",
       "3  04-05-2023        23,98\n",
       "4  05-05-2023        24,56"
      ]
     },
     "execution_count": 4,
     "metadata": {},
     "output_type": "execute_result"
    }
   ],
   "source": [
    "df2 = pd.read_xml(ruta_xml)\n",
    "df2.head(5)"
   ]
  },
  {
   "attachments": {},
   "cell_type": "markdown",
   "id": "c0ccbba8",
   "metadata": {},
   "source": [
    "Y no solo podemos usar Pandas para abrir archivos que ya existen, sino que también podemos **crear nuevos archivos excel, csv o lo que sea**, a partir de los DataFrames que ya tenemos en Pandas.\n",
    "\n",
    "Vamos a crear un DataFrame simple, y veamos cómo lo guardamos en archivos excel y csv."
   ]
  },
  {
   "cell_type": "code",
   "execution_count": 5,
   "id": "992a59d0",
   "metadata": {},
   "outputs": [],
   "source": [
    "numeros = {\n",
    "    'romanos': ['I', 'II', 'III', 'IV'],\n",
    "    'arabigos': [1, 2, 3, 4],\n",
    "    'texto': ['uno', 'dos', 'tres', 'cuatro']\n",
    "}"
   ]
  },
  {
   "cell_type": "code",
   "execution_count": 6,
   "id": "f9a16743",
   "metadata": {},
   "outputs": [
    {
     "data": {
      "text/html": [
       "<div>\n",
       "<style scoped>\n",
       "    .dataframe tbody tr th:only-of-type {\n",
       "        vertical-align: middle;\n",
       "    }\n",
       "\n",
       "    .dataframe tbody tr th {\n",
       "        vertical-align: top;\n",
       "    }\n",
       "\n",
       "    .dataframe thead th {\n",
       "        text-align: right;\n",
       "    }\n",
       "</style>\n",
       "<table border=\"1\" class=\"dataframe\">\n",
       "  <thead>\n",
       "    <tr style=\"text-align: right;\">\n",
       "      <th></th>\n",
       "      <th>romanos</th>\n",
       "      <th>arabigos</th>\n",
       "      <th>texto</th>\n",
       "    </tr>\n",
       "  </thead>\n",
       "  <tbody>\n",
       "    <tr>\n",
       "      <th>0</th>\n",
       "      <td>I</td>\n",
       "      <td>1</td>\n",
       "      <td>uno</td>\n",
       "    </tr>\n",
       "    <tr>\n",
       "      <th>1</th>\n",
       "      <td>II</td>\n",
       "      <td>2</td>\n",
       "      <td>dos</td>\n",
       "    </tr>\n",
       "    <tr>\n",
       "      <th>2</th>\n",
       "      <td>III</td>\n",
       "      <td>3</td>\n",
       "      <td>tres</td>\n",
       "    </tr>\n",
       "    <tr>\n",
       "      <th>3</th>\n",
       "      <td>IV</td>\n",
       "      <td>4</td>\n",
       "      <td>cuatro</td>\n",
       "    </tr>\n",
       "  </tbody>\n",
       "</table>\n",
       "</div>"
      ],
      "text/plain": [
       "  romanos  arabigos   texto\n",
       "0       I         1     uno\n",
       "1      II         2     dos\n",
       "2     III         3    tres\n",
       "3      IV         4  cuatro"
      ]
     },
     "execution_count": 6,
     "metadata": {},
     "output_type": "execute_result"
    }
   ],
   "source": [
    "df = pd.DataFrame(numeros)\n",
    "df"
   ]
  },
  {
   "attachments": {},
   "cell_type": "markdown",
   "id": "65c5e116",
   "metadata": {},
   "source": [
    "Antes de guesrdarlo, le agreguemos una columna de **Fechas**, solo para aplicar eso que aprendimos a hacer en la lección anterior."
   ]
  },
  {
   "cell_type": "code",
   "execution_count": 7,
   "id": "d5b7ff31",
   "metadata": {},
   "outputs": [
    {
     "data": {
      "text/html": [
       "<div>\n",
       "<style scoped>\n",
       "    .dataframe tbody tr th:only-of-type {\n",
       "        vertical-align: middle;\n",
       "    }\n",
       "\n",
       "    .dataframe tbody tr th {\n",
       "        vertical-align: top;\n",
       "    }\n",
       "\n",
       "    .dataframe thead th {\n",
       "        text-align: right;\n",
       "    }\n",
       "</style>\n",
       "<table border=\"1\" class=\"dataframe\">\n",
       "  <thead>\n",
       "    <tr style=\"text-align: right;\">\n",
       "      <th></th>\n",
       "      <th>romanos</th>\n",
       "      <th>arabigos</th>\n",
       "      <th>texto</th>\n",
       "      <th>Fechas</th>\n",
       "    </tr>\n",
       "  </thead>\n",
       "  <tbody>\n",
       "    <tr>\n",
       "      <th>0</th>\n",
       "      <td>I</td>\n",
       "      <td>1</td>\n",
       "      <td>uno</td>\n",
       "      <td>2024-01-01</td>\n",
       "    </tr>\n",
       "    <tr>\n",
       "      <th>1</th>\n",
       "      <td>II</td>\n",
       "      <td>2</td>\n",
       "      <td>dos</td>\n",
       "      <td>2024-01-02</td>\n",
       "    </tr>\n",
       "    <tr>\n",
       "      <th>2</th>\n",
       "      <td>III</td>\n",
       "      <td>3</td>\n",
       "      <td>tres</td>\n",
       "      <td>2024-01-03</td>\n",
       "    </tr>\n",
       "    <tr>\n",
       "      <th>3</th>\n",
       "      <td>IV</td>\n",
       "      <td>4</td>\n",
       "      <td>cuatro</td>\n",
       "      <td>2024-01-04</td>\n",
       "    </tr>\n",
       "  </tbody>\n",
       "</table>\n",
       "</div>"
      ],
      "text/plain": [
       "  romanos  arabigos   texto     Fechas\n",
       "0       I         1     uno 2024-01-01\n",
       "1      II         2     dos 2024-01-02\n",
       "2     III         3    tres 2024-01-03\n",
       "3      IV         4  cuatro 2024-01-04"
      ]
     },
     "execution_count": 7,
     "metadata": {},
     "output_type": "execute_result"
    }
   ],
   "source": [
    "df['Fechas'] = pd.Series(pd.date_range('20240101', periods=4))\n",
    "df"
   ]
  },
  {
   "attachments": {},
   "cell_type": "markdown",
   "id": "11f1a077",
   "metadata": {},
   "source": [
    "Ok, ahora ya tengo mi DataFrame, pero este conjunto de datos solo existe en Pandas, y por lo tanto en python, en mi cuaderno jupyter.\n",
    "\n",
    "Ahora quiero tenerlo en un archivo de excel. ¿cómo hacemos eso?"
   ]
  },
  {
   "cell_type": "code",
   "execution_count": 8,
   "id": "1d75d4c0",
   "metadata": {},
   "outputs": [],
   "source": [
    "df.to_excel('C:/Users/Win10/Downloads/00 - FEDE/Udemy/Python para Data Science/Día 7/8 - Abrir y Escribir Archivos Externos desde Pandas/Archivos Creados/numeros2.xlsx', index=False)"
   ]
  },
  {
   "cell_type": "markdown",
   "id": "8dcf5dba",
   "metadata": {},
   "source": [
    "¿Y en CSV?"
   ]
  },
  {
   "cell_type": "code",
   "execution_count": 9,
   "id": "ed4c502c",
   "metadata": {},
   "outputs": [],
   "source": [
    "df.to_csv('C:/Users/Win10/Downloads/00 - FEDE/Udemy/Python para Data Science/Día 7/8 - Abrir y Escribir Archivos Externos desde Pandas/Archivos Creados/numeros3.csv', index=False)"
   ]
  },
  {
   "cell_type": "markdown",
   "id": "bf0621ac",
   "metadata": {},
   "source": [
    "También es importante que sepas que desde Pandas podemos leer datos que se encuentren en una **base de datos SQL**, y también podemos **escribir bases de datos** directamente desde Pandas.\n",
    "\n",
    "Pero a eso lo vamos a ver más adelante en una sección completamente dedicada a bases de datos."
   ]
  }
 ],
 "metadata": {
  "kernelspec": {
   "display_name": "Python 3 (ipykernel)",
   "language": "python",
   "name": "python3"
  },
  "language_info": {
   "codemirror_mode": {
    "name": "ipython",
    "version": 3
   },
   "file_extension": ".py",
   "mimetype": "text/x-python",
   "name": "python",
   "nbconvert_exporter": "python",
   "pygments_lexer": "ipython3",
   "version": "3.11.5"
  }
 },
 "nbformat": 4,
 "nbformat_minor": 5
}
