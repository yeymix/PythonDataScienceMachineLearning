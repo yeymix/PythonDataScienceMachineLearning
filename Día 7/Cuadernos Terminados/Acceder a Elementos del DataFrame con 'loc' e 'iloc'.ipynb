{
 "cells": [
  {
   "attachments": {},
   "cell_type": "markdown",
   "id": "b3190595",
   "metadata": {},
   "source": [
    "# Acceder a Elementos del DataFrame con 'loc' e 'iloc'\n",
    "\n",
    "Ahora veamos cómo podemos acceder a diferentes partes de nuestros DataFrames. Y cuando digo acceder a *partes* me refiero justamente a eso, no solo a elementos individuales, sino a segmentos enteros que representen algún interés para nosotros como científicos de datos.\n",
    "\n",
    "Antonces ahora vamos a aprender la diferencia entre `loc` e `iloc`, y cómo usarlos para acceder a diferentes partes de nuestros DataFrames.\n",
    "\n",
    "Vamos primero con `loc`, que se utiliza para seleccionar filas y columnas **a partir de sus etiquetas**."
   ]
  },
  {
   "cell_type": "code",
   "execution_count": 1,
   "id": "2becec25",
   "metadata": {},
   "outputs": [],
   "source": [
    "import pandas as pd"
   ]
  },
  {
   "cell_type": "code",
   "execution_count": 2,
   "id": "79e9fe7d",
   "metadata": {},
   "outputs": [
    {
     "data": {
      "text/html": [
       "<div>\n",
       "<style scoped>\n",
       "    .dataframe tbody tr th:only-of-type {\n",
       "        vertical-align: middle;\n",
       "    }\n",
       "\n",
       "    .dataframe tbody tr th {\n",
       "        vertical-align: top;\n",
       "    }\n",
       "\n",
       "    .dataframe thead th {\n",
       "        text-align: right;\n",
       "    }\n",
       "</style>\n",
       "<table border=\"1\" class=\"dataframe\">\n",
       "  <thead>\n",
       "    <tr style=\"text-align: right;\">\n",
       "      <th></th>\n",
       "      <th>Col1</th>\n",
       "      <th>Col2</th>\n",
       "      <th>Col3</th>\n",
       "    </tr>\n",
       "  </thead>\n",
       "  <tbody>\n",
       "    <tr>\n",
       "      <th>fila1</th>\n",
       "      <td>100</td>\n",
       "      <td>400</td>\n",
       "      <td>700</td>\n",
       "    </tr>\n",
       "    <tr>\n",
       "      <th>fila2</th>\n",
       "      <td>200</td>\n",
       "      <td>500</td>\n",
       "      <td>800</td>\n",
       "    </tr>\n",
       "    <tr>\n",
       "      <th>fila3</th>\n",
       "      <td>300</td>\n",
       "      <td>600</td>\n",
       "      <td>900</td>\n",
       "    </tr>\n",
       "  </tbody>\n",
       "</table>\n",
       "</div>"
      ],
      "text/plain": [
       "       Col1  Col2  Col3\n",
       "fila1   100   400   700\n",
       "fila2   200   500   800\n",
       "fila3   300   600   900"
      ]
     },
     "execution_count": 2,
     "metadata": {},
     "output_type": "execute_result"
    }
   ],
   "source": [
    "df = pd.DataFrame({\n",
    "    'Col1': [100, 200, 300],\n",
    "    'Col2': [400, 500, 600],\n",
    "    'Col3': [700, 800, 900]\n",
    "}, index=['fila1', 'fila2', 'fila3'])\n",
    "\n",
    "df"
   ]
  },
  {
   "cell_type": "code",
   "execution_count": 3,
   "id": "24b4ab75",
   "metadata": {},
   "outputs": [
    {
     "data": {
      "text/plain": [
       "Col1    100\n",
       "Col2    400\n",
       "Col3    700\n",
       "Name: fila1, dtype: int64"
      ]
     },
     "execution_count": 3,
     "metadata": {},
     "output_type": "execute_result"
    }
   ],
   "source": [
    "df.loc['fila1']"
   ]
  },
  {
   "cell_type": "markdown",
   "id": "61bac8f7",
   "metadata": {},
   "source": [
    "En este caso, a través de la etiqueta **fila1**, he recibido todos los datos almacenados en esa fila, y los he recibido indexados con las etiquetas de las columnas.\n",
    "\n",
    "Esto tiene pinta de ser una serie. Permíteme comprobarlo."
   ]
  },
  {
   "cell_type": "code",
   "execution_count": 4,
   "id": "1066b5f5",
   "metadata": {},
   "outputs": [
    {
     "data": {
      "text/plain": [
       "pandas.core.series.Series"
      ]
     },
     "execution_count": 4,
     "metadata": {},
     "output_type": "execute_result"
    }
   ],
   "source": [
    "type(df.loc['fila1'])"
   ]
  },
  {
   "attachments": {},
   "cell_type": "markdown",
   "id": "beaca919",
   "metadata": {},
   "source": [
    "También podemos pasar una **lista** de etiquetas."
   ]
  },
  {
   "cell_type": "code",
   "execution_count": 5,
   "id": "35eed486",
   "metadata": {},
   "outputs": [
    {
     "data": {
      "text/html": [
       "<div>\n",
       "<style scoped>\n",
       "    .dataframe tbody tr th:only-of-type {\n",
       "        vertical-align: middle;\n",
       "    }\n",
       "\n",
       "    .dataframe tbody tr th {\n",
       "        vertical-align: top;\n",
       "    }\n",
       "\n",
       "    .dataframe thead th {\n",
       "        text-align: right;\n",
       "    }\n",
       "</style>\n",
       "<table border=\"1\" class=\"dataframe\">\n",
       "  <thead>\n",
       "    <tr style=\"text-align: right;\">\n",
       "      <th></th>\n",
       "      <th>Col1</th>\n",
       "      <th>Col2</th>\n",
       "      <th>Col3</th>\n",
       "    </tr>\n",
       "  </thead>\n",
       "  <tbody>\n",
       "    <tr>\n",
       "      <th>fila1</th>\n",
       "      <td>100</td>\n",
       "      <td>400</td>\n",
       "      <td>700</td>\n",
       "    </tr>\n",
       "    <tr>\n",
       "      <th>fila3</th>\n",
       "      <td>300</td>\n",
       "      <td>600</td>\n",
       "      <td>900</td>\n",
       "    </tr>\n",
       "  </tbody>\n",
       "</table>\n",
       "</div>"
      ],
      "text/plain": [
       "       Col1  Col2  Col3\n",
       "fila1   100   400   700\n",
       "fila3   300   600   900"
      ]
     },
     "execution_count": 5,
     "metadata": {},
     "output_type": "execute_result"
    }
   ],
   "source": [
    "df.loc[['fila1', 'fila3']]"
   ]
  },
  {
   "cell_type": "markdown",
   "id": "3179f4b2",
   "metadata": {},
   "source": [
    "Epa. Esto ya no parece una serie ¿será un DataFrame?"
   ]
  },
  {
   "cell_type": "code",
   "execution_count": 6,
   "id": "dabfbb6a",
   "metadata": {
    "scrolled": true
   },
   "outputs": [
    {
     "data": {
      "text/plain": [
       "pandas.core.frame.DataFrame"
      ]
     },
     "execution_count": 6,
     "metadata": {},
     "output_type": "execute_result"
    }
   ],
   "source": [
    "type(df.loc[['fila1', 'fila3']])"
   ]
  },
  {
   "attachments": {},
   "cell_type": "markdown",
   "id": "9a52cb55",
   "metadata": {},
   "source": [
    "Y ya que estamos probemos con una **segmentación**."
   ]
  },
  {
   "cell_type": "code",
   "execution_count": 7,
   "id": "04424afe",
   "metadata": {
    "scrolled": true
   },
   "outputs": [
    {
     "data": {
      "text/html": [
       "<div>\n",
       "<style scoped>\n",
       "    .dataframe tbody tr th:only-of-type {\n",
       "        vertical-align: middle;\n",
       "    }\n",
       "\n",
       "    .dataframe tbody tr th {\n",
       "        vertical-align: top;\n",
       "    }\n",
       "\n",
       "    .dataframe thead th {\n",
       "        text-align: right;\n",
       "    }\n",
       "</style>\n",
       "<table border=\"1\" class=\"dataframe\">\n",
       "  <thead>\n",
       "    <tr style=\"text-align: right;\">\n",
       "      <th></th>\n",
       "      <th>Col1</th>\n",
       "      <th>Col2</th>\n",
       "      <th>Col3</th>\n",
       "    </tr>\n",
       "  </thead>\n",
       "  <tbody>\n",
       "    <tr>\n",
       "      <th>fila2</th>\n",
       "      <td>200</td>\n",
       "      <td>500</td>\n",
       "      <td>800</td>\n",
       "    </tr>\n",
       "    <tr>\n",
       "      <th>fila3</th>\n",
       "      <td>300</td>\n",
       "      <td>600</td>\n",
       "      <td>900</td>\n",
       "    </tr>\n",
       "  </tbody>\n",
       "</table>\n",
       "</div>"
      ],
      "text/plain": [
       "       Col1  Col2  Col3\n",
       "fila2   200   500   800\n",
       "fila3   300   600   900"
      ]
     },
     "execution_count": 7,
     "metadata": {},
     "output_type": "execute_result"
    }
   ],
   "source": [
    "df.loc['fila2':'fila3']"
   ]
  },
  {
   "attachments": {},
   "cell_type": "markdown",
   "id": "e6fa8ec8",
   "metadata": {},
   "source": [
    "Observa que a diferencia de la segmentación habitual en el resto de python, cuando segmentamos con `loc`, el número final **sí es inclusivo**.\n",
    "\n",
    "También podemos pasarle una **lista de booleanos**, pero siempre tiene que ser del mismo largo que el eje que queremos seleccionar."
   ]
  },
  {
   "cell_type": "code",
   "execution_count": 8,
   "id": "e3f7fef2",
   "metadata": {},
   "outputs": [
    {
     "data": {
      "text/html": [
       "<div>\n",
       "<style scoped>\n",
       "    .dataframe tbody tr th:only-of-type {\n",
       "        vertical-align: middle;\n",
       "    }\n",
       "\n",
       "    .dataframe tbody tr th {\n",
       "        vertical-align: top;\n",
       "    }\n",
       "\n",
       "    .dataframe thead th {\n",
       "        text-align: right;\n",
       "    }\n",
       "</style>\n",
       "<table border=\"1\" class=\"dataframe\">\n",
       "  <thead>\n",
       "    <tr style=\"text-align: right;\">\n",
       "      <th></th>\n",
       "      <th>Col1</th>\n",
       "      <th>Col2</th>\n",
       "      <th>Col3</th>\n",
       "    </tr>\n",
       "  </thead>\n",
       "  <tbody>\n",
       "    <tr>\n",
       "      <th>fila2</th>\n",
       "      <td>200</td>\n",
       "      <td>500</td>\n",
       "      <td>800</td>\n",
       "    </tr>\n",
       "  </tbody>\n",
       "</table>\n",
       "</div>"
      ],
      "text/plain": [
       "       Col1  Col2  Col3\n",
       "fila2   200   500   800"
      ]
     },
     "execution_count": 8,
     "metadata": {},
     "output_type": "execute_result"
    }
   ],
   "source": [
    "df.loc[[False, True, False]]"
   ]
  },
  {
   "attachments": {},
   "cell_type": "markdown",
   "id": "da970975",
   "metadata": {},
   "source": [
    "También podemos seleccionar aquellas filas que cumplan alguna condición."
   ]
  },
  {
   "cell_type": "code",
   "execution_count": 9,
   "id": "2f206697",
   "metadata": {},
   "outputs": [
    {
     "data": {
      "text/html": [
       "<div>\n",
       "<style scoped>\n",
       "    .dataframe tbody tr th:only-of-type {\n",
       "        vertical-align: middle;\n",
       "    }\n",
       "\n",
       "    .dataframe tbody tr th {\n",
       "        vertical-align: top;\n",
       "    }\n",
       "\n",
       "    .dataframe thead th {\n",
       "        text-align: right;\n",
       "    }\n",
       "</style>\n",
       "<table border=\"1\" class=\"dataframe\">\n",
       "  <thead>\n",
       "    <tr style=\"text-align: right;\">\n",
       "      <th></th>\n",
       "      <th>Col1</th>\n",
       "      <th>Col2</th>\n",
       "      <th>Col3</th>\n",
       "    </tr>\n",
       "  </thead>\n",
       "  <tbody>\n",
       "    <tr>\n",
       "      <th>fila2</th>\n",
       "      <td>200</td>\n",
       "      <td>500</td>\n",
       "      <td>800</td>\n",
       "    </tr>\n",
       "    <tr>\n",
       "      <th>fila3</th>\n",
       "      <td>300</td>\n",
       "      <td>600</td>\n",
       "      <td>900</td>\n",
       "    </tr>\n",
       "  </tbody>\n",
       "</table>\n",
       "</div>"
      ],
      "text/plain": [
       "       Col1  Col2  Col3\n",
       "fila2   200   500   800\n",
       "fila3   300   600   900"
      ]
     },
     "execution_count": 9,
     "metadata": {},
     "output_type": "execute_result"
    }
   ],
   "source": [
    "df.loc[df['Col1'] > 150]"
   ]
  },
  {
   "attachments": {},
   "cell_type": "markdown",
   "id": "cddc2838",
   "metadata": {},
   "source": [
    "Si queremos traer **columnas** en vez de filas, tenemos que hacerlo de la siguiente manera:"
   ]
  },
  {
   "cell_type": "code",
   "execution_count": 10,
   "id": "8d4c4c8c",
   "metadata": {},
   "outputs": [
    {
     "data": {
      "text/html": [
       "<div>\n",
       "<style scoped>\n",
       "    .dataframe tbody tr th:only-of-type {\n",
       "        vertical-align: middle;\n",
       "    }\n",
       "\n",
       "    .dataframe tbody tr th {\n",
       "        vertical-align: top;\n",
       "    }\n",
       "\n",
       "    .dataframe thead th {\n",
       "        text-align: right;\n",
       "    }\n",
       "</style>\n",
       "<table border=\"1\" class=\"dataframe\">\n",
       "  <thead>\n",
       "    <tr style=\"text-align: right;\">\n",
       "      <th></th>\n",
       "      <th>Col1</th>\n",
       "      <th>Col2</th>\n",
       "    </tr>\n",
       "  </thead>\n",
       "  <tbody>\n",
       "    <tr>\n",
       "      <th>fila1</th>\n",
       "      <td>100</td>\n",
       "      <td>400</td>\n",
       "    </tr>\n",
       "    <tr>\n",
       "      <th>fila2</th>\n",
       "      <td>200</td>\n",
       "      <td>500</td>\n",
       "    </tr>\n",
       "    <tr>\n",
       "      <th>fila3</th>\n",
       "      <td>300</td>\n",
       "      <td>600</td>\n",
       "    </tr>\n",
       "  </tbody>\n",
       "</table>\n",
       "</div>"
      ],
      "text/plain": [
       "       Col1  Col2\n",
       "fila1   100   400\n",
       "fila2   200   500\n",
       "fila3   300   600"
      ]
     },
     "execution_count": 10,
     "metadata": {},
     "output_type": "execute_result"
    }
   ],
   "source": [
    "df.loc[:, ['Col1', 'Col2']]"
   ]
  },
  {
   "attachments": {},
   "cell_type": "markdown",
   "id": "79f350ce",
   "metadata": {},
   "source": [
    "En resumen, `loc` nos permite seleccionar filas y columnas basándonos en sus **etiquetas**. Y esta es la diferencia principal con su hermana casi gemela que es `iloc`, que hace básicamente lo mismo pero no basándose en las etiquetas, sino en las **posiciones numéricas**."
   ]
  },
  {
   "cell_type": "code",
   "execution_count": 11,
   "id": "9e68bbc7",
   "metadata": {},
   "outputs": [
    {
     "data": {
      "text/plain": [
       "Col1    100\n",
       "Col2    400\n",
       "Col3    700\n",
       "Name: fila1, dtype: int64"
      ]
     },
     "execution_count": 11,
     "metadata": {},
     "output_type": "execute_result"
    }
   ],
   "source": [
    "df.iloc[0]"
   ]
  },
  {
   "attachments": {},
   "cell_type": "markdown",
   "id": "f3a681f0",
   "metadata": {},
   "source": [
    "El resto es básicamente igual, pero cambiando las etiquetas por posiciones. Por ejemplo si queremos seleccionar varias columnas:"
   ]
  },
  {
   "cell_type": "code",
   "execution_count": 12,
   "id": "49c6b22f",
   "metadata": {},
   "outputs": [
    {
     "data": {
      "text/html": [
       "<div>\n",
       "<style scoped>\n",
       "    .dataframe tbody tr th:only-of-type {\n",
       "        vertical-align: middle;\n",
       "    }\n",
       "\n",
       "    .dataframe tbody tr th {\n",
       "        vertical-align: top;\n",
       "    }\n",
       "\n",
       "    .dataframe thead th {\n",
       "        text-align: right;\n",
       "    }\n",
       "</style>\n",
       "<table border=\"1\" class=\"dataframe\">\n",
       "  <thead>\n",
       "    <tr style=\"text-align: right;\">\n",
       "      <th></th>\n",
       "      <th>Col1</th>\n",
       "      <th>Col2</th>\n",
       "    </tr>\n",
       "  </thead>\n",
       "  <tbody>\n",
       "    <tr>\n",
       "      <th>fila1</th>\n",
       "      <td>100</td>\n",
       "      <td>400</td>\n",
       "    </tr>\n",
       "    <tr>\n",
       "      <th>fila2</th>\n",
       "      <td>200</td>\n",
       "      <td>500</td>\n",
       "    </tr>\n",
       "    <tr>\n",
       "      <th>fila3</th>\n",
       "      <td>300</td>\n",
       "      <td>600</td>\n",
       "    </tr>\n",
       "  </tbody>\n",
       "</table>\n",
       "</div>"
      ],
      "text/plain": [
       "       Col1  Col2\n",
       "fila1   100   400\n",
       "fila2   200   500\n",
       "fila3   300   600"
      ]
     },
     "execution_count": 12,
     "metadata": {},
     "output_type": "execute_result"
    }
   ],
   "source": [
    "df.iloc[:, [0,1]]"
   ]
  },
  {
   "attachments": {},
   "cell_type": "markdown",
   "id": "1acb73aa",
   "metadata": {},
   "source": [
    "Si quiero seleccionar un rango de filas:"
   ]
  },
  {
   "cell_type": "code",
   "execution_count": 13,
   "id": "470f84cd",
   "metadata": {},
   "outputs": [
    {
     "data": {
      "text/html": [
       "<div>\n",
       "<style scoped>\n",
       "    .dataframe tbody tr th:only-of-type {\n",
       "        vertical-align: middle;\n",
       "    }\n",
       "\n",
       "    .dataframe tbody tr th {\n",
       "        vertical-align: top;\n",
       "    }\n",
       "\n",
       "    .dataframe thead th {\n",
       "        text-align: right;\n",
       "    }\n",
       "</style>\n",
       "<table border=\"1\" class=\"dataframe\">\n",
       "  <thead>\n",
       "    <tr style=\"text-align: right;\">\n",
       "      <th></th>\n",
       "      <th>Col1</th>\n",
       "      <th>Col2</th>\n",
       "      <th>Col3</th>\n",
       "    </tr>\n",
       "  </thead>\n",
       "  <tbody>\n",
       "    <tr>\n",
       "      <th>fila2</th>\n",
       "      <td>200</td>\n",
       "      <td>500</td>\n",
       "      <td>800</td>\n",
       "    </tr>\n",
       "    <tr>\n",
       "      <th>fila3</th>\n",
       "      <td>300</td>\n",
       "      <td>600</td>\n",
       "      <td>900</td>\n",
       "    </tr>\n",
       "  </tbody>\n",
       "</table>\n",
       "</div>"
      ],
      "text/plain": [
       "       Col1  Col2  Col3\n",
       "fila2   200   500   800\n",
       "fila3   300   600   900"
      ]
     },
     "execution_count": 13,
     "metadata": {},
     "output_type": "execute_result"
    }
   ],
   "source": [
    "df.iloc[1:3]"
   ]
  },
  {
   "cell_type": "markdown",
   "id": "54894d64",
   "metadata": {},
   "source": [
    "Aquí observa que al cambiar a índices, nuestro número final dejó de ser inclusivo, y ahora tenemos que poner el índice siguiente para incluir al que nos interesa.\n",
    "\n",
    "Entonces, aunque `loc` e `iloc` pueden parecer similares, es importante recordar que `loc` trabaja con etiquetas e `iloc` con posiciones numéricas. \n",
    "\n",
    "Cuál vas a elegir, depende de cómo desees acceder a los datos de tu DataFrame."
   ]
  }
 ],
 "metadata": {
  "kernelspec": {
   "display_name": "Python 3 (ipykernel)",
   "language": "python",
   "name": "python3"
  },
  "language_info": {
   "codemirror_mode": {
    "name": "ipython",
    "version": 3
   },
   "file_extension": ".py",
   "mimetype": "text/x-python",
   "name": "python",
   "nbconvert_exporter": "python",
   "pygments_lexer": "ipython3",
   "version": "3.11.5"
  }
 },
 "nbformat": 4,
 "nbformat_minor": 5
}
