{
 "cells": [
  {
   "cell_type": "code",
   "execution_count": 1,
   "id": "dd9f5ae5",
   "metadata": {},
   "outputs": [],
   "source": [
    "import pandas as pd"
   ]
  },
  {
   "cell_type": "code",
   "execution_count": 2,
   "id": "e94749d8",
   "metadata": {},
   "outputs": [],
   "source": [
    "ruta_excel = 'C:/Users/Win10/Downloads/00 - FEDE/Udemy/Python para Data Science/Día 7/8 - Abrir y Escribir Archivos Externos desde Pandas/Compras_desde_ads.xlsx'\n",
    "ruta_xml = 'C:/Users/Win10/Downloads/00 - FEDE/Udemy/Python para Data Science/Día 7/8 - Abrir y Escribir Archivos Externos desde Pandas/Valores de acciones.xml'"
   ]
  },
  {
   "cell_type": "code",
   "execution_count": null,
   "id": "cca015cd",
   "metadata": {},
   "outputs": [],
   "source": []
  }
 ],
 "metadata": {
  "kernelspec": {
   "display_name": "Python 3 (ipykernel)",
   "language": "python",
   "name": "python3"
  },
  "language_info": {
   "codemirror_mode": {
    "name": "ipython",
    "version": 3
   },
   "file_extension": ".py",
   "mimetype": "text/x-python",
   "name": "python",
   "nbconvert_exporter": "python",
   "pygments_lexer": "ipython3",
   "version": "3.11.5"
  }
 },
 "nbformat": 4,
 "nbformat_minor": 5
}
