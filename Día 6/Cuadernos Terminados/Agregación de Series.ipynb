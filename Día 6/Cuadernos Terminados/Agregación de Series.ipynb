{
 "cells": [
  {
   "attachments": {},
   "cell_type": "markdown",
   "id": "94443c15",
   "metadata": {},
   "source": [
    "# Agregación de Series\n",
    "\n",
    "Ahora vamos a aprender sobre las agregaciones en Pandas. La agregación consiste en un conjunto de herramientas poderosas para **resumir nuestros datos**.\n",
    "\n",
    "Básicamente una agregación es una **operación que combina varios valores de datos en un solo valor representativo**, como un promedio o una suma total.\n",
    "\n",
    "Te voy a mostrar las agregaciones más comunes, y como siempre, luego puedes ser libre de investigar todas las demás según tu necesidad.\n",
    "\n",
    "Primero vamos a crear una serie básica..."
   ]
  },
  {
   "cell_type": "code",
   "execution_count": 1,
   "id": "70be9b8b",
   "metadata": {},
   "outputs": [
    {
     "data": {
      "text/plain": [
       "0    10\n",
       "1    20\n",
       "2    30\n",
       "3    40\n",
       "4    50\n",
       "dtype: int64"
      ]
     },
     "execution_count": 1,
     "metadata": {},
     "output_type": "execute_result"
    }
   ],
   "source": [
    "import pandas as pd\n",
    "\n",
    "numeros = pd.Series([10, 20, 30, 40, 50])\n",
    "numeros"
   ]
  },
  {
   "cell_type": "markdown",
   "id": "0fde77c1",
   "metadata": {},
   "source": [
    "### Promedio - mean()"
   ]
  },
  {
   "cell_type": "code",
   "execution_count": null,
   "id": "fc50119d",
   "metadata": {},
   "outputs": [],
   "source": [
    "promedio = numeros.mean()\n",
    "print(f\"El promedio es {promedio}\")"
   ]
  },
  {
   "cell_type": "markdown",
   "id": "0cf3ff2a",
   "metadata": {},
   "source": [
    "### Suma - sum()"
   ]
  },
  {
   "cell_type": "code",
   "execution_count": null,
   "id": "99754c99",
   "metadata": {},
   "outputs": [],
   "source": [
    "total = numeros.sum()\n",
    "total"
   ]
  },
  {
   "cell_type": "markdown",
   "id": "0eb2ed24",
   "metadata": {},
   "source": [
    "### Máximo - max()\n"
   ]
  },
  {
   "cell_type": "code",
   "execution_count": null,
   "id": "8bafb8fa",
   "metadata": {},
   "outputs": [],
   "source": [
    "maximo = numeros.max()\n",
    "maximo"
   ]
  },
  {
   "cell_type": "markdown",
   "id": "b99be12a",
   "metadata": {},
   "source": [
    "### Mínimo - min()"
   ]
  },
  {
   "cell_type": "code",
   "execution_count": null,
   "id": "de6f4fa0",
   "metadata": {},
   "outputs": [],
   "source": [
    "minimo = numeros.min()\n",
    "minimo"
   ]
  },
  {
   "attachments": {},
   "cell_type": "markdown",
   "id": "3286a26a",
   "metadata": {},
   "source": [
    "Pandas también ofrece otros métodos de agregación como `.median()`, `.std()`, y `.quantile()` que pueden ser igualmente útiles.\n",
    "\n",
    "Como has podido ver, las agregaciones son fundamentales para el análisis de datos, ya que nos permiten obtener información resumida y descriptiva de nuestros conjuntos de datos."
   ]
  }
 ],
 "metadata": {
  "kernelspec": {
   "display_name": "Python 3 (ipykernel)",
   "language": "python",
   "name": "python3"
  },
  "language_info": {
   "codemirror_mode": {
    "name": "ipython",
    "version": 3
   },
   "file_extension": ".py",
   "mimetype": "text/x-python",
   "name": "python",
   "nbconvert_exporter": "python",
   "pygments_lexer": "ipython3",
   "version": "3.11.5"
  }
 },
 "nbformat": 4,
 "nbformat_minor": 5
}
