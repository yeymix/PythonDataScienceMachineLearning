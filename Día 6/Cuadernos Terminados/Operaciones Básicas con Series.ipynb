{
 "cells": [
  {
   "attachments": {},
   "cell_type": "markdown",
   "id": "d548d87f",
   "metadata": {},
   "source": [
    "# Operaciones Básicas con Series\n",
    "\n",
    "Otra cosa que quiero que conozcas, es que puedes realizar operaciones básicas con tus series.\n",
    "\n",
    "Vamos a crear una serie numérica simple."
   ]
  },
  {
   "cell_type": "code",
   "execution_count": 1,
   "id": "4fd2cfc9",
   "metadata": {},
   "outputs": [],
   "source": [
    "import pandas as pd"
   ]
  },
  {
   "cell_type": "code",
   "execution_count": 2,
   "id": "9e5b4647",
   "metadata": {},
   "outputs": [
    {
     "data": {
      "text/plain": [
       "0    10\n",
       "1    20\n",
       "2    30\n",
       "3    40\n",
       "4    50\n",
       "dtype: int64"
      ]
     },
     "execution_count": 2,
     "metadata": {},
     "output_type": "execute_result"
    }
   ],
   "source": [
    "serie = pd.Series([10, 20, 30, 40, 50])\n",
    "serie"
   ]
  },
  {
   "cell_type": "markdown",
   "id": "4da24ef0",
   "metadata": {},
   "source": [
    "Ahora voy a seleccionar su **primer item** con la notación de corches, y le **sumaré 10**."
   ]
  },
  {
   "cell_type": "code",
   "execution_count": null,
   "id": "8526a61e",
   "metadata": {},
   "outputs": [],
   "source": [
    "serie[0] = serie[0] + 10\n",
    "serie"
   ]
  },
  {
   "attachments": {},
   "cell_type": "markdown",
   "id": "eac5e566",
   "metadata": {},
   "source": [
    "¿Y si quiero sumar 10 a **cada uno** de sus items?"
   ]
  },
  {
   "cell_type": "code",
   "execution_count": null,
   "id": "821afef0",
   "metadata": {},
   "outputs": [],
   "source": [
    "serie = serie + 10\n",
    "serie"
   ]
  },
  {
   "attachments": {},
   "cell_type": "markdown",
   "id": "bff87b9a",
   "metadata": {},
   "source": [
    "Puedes realizar cualquier otra operación, como por ejemplo multiplicar."
   ]
  },
  {
   "cell_type": "code",
   "execution_count": null,
   "id": "acc7eacc",
   "metadata": {},
   "outputs": [],
   "source": [
    "serie = serie * 2\n",
    "serie"
   ]
  }
 ],
 "metadata": {
  "kernelspec": {
   "display_name": "Python 3 (ipykernel)",
   "language": "python",
   "name": "python3"
  },
  "language_info": {
   "codemirror_mode": {
    "name": "ipython",
    "version": 3
   },
   "file_extension": ".py",
   "mimetype": "text/x-python",
   "name": "python",
   "nbconvert_exporter": "python",
   "pygments_lexer": "ipython3",
   "version": "3.11.5"
  }
 },
 "nbformat": 4,
 "nbformat_minor": 5
}
