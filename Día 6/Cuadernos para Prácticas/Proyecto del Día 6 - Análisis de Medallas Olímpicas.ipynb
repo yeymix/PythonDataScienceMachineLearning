{
 "cells": [
  {
   "cell_type": "markdown",
   "id": "0c14ab17",
   "metadata": {},
   "source": [
    "# Proyecto del Día 6 - Análisis de Medallas Olímpicas\n",
    "\n",
    "### Objetivo\n",
    "Realizar un análisis exploratorio de datos (EDA) sobre un conjunto de datos de medallas olímpicas utilizando Pandas. Este proyecto te permitirá aplicar los conceptos aprendidos sobre **Series**, **DataFrames**, **limpieza de datos**, **operaciones básicas**, **filtrado** y **agregación** en Pandas.\n",
    "\n",
    "### Consigna\n",
    "Vas a trabajar con el conjunto de datos *medallas.csv*, que descargarás de la lección **Proyecto del Día 6**, y que incluye información sobre las medallas de oro, plata, bronce y el total obtenido por cada país en los Juegos Olímpicos.\n",
    "\n",
    "Vas a realizar una serie de tareas básicas, que te permitirán responder a las preguntas del **cuestionario** que encontrarás al final del día. Las tareas que realizarás son:\n",
    "\n",
    "1. **Cargar los Datos**: Importar los datos desde el archivo CSV a un DataFrame de Pandas.\n",
    "\n",
    "2. **Exploración Inicial**: Utilizar métodos básicos para explorar el tamaño, las columnas y los tipos de datos del DataFrame.\n",
    "\n",
    "3. **Limpieza de Datos**: Identificar y manejar valores faltantes o incorrectos, especialmente en las columnas de medallas donde los valores faltantes indican cero medallas.\n",
    "\n",
    "4. **Análisis de Medallas de Oro por País**: Realiza las operaciones que sean necesarias para identificar cuáles fueron los 3 países con más medallas de Oro en total (vas a necesitar investigar los métodos de dataframes para encontrar cuál te permite ordenar los valores de mayor a menor o viceversa).\n",
    "\n",
    "5. **Análisis de Medallas Totales por País**: Obtener un dataframe que contenga sólo los países que ganaron más de 10 medallas en total.\n",
    "\n",
    "\n",
    "Una vez que hayas realizado estos pasos, realiza el **cuestionario del día**, que contiene preguntas que solo podrás responder tras haber explorado los datos siguiendo los pasos anteriores.\n",
    "\n",
    "¡Mucha suerte!"
   ]
  },
  {
   "cell_type": "code",
   "execution_count": null,
   "id": "f676e71e",
   "metadata": {},
   "outputs": [],
   "source": []
  }
 ],
 "metadata": {
  "kernelspec": {
   "display_name": "Python 3 (ipykernel)",
   "language": "python",
   "name": "python3"
  },
  "language_info": {
   "codemirror_mode": {
    "name": "ipython",
    "version": 3
   },
   "file_extension": ".py",
   "mimetype": "text/x-python",
   "name": "python",
   "nbconvert_exporter": "python",
   "pygments_lexer": "ipython3",
   "version": "3.11.5"
  }
 },
 "nbformat": 4,
 "nbformat_minor": 5
}
