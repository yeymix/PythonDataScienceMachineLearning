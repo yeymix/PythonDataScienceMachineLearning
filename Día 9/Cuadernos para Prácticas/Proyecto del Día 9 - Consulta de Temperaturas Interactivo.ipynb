{
 "cells": [
  {
   "cell_type": "markdown",
   "id": "dd8109da",
   "metadata": {},
   "source": [
    "# Proyecto del Día 9: Consulta de Temperaturas Interactivo por Ciudad y Mes\n",
    "\n",
    "## Objetivo\n",
    "\n",
    "El proyecto propuesto consistirá en la creación de un programa interactivo para la visualización de datos meteorológicos. Este programa permitirá a los usuarios visualizar los registros climáticos eligiendo el lugar y el més. El objetivo es aplicar los conceptos de creación de gráficos, personalización de estilos y combinarlo con las habilidades de desarrollo de programas con Python.\n",
    "\n",
    "## Consigna\n",
    "\n",
    "1. **Cargar un DataFrame** con los datos meteorológicos provistos en el archivo descargable de esta lección.\n",
    "2. Asegúrate de que las **fechas** estén en el **formato correcto** para su manipulación posterior.\n",
    "3. Crea un programa (una función o un conjunto de funciones) que le pida al usuario que seleccione una **ciudad** de la lista de ciudades disponibles en nuestro DataFrame, y un **mes** del año.\n",
    "4. Muéstrale al usuario un gráfico que muestre las temperaturas mínimas y máximas que se registraron en la ciudad elegida durante el mes elegido.\n",
    "5. El programa debe preguntarle al usuario si desea seguir haciendo consultas o no.\n",
    "\n",
    "**¡Mucha suerte!**"
   ]
  },
  {
   "cell_type": "code",
   "execution_count": null,
   "id": "d4e0a9d1",
   "metadata": {},
   "outputs": [],
   "source": []
  }
 ],
 "metadata": {
  "kernelspec": {
   "display_name": "Python 3 (ipykernel)",
   "language": "python",
   "name": "python3"
  },
  "language_info": {
   "codemirror_mode": {
    "name": "ipython",
    "version": 3
   },
   "file_extension": ".py",
   "mimetype": "text/x-python",
   "name": "python",
   "nbconvert_exporter": "python",
   "pygments_lexer": "ipython3",
   "version": "3.11.5"
  }
 },
 "nbformat": 4,
 "nbformat_minor": 5
}
