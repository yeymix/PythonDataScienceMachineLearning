{
 "cells": [
  {
   "cell_type": "markdown",
   "id": "07369842",
   "metadata": {},
   "source": [
    "# Nomenclatura para Format en plt.plot()\n",
    "\n",
    "Si bien la nomenclatura completa para el **parámetro de formato** en `plt.plot()` de Matplotlib se puede encontrar en la [documentación oficial de Matplotlib](https://matplotlib.org/stable/api/_as_gen/matplotlib.pyplot.plot.html), en este cuaderno te proporcionaré un resumen de las opciones básicas.\n",
    "\n",
    "### Colores\n",
    "##### Se especifican con letras únicas. Por ejemplo:\n",
    "\n",
    "* 'b': azul\n",
    "* 'g': verde\n",
    "* 'r': rojo\n",
    "* 'c': cian\n",
    "* 'm': magenta\n",
    "* 'y': amarillo\n",
    "* 'k': negro\n",
    "* 'w': blanco\n",
    "\n",
    "\n",
    "### Marcadores\n",
    "##### Indican los puntos de datos en la gráfica. Algunos ejemplos comunes incluyen:\n",
    "\n",
    "* 'o': círculos\n",
    "* '^': triángulos hacia arriba\n",
    "* 's': cuadrados\n",
    "* '*': estrellas\n",
    "* '+': cruces\n",
    "* 'x': equis\n",
    "* 'D': diamantes\n",
    "\n",
    "\n",
    "### Estilos de línea\n",
    "##### Define cómo se conectan los puntos en la gráfica.\n",
    "\n",
    "* '-': línea sólida\n",
    "* '--': línea discontinua\n",
    "* '-.': línea-punto\n",
    "* ':': línea punteada\n",
    "\n",
    "Puedes combinar estos caracteres en el parámetro de formato de `plt.plot()` para personalizar el aspecto de tus gráficas. Por ejemplo, `'b*:'` crearía una línea punteada azul con marcadores de estrella."
   ]
  },
  {
   "cell_type": "code",
   "execution_count": null,
   "id": "a0304b60",
   "metadata": {},
   "outputs": [],
   "source": []
  }
 ],
 "metadata": {
  "kernelspec": {
   "display_name": "Python 3 (ipykernel)",
   "language": "python",
   "name": "python3"
  },
  "language_info": {
   "codemirror_mode": {
    "name": "ipython",
    "version": 3
   },
   "file_extension": ".py",
   "mimetype": "text/x-python",
   "name": "python",
   "nbconvert_exporter": "python",
   "pygments_lexer": "ipython3",
   "version": "3.11.5"
  }
 },
 "nbformat": 4,
 "nbformat_minor": 5
}
