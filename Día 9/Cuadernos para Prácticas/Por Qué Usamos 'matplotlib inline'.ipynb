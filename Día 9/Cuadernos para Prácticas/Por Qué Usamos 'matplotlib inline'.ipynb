{
 "cells": [
  {
   "cell_type": "markdown",
   "id": "ef3c1c65",
   "metadata": {},
   "source": [
    "# ¿Por Qué Usamos \"%matplotlib inline\"?\n",
    "\n",
    "La línea `%matplotlib inline` es un comando específico de los Cuadernos Jupyter, y es útil para varios propósitos relacionados con la visualización de gráficos en estos notebooks.\n",
    "\n",
    "Cuando estás trabajando en un **Jupyter Notebook** y quieres mostrar gráficos creados con **Matplotlib**, hay diferentes maneras de hacer que estos gráficos se muestren directamente dentro de tu notebook. Estos modos son conocidos como *backends* en Matplotlib.\n",
    "\n",
    "1. **%matplotlib inline**: Este comando activa el backend *inline* de Matplotlib en un Jupyter Notebook. Lo que hace es:\n",
    "    * Hace que todas las figuras y gráficos se muestren automáticamente dentro del notebook, justo después de las celdas que contienen el código que los genera.\n",
    "    * Los gráficos se convierten en imágenes estáticas. No son interactivos, lo que significa que no puedes, por ejemplo, hacer zoom o rotar gráficos 3D directamente en el notebook.\n",
    "2. Importancia de Usar **%matplotlib inline**:\n",
    "    * Sin este comando, es posible que tengas que usar `plt.show()` para cada gráfico que quieras mostrar, lo cual puede ser menos conveniente.\n",
    "    * En algunos casos, si no se especifica un *backend*, los gráficos pueden no mostrarse en absoluto o pueden intentar abrirse en una ventana separada, lo cual no es ideal para un entorno de notebook.\n",
    "3. Uso de **import matplotlib**:\n",
    "    * `import matplotlib` es el comando estándar de Python para importar la biblioteca Matplotlib. Matplotlib es una biblioteca de trazado muy popular en Python, que se utiliza para crear gráficos y visualizaciones de alta calidad.\n",
    "    * Generalmente, se importa el módulo pyplot de Matplotlib con una línea como `import matplotlib.pyplot as plt`. pyplot proporciona una interfaz que hace que Matplotlib sea más fácil de usar, especialmente para usuarios nuevos o para trazar gráficos de manera rápida.\n",
    "    \n",
    "En resumen, `%matplotlib inline` se utiliza para integrar la visualización de gráficos de Matplotlib directamente dentro de los Jupyter Notebooks, mientras que `import matplotlib` es el comando estándar para acceder a las funcionalidades de la biblioteca Matplotlib en tu código."
   ]
  },
  {
   "cell_type": "code",
   "execution_count": null,
   "id": "aa18d5f9",
   "metadata": {},
   "outputs": [],
   "source": []
  }
 ],
 "metadata": {
  "kernelspec": {
   "display_name": "Python 3 (ipykernel)",
   "language": "python",
   "name": "python3"
  },
  "language_info": {
   "codemirror_mode": {
    "name": "ipython",
    "version": 3
   },
   "file_extension": ".py",
   "mimetype": "text/x-python",
   "name": "python",
   "nbconvert_exporter": "python",
   "pygments_lexer": "ipython3",
   "version": "3.11.5"
  }
 },
 "nbformat": 4,
 "nbformat_minor": 5
}
