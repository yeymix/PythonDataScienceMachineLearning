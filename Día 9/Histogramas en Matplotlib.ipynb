{
 "cells": [
  {
   "cell_type": "markdown",
   "metadata": {},
   "source": [
    "## Histogramas en Matplotlib"
   ]
  },
  {
   "cell_type": "code",
   "execution_count": 1,
   "metadata": {},
   "outputs": [],
   "source": [
    "import pandas as pd\n",
    "import numpy as np\n",
    "import matplotlib.pyplot as plt\n",
    "import pandas as pd"
   ]
  },
  {
   "cell_type": "code",
   "execution_count": 3,
   "metadata": {},
   "outputs": [
    {
     "data": {
      "text/html": [
       "<div>\n",
       "<style scoped>\n",
       "    .dataframe tbody tr th:only-of-type {\n",
       "        vertical-align: middle;\n",
       "    }\n",
       "\n",
       "    .dataframe tbody tr th {\n",
       "        vertical-align: top;\n",
       "    }\n",
       "\n",
       "    .dataframe thead th {\n",
       "        text-align: right;\n",
       "    }\n",
       "</style>\n",
       "<table border=\"1\" class=\"dataframe\">\n",
       "  <thead>\n",
       "    <tr style=\"text-align: right;\">\n",
       "      <th></th>\n",
       "      <th>Fecha</th>\n",
       "      <th>Producto</th>\n",
       "      <th>Cantidad</th>\n",
       "      <th>Precio Unitario</th>\n",
       "      <th>Total Venta</th>\n",
       "    </tr>\n",
       "  </thead>\n",
       "  <tbody>\n",
       "    <tr>\n",
       "      <th>0</th>\n",
       "      <td>1/17/2023</td>\n",
       "      <td>Electrónic</td>\n",
       "      <td>7</td>\n",
       "      <td>200</td>\n",
       "      <td>1400</td>\n",
       "    </tr>\n",
       "    <tr>\n",
       "      <th>1</th>\n",
       "      <td>9/1/2023</td>\n",
       "      <td>Electrónic</td>\n",
       "      <td>8</td>\n",
       "      <td>200</td>\n",
       "      <td>1600</td>\n",
       "    </tr>\n",
       "    <tr>\n",
       "      <th>2</th>\n",
       "      <td>7/29/2023</td>\n",
       "      <td>Juguetes</td>\n",
       "      <td>3</td>\n",
       "      <td>30</td>\n",
       "      <td>90</td>\n",
       "    </tr>\n",
       "    <tr>\n",
       "      <th>3</th>\n",
       "      <td>10/4/2023</td>\n",
       "      <td>Alimentos</td>\n",
       "      <td>4</td>\n",
       "      <td>10</td>\n",
       "      <td>40</td>\n",
       "    </tr>\n",
       "    <tr>\n",
       "      <th>4</th>\n",
       "      <td>2/28/2023</td>\n",
       "      <td>Electrónic</td>\n",
       "      <td>6</td>\n",
       "      <td>200</td>\n",
       "      <td>1200</td>\n",
       "    </tr>\n",
       "    <tr>\n",
       "      <th>...</th>\n",
       "      <td>...</td>\n",
       "      <td>...</td>\n",
       "      <td>...</td>\n",
       "      <td>...</td>\n",
       "      <td>...</td>\n",
       "    </tr>\n",
       "    <tr>\n",
       "      <th>995</th>\n",
       "      <td>4/27/2023</td>\n",
       "      <td>Alimentos</td>\n",
       "      <td>2</td>\n",
       "      <td>10</td>\n",
       "      <td>20</td>\n",
       "    </tr>\n",
       "    <tr>\n",
       "      <th>996</th>\n",
       "      <td>6/9/2023</td>\n",
       "      <td>Ropa</td>\n",
       "      <td>10</td>\n",
       "      <td>50</td>\n",
       "      <td>500</td>\n",
       "    </tr>\n",
       "    <tr>\n",
       "      <th>997</th>\n",
       "      <td>8/21/2023</td>\n",
       "      <td>Alimentos</td>\n",
       "      <td>8</td>\n",
       "      <td>10</td>\n",
       "      <td>80</td>\n",
       "    </tr>\n",
       "    <tr>\n",
       "      <th>998</th>\n",
       "      <td>3/28/2023</td>\n",
       "      <td>Electrónic</td>\n",
       "      <td>6</td>\n",
       "      <td>200</td>\n",
       "      <td>1200</td>\n",
       "    </tr>\n",
       "    <tr>\n",
       "      <th>999</th>\n",
       "      <td>3/7/2023</td>\n",
       "      <td>Electrónic</td>\n",
       "      <td>4</td>\n",
       "      <td>200</td>\n",
       "      <td>800</td>\n",
       "    </tr>\n",
       "  </tbody>\n",
       "</table>\n",
       "<p>1000 rows × 5 columns</p>\n",
       "</div>"
      ],
      "text/plain": [
       "         Fecha    Producto  Cantidad  Precio Unitario  Total Venta\n",
       "0    1/17/2023  Electrónic         7              200         1400\n",
       "1     9/1/2023  Electrónic         8              200         1600\n",
       "2    7/29/2023    Juguetes         3               30           90\n",
       "3    10/4/2023   Alimentos         4               10           40\n",
       "4    2/28/2023  Electrónic         6              200         1200\n",
       "..         ...         ...       ...              ...          ...\n",
       "995  4/27/2023   Alimentos         2               10           20\n",
       "996   6/9/2023        Ropa        10               50          500\n",
       "997  8/21/2023   Alimentos         8               10           80\n",
       "998  3/28/2023  Electrónic         6              200         1200\n",
       "999   3/7/2023  Electrónic         4              200          800\n",
       "\n",
       "[1000 rows x 5 columns]"
      ]
     },
     "execution_count": 3,
     "metadata": {},
     "output_type": "execute_result"
    }
   ],
   "source": [
    "from pandas import read_csv\n",
    "ruta = \"C:\\\\AmaruAyelen\\\\proyectos\\\\PythonDataScienceMachineLearning\\\\PythonDataScienceMachineLearning\\\\Files\\\\Ventas.csv\"\n",
    "df = pd.read_csv(ruta)\n",
    "df"
   ]
  },
  {
   "cell_type": "code",
   "execution_count": 4,
   "metadata": {},
   "outputs": [
    {
     "data": {
      "image/png": "[encoded data removed]",
      "text/plain": [
       "<Figure size 640x480 with 1 Axes>"
      ]
     },
     "metadata": {},
     "output_type": "display_data"
    }
   ],
   "source": [
    "# Función para crear histogramas:\n",
    "# x: Serie unidimencional\n",
    "# Buscará en el df y seleccionará la columna producto: \n",
    "plt.hist(df['Producto']);"
   ]
  },
  {
   "cell_type": "code",
   "execution_count": 5,
   "metadata": {},
   "outputs": [
    {
     "data": {
      "text/plain": [
       "array([-6.37543172e-01, -1.12173082e+00,  1.39135062e+00, -2.01983302e-02,\n",
       "       -1.67637826e+00,  1.24053282e+00, -2.61490169e-01,  1.85570190e-01,\n",
       "        8.09668033e-01, -4.39090101e-01,  8.16338532e-01, -9.90142162e-01,\n",
       "       -2.92177827e-01, -1.17601864e-01,  7.65846503e-01,  1.10057584e+00,\n",
       "        9.02320231e-01,  1.03938714e+00,  6.35846490e-01, -1.33399287e+00,\n",
       "        6.92479894e-01,  6.97485499e-01,  7.53419007e-01,  7.56256236e-01,\n",
       "        3.18040281e-01,  9.80816232e-02,  8.56228559e-01,  1.15347458e-01,\n",
       "       -1.18245496e+00,  4.32430160e-01,  7.61483192e-02, -3.47458290e-02,\n",
       "        2.09019662e-02, -3.61109831e-01, -1.85538539e+00, -1.93316110e+00,\n",
       "        1.09754220e+00, -5.49302331e-01, -5.11270272e-01,  8.76734958e-01,\n",
       "       -4.39315629e-01,  4.78160499e-01,  6.88828242e-01,  7.96125379e-01,\n",
       "        7.94550440e-01,  2.18311210e-01, -5.91267193e-01,  1.14975105e+00,\n",
       "       -3.45679497e-01, -9.84133819e-01, -1.15794293e+00,  2.69407166e-01,\n",
       "        5.98214127e-02,  5.03527051e-01, -6.40670457e-01, -3.57964355e-01,\n",
       "       -1.03449811e+00,  7.26887765e-01, -6.20787410e-01, -6.69717240e-01,\n",
       "       -1.43556069e+00,  9.18984003e-01,  1.27583712e+00, -3.42799922e-01,\n",
       "       -5.24238028e-01,  9.37550916e-01, -1.26823333e+00,  1.69729553e+00,\n",
       "        5.37029311e-01,  8.34920948e-01, -6.04049910e-01,  5.74298924e-01,\n",
       "       -1.62910247e+00, -3.90853711e-01,  6.98043368e-01, -1.23249525e-01,\n",
       "       -3.48469765e-01, -1.66861895e+00,  2.65098284e-01, -4.42391879e-01,\n",
       "        1.28630654e+00, -1.04272403e-01,  4.61523731e-01,  1.01616577e+00,\n",
       "        1.01942712e+00, -7.73985491e-01,  4.84747005e-01,  1.37224364e+00,\n",
       "       -1.13458731e+00,  1.04311874e+00,  2.60423017e-01,  1.35506843e+00,\n",
       "        1.45895629e+00,  4.89881101e-01,  3.73622168e-01,  2.38336031e+00,\n",
       "       -2.47749014e-01, -1.24793124e+00, -1.59495331e-01, -5.06544454e-01,\n",
       "        2.07371966e+00,  1.48944216e+00, -2.40909334e-01, -2.36194865e+00,\n",
       "        3.88197460e-01,  1.10189022e+00,  2.58669021e-01,  1.29351027e+00,\n",
       "        1.19283638e+00, -7.19107830e-02, -2.78762152e-01, -1.70243128e+00,\n",
       "        7.12140903e-01,  8.67290146e-01, -8.32772546e-01,  1.55083787e-01,\n",
       "       -3.15836418e-01,  1.09392255e-01, -2.73608744e-01, -1.40322026e+00,\n",
       "        6.22248518e-01, -1.23144317e+00,  9.74955636e-01, -8.72094067e-01,\n",
       "        4.76217216e-01, -6.44799888e-01, -1.87696736e+00,  7.48049258e-01,\n",
       "        6.46167346e-01, -2.10743613e+00, -6.76539256e-01,  4.28485906e-01,\n",
       "       -4.80889770e-01,  5.24442204e-02, -1.60893051e-01, -2.90513745e-02,\n",
       "        4.32049757e-01, -2.38887949e+00,  9.59649216e-01, -1.64513730e+00,\n",
       "       -8.21646488e-01,  1.56389905e+00, -1.16355018e-01, -1.00530308e+00,\n",
       "        1.73436881e+00,  3.40794111e-01,  1.45107545e+00, -1.04385384e+00,\n",
       "        2.36253866e-01,  1.49584170e+00,  1.06205358e+00, -3.63227075e-02,\n",
       "        8.57876817e-01, -4.57574001e-01,  6.88899416e-01,  1.72005982e+00,\n",
       "       -3.11803936e-01,  1.77021321e-01,  2.02201527e+00,  6.44753977e-01,\n",
       "        1.56671216e+00,  1.18233708e+00, -4.97221618e-01,  1.21506579e+00,\n",
       "        7.38730151e-01,  1.32475377e+00,  1.36286105e+00, -1.03858350e+00,\n",
       "       -4.85278588e-02, -8.09140374e-01, -1.71964935e+00, -1.00045560e+00,\n",
       "       -2.51143672e-01,  4.40347636e-01, -1.42428127e-01,  3.17298062e-02,\n",
       "       -1.74277738e-01, -9.85183475e-01,  1.55481982e+00,  1.06640208e-01,\n",
       "       -1.34707294e+00,  5.79266628e-01,  1.23512506e-01, -1.46682199e+00,\n",
       "       -2.54742739e+00,  4.38845491e-01, -9.34640808e-01, -2.58617116e-01,\n",
       "       -2.06870668e-01, -3.87821592e-01, -1.02578257e+00, -7.87668842e-01,\n",
       "       -1.43083733e+00, -1.54967509e+00, -7.03873786e-01, -7.27353284e-01,\n",
       "       -9.75570959e-02, -3.34815132e-01, -2.25045785e+00,  4.62461422e-01,\n",
       "        4.53972601e-01, -8.62081484e-01,  1.84540266e+00,  2.00786207e+00,\n",
       "        1.59738520e+00,  7.38317371e-01, -1.87310707e+00, -1.35893493e+00,\n",
       "       -3.30233223e-03, -8.78674717e-01,  3.21080634e-01,  5.32467130e-01,\n",
       "       -1.00258444e+00,  9.74598657e-01, -2.56216836e-01, -2.44461458e-02,\n",
       "       -2.95754088e-01, -6.97276468e-01, -1.11358958e+00, -3.13549785e-02,\n",
       "       -1.35282242e+00,  1.49543724e-01, -2.65455802e-01, -4.76435082e-02,\n",
       "       -8.57819226e-01,  3.64274493e-01,  2.26165291e+00, -7.20950832e-01,\n",
       "        1.55558992e+00,  1.15178253e+00,  1.05094253e+00, -5.74732606e-01,\n",
       "        6.16777890e-01,  1.74292874e+00,  1.41924060e-01,  2.52145084e+00,\n",
       "       -1.96279150e+00, -3.71926196e-01, -3.26395231e-01,  1.87469241e+00,\n",
       "        8.76567561e-01, -1.64889946e+00, -9.22397504e-02, -6.82150270e-01,\n",
       "        4.46811544e-01,  8.33012199e-01, -4.31861577e-01,  7.71274032e-01,\n",
       "       -1.53846662e+00,  7.00972266e-02, -9.60839605e-01,  4.42561348e-01,\n",
       "        6.33968681e-01,  1.40921146e-01,  1.69292522e+00, -4.69568585e-01,\n",
       "        2.49487994e-01, -1.80803580e+00, -2.23220539e+00,  1.44423784e+00,\n",
       "       -9.32044661e-01,  3.84233148e-01, -1.17458224e-01,  6.58140179e-01,\n",
       "        6.68164402e-01,  2.45250822e-01, -1.04713793e-01,  4.94972923e-01,\n",
       "        3.54192039e-01,  6.87430861e-01,  1.22714311e-01, -9.13777260e-01,\n",
       "       -2.73992764e+00,  7.40287513e-01,  1.59055230e+00,  4.92674050e-01,\n",
       "       -8.12537189e-01, -1.18786663e+00,  9.40278583e-01,  6.80084561e-01,\n",
       "       -8.09668472e-02,  8.68435303e-01, -1.10065813e+00, -3.33619401e-01,\n",
       "        5.64342487e-01,  2.04848209e-01,  3.30857784e-01, -1.78553036e-02,\n",
       "       -1.64257906e+00, -9.44287097e-01,  1.05218483e+00, -3.40448791e-03,\n",
       "       -1.11688247e+00, -1.47134690e-01,  1.97508347e-01, -5.13260407e-01,\n",
       "       -1.95144029e+00, -5.88523832e-01, -1.54114927e+00, -2.15200711e-01,\n",
       "        2.32578579e-01, -8.31941345e-02, -1.40347048e+00, -6.54884517e-01,\n",
       "        3.75922090e-01,  1.24529789e+00,  2.44092015e-01, -9.72997133e-01,\n",
       "        4.27424004e-01, -1.61436225e-02,  1.77811544e-01,  9.80523824e-01,\n",
       "       -6.77211885e-01,  2.81469680e-01, -1.65785665e-01,  2.27189567e+00,\n",
       "       -7.79350689e-01, -1.68431014e+00, -4.02014143e-01, -9.46640747e-01,\n",
       "       -1.29250943e+00,  2.82382244e-01, -3.13189888e-01,  4.62308949e-01,\n",
       "       -6.74109177e-01, -1.10339502e-01,  5.84725610e-01, -5.49394553e-01,\n",
       "        1.22067015e+00,  1.80690214e-01,  1.49332414e+00,  2.62110888e-01,\n",
       "        1.38315050e+00,  3.36746463e-01, -5.51372074e-01, -6.10981386e-01,\n",
       "       -1.17867401e+00, -2.14071550e+00, -5.57592469e-01, -1.08234972e+00,\n",
       "        5.52130819e-01,  2.20944205e+00, -1.84811567e-02,  9.26092060e-01,\n",
       "       -2.08249613e+00,  3.20648747e-01, -6.36091286e-02,  6.09076743e-02,\n",
       "       -3.84391578e-01, -1.32678114e+00, -8.73314025e-01, -6.42684907e-03,\n",
       "       -9.06460967e-02,  2.71924496e-02,  1.44087890e-02, -3.50635560e-01,\n",
       "        1.17155238e+00, -8.70008530e-02, -1.38079366e+00,  3.55429609e-02,\n",
       "        1.06374302e+00,  1.31126499e-01,  3.94410710e-01,  9.44773116e-01,\n",
       "       -7.07851230e-01, -9.44001272e-01,  1.02889800e+00,  2.31349368e+00,\n",
       "        2.20032014e+00, -1.15766865e+00,  3.49621550e-02, -6.19111416e-02,\n",
       "        7.11840229e-02,  1.52283947e+00, -5.69979442e-01,  9.32685926e-01,\n",
       "       -1.44975945e+00,  1.68003805e+00,  1.65229654e+00,  9.18460917e-01,\n",
       "        3.41787422e-01, -1.48069460e+00,  1.03252133e+00,  1.56997575e+00,\n",
       "       -5.27421920e-01, -1.15154811e+00,  1.23372482e+00, -1.43568592e+00,\n",
       "       -1.09183496e-01, -3.74461420e-01, -2.61016694e+00, -1.75325866e+00,\n",
       "        7.91941972e-01, -4.32320928e-02,  2.91513115e-01,  8.38562340e-01,\n",
       "       -2.13191283e-01,  1.80155033e-01,  1.60819900e+00, -2.70083084e-01,\n",
       "       -1.09150085e-02, -1.49243037e+00, -2.15462244e-01,  1.11128016e+00,\n",
       "       -4.29654578e-01, -3.31870792e-01,  1.82616452e+00, -2.90610773e-01,\n",
       "        5.92120451e-01, -1.65997107e+00, -1.19456390e+00,  1.68437071e+00,\n",
       "       -3.92869939e-02,  1.08158313e+00,  1.04836925e+00, -3.43052690e-01,\n",
       "        3.13200867e-01, -7.60767158e-01,  4.17732297e-01,  4.48017457e-01,\n",
       "       -1.27084734e-01, -1.61366716e+00,  5.65174365e-01, -2.21453099e+00,\n",
       "       -1.54180351e+00, -3.09177032e-01,  2.55258908e-01,  5.75609865e-01,\n",
       "        3.46877448e-01,  7.51733000e-01, -2.76915472e-01,  4.49712250e-01,\n",
       "       -9.28042222e-01,  3.42722930e-02, -4.59852024e-01,  1.02500798e+00,\n",
       "       -8.19461435e-01,  3.27501892e-01,  9.21367166e-01, -3.36320994e-01,\n",
       "       -3.87910713e-01, -1.25183102e-01, -7.32768588e-01, -5.65643846e-01,\n",
       "       -6.68663012e-01, -5.66446520e-01, -3.20057180e+00,  5.41988270e-01,\n",
       "       -2.57130581e-01, -9.17764333e-01,  1.13823240e+00,  1.23174387e-01,\n",
       "        1.37999476e-01,  2.65262224e-01,  3.97234816e-01,  4.85681806e-01,\n",
       "        1.08707638e+00,  1.91779935e+00,  1.47461345e-02, -1.07443482e+00,\n",
       "        1.95475669e+00,  1.98260502e-01,  2.40432529e-01,  1.84524167e+00,\n",
       "        1.13381576e+00,  1.24782479e+00,  1.96302056e-02, -7.59524747e-01,\n",
       "        6.09861097e-01,  1.71924125e+00, -4.71827849e-01,  4.25669420e-01,\n",
       "        1.33433532e-01, -8.27788939e-01,  6.05081647e-01, -4.20663999e-01,\n",
       "       -6.93115057e-02,  2.10420114e-01, -3.68580364e-01,  7.25031202e-01,\n",
       "        2.16009233e-01, -1.89365570e+00, -2.27257079e+00,  8.21373280e-02,\n",
       "       -1.60789247e+00,  8.15099693e-01,  5.21651581e-01, -3.57996574e-02,\n",
       "        3.03270254e-01,  9.39525036e-01, -3.60029186e-01, -5.29623469e-01,\n",
       "       -1.54875871e-01,  9.05484744e-01,  1.04445627e+00,  6.23279370e-01,\n",
       "        2.46844022e+00, -3.70300496e-01, -8.23168068e-01, -1.49086039e+00,\n",
       "        1.32279889e+00, -4.50822716e-01, -9.56643692e-01,  1.36946756e+00,\n",
       "       -9.00087657e-01, -4.64346857e-03,  1.04823349e+00, -7.76635651e-01,\n",
       "        7.32586510e-01,  4.46803344e-01,  6.23977199e-02,  2.86994030e-01,\n",
       "       -7.50240700e-01, -1.23670238e+00,  4.72311706e-01, -7.72796439e-01,\n",
       "        1.41293886e+00,  6.59700321e-01, -1.30403228e+00,  1.03374989e+00,\n",
       "        1.21221670e+00,  1.58496372e+00, -2.36755952e-01,  8.14739114e-02,\n",
       "       -1.29733176e-01,  2.08929583e+00, -4.61573425e-01,  9.96568924e-01,\n",
       "       -1.54603924e+00,  1.06311411e+00,  1.23849911e+00,  2.64850270e-01,\n",
       "       -1.98443974e+00,  1.18136647e+00, -9.68647602e-01, -2.24210139e-01,\n",
       "       -4.42528775e-01, -1.52459031e+00, -1.33895583e-01,  1.89789072e-01,\n",
       "        6.81323122e-01,  3.20324680e-01, -5.71899287e-01, -2.83173790e-01,\n",
       "       -2.36774756e-01,  7.57855268e-01, -2.22838753e-02,  2.82186865e-01,\n",
       "        1.32919747e+00, -6.21095018e-01, -9.25069559e-01,  6.16944634e-01,\n",
       "        7.98962275e-01,  7.96052560e-01,  7.42993239e-02, -1.26641084e+00,\n",
       "        1.00513497e-01, -1.04223074e+00, -5.92986451e-02,  8.53783736e-02,\n",
       "        1.28691588e+00,  1.12045902e+00,  5.34609683e-01,  8.69298412e-01,\n",
       "       -1.59147635e+00,  2.72618973e-01, -2.26074245e-01,  3.14520768e-01,\n",
       "        6.75104556e-01,  2.27426246e+00, -4.87059149e-01, -4.47450786e-01,\n",
       "       -9.59666560e-01, -8.49056819e-01,  1.37980257e+00,  1.38880039e-01,\n",
       "       -7.71081981e-01, -2.52288189e-01, -6.56378336e-01,  1.41570202e+00,\n",
       "       -7.74290631e-01,  9.85320701e-01, -1.15444399e+00, -1.21634671e+00,\n",
       "       -9.60644946e-01, -1.35916589e+00,  1.43618061e+00, -1.10537751e+00,\n",
       "       -1.00043112e-01, -2.25760911e-01,  1.20353082e+00, -1.63054249e+00,\n",
       "        4.90335762e-01, -9.37991172e-01, -9.73920155e-01,  1.08852172e+00,\n",
       "       -6.62766852e-01, -6.84481093e-01,  8.00809991e-01,  7.58737450e-01,\n",
       "        6.74554008e-01, -1.06740420e+00,  2.02931486e-01, -2.70518164e-01,\n",
       "       -8.79677162e-02,  1.90614515e-01,  8.73964129e-01, -1.07108963e+00,\n",
       "       -5.71184108e-01,  4.88493192e-01,  2.58509593e+00, -9.32503454e-01,\n",
       "       -2.97015785e-01, -2.72451585e-02, -4.02779929e-01, -1.58505251e-01,\n",
       "       -2.99142822e-01,  1.16928274e+00,  2.60680339e-01, -1.55355446e+00,\n",
       "       -2.64828495e-01,  2.40286460e+00, -2.52189133e+00, -2.19119063e+00,\n",
       "       -8.69818020e-01,  4.56007772e-01,  3.21932315e-02,  9.41332678e-01,\n",
       "        8.53199129e-01, -2.06655638e-01, -1.84053355e+00,  3.82786757e-02,\n",
       "       -1.02833030e-01, -1.73929577e+00,  1.39025190e+00, -8.88404607e-01,\n",
       "        7.17181926e-01, -8.99869918e-01,  1.27427857e+00,  2.63395549e-01,\n",
       "        5.07258917e-01,  2.34988218e-01, -1.63579773e+00,  2.21619432e+00,\n",
       "       -6.92010470e-01, -9.19640934e-01, -2.35565719e-01,  1.28030310e+00,\n",
       "       -3.38310712e-01, -2.76074670e-01,  2.60480937e-01,  1.08193181e+00,\n",
       "       -1.52968734e+00,  2.48763165e-01,  1.51433424e+00,  1.15392941e+00,\n",
       "       -2.26779355e-01, -1.21537944e-01,  4.67330747e-01, -8.69169957e-01,\n",
       "        1.81316943e+00,  2.55433699e-01,  7.71188049e-01, -1.12260780e-01,\n",
       "       -1.09961057e+00, -1.22862399e+00,  8.50041785e-01, -4.80921319e-01,\n",
       "        2.04640011e-01, -5.61691986e-01,  1.85466281e-01,  1.73518770e-03,\n",
       "        2.16275072e+00,  2.82533386e-01,  3.70698463e-01, -4.57008226e-01,\n",
       "       -2.60310882e-01,  1.77241507e+00, -8.86513940e-01, -1.13997500e+00,\n",
       "       -3.32976775e-01, -2.77706867e-01,  6.69790035e-01, -2.18236282e+00,\n",
       "        8.99369562e-01, -1.54458759e+00, -7.30497070e-01, -1.14067331e+00,\n",
       "       -1.19486905e+00, -2.03338499e+00, -1.31294736e+00, -7.48980376e-01,\n",
       "        5.27827461e-01,  6.23166994e-01, -1.04607913e+00, -5.13434299e-02,\n",
       "       -3.17590801e-01,  2.81471910e-01,  1.52510361e+00,  2.89827254e-01,\n",
       "       -4.82523588e-01,  1.75217288e+00, -1.51026866e+00,  1.61450736e+00,\n",
       "       -1.05520678e-01,  4.38626663e-01,  1.81580658e-01, -6.82861963e-01,\n",
       "        6.32797210e-01,  1.73081934e+00,  6.02181465e-01, -7.28833382e-01,\n",
       "        1.02684242e+00,  1.18896052e+00,  6.76722434e-01,  1.06227451e+00,\n",
       "       -1.80486150e-01, -6.95189969e-01, -1.16371045e-01,  9.35549137e-01,\n",
       "        1.35331852e+00,  2.38041250e+00, -5.34853460e-01,  4.90628074e-01,\n",
       "        7.17512779e-01,  3.04862904e-01,  1.30487463e+00, -5.42636719e-01,\n",
       "       -8.65626937e-01, -7.99170803e-01, -9.89137077e-01,  1.31278249e+00,\n",
       "        7.26699255e-01, -1.54431809e+00,  1.28173763e+00, -3.76203701e-01,\n",
       "        8.57281766e-01,  1.45133661e-01,  4.68393875e-01,  1.60065267e-01,\n",
       "        2.55314051e-01, -1.18140368e+00, -1.52561245e+00,  2.51432452e-01,\n",
       "       -5.03661072e-01,  2.87350685e+00,  8.82264892e-01,  1.86030388e+00,\n",
       "       -1.59008971e+00,  2.06994619e+00, -8.51790641e-02,  1.67858285e+00,\n",
       "        6.59753875e-01, -2.47484089e+00,  2.24012351e-01, -3.89659239e-02,\n",
       "       -5.70299285e-01,  1.32214056e+00, -2.88041571e-01,  2.72586394e-01,\n",
       "        1.37362600e+00,  4.64406282e-01,  1.12613872e+00, -1.13193171e+00,\n",
       "       -2.81914181e-01,  9.78052030e-01, -2.58322109e-01,  2.43456364e-01,\n",
       "       -1.70199323e+00, -1.87066158e+00, -8.44070770e-01,  9.47942893e-02,\n",
       "       -1.18384225e+00,  1.17214210e+00,  2.37540469e+00, -7.61798966e-01,\n",
       "       -7.92938277e-01, -7.87014651e-01, -7.70535372e-03,  1.40148134e+00,\n",
       "        1.06862815e+00, -2.53376135e+00,  1.92005309e+00, -1.03467854e+00,\n",
       "       -9.88696204e-01, -4.71989376e-01,  2.12019202e-02, -4.22526936e-01,\n",
       "       -9.67045547e-01, -5.20488925e-01,  6.55774167e-01, -4.06308244e-01,\n",
       "       -8.21723056e-02, -3.71777464e-01, -1.82320770e+00, -1.64927372e+00,\n",
       "        3.88379521e-01, -2.00549473e+00, -7.67878139e-01,  3.31762306e-01,\n",
       "        2.39337209e-01, -4.32820147e-01, -1.71651087e+00,  3.24364326e-01,\n",
       "        1.39102777e-01,  1.64565379e+00, -9.70404785e-01, -4.17728385e-01,\n",
       "        2.60774281e-01, -6.45327940e-01,  9.93705922e-01, -1.56758489e+00,\n",
       "        6.85871864e-01,  4.39736162e-01,  2.44433155e+00, -1.60684827e+00,\n",
       "       -8.38449763e-01,  2.82168293e-01,  4.88222039e-01, -1.15174531e+00,\n",
       "        6.67409282e-01, -1.30212342e+00,  1.63306989e+00, -8.74981718e-01,\n",
       "        1.49575305e+00,  2.89714417e-01, -1.20035512e-01,  2.59070543e+00,\n",
       "       -5.01539456e-01,  1.19210407e-01, -4.62083880e-01,  1.11103556e+00,\n",
       "        2.00033478e-01, -5.54516575e-01, -1.30514708e+00,  1.38452362e-01,\n",
       "        1.11823009e+00, -6.15082677e-01, -1.19792751e+00,  1.42298828e+00,\n",
       "        3.44765271e-01,  5.26083346e-01, -9.50708147e-01, -1.13276138e+00,\n",
       "        1.36193566e+00,  6.05002952e-01, -2.06102623e+00, -4.28402155e-01,\n",
       "       -4.69122747e-01,  7.62772849e-01, -9.21536385e-01, -1.54035059e-01,\n",
       "        5.43370261e-01,  2.79553888e-01, -1.74036471e+00, -1.33795416e+00,\n",
       "        9.78231824e-01,  9.38993183e-01, -2.95702043e-01, -1.36736569e+00,\n",
       "        1.17913649e+00,  9.20066435e-01,  6.18248683e-01,  2.10113062e+00,\n",
       "        1.46767947e+00,  2.06268096e+00,  7.10155727e-01, -2.53920399e-01,\n",
       "       -7.54437742e-01, -1.51937352e+00,  6.44383003e-02, -1.25886153e+00,\n",
       "        1.75014597e+00,  3.72867117e-01, -1.32820666e+00, -6.42792307e-01,\n",
       "       -2.99624669e-01, -9.54453601e-01, -7.76336292e-02,  8.50982401e-01,\n",
       "        1.30781141e+00,  1.03339259e+00, -3.04580832e-01, -1.12797685e+00,\n",
       "        9.98419422e-01,  2.10865249e+00, -4.38472433e-01, -1.91261424e+00,\n",
       "       -2.88244162e-01, -6.55211321e-01,  3.99721124e-01, -1.20563440e-01,\n",
       "       -7.75327775e-03,  6.64053677e-01,  4.25577442e-01,  1.18204397e+00,\n",
       "       -1.16857349e+00, -1.33270364e+00, -1.82125038e-01, -1.28977191e+00,\n",
       "        4.13192801e-01, -5.81531647e-01, -7.02781519e-01, -1.21234130e+00,\n",
       "       -1.65925109e-01, -1.83500884e-01, -5.03935884e-01,  9.87219254e-01,\n",
       "        2.33179055e+00, -2.24387304e-01,  8.74173469e-01,  9.15937374e-01,\n",
       "        1.66684543e+00, -6.97813977e-02, -1.39578721e+00,  2.38607426e-01,\n",
       "       -7.45631977e-01, -2.17876266e-01, -1.06321741e+00,  2.60659702e-01,\n",
       "       -3.31307185e+00, -3.60564702e-01, -5.25900302e-01,  4.37053841e-01,\n",
       "       -8.04429067e-01, -7.59658866e-01,  3.76765574e-02,  1.16750898e+00,\n",
       "       -4.14601444e-01,  2.15927427e+00, -2.75106670e-01,  4.05645906e-01,\n",
       "       -5.05008901e-01,  8.82310752e-01, -3.28261898e-01,  4.82669846e-01,\n",
       "       -3.20122591e-01, -2.08688151e-01,  2.30398110e-01, -1.55125824e+00,\n",
       "       -1.26684371e+00, -3.92246132e-01,  4.05610163e-01,  7.39237413e-01,\n",
       "       -1.20415269e+00, -4.83097481e-02,  2.36944814e-01, -1.58945566e+00,\n",
       "       -1.25422205e-01, -4.76632509e-01, -1.65501997e+00,  3.32893077e-01,\n",
       "        1.31113551e-01,  7.00608698e-03, -1.27228725e-01,  1.02608129e+00,\n",
       "        4.98373189e-01,  4.11608018e-01,  4.17697351e-01, -8.79925876e-01,\n",
       "       -9.65979302e-02,  8.22322261e-01, -7.40835181e-01, -1.58488545e-02,\n",
       "        1.40940161e+00,  2.66385673e+00,  3.68493483e-01,  1.15961872e+00,\n",
       "        8.35454759e-01,  5.73352907e-01,  1.71454264e+00,  4.28011441e-01,\n",
       "        1.10372536e+00, -5.52790871e-01, -2.53486115e+00, -1.42656775e-01,\n",
       "        2.10008973e-01, -8.09967485e-01, -9.94937180e-01,  7.66263993e-01,\n",
       "        1.47623517e+00, -2.04001945e+00,  4.13854953e-01, -4.75113332e-01,\n",
       "       -1.46149516e+00,  7.14383244e-01, -1.09104981e-01, -1.80588809e+00,\n",
       "       -1.21019808e+00,  7.99951369e-02,  1.70668555e-01,  2.92849849e-01,\n",
       "        5.19346306e-01, -1.04604228e-01, -5.02577686e-01, -6.41104932e-01,\n",
       "        3.92452484e-01,  2.09652706e+00,  2.60661697e-01,  5.58019317e-01])"
      ]
     },
     "execution_count": 5,
     "metadata": {},
     "output_type": "execute_result"
    }
   ],
   "source": [
    "# Ejemplo más clásico:\n",
    "numeros = np.random.randn(1000)\n",
    "numeros"
   ]
  },
  {
   "cell_type": "code",
   "execution_count": 7,
   "metadata": {},
   "outputs": [
    {
     "data": {
      "image/png": "[encoded data removed]",
      "text/plain": [
       "<Figure size 640x480 with 1 Axes>"
      ]
     },
     "metadata": {},
     "output_type": "display_data"
    }
   ],
   "source": [
    "plt.hist(numeros);"
   ]
  },
  {
   "cell_type": "code",
   "execution_count": 17,
   "metadata": {},
   "outputs": [
    {
     "data": {
      "image/png": "[encoded data removed]",
      "text/plain": [
       "<Figure size 640x480 with 1 Axes>"
      ]
     },
     "metadata": {},
     "output_type": "display_data"
    }
   ],
   "source": [
    "# bins=cuántas barras verticales\n",
    "# Alpha = Nivel de transparencia del color\n",
    "# color: color del gráfico\n",
    "# dgecolor = color del borde\n",
    "# histtype = tipo de histograma, le cambia el formato al gráfico\n",
    "\n",
    "plt.hist(numeros,bins=40,alpha=0.5,color='red',edgecolor='green',histtype='step');"
   ]
  },
  {
   "cell_type": "code",
   "execution_count": 21,
   "metadata": {},
   "outputs": [
    {
     "data": {
      "image/png": "[encoded data removed]",
      "text/plain": [
       "<Figure size 640x480 with 1 Axes>"
      ]
     },
     "metadata": {},
     "output_type": "display_data"
    }
   ],
   "source": [
    "import matplotlib.pyplot as plt\n",
    "x1 = np.random.randn(1000)\n",
    "x2 = np.random.randn(500)\n",
    "x3 = np.random.randn(100)\n",
    "\n",
    "# Van a quedar dentro del mismo marco porque no se han creado axes distintos:\n",
    "plt.hist(x1, histtype='stepfilled', alpha=0.3, bins=40);\n",
    "plt.hist(x2, histtype='stepfilled', alpha=0.3, bins=40);\n",
    "plt.hist(x3, histtype='stepfilled', alpha=0.3, bins=40);"
   ]
  },
  {
   "cell_type": "markdown",
   "metadata": {},
   "source": [
    "* Histogramas en Matplotlib 1\n",
    "\n",
    "Utilizando un conjunto de datos generado con numpy, crea un histograma sencillo de 1000 números generados al azar, almacenalos en una variable llamada datos . Siguiendo una distribución normal estándar. Asegurate de importar numpy as np  y matplotlib.pyplot as plt"
   ]
  },
  {
   "cell_type": "code",
   "execution_count": 25,
   "metadata": {},
   "outputs": [
    {
     "data": {
      "image/png": "[encoded data removed]",
      "text/plain": [
       "<Figure size 640x480 with 1 Axes>"
      ]
     },
     "metadata": {},
     "output_type": "display_data"
    }
   ],
   "source": [
    "datos = np.random.randn(1000)\n",
    "plt.hist(datos, bins=10);"
   ]
  },
  {
   "cell_type": "markdown",
   "metadata": {},
   "source": [
    "* Histogramas en Matplotlib 2\n",
    "\n",
    "Utilizando un conjunto de datos generado con numpy, crea un histograma sencillo de 1000 números generados al azar, almacenalos en una variable llamada datos con una distribución normal y crea un histograma con 30 barras (bins). Personaliza el color de las barras a azul y el borde a negro. Asegurate de importar numpy as np  y matplotlib.pyplot as plt"
   ]
  },
  {
   "cell_type": "code",
   "execution_count": 29,
   "metadata": {},
   "outputs": [
    {
     "data": {
      "image/png": "[encoded data removed]",
      "text/plain": [
       "<Figure size 640x480 with 1 Axes>"
      ]
     },
     "metadata": {},
     "output_type": "display_data"
    }
   ],
   "source": [
    "import matplotlib.pyplot as plt\n",
    "datos = np.random.randn(1000)\n",
    "plt.hist(datos, bins=30, color='blue', edgecolor='black') ;\n"
   ]
  },
  {
   "cell_type": "markdown",
   "metadata": {},
   "source": [
    "* Histogramas en Matplotlib 3\n",
    "\n",
    "Genera tres series de datos con numpy: 1000, 500, y 100 números aleatorios almacenalos en tres x1, x2, x3 respectivamente. Siguiendo una distribución normal. Crea un único gráfico que muestre los tres histogramas superpuestos con diferentes colores y transparencia establecida en 0.5"
   ]
  },
  {
   "cell_type": "code",
   "execution_count": 37,
   "metadata": {},
   "outputs": [
    {
     "data": {
      "image/png": "[encoded data removed]",
      "text/plain": [
       "<Figure size 640x480 with 1 Axes>"
      ]
     },
     "metadata": {},
     "output_type": "display_data"
    }
   ],
   "source": [
    "import matplotlib.pyplot as plt\n",
    "x1 = np.random.randn(1000)\n",
    "x2 = np.random.randn(500)\n",
    "x3 = np.random.randn(100)\n",
    "plt.hist(x1, alpha=0.5, bins=50);\n",
    "plt.hist(x2, alpha=0.5, bins=50);\n",
    "plt.hist(x3, alpha=0.5, bins=50);"
   ]
  }
 ],
 "metadata": {
  "kernelspec": {
   "display_name": "Python_DS_ML",
   "language": "python",
   "name": "python3"
  },
  "language_info": {
   "codemirror_mode": {
    "name": "ipython",
    "version": 3
   },
   "file_extension": ".py",
   "mimetype": "text/x-python",
   "name": "python",
   "nbconvert_exporter": "python",
   "pygments_lexer": "ipython3",
   "version": "3.12.3"
  }
 },
 "nbformat": 4,
 "nbformat_minor": 2
}
