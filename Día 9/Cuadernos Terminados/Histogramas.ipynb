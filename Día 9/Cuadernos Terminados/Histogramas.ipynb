{
 "cells": [
  {
   "attachments": {},
   "cell_type": "markdown",
   "id": "45059c05",
   "metadata": {},
   "source": [
    "# Histogramas\n",
    "\n",
    "Los gráficos de tipo histograma son abordajes muy útiles para mostrar la **distribución de valores**. Por eso, como podemos ver en el [sitio de matplotlib](https://matplotlib.org/stable/plot_types/stats/hist_plot.html#sphx-glr-plot-types-stats-hist-plot-py), se los considera en la categoría de gráficos de **distribución estadística**.\n",
    "\n",
    "En castellano simple, yo lo explicaría así: un histograma muestra con qué frecuencia **se repiten los valores** que hay en nuestros datos. Mientras más alta es una barra, significa que ese valor más veces aparece repetido entre nuestros registros.\n",
    "\n",
    "Primero vamos a mostrar un histograma sobre un **DataFrame** de Pandas, que ya tengo aquí cargado (tu puedes hacer lo mismo si te descargas el archivo que viene con esta lección)"
   ]
  },
  {
   "cell_type": "code",
   "execution_count": 1,
   "id": "e14c64b8",
   "metadata": {},
   "outputs": [],
   "source": [
    "import pandas as pd\n",
    "import numpy as np\n",
    "import matplotlib.pyplot as plt\n",
    "%matplotlib inline"
   ]
  },
  {
   "cell_type": "code",
   "execution_count": 2,
   "id": "d06b6c71",
   "metadata": {},
   "outputs": [
    {
     "data": {
      "text/html": [
       "<div>\n",
       "<style scoped>\n",
       "    .dataframe tbody tr th:only-of-type {\n",
       "        vertical-align: middle;\n",
       "    }\n",
       "\n",
       "    .dataframe tbody tr th {\n",
       "        vertical-align: top;\n",
       "    }\n",
       "\n",
       "    .dataframe thead th {\n",
       "        text-align: right;\n",
       "    }\n",
       "</style>\n",
       "<table border=\"1\" class=\"dataframe\">\n",
       "  <thead>\n",
       "    <tr style=\"text-align: right;\">\n",
       "      <th></th>\n",
       "      <th>Fecha</th>\n",
       "      <th>Producto</th>\n",
       "      <th>Cantidad</th>\n",
       "      <th>Precio Unitario</th>\n",
       "      <th>Total Venta</th>\n",
       "    </tr>\n",
       "  </thead>\n",
       "  <tbody>\n",
       "    <tr>\n",
       "      <th>0</th>\n",
       "      <td>1/17/2023</td>\n",
       "      <td>Electrónic</td>\n",
       "      <td>7</td>\n",
       "      <td>200</td>\n",
       "      <td>1400</td>\n",
       "    </tr>\n",
       "    <tr>\n",
       "      <th>1</th>\n",
       "      <td>9/1/2023</td>\n",
       "      <td>Electrónic</td>\n",
       "      <td>8</td>\n",
       "      <td>200</td>\n",
       "      <td>1600</td>\n",
       "    </tr>\n",
       "    <tr>\n",
       "      <th>2</th>\n",
       "      <td>7/29/2023</td>\n",
       "      <td>Juguetes</td>\n",
       "      <td>3</td>\n",
       "      <td>30</td>\n",
       "      <td>90</td>\n",
       "    </tr>\n",
       "    <tr>\n",
       "      <th>3</th>\n",
       "      <td>10/4/2023</td>\n",
       "      <td>Alimentos</td>\n",
       "      <td>4</td>\n",
       "      <td>10</td>\n",
       "      <td>40</td>\n",
       "    </tr>\n",
       "    <tr>\n",
       "      <th>4</th>\n",
       "      <td>2/28/2023</td>\n",
       "      <td>Electrónic</td>\n",
       "      <td>6</td>\n",
       "      <td>200</td>\n",
       "      <td>1200</td>\n",
       "    </tr>\n",
       "    <tr>\n",
       "      <th>...</th>\n",
       "      <td>...</td>\n",
       "      <td>...</td>\n",
       "      <td>...</td>\n",
       "      <td>...</td>\n",
       "      <td>...</td>\n",
       "    </tr>\n",
       "    <tr>\n",
       "      <th>995</th>\n",
       "      <td>4/27/2023</td>\n",
       "      <td>Alimentos</td>\n",
       "      <td>2</td>\n",
       "      <td>10</td>\n",
       "      <td>20</td>\n",
       "    </tr>\n",
       "    <tr>\n",
       "      <th>996</th>\n",
       "      <td>6/9/2023</td>\n",
       "      <td>Ropa</td>\n",
       "      <td>10</td>\n",
       "      <td>50</td>\n",
       "      <td>500</td>\n",
       "    </tr>\n",
       "    <tr>\n",
       "      <th>997</th>\n",
       "      <td>8/21/2023</td>\n",
       "      <td>Alimentos</td>\n",
       "      <td>8</td>\n",
       "      <td>10</td>\n",
       "      <td>80</td>\n",
       "    </tr>\n",
       "    <tr>\n",
       "      <th>998</th>\n",
       "      <td>3/28/2023</td>\n",
       "      <td>Electrónic</td>\n",
       "      <td>6</td>\n",
       "      <td>200</td>\n",
       "      <td>1200</td>\n",
       "    </tr>\n",
       "    <tr>\n",
       "      <th>999</th>\n",
       "      <td>3/7/2023</td>\n",
       "      <td>Electrónic</td>\n",
       "      <td>4</td>\n",
       "      <td>200</td>\n",
       "      <td>800</td>\n",
       "    </tr>\n",
       "  </tbody>\n",
       "</table>\n",
       "<p>1000 rows × 5 columns</p>\n",
       "</div>"
      ],
      "text/plain": [
       "         Fecha    Producto  Cantidad  Precio Unitario  Total Venta\n",
       "0    1/17/2023  Electrónic         7              200         1400\n",
       "1     9/1/2023  Electrónic         8              200         1600\n",
       "2    7/29/2023    Juguetes         3               30           90\n",
       "3    10/4/2023   Alimentos         4               10           40\n",
       "4    2/28/2023  Electrónic         6              200         1200\n",
       "..         ...         ...       ...              ...          ...\n",
       "995  4/27/2023   Alimentos         2               10           20\n",
       "996   6/9/2023        Ropa        10               50          500\n",
       "997  8/21/2023   Alimentos         8               10           80\n",
       "998  3/28/2023  Electrónic         6              200         1200\n",
       "999   3/7/2023  Electrónic         4              200          800\n",
       "\n",
       "[1000 rows x 5 columns]"
      ]
     },
     "execution_count": 2,
     "metadata": {},
     "output_type": "execute_result"
    }
   ],
   "source": [
    "df = pd.read_csv(\"C:/Users/Win10/Downloads/00 - FEDE/Udemy/Python para Data Science/Día 9/5 - Histogramas/Ventas.csv\")\n",
    "df"
   ]
  },
  {
   "attachments": {},
   "cell_type": "markdown",
   "id": "f7a31f4f",
   "metadata": {},
   "source": [
    "Para crear un histograma, usamos la función `hist()` de matplotlib. Si accedes a la ayuda de `hist()` podrás observar que este método **no nos pide dos secuencias *x y***, como hacía `plot()`, sino una sola secuencia *x*, ya que el eje vertical (*y*) va a estar determinado por la frecuencia con que se repiten los elementos de la secuencia *x*.\n",
    "\n",
    "El valor que le pasemos en *x* puede ser cualquier colección unidimensional de python, como por ejemplo una **lista**, un **array** unidimensional de NumPy, o una **Serie** de Pandas.\n",
    "\n",
    "En este caso, le vamos a pasar la Serie `Producto` de nuestro DataFrame."
   ]
  },
  {
   "cell_type": "code",
   "execution_count": 3,
   "id": "1ed65781",
   "metadata": {},
   "outputs": [
    {
     "data": {
      "image/png": "[encoded data removed]",
      "text/plain": [
       "<Figure size 640x480 with 1 Axes>"
      ]
     },
     "metadata": {},
     "output_type": "display_data"
    }
   ],
   "source": [
    "plt.hist(df['Producto']);"
   ]
  },
  {
   "attachments": {},
   "cell_type": "markdown",
   "id": "f787b73a",
   "metadata": {},
   "source": [
    "Procura siempre colocar el *punto y coma* (**;**) al final de la celda, para evitar que la celda devuelva la información de tus datos.\n",
    "\n",
    "Lo que hemos obtenido en este caso es un gráfico que muestra cómo se distribuyen los productos en las categorías a las que pertenecen.\n",
    "\n",
    "Ahora permíteme mostrarte un ejemplo con un conjunto de datos más abstracto. "
   ]
  },
  {
   "cell_type": "code",
   "execution_count": 4,
   "id": "fe153eac",
   "metadata": {},
   "outputs": [
    {
     "data": {
      "text/plain": [
       "array([-7.20829149e-01, -5.70792676e-01,  9.34752896e-01, -7.97121621e-01,\n",
       "       -2.80518350e-01, -2.76315382e-01,  1.25987663e-01,  5.04817669e-01,\n",
       "       -1.24081519e+00, -1.19939032e+00,  1.10217280e+00,  8.01733891e-01,\n",
       "       -3.51371849e-01,  3.91362957e-02, -1.39161023e+00, -1.08642241e+00,\n",
       "       -9.43873003e-01, -2.98596459e+00, -1.59093118e-01,  3.87119710e-01,\n",
       "        5.24968991e-01,  1.23150834e+00,  1.07931590e+00,  2.68109327e-01,\n",
       "       -1.92243292e+00,  7.48198818e-01, -1.04795219e+00,  2.16675655e+00,\n",
       "       -2.50508460e-01,  5.22340291e-01, -8.55373602e-01,  6.42346238e-01,\n",
       "       -4.46241581e-01, -7.30048806e-01,  6.14116446e-01, -1.39292746e+00,\n",
       "        1.64363357e+00,  6.10846068e-01,  4.84361229e-01,  7.78751575e-01,\n",
       "       -5.89216748e-01,  4.64741083e-01,  1.43448314e+00, -4.48591845e-01,\n",
       "       -9.99702332e-01, -6.45669695e-01,  8.52252298e-01,  1.10016516e+00,\n",
       "        1.33374800e+00,  7.92529054e-01, -1.23446585e-01,  3.30341925e-01,\n",
       "        7.48584547e-02, -2.42712532e-01, -1.43704244e-01,  6.26581738e-01,\n",
       "       -6.91552196e-01, -5.37415824e-02,  4.08440352e-01,  1.46756398e+00,\n",
       "       -5.79920136e-01, -5.38752702e-01, -3.75354932e-01,  2.06304801e+00,\n",
       "        2.14687477e+00, -3.20800748e-01, -3.26993971e-01, -2.58212530e-01,\n",
       "        1.24350079e+00,  1.45863557e+00,  1.02409523e+00,  6.81720687e-01,\n",
       "        4.73622578e-03, -1.81701807e+00,  9.54012830e-01, -1.92513908e-01,\n",
       "        5.81789456e-01,  2.08170662e+00,  7.68149761e-02,  2.76063527e-01,\n",
       "       -7.77542467e-01, -7.40204811e-01, -7.10285144e-02,  1.14140447e+00,\n",
       "        1.67332471e+00,  7.07417544e-01,  3.10033247e-01,  6.20056976e-01,\n",
       "        2.27121113e+00, -4.43372499e-01,  1.14606756e-01,  4.42580306e-01,\n",
       "       -1.17500300e-01,  8.18199099e-01, -4.33570194e-03, -1.11540022e+00,\n",
       "       -2.48332209e-01, -5.23255677e-01, -3.61631928e-01,  1.11712614e+00,\n",
       "        1.50783893e+00, -1.27820086e-01,  1.54605039e+00,  6.88375130e-01,\n",
       "       -4.26040164e-01,  1.02259469e+00, -8.30057215e-01,  3.35861613e-01,\n",
       "       -8.86550089e-01,  1.01182559e-01, -1.29819319e+00,  7.60654410e-03,\n",
       "       -3.92668392e-02, -1.86550517e+00,  4.64202546e-01, -5.12575004e-01,\n",
       "        9.34834211e-01,  2.47283070e-01,  6.73311974e-02,  4.43672310e-01,\n",
       "       -1.95321750e-01,  1.31263172e+00,  4.50907424e-01, -5.76330227e-01,\n",
       "        1.59054573e+00,  1.10929411e+00,  3.39747377e-01, -1.24834764e-01,\n",
       "        5.02811611e-01, -6.40268042e-03, -4.60726962e-01, -1.36235368e-01,\n",
       "       -1.97326631e+00,  1.36208096e+00, -9.22146189e-01,  6.95113112e-01,\n",
       "        8.28186946e-01, -6.65016737e-01, -4.40450315e-01, -6.48379709e-01,\n",
       "        3.66271426e-01,  6.15823019e-01, -8.08113961e-01,  9.71770032e-01,\n",
       "       -1.78990698e+00, -1.14460331e-01,  6.96126139e-01,  4.01656103e-01,\n",
       "        9.78866285e-01,  6.00543432e-01, -3.08768733e-01,  6.13278497e-01,\n",
       "       -6.34980233e-01,  7.96145875e-01, -1.59939404e-01,  3.78003834e-01,\n",
       "        2.10476341e+00, -1.04998785e+00, -1.41816863e+00,  2.06922998e-01,\n",
       "        8.23848431e-02, -3.66366417e-01,  4.97679972e-01,  1.46917097e+00,\n",
       "       -1.64355486e+00,  1.02841104e-01,  1.19358110e-01,  2.50272283e-02,\n",
       "        2.62684238e-02, -4.76541548e-01, -9.43818723e-01,  1.18224100e+00,\n",
       "       -4.82002049e-01, -1.52300668e+00, -8.77338116e-01, -1.47871565e+00,\n",
       "        9.44220321e-01,  1.73354747e-01, -1.35100415e+00,  3.85045704e-01,\n",
       "        2.20629550e-01,  1.39181255e+00, -1.04122807e-01,  1.58687620e-01,\n",
       "       -2.47093624e+00,  6.16962791e-01,  6.09432224e-01,  1.71237515e+00,\n",
       "        1.73596594e-01,  1.64815083e+00,  1.75415455e-01,  6.03625893e-01,\n",
       "       -1.08890332e+00, -6.23963492e-01, -8.50859083e-01, -7.30637179e-01,\n",
       "        2.71457145e-01, -4.40620128e-01,  1.22014023e+00, -1.02243704e+00,\n",
       "        2.17873541e+00, -2.66303952e+00, -1.07894487e+00,  1.48053436e-01,\n",
       "        7.59322568e-01, -1.71997220e-02,  1.27647971e+00, -1.10234968e+00,\n",
       "        1.79048443e-01,  3.01073514e-01,  4.93564390e-02,  2.41015168e+00,\n",
       "       -1.19208672e-01,  5.13902450e-01, -5.09868174e-01,  2.61195235e-01,\n",
       "        6.85579048e-01, -7.46338979e-01,  1.90985159e+00, -8.59923970e-02,\n",
       "       -1.93901763e-01, -1.50300044e+00, -1.14169705e+00,  8.02723251e-02,\n",
       "        9.65266433e-03, -5.64708370e-03, -5.32611027e-02, -4.22947788e-01,\n",
       "        7.78826797e-01, -7.67845078e-01,  1.28653612e+00,  7.85546703e-01,\n",
       "       -7.10110130e-01, -3.45311852e-01, -4.88667795e-01, -1.42172867e+00,\n",
       "       -1.04491647e+00, -1.82333496e-01,  8.26285156e-01, -6.66930009e-01,\n",
       "        5.08334209e-01, -2.11687811e-01, -8.14599349e-01,  2.10541742e+00,\n",
       "        8.78574502e-01,  1.46204263e+00, -4.88562175e-02, -1.83462638e+00,\n",
       "       -1.64220774e+00, -9.63481797e-01, -5.43115172e-01,  4.00090340e-01,\n",
       "        6.26127292e-01,  4.39710012e-01, -5.19264995e-01, -5.48918287e-01,\n",
       "        1.11252859e+00,  6.14417056e-01,  7.55024001e-04,  8.71863422e-01,\n",
       "        3.44587528e-01, -1.86169969e+00, -5.45102723e-01,  1.96386694e-02,\n",
       "       -3.27561624e-01, -1.36111638e-01, -5.97577997e-01, -3.08292018e-01,\n",
       "        8.83646032e-01,  1.27810594e+00, -4.81345685e-01, -4.89933400e-01,\n",
       "       -1.53179083e+00, -1.15389741e+00, -7.68909358e-01, -2.12656248e-01,\n",
       "       -5.29704119e-01, -1.31798524e+00,  4.27336475e-01, -5.72446609e-01,\n",
       "       -8.84964985e-01,  1.75204975e-01, -5.61579682e-01,  1.85497766e+00,\n",
       "       -1.76631053e+00,  2.35233941e+00,  1.49103962e+00,  5.05912689e-02,\n",
       "       -1.17638363e+00,  1.02461576e+00,  1.14049428e+00,  5.90536053e-02,\n",
       "       -8.72172882e-01, -9.43803031e-01,  5.88609125e-02,  1.64572451e+00,\n",
       "        2.77726028e+00,  1.15727808e+00, -2.58987166e-01,  3.54913826e-01,\n",
       "        9.76913256e-01, -6.00431234e-01,  1.31818743e+00,  1.40652349e+00,\n",
       "        1.32650997e+00, -1.53388597e+00, -6.03909620e-01,  3.21589573e-01,\n",
       "       -1.16184009e+00, -2.83597659e-01,  5.89365996e-01, -9.52867546e-01,\n",
       "        6.15600596e-03, -2.57896594e-01, -6.98674519e-01, -2.30553897e-02,\n",
       "        1.57146731e+00, -7.22636337e-01,  2.56020244e-01,  1.01732082e+00,\n",
       "       -4.07778913e-01,  3.61840325e-01,  2.35793981e-01,  1.19298619e-02,\n",
       "       -4.11317533e-01,  6.17277261e-02,  1.50462875e+00, -4.25987359e-01,\n",
       "       -1.72976577e+00,  1.88704912e+00,  1.23133035e-01,  2.15258193e-01,\n",
       "       -5.39136809e-01, -2.49510144e-01, -5.70623866e-01,  3.31034643e-01,\n",
       "        7.00552772e-01,  5.48508029e-01,  1.52103682e+00, -3.97425745e-02,\n",
       "       -2.21307148e-01, -1.54991989e+00, -1.92787619e-01,  1.86839288e+00,\n",
       "        2.02711857e-01, -8.66456809e-01, -5.83633595e-01,  3.55426369e+00,\n",
       "        7.10737986e-01, -9.33159468e-01, -3.19989135e-01,  6.21773487e-01,\n",
       "        1.04847654e+00, -6.30042633e-01,  6.18887521e-01,  1.22438562e+00,\n",
       "       -3.96375808e-01, -1.13775236e+00, -1.18623974e+00,  1.95699376e+00,\n",
       "       -2.41528124e-01, -1.44536265e+00,  1.40971617e+00,  5.21897185e-01,\n",
       "       -1.37649581e+00, -2.08517811e-01, -1.15440348e+00, -9.91671099e-01,\n",
       "       -5.84202980e-02, -7.45216642e-01, -6.44374911e-01, -2.65449322e-01,\n",
       "       -1.35701814e+00,  1.38451566e+00, -2.47533483e-01,  1.24917185e+00,\n",
       "        4.62405398e-01,  7.16777725e-01,  3.80357490e-01, -1.10685507e+00,\n",
       "       -4.29929260e-01,  2.36174594e-01,  1.88290250e-01,  4.85658292e-02,\n",
       "        7.13453920e-01,  5.51474295e-01,  1.69531487e+00, -8.96176121e-01,\n",
       "       -2.11310324e+00, -3.58029573e-02,  3.05843891e-01,  1.62577309e+00,\n",
       "       -1.13560571e+00, -3.85592653e-01, -5.86464735e-01,  1.21943014e+00,\n",
       "        1.89596754e-02, -1.39294651e-01, -5.81651121e-01, -1.07995255e+00,\n",
       "        1.09533913e-01, -1.36655022e+00,  5.75982201e-01,  1.31917414e-02,\n",
       "       -1.30715231e-01,  4.36567887e-02, -7.83025611e-01, -1.86418337e-01,\n",
       "        1.41908599e+00, -3.64525888e-01,  3.55201702e-01, -1.86791415e+00,\n",
       "        1.28124771e+00,  1.39203358e-02,  3.67121454e-01, -1.63147620e-01,\n",
       "       -3.04731023e-01,  1.50353347e+00,  2.88148959e-01,  2.71735389e-01,\n",
       "        1.08184494e+00,  1.44348470e+00, -2.20317731e+00,  9.76640165e-01,\n",
       "       -9.96029478e-02,  1.03559982e+00,  1.22148202e+00,  3.31807154e-02,\n",
       "        1.53907729e-01,  1.06157539e+00,  5.86377678e-01, -3.26159286e-02,\n",
       "        1.53123845e+00, -1.92817636e+00,  3.22913980e-01, -7.56396745e-01,\n",
       "       -1.80493180e+00, -1.90352577e+00, -1.16751968e+00, -5.31855343e-01,\n",
       "        3.86974344e-01, -1.62552981e+00,  3.80872772e-01,  1.59312812e-01,\n",
       "       -6.72990141e-01, -5.48775073e-02,  2.61283568e-01,  1.79769800e-01,\n",
       "        7.13498084e-01,  1.27741963e+00, -1.02393291e+00, -4.57979710e-01,\n",
       "        2.31249647e+00, -7.37048245e-01, -8.96343846e-01,  1.34613571e+00,\n",
       "        6.86116399e-01, -7.95067530e-01,  1.19646695e+00, -1.44850264e+00,\n",
       "       -1.54963344e-01, -1.50297665e+00, -4.13714961e-01,  1.26657202e+00,\n",
       "       -1.05661931e+00,  1.28439506e+00,  7.57089756e-01,  6.63769896e-01,\n",
       "        6.37688416e-01,  1.75886612e+00, -2.00246575e+00,  6.05312125e-01,\n",
       "       -9.42389406e-01,  1.07977364e+00, -3.09413105e-01, -2.28575340e+00,\n",
       "       -7.57632902e-01, -9.17697701e-01, -6.65265020e-01, -1.12036963e+00,\n",
       "        1.21780036e+00, -2.99120807e+00, -3.09036804e-01, -1.00582648e+00,\n",
       "       -4.51192821e-02,  1.21255388e+00, -1.50776786e+00,  1.34955413e+00,\n",
       "        5.98766388e-01,  8.54081894e-01, -2.19804846e-02, -7.57823783e-02,\n",
       "       -1.07315647e-01,  5.24179076e-01,  2.59391321e+00,  1.04385382e+00,\n",
       "       -7.51520192e-02, -1.28625699e+00, -3.03600136e-01, -1.58565515e-01,\n",
       "       -1.04255091e+00, -3.63674813e-01,  7.63264132e-01,  2.96939420e-01,\n",
       "        1.35800931e+00, -4.02612790e-01,  8.02156087e-01,  2.16103348e-01,\n",
       "       -1.08262178e-01, -8.41339868e-01,  9.23896672e-01, -2.52410013e-01,\n",
       "        5.38467161e-01, -1.89325575e-01,  9.27850588e-02,  1.15233152e-01,\n",
       "        1.27616470e+00,  7.86469445e-01,  9.66004492e-01,  2.58555665e+00,\n",
       "       -1.69900764e-01,  1.37237555e-01,  9.43289838e-01, -3.14915652e-01,\n",
       "       -7.15021141e-01,  6.13043287e-01,  1.30636569e+00,  5.91984273e-01,\n",
       "        2.35124847e-01,  2.22982410e-01, -8.43994961e-01, -1.33990741e-01,\n",
       "        1.03330988e+00, -1.71872942e+00, -3.76556835e-01, -1.52961580e+00,\n",
       "        1.20815554e+00, -3.46467449e-01,  1.16436231e+00,  1.68738662e+00,\n",
       "        9.31752211e-01,  6.95485730e-01,  2.46767340e+00, -3.68701191e-02,\n",
       "       -1.02069917e-02,  1.42034853e-01, -8.53495348e-01, -7.05556159e-01,\n",
       "        1.89535685e+00, -1.78490279e+00, -1.33921220e+00,  1.19298974e+00,\n",
       "        4.76114559e-01,  1.35434949e+00,  5.63542441e-01,  6.06262811e-01,\n",
       "        1.03380941e-01, -1.61006426e+00,  7.17245108e-01, -3.23260844e-02,\n",
       "       -5.14887131e-01, -3.31238880e-01, -4.33126592e-01,  7.15019232e-01,\n",
       "        7.64264846e-03, -6.35983507e-01,  7.63217308e-01,  4.25477851e-01,\n",
       "        1.95888542e-01,  7.87573720e-01, -9.94578023e-01, -6.04177496e-01,\n",
       "        1.60674912e+00,  3.48164577e-01, -9.68713990e-01, -1.25330386e+00,\n",
       "        5.07518094e-01,  8.93310857e-01, -4.41252337e-02, -7.34552205e-01,\n",
       "        1.11063155e+00,  8.43223003e-02,  6.69890663e-01, -2.73881717e-01,\n",
       "        2.75122802e-01, -1.52641028e-01,  1.15523163e-01, -6.25052113e-01,\n",
       "        1.56258737e+00, -1.97725741e+00,  3.85266419e-02, -2.76413651e-01,\n",
       "       -4.66885947e-01, -9.02621462e-01,  1.54592292e+00, -7.44648292e-01,\n",
       "        1.60802975e+00, -1.09009086e+00,  1.24045117e+00, -1.85674840e-01,\n",
       "       -1.02247279e+00,  5.85817752e-01,  3.09393297e-01, -6.95867441e-01,\n",
       "        9.69495464e-01, -1.36888345e+00, -1.15899847e+00,  1.05174840e+00,\n",
       "       -1.39023651e+00, -6.16313256e-01,  7.43221044e-01, -7.82555927e-01,\n",
       "        3.24775646e-01,  1.88442254e+00,  1.08216757e-01,  1.00708394e+00,\n",
       "       -6.91048876e-01, -7.42151596e-01, -7.93967755e-01, -3.69482644e-01,\n",
       "       -7.88124025e-01, -1.34692593e+00, -1.90139024e+00, -3.89819244e-01,\n",
       "        1.93067067e+00,  1.13190191e-01, -9.22188461e-01, -5.45758884e-02,\n",
       "       -9.74614956e-01,  1.54135010e-02,  1.16047378e+00, -7.26569601e-01,\n",
       "        4.64543757e-01,  7.07262400e-01, -4.26669649e-01,  7.73647674e-01,\n",
       "        9.37128065e-01, -6.66883071e-01,  5.85425900e-01,  4.79387174e-01,\n",
       "        1.83644353e-01, -9.19972681e-02,  6.63605158e-02,  8.83065678e-01,\n",
       "       -7.90054554e-01,  5.26695535e-01, -8.78615360e-03,  3.78501597e-01,\n",
       "       -8.30296293e-01,  1.00189137e-01, -2.21196714e-01,  1.26782931e+00,\n",
       "       -1.94843278e+00,  1.49738288e+00,  6.73033740e-01, -2.54950131e-01,\n",
       "       -1.66117942e+00,  7.40991203e-01,  7.43179675e-01, -2.19705564e+00,\n",
       "        2.55204468e+00,  1.25392899e+00,  1.00333508e+00, -6.75297923e-01,\n",
       "       -7.29036028e-01,  8.59754880e-01, -9.80536164e-02, -3.75505834e-01,\n",
       "        1.13083131e+00, -1.41788910e+00,  7.95179576e-01,  9.41375227e-02,\n",
       "       -1.04529887e+00,  6.31028977e-02, -8.54837735e-01, -2.14053184e-02,\n",
       "        1.93415661e+00,  1.65527537e+00, -1.20928533e-01,  1.21549961e+00,\n",
       "       -2.94255747e-01,  7.84082032e-01, -1.02384630e+00, -1.81522464e+00,\n",
       "       -1.38841376e+00, -1.91222588e+00, -1.22767280e-01, -9.52794795e-01,\n",
       "       -8.73456262e-01,  1.92710004e+00,  1.93028203e+00, -8.64655271e-01,\n",
       "        1.20513010e+00, -2.56701548e-01, -6.09115688e-01, -5.91374778e-01,\n",
       "        1.48267666e-01,  9.43271844e-02,  2.51669569e-01, -8.34602806e-01,\n",
       "       -8.07723502e-01, -3.39043998e-01, -8.20310069e-01,  9.51512566e-02,\n",
       "       -7.13584221e-01, -2.95117466e-01,  1.20115428e+00,  1.61738351e+00,\n",
       "       -2.77622562e+00,  4.28380728e-01,  1.44993379e+00,  6.73570856e-01,\n",
       "       -5.99439859e-01,  7.78900375e-01,  1.12191479e+00, -1.55724993e+00,\n",
       "        3.84951884e-01, -1.05483240e+00, -5.16587607e-01, -2.51262460e-01,\n",
       "        1.38453625e-02, -8.62988703e-01,  1.67710224e+00,  4.22922133e-01,\n",
       "        2.12830877e-02, -9.02813910e-02, -1.64099201e+00, -1.60322413e+00,\n",
       "       -2.11716713e+00, -7.02414423e-01, -2.50527075e-02, -7.21578309e-01,\n",
       "        8.63506145e-01, -2.02186369e-01, -6.82109609e-02,  2.64444656e-01,\n",
       "        1.75727385e-01,  6.05134654e-01,  7.69478322e-01,  1.46852126e+00,\n",
       "       -5.91381857e-01,  6.32281497e-01, -7.21227369e-02, -2.23114156e-01,\n",
       "       -1.10787207e+00, -1.11833051e+00,  1.72202711e+00, -4.70963535e-01,\n",
       "       -1.81729476e+00,  1.11495869e-01, -8.23315414e-01,  7.37977551e-01,\n",
       "        6.47335514e-01,  1.66961585e-01,  2.86886042e-01, -4.24508460e-01,\n",
       "       -1.04801690e-01,  1.69516695e+00, -2.02815684e-01,  1.85936353e+00,\n",
       "        9.96552183e-01,  1.75759134e-03, -1.72161613e+00,  8.20052840e-01,\n",
       "        1.50257954e+00, -4.19454147e-01, -1.28802530e+00,  2.14684330e-02,\n",
       "       -1.40231318e+00, -1.42386513e-01, -4.11112605e-02,  1.26926937e+00,\n",
       "       -1.30087459e+00,  8.73794277e-01,  5.96126665e-01, -1.65934562e+00,\n",
       "        1.88827573e-01, -9.00436849e-01, -1.47680769e+00,  3.60003278e-02,\n",
       "        2.12879418e-01, -5.92366838e-01, -7.59536810e-01, -2.16550530e-01,\n",
       "        9.58444799e-01, -6.20136943e-01, -5.55537992e-01, -4.78153845e-02,\n",
       "        1.89300436e-01,  1.12183675e+00, -6.86080270e-01,  2.56660436e-01,\n",
       "       -1.25145255e+00,  2.20895587e-01, -2.90542642e-01,  2.85630856e+00,\n",
       "       -9.30359863e-01,  2.75328866e-01,  1.70437492e+00, -5.06524334e-01,\n",
       "        1.76779571e-01, -6.63868137e-01, -7.64107294e-01,  7.71043870e-01,\n",
       "        4.71561391e-02, -1.91079143e-01, -4.69709374e-01, -8.12605163e-01,\n",
       "       -3.92446561e-01, -9.54326362e-02,  6.12899491e-01, -1.46694730e+00,\n",
       "        2.59631964e-01,  6.75477911e-01, -1.99855592e-01, -3.88941721e-01,\n",
       "        1.58867661e+00,  2.29060265e+00, -4.47142993e-01, -6.16482852e-01,\n",
       "       -7.41462291e-01,  5.13441701e-01, -5.10123769e-01, -1.54204268e+00,\n",
       "        7.71585545e-01, -2.97156457e-01, -1.20829466e-01,  1.55406417e+00,\n",
       "        1.71404219e-01,  1.12292416e+00,  3.75775181e-01, -4.10975164e-01,\n",
       "       -1.24306717e+00, -4.09367458e-01, -3.20982835e-01,  1.11288759e+00,\n",
       "        6.24646205e-01, -5.10765482e-01,  5.30216149e-01, -4.29719445e-01,\n",
       "        2.07335703e-01, -9.23501967e-01,  1.89623665e+00,  2.41471543e-01,\n",
       "        6.29471194e-01,  9.56648906e-01,  2.32858383e-01, -8.09134565e-01,\n",
       "        1.66836970e+00, -3.35118802e-01, -1.15104234e+00,  6.96899371e-01,\n",
       "       -1.61525480e+00,  9.22148555e-01, -1.52998703e-01,  1.01594178e+00,\n",
       "       -5.33649736e-01,  9.20074016e-01, -7.92793084e-03, -7.40972187e-01,\n",
       "       -5.49984663e-01, -7.19856712e-01, -4.04123390e-01, -1.55217599e+00,\n",
       "       -2.25418635e-01,  1.00347792e+00,  2.33945044e-01, -7.55651162e-01,\n",
       "       -4.17408512e-01, -1.19579030e+00, -1.35833831e-01, -6.40980698e-01,\n",
       "       -2.83892897e+00, -6.38190780e-01,  1.96866824e-01,  1.06968279e+00,\n",
       "       -7.41341098e-02, -6.47423744e-01,  1.08435936e+00, -2.84509921e-01,\n",
       "       -8.70984462e-01,  5.25741847e-02,  5.25226336e-01,  5.50541458e-01,\n",
       "       -3.30224237e-01, -3.27042028e-01, -3.41246156e-01,  2.03958864e-01,\n",
       "        1.05051138e+00, -8.36765969e-01, -1.08264700e-01,  6.01191943e-01,\n",
       "       -2.35745313e-01,  5.45174284e-01,  2.30943919e+00,  2.16249272e-01,\n",
       "        4.86615818e-01,  1.36746119e+00,  5.25524244e-02, -1.34889979e+00,\n",
       "        3.30487166e-01, -5.13869654e-01, -1.53458658e-01, -5.00746911e-01,\n",
       "       -1.32357333e-01, -5.10978178e-01, -2.24999821e+00, -3.20701695e-01,\n",
       "       -4.36807235e-01,  1.77889256e+00,  3.78428341e-01,  1.16316212e+00,\n",
       "       -2.26905200e-01, -3.04969399e-01, -2.03996431e-01,  1.68404781e+00,\n",
       "        9.01377129e-01,  1.81832212e+00, -1.51043523e-01, -1.97630974e-01,\n",
       "       -2.21699465e+00, -1.09607361e+00, -1.78970091e+00,  3.13720670e+00,\n",
       "       -6.42334990e-01,  7.73121601e-01,  6.88839065e-01,  1.54265487e+00,\n",
       "        1.06617666e+00,  7.21461006e-01, -1.62119346e+00, -9.22047972e-01,\n",
       "        1.11568654e+00, -9.15643759e-01,  6.08007712e-02, -4.48574421e-01,\n",
       "        2.12549985e-01, -9.14096503e-01,  4.57672029e-01,  6.82905030e-03,\n",
       "       -2.22970740e-04, -1.36882443e+00,  1.16437893e+00, -5.95508251e-01,\n",
       "        2.54504649e+00,  1.95214453e-02, -4.85703681e-02, -7.79296459e-01,\n",
       "        5.58263942e-01, -5.15265234e-01,  5.17704206e-02, -1.10896873e+00,\n",
       "       -4.97895350e-01, -6.78887738e-01,  1.01409467e+00, -1.54081849e+00,\n",
       "        3.97659071e-01,  6.28620644e-01, -1.54110061e+00, -1.11457465e-01,\n",
       "       -8.00795462e-01,  7.22831099e-01, -2.76759633e-01, -6.34809373e-01,\n",
       "        7.60902189e-01, -1.11495030e+00, -7.67725860e-01, -9.66583978e-01,\n",
       "        4.89180115e-01, -8.42474482e-01, -1.23171238e+00,  9.74515349e-01,\n",
       "        9.47931539e-01, -1.09940631e+00,  1.33331541e+00, -9.24021188e-01,\n",
       "        6.43043999e-01, -3.69684156e-01,  1.18464305e+00,  1.45997313e+00,\n",
       "       -5.19621081e-01, -1.02840683e+00, -7.69641967e-01, -5.70840838e-02,\n",
       "        1.73372768e+00,  8.53690961e-01, -2.35956149e-01,  5.66049227e-01,\n",
       "        3.95031091e-01, -1.14449220e+00,  5.36419428e-01, -3.90410293e-01,\n",
       "       -9.14674939e-01, -4.61501864e-03, -6.83439488e-01, -2.18730029e-01,\n",
       "       -2.78490755e-01, -4.61218783e-01,  8.66362878e-02,  1.75613186e+00])"
      ]
     },
     "execution_count": 4,
     "metadata": {},
     "output_type": "execute_result"
    }
   ],
   "source": [
    "numeros = np.random.randn(1000)\n",
    "numeros"
   ]
  },
  {
   "attachments": {},
   "cell_type": "markdown",
   "id": "01e87c07",
   "metadata": {},
   "source": [
    "Este código crea una variable `numeros` que contiene un array de numPy con 1000 elementos. Cada elemento es un número aleatorio, generado a partir de una **distribución normal estándar** (también conocida como *distribución gaussiana*).\n",
    "\n",
    "En esta distribución, el **promedio** de los números generados será cercano a **0**, y la **desviación estándar** (es decir, cuanto se alejan los números del promedio) será cercana a **1**. Este tipo de datos es muy útil en estadísticas y en ciencia de datos para pruebas y simulaciones.\n",
    "\n",
    "Ahora representemos nuestra variable `numeros` en un **histograma**."
   ]
  },
  {
   "cell_type": "code",
   "execution_count": 5,
   "id": "69eebf53",
   "metadata": {},
   "outputs": [
    {
     "data": {
      "image/png": "[encoded data removed]",
      "text/plain": [
       "<Figure size 640x480 with 1 Axes>"
      ]
     },
     "metadata": {},
     "output_type": "display_data"
    }
   ],
   "source": [
    "plt.hist(numeros);"
   ]
  },
  {
   "attachments": {},
   "cell_type": "markdown",
   "id": "72911e6d",
   "metadata": {},
   "source": [
    "Esté gráfico es muy interesante, porque lo que te acabo de explicar en la teoría, ahora lo puedes ver de un modo mucho más comprensible.\n",
    "\n",
    "El **promedio** de los números generados ronda alrededor de **0**  (por eso vemos la montaña que se forma alrededor de ese número), y la **desviación estándar** (es decir, cuanto se alejan los números del promedio) será cercana a **1**, y por eso podemos ver que los números se extienden hacia afuera hasta comenzar a perder frecuencia cerca de -1 y de 1.\n",
    "\n",
    "Muy bien, la cuestión es que tenemos un gráfico concreto que representa una porción de la realidad, pero también podemos hacer que este gráfico se vea como nosotros queremos, si exploramos sus parámetros.\n",
    "\n",
    "Voy a mostrarte algunos de ellos para darte una idea, pero no olvides que tu ya  cuentas con las herramientas para descubrir todas sus posibilidades por ti mismo.\n",
    "\n",
    "El parámetro `bins` permite configurar **cuántas barras**\n",
    "queremos que tenga nuestro histograma a lo ancho, y esto permite ajustar la \"nitidez\" de nuestro gráfico."
   ]
  },
  {
   "cell_type": "code",
   "execution_count": 6,
   "id": "3338de24",
   "metadata": {},
   "outputs": [
    {
     "data": {
      "image/png": "[encoded data removed]",
      "text/plain": [
       "<Figure size 640x480 with 1 Axes>"
      ]
     },
     "metadata": {},
     "output_type": "display_data"
    }
   ],
   "source": [
    "plt.hist(numeros, bins=40);"
   ]
  },
  {
   "attachments": {},
   "cell_type": "markdown",
   "id": "f7c2c607",
   "metadata": {},
   "source": [
    "El parámetro `alpha` permite establecer la **transparecia** del área, usando un número *float* entre **0** y **1**."
   ]
  },
  {
   "cell_type": "code",
   "execution_count": 7,
   "id": "217da285",
   "metadata": {},
   "outputs": [
    {
     "data": {
      "image/png": "[encoded data removed]",
      "text/plain": [
       "<Figure size 640x480 with 1 Axes>"
      ]
     },
     "metadata": {},
     "output_type": "display_data"
    }
   ],
   "source": [
    "plt.hist(numeros, bins=40, alpha=0.5);"
   ]
  },
  {
   "attachments": {},
   "cell_type": "markdown",
   "id": "e4d68a8a",
   "metadata": {},
   "source": [
    "El parámetro `color` determina el **tinte**. Puedes poner nombres de colores en inglés, así como construirlos ya sea con códigos RGB o códigos de colores hexadecimales."
   ]
  },
  {
   "cell_type": "code",
   "execution_count": 8,
   "id": "539c06f0",
   "metadata": {},
   "outputs": [
    {
     "data": {
      "image/png": "[encoded data removed]",
      "text/plain": [
       "<Figure size 640x480 with 1 Axes>"
      ]
     },
     "metadata": {},
     "output_type": "display_data"
    }
   ],
   "source": [
    "plt.hist(numeros, bins=40, alpha=0.5, color='red');"
   ]
  },
  {
   "attachments": {},
   "cell_type": "markdown",
   "id": "a0bd3468",
   "metadata": {},
   "source": [
    "El parámetro `edgecolor` establece el **color del borde** de las columnas:"
   ]
  },
  {
   "cell_type": "code",
   "execution_count": 9,
   "id": "629e3bb3",
   "metadata": {},
   "outputs": [
    {
     "data": {
      "image/png": "[encoded data removed]",
      "text/plain": [
       "<Figure size 640x480 with 1 Axes>"
      ]
     },
     "metadata": {},
     "output_type": "display_data"
    }
   ],
   "source": [
    "plt.hist(numeros, bins=40, alpha=0.5, color='red', edgecolor='green');"
   ]
  },
  {
   "attachments": {},
   "cell_type": "markdown",
   "id": "97c62d80",
   "metadata": {},
   "source": [
    "Y el parámetro `histtype` nos permite elegir **estilos visuales predefinidos** para nuestros gráficos. Hay una lista de opciones válidas para este parámetro, y la puedes consultar en la [ayuda](https://matplotlib.org/stable/api/_as_gen/matplotlib.axes.Axes.hist.html#matplotlib.axes.Axes.hist)."
   ]
  },
  {
   "cell_type": "code",
   "execution_count": 10,
   "id": "e068b0af",
   "metadata": {},
   "outputs": [
    {
     "data": {
      "image/png": "[encoded data removed]",
      "text/plain": [
       "<Figure size 640x480 with 1 Axes>"
      ]
     },
     "metadata": {},
     "output_type": "display_data"
    }
   ],
   "source": [
    "plt.hist(numeros, bins=40, alpha=0.5, color='red', edgecolor='green', histtype='step');"
   ]
  },
  {
   "attachments": {},
   "cell_type": "markdown",
   "id": "43a36d0d",
   "metadata": {},
   "source": [
    "Quiero mostrarte un último ejemplo, solamente a los fines de que veas cómo las combinaciones de parámetros pueden permitirnos representar varios histogramas superpuestos."
   ]
  },
  {
   "cell_type": "code",
   "execution_count": 11,
   "id": "2a8b721c",
   "metadata": {},
   "outputs": [
    {
     "data": {
      "image/png": "[encoded data removed]",
      "text/plain": [
       "<Figure size 640x480 with 1 Axes>"
      ]
     },
     "metadata": {},
     "output_type": "display_data"
    }
   ],
   "source": [
    "x1 = np.random.randn(1000)\n",
    "x2 = np.random.randn(500)\n",
    "x3 = np.random.randn(100)\n",
    "\n",
    "plt.hist(x1, histtype='stepfilled', alpha=0.3, bins=40)\n",
    "plt.hist(x2, histtype='stepfilled', alpha=0.3, bins=40)\n",
    "plt.hist(x3, histtype='stepfilled', alpha=0.3, bins=40);"
   ]
  },
  {
   "attachments": {},
   "cell_type": "markdown",
   "id": "fe7bb300",
   "metadata": {},
   "source": [
    "Espero que te hayas divertido con estos descubrimientos, y que estás motivado para todo lo que se viene antes de que termine el día."
   ]
  },
  {
   "cell_type": "code",
   "execution_count": null,
   "id": "4808a0fa",
   "metadata": {},
   "outputs": [],
   "source": []
  }
 ],
 "metadata": {
  "kernelspec": {
   "display_name": "Python 3 (ipykernel)",
   "language": "python",
   "name": "python3"
  },
  "language_info": {
   "codemirror_mode": {
    "name": "ipython",
    "version": 3
   },
   "file_extension": ".py",
   "mimetype": "text/x-python",
   "name": "python",
   "nbconvert_exporter": "python",
   "pygments_lexer": "ipython3",
   "version": "3.11.5"
  }
 },
 "nbformat": 4,
 "nbformat_minor": 5
}
