{
 "cells": [
  {
   "cell_type": "markdown",
   "id": "0d153c56",
   "metadata": {},
   "source": [
    "# Proyecto del Día 4: Agenda de Contactos Interactiva\n",
    "\n",
    "### Objetivo\n",
    "Crear una agenda de contactos utilizando Python, aplicando los conceptos aprendidos sobre listas, tuplas, diccionarios, booleanos y estructuras de control.\n",
    "\n",
    "\n",
    "### Consigna\n",
    "Cada vez que inicies tu agenda, va a comenzar preguntándole al usuario cuál de estas opciones prefiere:\n",
    "1. **Añadir un contacto**: Crear un nuevo registro en la agenda (nombre, telefono).\n",
    "2. **Buscar un contacto**: Buscar un contacto por nombre y mostrar su teléfono, o un mensaje de error si no lo encuentra.\n",
    "3. **Editar un contacto**: Modificar teléfono de un contacto existente.\n",
    "4. **Eliminar un contacto**: Eliminar un contacto de la agenda (investiga los métodos disponibles para lograrlo)\n",
    "5. **Mostrar todos los contactos**: Mostrar todos los contactos guardados en la agenda.\n",
    "\n",
    "El usuario elegirá una de esas opciones, y el programa ejecutará el código correspondiente para procesar su pedido y mostrarle el resultado.\n",
    "\n",
    "\n",
    "### Notas y Ayudas\n",
    "- Debido a que vas a almacenar pares de datos (nombre y teléfono) ¿cuál crees que sería la mejor estructura de datos para guardarlos: **listas**, **tuplas** o **diccionarios**?\n",
    "- Algunas de las funcionalidades de tu agenda, pueden requerir que investigues algunos métodos que no hemos visto en las lecciones, pero que podrás descubrir con *type*, *dir* y *help*.\n",
    "<br>  \n",
    "<br>\n",
    "<br>"
   ]
  },
  {
   "cell_type": "markdown",
   "id": "c6c4ab9d",
   "metadata": {},
   "source": [
    "## Resolución"
   ]
  },
  {
   "cell_type": "markdown",
   "id": "cb507a52",
   "metadata": {},
   "source": [
    "Crea una agenda vacía"
   ]
  },
  {
   "cell_type": "code",
   "execution_count": 36,
   "id": "e9c026bd",
   "metadata": {},
   "outputs": [],
   "source": [
    "# Crear un diccionario vacío\n",
    "agenda = {}"
   ]
  },
  {
   "cell_type": "markdown",
   "id": "be7b6b93",
   "metadata": {},
   "source": [
    "En la siguiente celda, incluye el código para ejecutar las siguientes instrucciones:\n",
    "- Mostrar en pantalla las opciones\n",
    "- Pedirle al usuario que elija las opciones\n",
    "- Crear una estructura de control (*if*, *elif* y *else*) que ejecute diferentes bloques de código según las opciones elegidas."
   ]
  },
  {
   "cell_type": "code",
   "execution_count": 64,
   "id": "45fbcf91",
   "metadata": {},
   "outputs": [
    {
     "name": "stdout",
     "output_type": "stream",
     "text": [
      "AGENDA\n",
      "1. Añadir un contacto: \n",
      "2. Buscar un contacto: \n",
      "3. Editar un contacto: \n",
      "4. Eliminar un contacto: \n",
      "5. Mostrar todos los contactos: \n",
      "===================\n",
      "{'Maria': '1111111', 'Daniel': '12345678', 'Liliana': '4238799', 'mmmmmmmmm': '111111111'}\n",
      "===================\n",
      "Gracias por usar la agenda\n",
      "===================\n"
     ]
    }
   ],
   "source": [
    "print(\"AGENDA\")\n",
    "print(\"1. Añadir un contacto: \")\n",
    "print(\"2. Buscar un contacto: \")\n",
    "print(\"3. Editar un contacto: \")\n",
    "print(\"4. Eliminar un contacto: \")\n",
    "print(\"5. Mostrar todos los contactos: \")\n",
    "opcion = int(input(\"Por favor, seleccione una de las siguientes opciones: \"))\n",
    "print(\"===================\")\n",
    "if opcion == 1:\n",
    "# adicionar contacto al diccionario agenda\n",
    "    nombre = input(\"Ingrese el nombre del contacto: \")\n",
    "    telefono = input(\"Ingrese el telefono del contacto: \")\n",
    "    agenda[nombre] = telefono\n",
    "    print(agenda)\n",
    "if opcion == 2:\n",
    "# buscar contacto en el diccionario agenda\n",
    "    nombre = input(\"Ingrese el nombre del contacto: \")\n",
    "    if nombre in agenda:\n",
    "        print(agenda[nombre])\n",
    "    else:\n",
    "        print(\"El contacto no existe\")\n",
    "        print(\"===================\")\n",
    "if opcion == 3:\n",
    "# editar contacto en el diccionario agenda\n",
    "    nombre = input(\"Ingrese el nombre del contacto: \")\n",
    "    if nombre in agenda:\n",
    "        nuevo_telefono = input(\"Ingrese el nuevo telefono del contacto: \")\n",
    "        agenda[nombre] = nuevo_telefono\n",
    "        print(agenda)\n",
    "    else:\n",
    "        print(\"El contacto no existe\")\n",
    "        print(\"===================\")\n",
    "if opcion == 4:\n",
    "# eliminar contacto del diccionario agenda\n",
    "    nombre = input(\"Ingrese el nombre del contacto: \")\n",
    "    if nombre in agenda:\n",
    "        del agenda[nombre]\n",
    "        print(agenda)\n",
    "    else:\n",
    "        print(\"El contacto no existe\")\n",
    "        print(\"===================\")\n",
    "if opcion == 5:\n",
    "# mostrar todos los contactos del diccionario agenda\n",
    "    print(agenda)\n",
    "    print(\"===================\")\n",
    "    print(\"Gracias por usar la agenda\")\n",
    "    print(\"===================\")\n",
    "if opcion > 5 or opcion < 1:\n",
    "    print(\"Opcion no valida\")\n",
    "    print(\"===================\")"
   ]
  }
 ],
 "metadata": {
  "kernelspec": {
   "display_name": "Python 3 (ipykernel)",
   "language": "python",
   "name": "python3"
  },
  "language_info": {
   "codemirror_mode": {
    "name": "ipython",
    "version": 3
   },
   "file_extension": ".py",
   "mimetype": "text/x-python",
   "name": "python",
   "nbconvert_exporter": "python",
   "pygments_lexer": "ipython3",
   "version": "3.12.4"
  }
 },
 "nbformat": 4,
 "nbformat_minor": 5
}
