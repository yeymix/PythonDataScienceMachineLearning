{
 "cells": [
  {
   "cell_type": "markdown",
   "metadata": {},
   "source": [
    "## While\n",
    "\n",
    "Palabras clave:\n",
    "\n",
    "break - Rompe así no se haya terminado\n",
    "\n",
    "continue - Se interrumple la iteración actual y pasa a la siguiente así no haya terminado la presente."
   ]
  },
  {
   "cell_type": "code",
   "execution_count": 3,
   "metadata": {},
   "outputs": [
    {
     "name": "stdout",
     "output_type": "stream",
     "text": [
      "0\n",
      "1\n",
      "2\n",
      "3\n",
      "4\n",
      "5\n"
     ]
    }
   ],
   "source": [
    "contador = 0\n",
    "while contador < 5:  # Mientras contador sea menor a 5\n",
    "    print(contador)\n",
    "    contador += 1\n",
    "    print(contador)\n",
    "    contador += 1"
   ]
  },
  {
   "cell_type": "code",
   "execution_count": 13,
   "metadata": {},
   "outputs": [
    {
     "name": "stdout",
     "output_type": "stream",
     "text": [
      "1\n",
      "2\n",
      "3\n",
      "4\n",
      "6\n",
      "7\n"
     ]
    }
   ],
   "source": [
    "contador = 0\n",
    "while contador <10:\n",
    "    contador += 1\n",
    "    if contador == 5:\n",
    "        continue\n",
    "    if contador == 8:\n",
    "        break\n",
    "    print(contador)\n",
    "        "
   ]
  },
  {
   "cell_type": "markdown",
   "metadata": {},
   "source": [
    "Ejercicio Loop While 1\n",
    "\n",
    "Escribe un programa que utilice un bucle while para contar desde 1 hasta 10, imprimiendo cada número en una línea nueva. Asegúrate de que el bucle termine correctamente una vez que el contador alcance el número 10."
   ]
  },
  {
   "cell_type": "code",
   "execution_count": 17,
   "metadata": {},
   "outputs": [
    {
     "name": "stdout",
     "output_type": "stream",
     "text": [
      "1\n",
      "2\n",
      "3\n",
      "4\n",
      "5\n",
      "6\n",
      "7\n",
      "8\n",
      "9\n",
      "10\n"
     ]
    }
   ],
   "source": [
    "num = 0 \n",
    "while num < 10:\n",
    "    num += 1\n",
    "    print(num)"
   ]
  },
  {
   "cell_type": "markdown",
   "metadata": {},
   "source": [
    "Ejercicio Loop While 2\n",
    "\n",
    "Utilizando un bucle while, escribe un programa que cuente desde 0 hasta 15, pero que omita los números 5 y 10. Usa la declaración continue para lograr este comportamiento, e imprime cada número en una línea nueva."
   ]
  },
  {
   "cell_type": "code",
   "execution_count": 3,
   "metadata": {},
   "outputs": [
    {
     "name": "stdout",
     "output_type": "stream",
     "text": [
      "0\n",
      "1\n",
      "2\n",
      "3\n",
      "4\n",
      "6\n",
      "7\n",
      "8\n",
      "9\n",
      "11\n",
      "12\n",
      "13\n",
      "14\n",
      "15\n"
     ]
    }
   ],
   "source": [
    "numero = 0\n",
    "while numero <= 15:\n",
    "    if numero in (5,10):\n",
    "        numero += 1\n",
    "        continue\n",
    "    else:\n",
    "        print(numero)\n",
    "    numero += 1"
   ]
  },
  {
   "cell_type": "markdown",
   "metadata": {},
   "source": [
    "* Ejercicio Loop While 3\n",
    "\n",
    "Escribe un programa en Python que utilice un bucle while para imprimir números empezando desde 1. Utiliza la declaración break para terminar el bucle si se encuentra un número múltiplo de 4 (luego de haberlo impreso).\n",
    "\n",
    "Pista:\n",
    "\n",
    "Para determinar si un número es múltiplo de 4 puedes hacerlo de la siguiente forma:\n",
    "if x % 4 == 0:\n",
    "\n",
    "Donde x representa el número actual en la secuencia. Si x es múltiplo de 4, esta condición se evaluará como verdadera, y podrás utilizarla para decidir cuándo ejecutar la declaración break para salir del bucle."
   ]
  },
  {
   "cell_type": "code",
   "execution_count": 6,
   "metadata": {},
   "outputs": [
    {
     "name": "stdout",
     "output_type": "stream",
     "text": [
      "1\n",
      "2\n",
      "3\n",
      "4\n"
     ]
    }
   ],
   "source": [
    "num = 1\n",
    "while num > 0:\n",
    "    print(num)\n",
    "    if num % 4 == 0:\n",
    "        break\n",
    "    num += 1\n",
    "    "
   ]
  },
  {
   "cell_type": "code",
   "execution_count": 7,
   "metadata": {},
   "outputs": [
    {
     "name": "stdout",
     "output_type": "stream",
     "text": [
      "1\n",
      "2\n",
      "3\n",
      "4\n"
     ]
    }
   ],
   "source": [
    "numero = 0\n",
    "while True:\n",
    "    numero += 1 \n",
    "    print(numero)\n",
    "    if numero % 4 == 0:\n",
    "        break\n"
   ]
  }
 ],
 "metadata": {
  "kernelspec": {
   "display_name": "Python_DS_ML",
   "language": "python",
   "name": "python3"
  },
  "language_info": {
   "codemirror_mode": {
    "name": "ipython",
    "version": 3
   },
   "file_extension": ".py",
   "mimetype": "text/x-python",
   "name": "python",
   "nbconvert_exporter": "python",
   "pygments_lexer": "ipython3",
   "version": "3.12.4"
  }
 },
 "nbformat": 4,
 "nbformat_minor": 2
}
