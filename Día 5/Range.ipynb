{
 "cells": [
  {
   "cell_type": "markdown",
   "metadata": {},
   "source": [
    "## Range"
   ]
  },
  {
   "cell_type": "code",
   "execution_count": 1,
   "metadata": {},
   "outputs": [
    {
     "name": "stdout",
     "output_type": "stream",
     "text": [
      "0\n",
      "1\n",
      "2\n",
      "3\n",
      "4\n",
      "5\n",
      "6\n",
      "7\n",
      "8\n",
      "9\n"
     ]
    }
   ],
   "source": [
    "mi_rango = range(10)\n",
    "for n in mi_rango:\n",
    "    print(n)"
   ]
  },
  {
   "cell_type": "code",
   "execution_count": 9,
   "metadata": {},
   "outputs": [
    {
     "name": "stdout",
     "output_type": "stream",
     "text": [
      "range(5, 10)\n",
      "5\n",
      "6\n",
      "7\n",
      "8\n",
      "9\n"
     ]
    }
   ],
   "source": [
    "mi_rango = range(5,10)\n",
    "print(mi_rango)\n",
    "for n in mi_rango:\n",
    "    print(n)"
   ]
  },
  {
   "cell_type": "code",
   "execution_count": 10,
   "metadata": {},
   "outputs": [
    {
     "name": "stdout",
     "output_type": "stream",
     "text": [
      "range(5, 30, 3)\n",
      "5\n",
      "8\n",
      "11\n",
      "14\n",
      "17\n",
      "20\n",
      "23\n",
      "26\n",
      "29\n"
     ]
    }
   ],
   "source": [
    "# El terncer elemento inica cada cuántos números se imprime\n",
    "mi_rango = range(5,30,3)\n",
    "print(mi_rango)\n",
    "for n in mi_rango:\n",
    "    print(n)"
   ]
  },
  {
   "cell_type": "code",
   "execution_count": 20,
   "metadata": {},
   "outputs": [
    {
     "name": "stdout",
     "output_type": "stream",
     "text": [
      " P in posición --> 0\n",
      " y in posición --> 1\n",
      " t in posición --> 2\n",
      " h in posición --> 3\n",
      " o in posición --> 4\n",
      " n in posición --> 5\n"
     ]
    }
   ],
   "source": [
    "palabra = \"Python\"\n",
    "for n in range(len(palabra)):\n",
    "    print(f\" {palabra[n]} in posición --> {n}\")"
   ]
  },
  {
   "cell_type": "markdown",
   "metadata": {},
   "source": [
    "* Ejercicio Range en Python 1\n",
    "\n",
    "Crea un rango que contenga todos los números pares del 2 al 20, incluyendo ambos.\n",
    "\n",
    "Llama a esre rango: rango_numeros_pares\n",
    "\n",
    "Luego, imprime los valores contenidos en dicho rango usando un loop for."
   ]
  },
  {
   "cell_type": "code",
   "execution_count": 22,
   "metadata": {},
   "outputs": [
    {
     "name": "stdout",
     "output_type": "stream",
     "text": [
      "2\n",
      "4\n",
      "6\n",
      "8\n",
      "10\n",
      "12\n",
      "14\n",
      "16\n",
      "18\n",
      "20\n"
     ]
    }
   ],
   "source": [
    "rango_numeros_pares = range(2, 21, 2)\n",
    "for numero in rango_numeros_pares:\n",
    "    print(numero)"
   ]
  },
  {
   "cell_type": "markdown",
   "metadata": {},
   "source": [
    "* Ejercicio Range en Python 2\n",
    "\n",
    "Escribe un programa que use la función range() para sumar todos los números del 1 al 100.\n",
    "\n",
    "Para ello sigue los siguientes pasos:\n",
    "\n",
    "    Inicializa la variable suma = 0.\n",
    "\n",
    "    Usa un bucle for para iterar sobre cada número del 1 al 100, incluyendo el 100.\n",
    "\n",
    "    Imprime el resultado de la suma empleando el siguiente mensaje:\n",
    "\n",
    "    \"La suma de todos los números del 1 al 100 es: {suma}\""
   ]
  },
  {
   "cell_type": "code",
   "execution_count": 26,
   "metadata": {},
   "outputs": [
    {
     "name": "stdout",
     "output_type": "stream",
     "text": [
      "La suma de todos los números del 1 al 100 es: 5050\n"
     ]
    }
   ],
   "source": [
    "suma = 0\n",
    "for i in range(1, 101):\n",
    "    suma += i\n",
    "print(f\"La suma de todos los números del 1 al 100 es: {suma}\")"
   ]
  },
  {
   "cell_type": "markdown",
   "metadata": {},
   "source": [
    "* Ejercicio Range en Python 3\n",
    "\n",
    "Dada la cadena de texto \"aprendizaje\", escribe un programa que utilice la función range() junto con la función len() para iterar sobre cada carácter de la cadena. En cada iteración, imprime el índice del carácter seguido del carácter mismo en el formato \"Índice [n]: Carácter\", donde [n] es el índice actual y Carácter es el carácter en ese índice.\n",
    "\n",
    "Por ejemplo, la primera línea impresa debería ser \"Índice 0: a\".\n",
    "\n",
    "* Pista\n",
    "\n",
    "Para ello podrás armar una cadena literal del tipo: \"Índice {i}: {cadena[i]}\"\n",
    "\n",
    "Donde i es la variable que se incrementa en cada iteración del bucle for y representa el índice del carácter, y cadena[i] es el carácter correspondiente a ese índice en la cadena \"aprendizaje\""
   ]
  },
  {
   "cell_type": "code",
   "execution_count": 31,
   "metadata": {},
   "outputs": [
    {
     "name": "stdout",
     "output_type": "stream",
     "text": [
      "Índice 0: a\n",
      "Índice 1: p\n",
      "Índice 2: r\n",
      "Índice 3: e\n",
      "Índice 4: n\n",
      "Índice 5: d\n",
      "Índice 6: i\n",
      "Índice 7: z\n",
      "Índice 8: a\n",
      "Índice 9: j\n",
      "Índice 10: e\n",
      "Índice 11:  \n",
      "Índice 12: d\n",
      "Índice 13: e\n",
      "Índice 14:  \n",
      "Índice 15: P\n",
      "Índice 16: y\n",
      "Índice 17: t\n",
      "Índice 18: h\n",
      "Índice 19: o\n",
      "Índice 20: n\n"
     ]
    }
   ],
   "source": [
    "cadena = \"aprendizaje de Python\"\n",
    "# range() junto con la función len() para iterar sobre cada carácter de la cadena.\n",
    "for i in range(len(cadena)):\n",
    "    # print(\"Índice\", i, \":\", cadena[i])\n",
    "    print(f\"Índice {i}: {cadena[i]}\")"
   ]
  }
 ],
 "metadata": {
  "kernelspec": {
   "display_name": "Python_DS_ML",
   "language": "python",
   "name": "python3"
  },
  "language_info": {
   "codemirror_mode": {
    "name": "ipython",
    "version": 3
   },
   "file_extension": ".py",
   "mimetype": "text/x-python",
   "name": "python",
   "nbconvert_exporter": "python",
   "pygments_lexer": "ipython3",
   "version": "3.12.4"
  }
 },
 "nbformat": 4,
 "nbformat_minor": 2
}
