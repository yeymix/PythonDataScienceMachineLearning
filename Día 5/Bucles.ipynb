{
 "cells": [
  {
   "cell_type": "markdown",
   "metadata": {},
   "source": [
    "## Bucles\n"
   ]
  },
  {
   "cell_type": "code",
   "execution_count": 2,
   "metadata": {},
   "outputs": [
    {
     "name": "stdout",
     "output_type": "stream",
     "text": [
      "0\n",
      "1\n",
      "2\n",
      "3\n",
      "4\n",
      "5\n"
     ]
    }
   ],
   "source": [
    "for item in [0,1,2,3,4,5]:\n",
    "    print(item)"
   ]
  },
  {
   "cell_type": "code",
   "execution_count": 3,
   "metadata": {},
   "outputs": [
    {
     "name": "stdout",
     "output_type": "stream",
     "text": [
      "C\n",
      "u\n",
      "r\n",
      "s\n",
      "o\n",
      " \n",
      "d\n",
      "e\n",
      " \n",
      "P\n",
      "y\n",
      "t\n",
      "h\n",
      "o\n",
      "n\n"
     ]
    }
   ],
   "source": [
    "for letra in \"Curso de Python\":\n",
    "    print(letra)"
   ]
  },
  {
   "cell_type": "code",
   "execution_count": 7,
   "metadata": {},
   "outputs": [
    {
     "name": "stdout",
     "output_type": "stream",
     "text": [
      "El pais Colombia tiene 8 letras\n",
      "El pais Canada tiene 6 letras\n",
      "El pais Australia tiene 9 letras\n",
      "El pais EEUU tiene 4 letras\n"
     ]
    }
   ],
   "source": [
    "paises = [\"Colombia\",\"Canada\",\"Australia\",\"EEUU\"]\n",
    "for p in paises:\n",
    "    largo = len(p)\n",
    "    print(\"El pais \" + p + \" tiene \" + str(largo) + \" letras\")\n",
    "          \n",
    "          "
   ]
  },
  {
   "cell_type": "code",
   "execution_count": 8,
   "metadata": {},
   "outputs": [
    {
     "name": "stdout",
     "output_type": "stream",
     "text": [
      "Colombia Tiene nombre largo\n",
      "Canada Tiene nombre largo\n",
      "Australia Tiene nombre largo\n",
      "EEUU Tiene nombre corto\n"
     ]
    }
   ],
   "source": [
    "for p in paises:\n",
    "    if len(p) > 5:\n",
    "        print(p, \"Tiene nombre largo\")\n",
    "    else:\n",
    "        print(p, \"Tiene nombre corto\")"
   ]
  },
  {
   "cell_type": "code",
   "execution_count": 10,
   "metadata": {},
   "outputs": [
    {
     "name": "stdout",
     "output_type": "stream",
     "text": [
      "camisa rojo\n",
      "pantalón rojo\n",
      "calcetines rojo\n",
      "sombrero rojo\n",
      "camisa azul\n",
      "pantalón azul\n",
      "calcetines azul\n",
      "sombrero azul\n",
      "camisa verde\n",
      "pantalón verde\n",
      "calcetines verde\n",
      "sombrero verde\n",
      "camisa amarillo\n",
      "pantalón amarillo\n",
      "calcetines amarillo\n",
      "sombrero amarillo\n"
     ]
    }
   ],
   "source": [
    "# Loops anidados\n",
    "colores = ['rojo', 'azul', 'verde', 'amarillo']\n",
    "prendas = ['camisa', 'pantalón', 'calcetines','sombrero']\n",
    "\n",
    "for color in colores:\n",
    "    for prenda in prendas:\n",
    "        print(f\"{prenda} {color}\")"
   ]
  },
  {
   "cell_type": "markdown",
   "metadata": {},
   "source": [
    "* Ejercicio Loops en Python - Loop For 1\n",
    "\n",
    "Escribe un programa que itere sobre una lista llamada numeros = [] usando un bucle for e imprima cada número contenido en la lista.\n",
    "\n",
    "Puedes llenar la lista con los números de tu elección. "
   ]
  },
  {
   "cell_type": "code",
   "execution_count": 11,
   "metadata": {},
   "outputs": [
    {
     "name": "stdout",
     "output_type": "stream",
     "text": [
      "1\n",
      "2\n",
      "3\n",
      "4\n",
      "5\n",
      "6\n",
      "7\n",
      "8\n",
      "9\n",
      "10\n"
     ]
    }
   ],
   "source": [
    "numeros = [1, 2, 3, 4, 5, 6, 7, 8, 9, 10]\n",
    "for numero in numeros:\n",
    "    print(numero)"
   ]
  },
  {
   "cell_type": "markdown",
   "metadata": {},
   "source": [
    "* Ejercicio Loops en Python - Loop For 2\n",
    "\n",
    "Escribe un programa que itere sobre una lista de cadenas que representan nombres de paises por ejemplo: ['Francia', 'Alemania', 'España', 'Italia', 'Portugal', 'Chile']. Dentro del bucle, usa una declaración if para imprimir el nombre del país solo si contiene la letra 'a'."
   ]
  },
  {
   "cell_type": "code",
   "execution_count": 15,
   "metadata": {},
   "outputs": [
    {
     "name": "stdout",
     "output_type": "stream",
     "text": [
      "Francia\n",
      "Alemania\n",
      "España\n",
      "Italia\n",
      "Portugal\n",
      "Grecia\n"
     ]
    }
   ],
   "source": [
    "paises = ['Francia', 'Alemania', 'España', 'Italia', 'Portugal', 'Chile','Peru','Grecia']\n",
    "# Imprimir el ítem si contiene la letra a\n",
    "for pais in paises:\n",
    "    if 'a' in pais:\n",
    "        print(pais)\n"
   ]
  },
  {
   "cell_type": "markdown",
   "metadata": {},
   "source": [
    "* Ejercicio Loops en Python - Loop For 3\n",
    "\n",
    "Escribe un programa que use bucles anidados para imprimir todas las combinaciones posibles de colores y prendas de vestir. Define dos listas: una que contenga:\n",
    "\n",
    "colores = ['rojo', 'azul', 'verde']\n",
    "\n",
    "y otra que contenga prendas de vestir:\n",
    "\n",
    "prendas = ['camisa', 'pantalones', 'sombrero']\n",
    "\n",
    "Dentro de los bucles anidados, imprime cada combinación de prenda   y color.\n",
    "\n",
    "\n"
   ]
  },
  {
   "cell_type": "code",
   "execution_count": 19,
   "metadata": {},
   "outputs": [
    {
     "name": "stdout",
     "output_type": "stream",
     "text": [
      " la camisa es de color rojo\n",
      " la pantalones es de color rojo\n",
      " la sombrero es de color rojo\n",
      " la camisa es de color azul\n",
      " la pantalones es de color azul\n",
      " la sombrero es de color azul\n",
      " la camisa es de color verde\n",
      " la pantalones es de color verde\n",
      " la sombrero es de color verde\n"
     ]
    }
   ],
   "source": [
    "colores = ['rojo', 'azul', 'verde']\n",
    "prendas = ['camisa', 'pantalones', 'sombrero']\n",
    "for color in colores:\n",
    "    for prenda in prendas:\n",
    "        print(f\" la {prenda} es de color {color}\")"
   ]
  }
 ],
 "metadata": {
  "kernelspec": {
   "display_name": "Python_DS_ML",
   "language": "python",
   "name": "python3"
  },
  "language_info": {
   "codemirror_mode": {
    "name": "ipython",
    "version": 3
   },
   "file_extension": ".py",
   "mimetype": "text/x-python",
   "name": "python",
   "nbconvert_exporter": "python",
   "pygments_lexer": "ipython3",
   "version": "3.12.4"
  }
 },
 "nbformat": 4,
 "nbformat_minor": 2
}
