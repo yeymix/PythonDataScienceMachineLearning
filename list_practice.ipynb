{
 "cells": [
  {
   "cell_type": "markdown",
   "metadata": {},
   "source": [
    "Ejercicio listas en Python 3\n",
    "\n",
    "En este ejercicio, se te pide que realices varias operaciones con listas para manipular sus elementos y estructura. Utilizarás operaciones matemáticas básicas aplicadas a las listas, como la concatenación, la multiplicación y la creación de sublistas. Sigue los pasos detallados a continuación y realiza las operaciones especificadas: Concatenación de Listas \n",
    "\n",
    "\n",
    "    "
   ]
  },
  {
   "cell_type": "markdown",
   "metadata": {},
   "source": [
    "    Crea dos listas: lista1 con los elementos 1, 2, 3, y lista2 con los elementos 4, 5, 6."
   ]
  },
  {
   "cell_type": "code",
   "execution_count": 1,
   "metadata": {},
   "outputs": [],
   "source": [
    "lista1=[1,2,3]\n",
    "lista2=[4,5,6]"
   ]
  },
  {
   "cell_type": "markdown",
   "metadata": {},
   "source": [
    "Concatena lista1 y lista2 para formar una nueva lista llamada combinada. Imprime combinada.\n"
   ]
  },
  {
   "cell_type": "code",
   "execution_count": 3,
   "metadata": {},
   "outputs": [
    {
     "data": {
      "text/plain": [
       "[1, 2, 3, 4, 5, 6]"
      ]
     },
     "execution_count": 3,
     "metadata": {},
     "output_type": "execute_result"
    }
   ],
   "source": [
    "combinada=lista1+lista2\n",
    "combinada"
   ]
  },
  {
   "cell_type": "markdown",
   "metadata": {},
   "source": [
    "Multiplicación de Listas  Utiliza la lista lista1 y multiplica su contenido por 3 para crear una nueva lista llamada repetida. Esto hará que los elementos de lista1 se repitan tres veces en repetida. Imprime la lista repetida."
   ]
  },
  {
   "cell_type": "code",
   "execution_count": 6,
   "metadata": {},
   "outputs": [
    {
     "data": {
      "text/plain": [
       "[1, 2, 3, 1, 2, 3, 1, 2, 3]"
      ]
     },
     "execution_count": 6,
     "metadata": {},
     "output_type": "execute_result"
    }
   ],
   "source": [
    "repetida=lista1*3\n",
    "repetida"
   ]
  },
  {
   "cell_type": "markdown",
   "metadata": {},
   "source": [
    "Creación de Sublistas:  A partir de la lista combinada creada en el paso 2, crea una sublista llamada sublista que contenga solo los elementos desde el índice 1 hasta el índice 4 (sin incluir el elemento en el índice 4). Imprime sublista."
   ]
  },
  {
   "cell_type": "code",
   "execution_count": 11,
   "metadata": {},
   "outputs": [
    {
     "data": {
      "text/plain": [
       "[1, 2, 3, 1]"
      ]
     },
     "execution_count": 11,
     "metadata": {},
     "output_type": "execute_result"
    }
   ],
   "source": [
    "sublista=repetida[0:4]\n",
    "sublista"
   ]
  }
 ],
 "metadata": {
  "kernelspec": {
   "display_name": "Python_DS_ML",
   "language": "python",
   "name": "python3"
  },
  "language_info": {
   "codemirror_mode": {
    "name": "ipython",
    "version": 3
   },
   "file_extension": ".py",
   "mimetype": "text/x-python",
   "name": "python",
   "nbconvert_exporter": "python",
   "pygments_lexer": "ipython3",
   "version": "3.12.4"
  }
 },
 "nbformat": 4,
 "nbformat_minor": 2
}
