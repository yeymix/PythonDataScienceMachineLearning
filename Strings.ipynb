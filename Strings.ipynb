{
 "cells": [
  {
   "cell_type": "markdown",
   "metadata": {},
   "source": [
    "Palbras mágicas:\n",
    "1. dir --> dir(objeto) Muestra todos los objetos disponibles.\n",
    "2. type\n",
    "3. help --> help(palabra.capitalize())"
   ]
  },
  {
   "cell_type": "code",
   "execution_count": null,
   "metadata": {},
   "outputs": [],
   "source": [
    "## Strings"
   ]
  },
  {
   "cell_type": "code",
   "execution_count": 8,
   "metadata": {},
   "outputs": [
    {
     "name": "stdout",
     "output_type": "stream",
     "text": [
      "MANGO MADURO\n"
     ]
    }
   ],
   "source": [
    "palabra = 'mango maduro'\n",
    "type(palabra)\n",
    "palabra = palabra.upper()\n",
    "print(palabra)\n"
   ]
  },
  {
   "cell_type": "code",
   "execution_count": 3,
   "metadata": {},
   "outputs": [
    {
     "data": {
      "text/plain": [
       "['__add__',\n",
       " '__class__',\n",
       " '__contains__',\n",
       " '__delattr__',\n",
       " '__dir__',\n",
       " '__doc__',\n",
       " '__eq__',\n",
       " '__format__',\n",
       " '__ge__',\n",
       " '__getattribute__',\n",
       " '__getitem__',\n",
       " '__getnewargs__',\n",
       " '__getstate__',\n",
       " '__gt__',\n",
       " '__hash__',\n",
       " '__init__',\n",
       " '__init_subclass__',\n",
       " '__iter__',\n",
       " '__le__',\n",
       " '__len__',\n",
       " '__lt__',\n",
       " '__mod__',\n",
       " '__mul__',\n",
       " '__ne__',\n",
       " '__new__',\n",
       " '__reduce__',\n",
       " '__reduce_ex__',\n",
       " '__repr__',\n",
       " '__rmod__',\n",
       " '__rmul__',\n",
       " '__setattr__',\n",
       " '__sizeof__',\n",
       " '__str__',\n",
       " '__subclasshook__',\n",
       " 'capitalize',\n",
       " 'casefold',\n",
       " 'center',\n",
       " 'count',\n",
       " 'encode',\n",
       " 'endswith',\n",
       " 'expandtabs',\n",
       " 'find',\n",
       " 'format',\n",
       " 'format_map',\n",
       " 'index',\n",
       " 'isalnum',\n",
       " 'isalpha',\n",
       " 'isascii',\n",
       " 'isdecimal',\n",
       " 'isdigit',\n",
       " 'isidentifier',\n",
       " 'islower',\n",
       " 'isnumeric',\n",
       " 'isprintable',\n",
       " 'isspace',\n",
       " 'istitle',\n",
       " 'isupper',\n",
       " 'join',\n",
       " 'ljust',\n",
       " 'lower',\n",
       " 'lstrip',\n",
       " 'maketrans',\n",
       " 'partition',\n",
       " 'removeprefix',\n",
       " 'removesuffix',\n",
       " 'replace',\n",
       " 'rfind',\n",
       " 'rindex',\n",
       " 'rjust',\n",
       " 'rpartition',\n",
       " 'rsplit',\n",
       " 'rstrip',\n",
       " 'split',\n",
       " 'splitlines',\n",
       " 'startswith',\n",
       " 'strip',\n",
       " 'swapcase',\n",
       " 'title',\n",
       " 'translate',\n",
       " 'upper',\n",
       " 'zfill']"
      ]
     },
     "execution_count": 3,
     "metadata": {},
     "output_type": "execute_result"
    }
   ],
   "source": [
    "dir(palabra)"
   ]
  },
  {
   "cell_type": "code",
   "execution_count": 9,
   "metadata": {},
   "outputs": [
    {
     "name": "stdout",
     "output_type": "stream",
     "text": [
      "Help on built-in function capitalize:\n",
      "\n",
      "capitalize() method of builtins.str instance\n",
      "    Return a capitalized version of the string.\n",
      "\n",
      "    More specifically, make the first character have upper case and the rest lower\n",
      "    case.\n",
      "\n"
     ]
    }
   ],
   "source": [
    "help(palabra.capitalize)"
   ]
  },
  {
   "cell_type": "code",
   "execution_count": 11,
   "metadata": {},
   "outputs": [
    {
     "name": "stdout",
     "output_type": "stream",
     "text": [
      "MANGO MADURO\n",
      "mango maduro\n",
      "Mango Maduro\n"
     ]
    }
   ],
   "source": [
    "str.capitalize(palabra)\n",
    "palabra_may = palabra.upper()\n",
    "print(palabra_may)\n",
    "print(palabra_may.lower())\n",
    "print(palabra_may.title())"
   ]
  },
  {
   "cell_type": "code",
   "execution_count": 62,
   "metadata": {},
   "outputs": [
    {
     "name": "stdout",
     "output_type": "stream",
     "text": [
      "Antigua función\n"
     ]
    }
   ],
   "source": [
    "# Reemplazar palabras\n",
    "frase=\"Nueva función\"\n",
    "new_phrase=frase.replace(\"Nueva\",\"Antigua\")\n",
    "print(new_phrase)\n"
   ]
  },
  {
   "cell_type": "code",
   "execution_count": 47,
   "metadata": {},
   "outputs": [
    {
     "name": "stdout",
     "output_type": "stream",
     "text": [
      "e\n",
      "o\n",
      "o\n",
      "m\n",
      "rcielago\n"
     ]
    }
   ],
   "source": [
    "## Indexación de palabras\n",
    "palabra=\"murcielago\"\n",
    "print(palabra[5])\n",
    "# Se puede usar números negativos, contará de derecha a izquierda\n",
    "print(palabra[-1])\n",
    "print(palabra[9])\n",
    "print(palabra[0])\n",
    "print(palabra[2:])\n",
    "\n"
   ]
  },
  {
   "cell_type": "code",
   "execution_count": 39,
   "metadata": {},
   "outputs": [
    {
     "name": "stdout",
     "output_type": "stream",
     "text": [
      "mri\n"
     ]
    }
   ],
   "source": [
    "#Si se ponen tres argumentos el tercero lo toma como incremental \n",
    "print(palabra[0:5:2])"
   ]
  },
  {
   "cell_type": "code",
   "execution_count": 38,
   "metadata": {},
   "outputs": [
    {
     "name": "stdout",
     "output_type": "stream",
     "text": [
      "RC\n"
     ]
    }
   ],
   "source": [
    "#Se puede combinar index con otros métodos\n",
    "print(palabra[2:4].upper())"
   ]
  },
  {
   "cell_type": "code",
   "execution_count": 4,
   "metadata": {},
   "outputs": [
    {
     "name": "stdout",
     "output_type": "stream",
     "text": [
      "VNU\n"
     ]
    }
   ],
   "source": [
    "palabra=\"aventura\"\n",
    "print(palabra[1:6:2].upper())"
   ]
  },
  {
   "cell_type": "code",
   "execution_count": 22,
   "metadata": {},
   "outputs": [
    {
     "name": "stdout",
     "output_type": "stream",
     "text": [
      "2\n",
      "6\n"
     ]
    },
    {
     "data": {
      "text/plain": [
       "['Este', 'tema', 'es', 'un', 'nuevo', 'aprendizaje']"
      ]
     },
     "execution_count": 22,
     "metadata": {},
     "output_type": "execute_result"
    }
   ],
   "source": [
    "# Filtrar  con strings\n",
    "# cuántas veces me aparece un substring en un string\n",
    "print(palabra.count(\"a\"))\n",
    "# cuántas palabras tiene una frase:\n",
    "frase=\" Este tema es un nuevo aprendizaje \"\n",
    "print(frase.strip().count(\" \")+1)\n",
    "frase.split()"
   ]
  },
  {
   "cell_type": "markdown",
   "metadata": {},
   "source": [
    "Ejercicio Filtrar Strings en Python 1\n",
    "Escribe un programa que tenga dos variables de tipo string palabra y letra.   Almacena una palabra y una letra de tu elección. Utiliza el \n",
    "método adecuado para contar cuántas veces aparece la letra en la variable palabra.\n"
   ]
  },
  {
   "cell_type": "code",
   "execution_count": 58,
   "metadata": {},
   "outputs": [
    {
     "data": {
      "text/plain": [
       "3"
      ]
     },
     "execution_count": 58,
     "metadata": {},
     "output_type": "execute_result"
    }
   ],
   "source": [
    "frase = \"Nuevo ciclo inesperado\"\n",
    "letra = \"o\"\n",
    "frase.count(letra)"
   ]
  },
  {
   "cell_type": "markdown",
   "metadata": {},
   "source": [
    "Ejercicio Filtrar Strings en Python 3\n",
    "Escribe un programa en el que declares una variable llamada frase y le asignes el texto que prefieras. \n",
    "Debes cumplir con las siguientes condiciones:\n",
    "La frase debe contar un espacio al inicio y otro al final, por ejemplo \" Python es genial \".\n",
    "La frase debe tener todas sus palabras separadas por un único espacio."
   ]
  },
  {
   "cell_type": "code",
   "execution_count": 60,
   "metadata": {},
   "outputs": [
    {
     "name": "stdout",
     "output_type": "stream",
     "text": [
      "El texto que se me de la mayor facilidad\n"
     ]
    }
   ],
   "source": [
    "frase = \"   El texto que se me de la mayor facilidad    \"\n",
    "frase2 = \"   El texto que  se me     de la   mayor facilidad    \"\n",
    "print(frase.strip())\n"
   ]
  },
  {
   "cell_type": "markdown",
   "metadata": {},
   "source": [
    "Crea una variable llamada palabras_en_frase donde  almacenes el número de palabras contenidas en la frase. \n",
    "Utiliza los métodos correspondientes para  conseguir las siguientes acciones en el orden que se describen a continuación:\n",
    "1. Eliminar los espacios al incio y al final de la frase.\n",
    "2. Contar el número de palabras contenidas en la frase.\n"
   ]
  },
  {
   "cell_type": "code",
   "execution_count": 61,
   "metadata": {},
   "outputs": [
    {
     "name": "stdout",
     "output_type": "stream",
     "text": [
      "9\n"
     ]
    }
   ],
   "source": [
    "palabras_en_frase=frase.strip().split() #separa la frase en palabras\n",
    "print(len(palabras_en_frase))   "
   ]
  },
  {
   "cell_type": "code",
   "execution_count": 35,
   "metadata": {},
   "outputs": [
    {
     "data": {
      "text/plain": [
       "'10'"
      ]
     },
     "execution_count": 35,
     "metadata": {},
     "output_type": "execute_result"
    }
   ],
   "source": [
    "# Capturar información del usuario\n",
    "input(\"Ingresa un número: \")"
   ]
  },
  {
   "cell_type": "markdown",
   "metadata": {},
   "source": [
    "Ejercicio Input() en Python 1  nombre mediante el uso de la función input.\n",
    "\"Escribe tu nombre: \"\n",
    "El código debe poder imprimir en pantalla lo ingresado por el usuario (utilizando print).\n",
    "Aclaración:\n",
    "no deben imprimirse strings adicionales a la respuesta del usuario."
   ]
  },
  {
   "cell_type": "code",
   "execution_count": 39,
   "metadata": {},
   "outputs": [
    {
     "data": {
      "text/plain": [
       "'Yeymiiiii'"
      ]
     },
     "execution_count": 39,
     "metadata": {},
     "output_type": "execute_result"
    }
   ],
   "source": [
    "input(\"Escribe tu nombre: \")\n"
   ]
  },
  {
   "cell_type": "markdown",
   "metadata": {},
   "source": [
    "Ejercicio Input() en Python 2\n",
    "Escribir un programa que solicite al usuario su año de nacimiento (almacena esta entrada en una variable llamada nacimiento ), realiza una operación matemática simple con este valor y muestra el resultado. Este ejercicio tiene como objetivo practicar la entrada de datos por parte del usuario, la conversión de tipos de datos y la realización de operaciones matemáticas básicas.\n",
    "\n",
    "Instrucciones:\n",
    "\n",
    "Al iniciar el programa, debes pedir al usuario que ingrese el año en que nació utilizando la pregunta: \"¿En qué año naciste?\" . y almacenar esta entrada en una variable llamada nacimiento\n",
    "\n",
    "Una vez recibido el año de nacimiento como entrada, debes convertir este valor de una cadena de texto (str) a un número entero (int). Sobre escribe la variable  nacimiento sin crear nuevas variables.\n",
    "\n",
    "Luego, suma 1 al año de nacimiento convertido y guarda el resultado. Sobre escribe la variable  nacimiento sin crear nuevas variables.\n",
    "\n",
    "Finalmente, imprime el resultado de esta operación."
   ]
  },
  {
   "cell_type": "code",
   "execution_count": 57,
   "metadata": {},
   "outputs": [
    {
     "name": "stdout",
     "output_type": "stream",
     "text": [
      "Tienes 62 años de edad\n",
      "Tienes 62 años de edad\n"
     ]
    }
   ],
   "source": [
    "nacimiento=int(input(\"Ingrese su año de nacimiento: \"))\n",
    "# calcular el año actual\n",
    "import datetime\n",
    "ahora = datetime.datetime.now()\n",
    "# print(ahora.year) # Cálculo del año actual\n",
    "edad=ahora.year-nacimiento\n",
    "#Imprimir str con int\n",
    "print(\"Tienes \" + str(edad) + \" años de edad\")\n",
    "print(\"Tienes\",edad,\"años de edad\")"
   ]
  },
  {
   "cell_type": "markdown",
   "metadata": {},
   "source": [
    "Ejercicio Input() en Python 3\n",
    "Desarrolla un programa que le pregunte al usuario la cantidad de kilómetros que desea convertir a millas.\n",
    "\n",
    "Utiliza la función input() para recoger esta información, conviértela a un valor numérico y realiza la conversión (considera que 1 kilómetro equivale a 0.621371 millas). Finalmente, imprime el resultado.\n",
    "\n"
   ]
  },
  {
   "cell_type": "code",
   "execution_count": 50,
   "metadata": {},
   "outputs": [
    {
     "name": "stdout",
     "output_type": "stream",
     "text": [
      "20 kilómetros son 12.42742 millas\n"
     ]
    }
   ],
   "source": [
    "kil=int(input(\"Kilómetros a convertir: \"))\n",
    "millas=kil*0.621371\n",
    "print(kil,\"kilómetros son\",millas,\"millas\")"
   ]
  },
  {
   "cell_type": "code",
   "execution_count": 66,
   "metadata": {},
   "outputs": [
    {
     "name": "stdout",
     "output_type": "stream",
     "text": [
      "hola mundo tu tienes 5000 años\n",
      "<class 'int'>\n"
     ]
    }
   ],
   "source": [
    "objeto=\"mundo\"\n",
    "edad=5000\n",
    "print(\"hola {} tu tienes {} años\".format(objeto,edad))\n",
    "print(type(edad))"
   ]
  },
  {
   "cell_type": "markdown",
   "metadata": {},
   "source": [
    "Ejercicio Formateo de Strings en Python 1\n",
    "Crea un programa en el cual definas dos variables: nombre y edad (asignándoles los valores que desees). Utiliza el método format() para imprimir un mensaje que diga \"Hola [nombre], tienes [edad] años\". Asegúrate de reemplazar [nombre] y [edad] con los valores de las variables correspondientes."
   ]
  },
  {
   "cell_type": "code",
   "execution_count": 68,
   "metadata": {},
   "outputs": [
    {
     "name": "stdout",
     "output_type": "stream",
     "text": [
      "hola Alejandra, tu tienes 30 bellos años\n"
     ]
    }
   ],
   "source": [
    "nombre=\"Alejandra\"\n",
    "edad=30\n",
    "print(f\"hola {nombre}, tu tienes {edad} bellos años\")"
   ]
  },
  {
   "cell_type": "markdown",
   "metadata": {},
   "source": [
    "Ejercicio Formateo de Strings en Python 2\n",
    "Imagina que estás construyendo un sistema para una tienda.\n",
    "\n",
    "Crea un programa que defina tres variables: producto, cantidad y precio. (asignándoles los valores que desees). Usa un f-string o cadena literal para imprimir una frase que describa cuántas unidades del producto hay y cuál es su precio total.\n",
    "\n",
    "Por ejemplo, si producto es \"manzanas\", cantidad es 10, y precio es 0.30, tu programa debe imprimir \"Hay 10 manzanas con un precio total de 3.0\".\n",
    "\n",
    "Recuerda multiplicar cantidad por precio para hallar el precio total.\n",
    "\n"
   ]
  },
  {
   "cell_type": "code",
   "execution_count": 70,
   "metadata": {},
   "outputs": [
    {
     "name": "stdout",
     "output_type": "stream",
     "text": [
      "Hay 10 mangos a 2500 la unidad. Por tanto todos cuestan: 25000\n",
      "Hay 10 mangos a 2500 la unidad. Por tanto todos cuestan: 25000\n"
     ]
    }
   ],
   "source": [
    "producto=\"mangos\"\n",
    "cantidad=10\n",
    "precio=2500\n",
    "print(f\"Hay {cantidad} mangos a {precio} la unidad. Por tanto todos cuestan: {cantidad*precio}\")\n",
    "print(\"Hay\",cantidad,\"mangos a\",precio,\"la unidad. Por tanto todos cuestan:\",cantidad*precio)"
   ]
  },
  {
   "cell_type": "markdown",
   "metadata": {},
   "source": [
    "Ejercicio Formateo de Strings en Python 3\n",
    "Para este ejercicio, define variables para almacenar un nombre, nombre una actividad actividad  y la hora del día hora_dia (por ejemplo, \"Juan\", \"caminar\", \"5PM\").  (Asignándoles los valores que desees).\n",
    "\n",
    "\n",
    "\n",
    "Utiliza un f-string, o cadena literal, para imprimir un mensaje que integre estas variables, y que resulte en el siguiente resultado \"Juan prefiere caminar a las 5PM.\" (pero con los valores que tu hayas cargado)"
   ]
  },
  {
   "cell_type": "code",
   "execution_count": 71,
   "metadata": {},
   "outputs": [
    {
     "name": "stdout",
     "output_type": "stream",
     "text": [
      "a Alberto le gusta correr a las 6:00am\n"
     ]
    }
   ],
   "source": [
    "nombre=\"Alberto\"\n",
    "actividad=\"correr\"\n",
    "hora_dia=\"6:00am\"\n",
    "print(f\"a {nombre} le gusta {actividad} a las {hora_dia}\")"
   ]
  }
 ],
 "metadata": {
  "kernelspec": {
   "display_name": "Python_DS_ML",
   "language": "python",
   "name": "python3"
  },
  "language_info": {
   "codemirror_mode": {
    "name": "ipython",
    "version": 3
   },
   "file_extension": ".py",
   "mimetype": "text/x-python",
   "name": "python",
   "nbconvert_exporter": "python",
   "pygments_lexer": "ipython3",
   "version": "3.12.4"
  }
 },
 "nbformat": 4,
 "nbformat_minor": 2
}
